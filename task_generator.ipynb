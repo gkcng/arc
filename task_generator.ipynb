{
 "cells": [
  {
   "cell_type": "code",
   "execution_count": 1,
   "id": "80ce725b-4805-4663-9742-d24c0a02559f",
   "metadata": {
    "tags": []
   },
   "outputs": [],
   "source": [
    "import numpy as np\n",
    "import matplotlib.pyplot as plt\n",
    "from abc import ABC, abstractmethod\n",
    "import json\n",
    "import os"
   ]
  },
  {
   "cell_type": "markdown",
   "id": "a40cf633-5d70-4f78-be3b-8c60189d5c69",
   "metadata": {},
   "source": [
    "# Set up Generator utilities"
   ]
  },
  {
   "cell_type": "code",
   "execution_count": 2,
   "id": "9dee4eee-5b40-4b32-adf3-24d4a131a57b",
   "metadata": {},
   "outputs": [],
   "source": [
    "def draw_pixel(color, posx, posy, grids):\n",
    "    for g in grids:\n",
    "        g[posy][posx] = color\n",
    "\n",
    "def draw_filled_square(color, posx, posy, width, grids):\n",
    "    for g in grids:\n",
    "        max_y, max_x = g.shape        \n",
    "        for y in range(posy, min(posy+width, max_y)):\n",
    "            for x in range(posx, min(posx+width, max_x)):\n",
    "                if x < 0 or y < 0:\n",
    "                    continue\n",
    "                g[y][x] = color"
   ]
  },
  {
   "cell_type": "code",
   "execution_count": 3,
   "id": "b7256618-f000-4e12-ac7e-dc1a31cbbbc4",
   "metadata": {},
   "outputs": [],
   "source": [
    "rgbs = ['#000000', '#0074D9','#FF4136','#2ECC40','#FFDC00',\n",
    "        '#AAAAAA', '#F012BE', '#FF851B', '#7FDBFF', '#870C25', '#444444']\n",
    "\n",
    "def to_rgb(rgbstr):\n",
    "    return int(rgbstr[1:3],16) / 255, int(rgbstr[3:5],16) / 255, int(rgbstr[5:7],16) / 255\n",
    "\n",
    "# Map a ARC task grid to a 3 channels RGB ndarray, usable in imshow.\n",
    "def grid_to_rgb(color_idx):\n",
    "    (h, w) = color_idx.shape if isinstance(color_idx, np.ndarray) else (len(color_idx), len(color_idx[0]))\n",
    "    new_grid = np.zeros((h, w, 3))\n",
    "    for r, row in enumerate(color_idx):\n",
    "        for c, cell in enumerate(row):\n",
    "            R, G, B = to_rgb(rgbs[cell])\n",
    "            new_grid[r][c][0] = R\n",
    "            new_grid[r][c][1] = G\n",
    "            new_grid[r][c][2] = B\n",
    "    return new_grid"
   ]
  },
  {
   "cell_type": "code",
   "execution_count": 4,
   "id": "683e3374-b1ca-4606-9d7d-bf3c1ad8a11b",
   "metadata": {},
   "outputs": [],
   "source": [
    "class ColorPicker:\n",
    "    def __init__(self, random_generator, num_colors=10):\n",
    "        self.rng = random_generator\n",
    "        self.chosen=set()\n",
    "        self.num_colors=num_colors\n",
    "\n",
    "    def reset(self):\n",
    "        self.chosen.clear()\n",
    "    \n",
    "    def get(self):\n",
    "        if len(self.chosen) == self.num_colors:\n",
    "            raise Exception(\"Cannot get new color. Max reached.\")            \n",
    "        while True:\n",
    "            c = self.rng.integers(0, self.num_colors)\n",
    "            if c not in self.chosen:\n",
    "                break\n",
    "        self.chosen.add(c)\n",
    "        return c"
   ]
  },
  {
   "cell_type": "code",
   "execution_count": 5,
   "id": "9ca5cc54-188e-459a-b419-ab33bdddc474",
   "metadata": {},
   "outputs": [],
   "source": [
    "TRAIN_TASK='train'\n",
    "TEST_TASK='test'\n",
    "\n",
    "INPUT='input'\n",
    "OUTPUT='output'\n",
    "MAX_SIZE=32"
   ]
  },
  {
   "cell_type": "code",
   "execution_count": 6,
   "id": "cb784f94-4e59-4ae8-9262-c73d7612ab49",
   "metadata": {},
   "outputs": [],
   "source": [
    "def plot_one(ax, grid, label, trim=True):\n",
    "    ax.imshow(grid_to_rgb(grid))\n",
    "    ax.set_title(label)\n",
    "\n",
    "def plot_iopair(task, label):\n",
    "    fig, (ax1, ax2) = plt.subplots(1, 2, figsize = (10, 7))\n",
    "    plot_one(ax1, task[INPUT], \"\")\n",
    "    plot_one(ax2, task[OUTPUT], \"\")"
   ]
  },
  {
   "cell_type": "markdown",
   "id": "043945af-777f-4865-8daf-f96d28f3cd8e",
   "metadata": {},
   "source": [
    "# Generators"
   ]
  },
  {
   "cell_type": "code",
   "execution_count": 7,
   "id": "05df69aa-71e7-49a1-86c9-f2f46260cde7",
   "metadata": {},
   "outputs": [],
   "source": [
    "class TaskGenerator(ABC):\n",
    "    \n",
    "    def __init__(self, seed):\n",
    "        self.rng=np.random.default_rng(seed)\n",
    "        self.color = ColorPicker(self.rng)    \n",
    "\n",
    "        self.colors = {}\n",
    "        self.grid = {}\n",
    "        self.points = {}        \n",
    "\n",
    "    @abstractmethod        \n",
    "    def generate_pair(self):\n",
    "        pass        \n",
    "\n",
    "    # Provide a reuse string label will allow previously created colors to be reused.\n",
    "    # Handy for generating multiple task pairs\n",
    "    def get_colors(self, num_colors, reuse=None):\n",
    "        if reuse:\n",
    "            if not reuse in self.colors: self.colors[reuse] = [ self.color.get() for _ in range(num_colors) ]\n",
    "            return self.colors[reuse]\n",
    "        else:\n",
    "            return [ self.color.get() for _ in range(num_colors) ]\n",
    "\n",
    "    def get_grid(self, min_size=1, square=True, reuse=None):\n",
    "        if reuse:\n",
    "            if not reuse in self.grid: self.grid[reuse] = [ self.randInt(min_size, MAX_SIZE) for _ in range(1 if square else 2) ]\n",
    "            if sqaure: self.grid[reuse].append(self.grid[reuse][0])\n",
    "            return self.grid[reuse]\n",
    "        else:\n",
    "            result = [ self.randInt(min_size, MAX_SIZE) for _ in range(1 if square else 2) ]  \n",
    "            if square: result.append(result[0])            \n",
    "            return result\n",
    "\n",
    "    # region=(minx, miny, maxx, maxy)\n",
    "    def get_points(self, num_points, region=(0,0,MAX_SIZE,MAX_SIZE), reuse=None):\n",
    "        if reuse:\n",
    "            if not reuse in self.points: \n",
    "                self.points[reuse] = [ (self.randInt(region[0],region[2]), self.randInt(region[1],region[3])) for i in range(num_points)]\n",
    "            return self.points[reuse]\n",
    "        else:\n",
    "            return [ (self.randInt(region[0],region[2]), self.randInt(region[1],region[3])) for i in range(num_points)]\n",
    "        \n",
    "    # Begin a new batch of pairs for a task.\n",
    "    # Perform resetting activities ready for a new task.\n",
    "    def begin_task(self):\n",
    "        self.reset_colors()\n",
    "        self.reset_grid()\n",
    "        self.reset_points()\n",
    "        # return a new name?\n",
    "\n",
    "    # any clean up\n",
    "    def end_task(self):\n",
    "        pass\n",
    "\n",
    "    # Clears all memory of previously chosen colors and labels.\n",
    "    def reset_colors(self):\n",
    "        self.color.reset()\n",
    "        self.colors.clear()\n",
    "\n",
    "    def reset_grid(self):\n",
    "        self.grid.clear()\n",
    "\n",
    "    def reset_points(self):\n",
    "        self.points.clear()\n",
    "        \n",
    "    def randInt(self, low, high):\n",
    "        return self.rng.integers(low, high)               \n",
    "\n",
    "    # if num_tests is not specified, it will pick 1 95% of the time.\n",
    "    def generate(self, num_pairs=5, num_tests=None):\n",
    "        pairs=[]\n",
    "        \n",
    "        # Generate all the pairs\n",
    "        task.begin_task()\n",
    "        for _ in range(max(num_pairs,3)): # At least 3!\n",
    "            pairs.append(task.generate_pair())\n",
    "        task.end_task()\n",
    "\n",
    "        # Choose how many test cases\n",
    "        if not num_tests:\n",
    "            num_tests = 2 if task.randInt(0, 100) < 5 else 1\n",
    "\n",
    "        data = {\n",
    "                'train':[pairs[i] for i in range(len(pairs)-num_tests)], \n",
    "                'test':[ pairs[-i] for i in range(1, num_tests+1) ] \n",
    "        }\n",
    "\n",
    "        return data\n"
   ]
  },
  {
   "cell_type": "code",
   "execution_count": 8,
   "id": "879056f9-b885-4dc9-aed2-24599126583f",
   "metadata": {},
   "outputs": [],
   "source": [
    "class IdGenerator():\n",
    "\n",
    "    def __init__(self, seed):\n",
    "        self.src = [*'0123456789abcdef']\n",
    "        self.len = 10\n",
    "        self.rng = np.random.default_rng(seed)\n",
    "        \n",
    "    def generate(self):\n",
    "        return ''.join(self.rng.choice(self.src, size=self.len).tolist())\n",
    "        "
   ]
  },
  {
   "cell_type": "markdown",
   "id": "14f057d6-4b8a-452a-9036-59c3f10793d7",
   "metadata": {},
   "source": [
    "## Circle a Pixel"
   ]
  },
  {
   "cell_type": "code",
   "execution_count": 9,
   "id": "63d24883-eae0-4a62-ad80-ddc5af3f89c6",
   "metadata": {},
   "outputs": [],
   "source": [
    "class CircleAPixel(TaskGenerator):\n",
    "    \n",
    "    def __init__(self, seed, max_pts=6):\n",
    "        super().__init__(seed)\n",
    "        self.max_pts = max_pts\n",
    "        \n",
    "    def generate_pair(self):\n",
    "\n",
    "        # 'y' is immaterial, reuse just have to be a string to take effect, \n",
    "        # but we can have multiple reusable sets key'ed different labels.\n",
    "        bgcolor, color1, color2 = self.get_colors(3, reuse='y') \n",
    "\n",
    "        # Grid\n",
    "        gridX, gridY = self.get_grid(min_size=5, square=False) # no reuse\n",
    "        in_grid = np.ones((gridY, gridX), dtype=int) * bgcolor\n",
    "        ot_grid = np.ones((gridY, gridX), dtype=int) * bgcolor\n",
    "\n",
    "        # Points\n",
    "        num_points = 1 if self.max_pts == 1 else self.randInt(1,self.max_pts)\n",
    "        pt_list = self.get_points(num_points, region=(0,0,gridX,gridY))\n",
    "\n",
    "        # Generate\n",
    "        for x, y in pt_list: draw_filled_square(color2, x-1, y-1, 3, [ot_grid])   \n",
    "        for x, y in pt_list: draw_pixel(color1, x, y, [in_grid, ot_grid])\n",
    "\n",
    "        # Package\n",
    "        return {INPUT:in_grid.tolist(), OUTPUT:ot_grid.tolist()}\n"
   ]
  },
  {
   "cell_type": "markdown",
   "id": "bff55d36-fa35-4ea0-ab78-c02190cd80c8",
   "metadata": {},
   "source": [
    "## Move a Pixel"
   ]
  },
  {
   "cell_type": "code",
   "execution_count": 14,
   "id": "de023171-27e6-411c-9d17-b54473492d3a",
   "metadata": {},
   "outputs": [],
   "source": [
    "class MoveAPixelX(TaskGenerator):\n",
    "    \n",
    "    def __init__(self, seed, max_pts=6):\n",
    "        super().__init__(seed)\n",
    "        self.max_pts = max_pts\n",
    "        \n",
    "    def generate_pair(self):\n",
    "\n",
    "        # 'y' is immaterial, reuse just have to be a string to take effect, \n",
    "        # but we can have multiple reusable sets key'ed different labels.\n",
    "        bgcolor, color1 = self.get_colors(2, reuse='y') \n",
    "\n",
    "        # Grid\n",
    "        gridX, gridY = self.get_grid(min_size=5, square=False) # no reuse\n",
    "        in_grid = np.ones((gridY, gridX), dtype=int) * bgcolor\n",
    "        ot_grid = np.ones((gridY, gridX), dtype=int) * bgcolor\n",
    "\n",
    "        # Points\n",
    "        num_points = 1 if self.max_pts == 1 else self.randInt(1,self.max_pts)\n",
    "        pt_list = self.get_points(num_points, region=(0,0,gridX-1,gridY))\n",
    "\n",
    "        # Generate\n",
    "        # for x, y in pt_list: draw_filled_square(color2, x-1, y-1, 3, [ot_grid])   \n",
    "        for x, y in pt_list: draw_pixel(color1, x, y, [in_grid])\n",
    "        for x, y in pt_list: draw_pixel(color1, x+1, y, [ot_grid]) # move right\n",
    "\n",
    "        # Package\n",
    "        return {INPUT:in_grid.tolist(), OUTPUT:ot_grid.tolist()}\n"
   ]
  },
  {
   "cell_type": "markdown",
   "id": "1b8f3535-c24e-4b52-a2ac-0b56b50ca900",
   "metadata": {},
   "source": [
    "# Generate\n",
    "\n",
    "- CircleAPixel(0)\n",
    "- CircleAPixel(1,1) \"one\"\n",
    "- MoveAPixelX(1,1) \"one\""
   ]
  },
  {
   "cell_type": "markdown",
   "id": "4d4eb1eb-c6c3-4e4b-abe4-11f31b9be141",
   "metadata": {},
   "source": [
    "## Test One"
   ]
  },
  {
   "cell_type": "code",
   "execution_count": 15,
   "id": "96f68424-66e2-49ee-b19a-4e13c7ee4b3f",
   "metadata": {},
   "outputs": [
    {
     "name": "stdout",
     "output_type": "stream",
     "text": [
      "processed 0 data/core_knowledge/moveapixelxone/moveapixelxone-78cf02df34.json\n",
      "processed 100 data/core_knowledge/moveapixelxone/moveapixelxone-d6e0124b41.json\n",
      "processed 200 data/core_knowledge/moveapixelxone/moveapixelxone-a85fab78d7.json\n",
      "processed 300 data/core_knowledge/moveapixelxone/moveapixelxone-898e48d9bb.json\n",
      "processed 400 data/core_knowledge/moveapixelxone/moveapixelxone-44407142f6.json\n",
      "processed 500 data/core_knowledge/moveapixelxone/moveapixelxone-b00812be2e.json\n",
      "processed 600 data/core_knowledge/moveapixelxone/moveapixelxone-a1ce540bae.json\n",
      "processed 700 data/core_knowledge/moveapixelxone/moveapixelxone-9b9efa6a1e.json\n",
      "processed 800 data/core_knowledge/moveapixelxone/moveapixelxone-cb98fb1e37.json\n",
      "processed 900 data/core_knowledge/moveapixelxone/moveapixelxone-d74538f839.json\n"
     ]
    },
    {
     "data": {
      "image/png": "[encoded data removed]",
      "text/plain": [
       "<Figure size 720x504 with 2 Axes>"
      ]
     },
     "metadata": {
      "needs_background": "light"
     },
     "output_type": "display_data"
    },
    {
     "data": {
      "image/png": "[encoded data removed]",
      "text/plain": [
       "<Figure size 720x504 with 2 Axes>"
      ]
     },
     "metadata": {
      "needs_background": "light"
     },
     "output_type": "display_data"
    },
    {
     "data": {
      "image/png": "[encoded data removed]",
      "text/plain": [
       "<Figure size 720x504 with 2 Axes>"
      ]
     },
     "metadata": {
      "needs_background": "light"
     },
     "output_type": "display_data"
    },
    {
     "data": {
      "image/png": "[encoded data removed]",
      "text/plain": [
       "<Figure size 720x504 with 2 Axes>"
      ]
     },
     "metadata": {
      "needs_background": "light"
     },
     "output_type": "display_data"
    },
    {
     "data": {
      "image/png": "[encoded data removed]",
      "text/plain": [
       "<Figure size 720x504 with 2 Axes>"
      ]
     },
     "metadata": {
      "needs_background": "light"
     },
     "output_type": "display_data"
    }
   ],
   "source": [
    "# For each task we create 4-5 pairs.\n",
    "# Then package them up as 1 or 2 'test' task, with 2-3 'train' task.\n",
    "seed = 1\n",
    "# task = CircleAPixel(seed,1)\n",
    "task = MoveAPixelX(seed,1)\n",
    "modifier='one'\n",
    "tkid = IdGenerator(seed)\n",
    "\n",
    "task_class=task.__class__.__name__.lower()+modifier\n",
    "data_dir='data/core_knowledge/'+task_class+'/'\n",
    "if not os.path.exists(data_dir):\n",
    "   os.makedirs(data_dir)\n",
    "\n",
    "num_tasks = 1000\n",
    "for t in range(num_tasks):\n",
    "    data = task.generate() # Need a name\n",
    "    if t == 0: \n",
    "        for i in range(len(data['train'])): plot_iopair(data['train'][i], \"\")               \n",
    "        for i in range(len(data['test'])): plot_iopair(data['test'][i], \"\") \n",
    "    # Saves this into a json file.\n",
    "    task_id = tkid.generate()\n",
    "    task_file = data_dir + task_class + '-' + task_id + '.json' \n",
    "    if t % int(num_tasks / 10) == 0: print(\"processed\",t,task_file)    \n",
    "    with open(task_file, 'w') as f:\n",
    "        json.dump(data, f)"
   ]
  },
  {
   "cell_type": "code",
   "execution_count": null,
   "id": "8bed9292-932d-44dd-ac5d-a753c7b8c260",
   "metadata": {},
   "outputs": [],
   "source": []
  },
  {
   "cell_type": "code",
   "execution_count": null,
   "id": "73e4f385-a08c-4556-beca-02c3fa46c3f6",
   "metadata": {},
   "outputs": [],
   "source": []
  }
 ],
 "metadata": {
  "kernelspec": {
   "display_name": "Python 3",
   "language": "python",
   "name": "python3"
  },
  "language_info": {
   "codemirror_mode": {
    "name": "ipython",
    "version": 3
   },
   "file_extension": ".py",
   "mimetype": "text/x-python",
   "name": "python",
   "nbconvert_exporter": "python",
   "pygments_lexer": "ipython3",
   "version": "3.7.6"
  }
 },
 "nbformat": 4,
 "nbformat_minor": 5
}
