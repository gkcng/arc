{
 "cells": [
  {
   "cell_type": "code",
   "execution_count": null,
   "metadata": {
    "id": "yMLffrBhBi4O"
   },
   "outputs": [],
   "source": [
    "# Copyright 2019 The TensorFlow Authors.\n",
    "\n",
    "#@title Licensed under the Apache License, Version 2.0 (the \"License\");\n",
    "# you may not use this file except in compliance with the License.\n",
    "# You may obtain a copy of the License at\n",
    "#\n",
    "# https://www.apache.org/licenses/LICENSE-2.0\n",
    "#\n",
    "# Unless required by applicable law or agreed to in writing, software\n",
    "# distributed under the License is distributed on an \"AS IS\" BASIS,\n",
    "# WITHOUT WARRANTIES OR CONDITIONS OF ANY KIND, either express or implied.\n",
    "# See the License for the specific language governing permissions and\n",
    "# limitations under the License.\n",
    "\n",
    "# https://github.com/tensorflow/docs/blob/master/site/en/tutorials/text/transformer.ipynb"
   ]
  },
  {
   "cell_type": "code",
   "execution_count": null,
   "metadata": {
    "id": "n9CoOmuRBi4T"
   },
   "outputs": [],
   "source": [
    "# Modifications Copyright (C) 2020 Rohan Jagtap"
   ]
  },
  {
   "cell_type": "markdown",
   "metadata": {
    "id": "KXfvmjVvBi4T"
   },
   "source": [
    "# Environment"
   ]
  },
  {
   "cell_type": "code",
   "execution_count": 246,
   "metadata": {
    "colab": {
     "base_uri": "https://localhost:8080/"
    },
    "executionInfo": {
     "elapsed": 1742,
     "status": "ok",
     "timestamp": 1666334043299,
     "user": {
      "displayName": "Gary Ng",
      "userId": "02885211737705035727"
     },
     "user_tz": 420
    },
    "id": "XtjaSAfSBi4V",
    "outputId": "871cf63a-9a2d-4a89-ad0f-cc442e66d88f"
   },
   "outputs": [],
   "source": [
    "try:\n",
    "  from google.colab import drive\n",
    "  IN_COLAB = True\n",
    "except:\n",
    "  IN_COLAB = False\n",
    "\n",
    "if IN_COLAB:\n",
    "  drive.mount('/content/drive')"
   ]
  },
  {
   "cell_type": "code",
   "execution_count": 247,
   "metadata": {
    "colab": {
     "base_uri": "https://localhost:8080/"
    },
    "executionInfo": {
     "elapsed": 125,
     "status": "ok",
     "timestamp": 1666334044989,
     "user": {
      "displayName": "Gary Ng",
      "userId": "02885211737705035727"
     },
     "user_tz": 420
    },
    "id": "14nUHCoQCPvG",
    "outputId": "78af3864-6d27-4ddf-99d4-454c54eeaf06"
   },
   "outputs": [
    {
     "name": "stdout",
     "output_type": "stream",
     "text": [
      "[Errno 2] No such file or directory: '/content/drive/My Drive/Colab Notebooks/arc_transformer/'\n",
      "/Users/garyng/Projects/Code/arc\n"
     ]
    }
   ],
   "source": [
    "cd \"/content/drive/My Drive/Colab Notebooks/arc_transformer/\""
   ]
  },
  {
   "cell_type": "code",
   "execution_count": 248,
   "metadata": {
    "colab": {
     "base_uri": "https://localhost:8080/"
    },
    "executionInfo": {
     "elapsed": 488,
     "status": "ok",
     "timestamp": 1666334046315,
     "user": {
      "displayName": "Gary Ng",
      "userId": "02885211737705035727"
     },
     "user_tz": 420
    },
    "id": "NftfxmDuBi4W",
    "outputId": "1d6ba9f5-dfb5-481e-9463-d5a5ab9aa789"
   },
   "outputs": [
    {
     "name": "stdout",
     "output_type": "stream",
     "text": [
      "Not connected to a GPU\n",
      "Your runtime has 17.2 gigabytes of available RAM\n",
      "Not using a high-RAM runtime\n"
     ]
    }
   ],
   "source": [
    "gpu_info = !nvidia-smi 2> /dev/null || echo \"failed\"\n",
    "gpu_info = '\\n'.join(gpu_info)\n",
    "if gpu_info.find('failed') >= 0:\n",
    "  print('Not connected to a GPU')\n",
    "else:\n",
    "  print(gpu_info)\n",
    "\n",
    "from psutil import virtual_memory\n",
    "\n",
    "ram_gb = virtual_memory().total / 1e9\n",
    "print('Your runtime has {:.1f} gigabytes of available RAM'.format(ram_gb))\n",
    "\n",
    "if ram_gb < 20:\n",
    "  print('Not using a high-RAM runtime')\n",
    "else:\n",
    "  print('You are using a high-RAM runtime!')"
   ]
  },
  {
   "cell_type": "code",
   "execution_count": 249,
   "metadata": {
    "executionInfo": {
     "elapsed": 7649,
     "status": "ok",
     "timestamp": 1666334056649,
     "user": {
      "displayName": "Gary Ng",
      "userId": "02885211737705035727"
     },
     "user_tz": 420
    },
    "id": "Zbxhyl_zFlWL"
   },
   "outputs": [],
   "source": [
    "import pandas as pd\n",
    "import numpy as np\n",
    "import tensorflow as tf\n",
    "import time\n",
    "import re\n",
    "import pickle\n",
    "\n",
    "import matplotlib.pyplot as plt\n",
    "from matplotlib import colors\n",
    "from matplotlib import gridspec\n",
    "\n",
    "from sklearn.model_selection import train_test_split\n",
    "from sklearn.utils import shuffle\n",
    "\n",
    "from scipy.spatial.transform import Rotation"
   ]
  },
  {
   "cell_type": "markdown",
   "metadata": {
    "id": "yH5cg5pSIHaZ"
   },
   "source": [
    "# Loading Data"
   ]
  },
  {
   "cell_type": "code",
   "execution_count": 250,
   "metadata": {
    "executionInfo": {
     "elapsed": 797,
     "status": "ok",
     "timestamp": 1666334058288,
     "user": {
      "displayName": "Gary Ng",
      "userId": "02885211737705035727"
     },
     "user_tz": 420
    },
    "id": "pXYxzRXBN3Yz",
    "tags": []
   },
   "outputs": [],
   "source": [
    "# Set some parameters\n",
    "im_width  = 32\n",
    "im_height = 32\n",
    "\n",
    "# train_dir=\"tgs-salt-identification-challenge/competition_data/train\"\n",
    "# data_file=\"data/arc_v6_gsb.npz\"\n",
    "# data_file=\"data/arc_v7_rotated_gsb.npz\" \n",
    "data_file=\"data/arc_v8_rotated_gsb_tasks.npz\""
   ]
  },
  {
   "cell_type": "code",
   "execution_count": 251,
   "metadata": {
    "colab": {
     "base_uri": "https://localhost:8080/"
    },
    "executionInfo": {
     "elapsed": 1961,
     "status": "ok",
     "timestamp": 1666334061962,
     "user": {
      "displayName": "Gary Ng",
      "userId": "02885211737705035727"
     },
     "user_tz": 420
    },
    "id": "yCDhP037N3Y0",
    "outputId": "b9c721bd-422d-4c90-e27d-b1b95bdacf98",
    "tags": []
   },
   "outputs": [
    {
     "name": "stdout",
     "output_type": "stream",
     "text": [
      "(5100, 2, 2, 32, 32, 3)\n",
      "(835, 2, 2, 32, 32, 3)\n",
      "No. of grids =  5100\n",
      "Data shape (5100, 2, 2, 32, 32, 3)\n"
     ]
    }
   ],
   "source": [
    "data_dict = np.load(data_file, allow_pickle=True)\n",
    "\n",
    "data   = data_dict[\"x_train\"] # 32 x 32 grids\n",
    "labels = data_dict[\"y_train\"] # <task_id>_<dataset>_<example_num>_<inputoutpu> id string\n",
    "attrs  = data_dict[\"a_train\"] # Metadaa about the task\n",
    "print(data.shape)\n",
    "\n",
    "test_data   = data_dict[\"x_test\"] # 32 x 32 grids\n",
    "test_labels = data_dict[\"y_test\"] # <task_id>_<dataset>_<example_num>_<inputoutpu> id string\n",
    "test_attrs  = data_dict[\"a_test\"] # Metadaa about the task\n",
    "print(test_data.shape)\n",
    "\n",
    "print(\"No. of grids = \", len(data))\n",
    "print(\"Data shape\", data.shape)"
   ]
  },
  {
   "cell_type": "markdown",
   "metadata": {
    "id": "I8N8_9nABi4Z",
    "tags": []
   },
   "source": [
    "# Data Utiliies"
   ]
  },
  {
   "cell_type": "markdown",
   "metadata": {
    "id": "Hohwyz91Bi4a"
   },
   "source": [
    "## Padding Utils"
   ]
  },
  {
   "cell_type": "code",
   "execution_count": 252,
   "metadata": {
    "executionInfo": {
     "elapsed": 2,
     "status": "ok",
     "timestamp": 1666334062559,
     "user": {
      "displayName": "Gary Ng",
      "userId": "02885211737705035727"
     },
     "user_tz": 420
    },
    "id": "2fkfmX3RBi4b"
   },
   "outputs": [],
   "source": [
    "# Pad a ARC Task grid for uniformity\n",
    "def pad_grid(grid, bound_shape=(32,32)):\n",
    "    diff = [ bound_shape[i] - grid.shape[i] for i in range(2) ]\n",
    "    return np.pad(grid, [(0,diff[0]),(0,diff[1])], mode='constant', constant_values=(10,))\n",
    "    \n",
    "# Removes padding from a ARC Task grid\n",
    "def trim_grid(padded_grid):\n",
    "    bounds = padded_grid == 10\n",
    "    grid = padded_grid[:np.argmax(np.all(bounds, axis=1)), :np.argmax(np.all(bounds, axis=0))]\n",
    "    # print(grid.shape)\n",
    "    return grid"
   ]
  },
  {
   "cell_type": "markdown",
   "metadata": {
    "id": "i2MwXsLFBi4b",
    "tags": []
   },
   "source": [
    "## Gyroelongated Square Bipyramid"
   ]
  },
  {
   "cell_type": "code",
   "execution_count": 253,
   "metadata": {
    "colab": {
     "base_uri": "https://localhost:8080/"
    },
    "executionInfo": {
     "elapsed": 138,
     "status": "ok",
     "timestamp": 1666334064819,
     "user": {
      "displayName": "Gary Ng",
      "userId": "02885211737705035727"
     },
     "user_tz": 420
    },
    "id": "xNKxK9ZMN3Y4",
    "outputId": "fd4b2f7a-2f13-469b-eb14-78bfa861d5f2"
   },
   "outputs": [
    {
     "name": "stdout",
     "output_type": "stream",
     "text": [
      "[[ 0.          0.          1.12755499]\n",
      " [ 0.          0.         -1.12755499]\n",
      " [ 0.5         0.5         0.42044821]\n",
      " [-0.5         0.5         0.42044821]\n",
      " [ 0.5        -0.5         0.42044821]\n",
      " [-0.5        -0.5         0.42044821]\n",
      " [ 0.          0.70710678 -0.42044821]\n",
      " [ 0.         -0.70710678 -0.42044821]\n",
      " [ 0.70710678  0.         -0.42044821]\n",
      " [-0.70710678  0.         -0.42044821]\n",
      " [ 0.          0.          0.        ]]\n"
     ]
    }
   ],
   "source": [
    "# Represent the 10 colors with a 3D Gyroelongated Square Bipyramid. \n",
    "# Coord 0,0,0 is used for padding purposes.\n",
    "# https://polytope.miraheze.org/wiki/Gyroelongated_square_bipyramid\n",
    "qurt_8 = np.power(8,1/4)\n",
    "sqrt_2 = np.power(2,1/2)\n",
    "# GSB equivalent of the rgbs map\n",
    "solid  = np.array([\n",
    "    [0,          0, +(2*sqrt_2 + qurt_8) / 4],\n",
    "    [0,          0, -(2*sqrt_2 + qurt_8) / 4],\n",
    "    [+0.5,    +0.5,     qurt_8 / 4],\n",
    "    [-0.5,    +0.5,     qurt_8 / 4],\n",
    "    [+0.5,    -0.5,     qurt_8 / 4],\n",
    "    [-0.5,    -0.5,     qurt_8 / 4],\n",
    "    [0, +sqrt_2/2, -qurt_8 / 4],\n",
    "    [0, -sqrt_2/2, -qurt_8 / 4],\n",
    "    [+sqrt_2/2, 0, -qurt_8 / 4],\n",
    "    [-sqrt_2/2, 0, -qurt_8 / 4],\n",
    "    [0,        0,           0]\n",
    "])\n",
    "print(solid)"
   ]
  },
  {
   "cell_type": "code",
   "execution_count": 254,
   "metadata": {
    "colab": {
     "base_uri": "https://localhost:8080/"
    },
    "executionInfo": {
     "elapsed": 193,
     "status": "ok",
     "timestamp": 1666334066817,
     "user": {
      "displayName": "Gary Ng",
      "userId": "02885211737705035727"
     },
     "user_tz": 420
    },
    "id": "f5CQP5iUBi4c",
    "outputId": "0c88c1ff-0c9d-4e71-ccdb-17e3f3ccb302"
   },
   "outputs": [
    {
     "name": "stdout",
     "output_type": "stream",
     "text": [
      "Rotated GSB Solid\n",
      "[[ 0.96242838 -0.16512661  0.56377749]\n",
      " [-0.96242838  0.16512661 -0.56377749]\n",
      " [ 0.53565169  0.61520348  0.10667071]\n",
      " [ 0.03565169  0.11520348  0.81377749]\n",
      " [ 0.6820983  -0.23834991 -0.39332929]\n",
      " [ 0.1820983  -0.73834991  0.31377749]\n",
      " [-0.46242838  0.66512661  0.14332929]\n",
      " [-0.2553216  -0.54198018 -0.56377749]\n",
      " [-0.0053216   0.41512661 -0.7102241 ]\n",
      " [-0.71242838 -0.29198018  0.2897759 ]\n",
      " [ 0.          0.          0.        ]]\n"
     ]
    }
   ],
   "source": [
    "# Rotate 45 in all axis to remove any on-axis (zeros) vertices.\n",
    "r=Rotation.from_euler('xyz',[45,45,45],degrees=True)\n",
    "solid = r.apply(solid)\n",
    "print(\"Rotated GSB Solid\")\n",
    "print(solid)"
   ]
  },
  {
   "cell_type": "code",
   "execution_count": 255,
   "metadata": {
    "executionInfo": {
     "elapsed": 144,
     "status": "ok",
     "timestamp": 1666334068383,
     "user": {
      "displayName": "Gary Ng",
      "userId": "02885211737705035727"
     },
     "user_tz": 420
    },
    "id": "Hl-6igpABi4d"
   },
   "outputs": [],
   "source": [
    "# Retrieve ARC task grid from the GSB representation\n",
    "gsb_grid_mask = np.tile(solid,(32,32,1,1)) # The result shape is (32, 32, 11, 3)\n",
    "def gsb_to_grid(gsb_grid):\n",
    "    g = gsb_grid.copy()\n",
    "    g = np.expand_dims(g, 2)\n",
    "    dist = np.linalg.norm(gsb_grid_mask - g, axis=3)\n",
    "    recovered = np.argmin(dist, axis=2)\n",
    "    return recovered\n",
    "\n",
    "def grid_to_gsb(grid):\n",
    "    new_grid = np.zeros((32,32,3))\n",
    "    for r, row in enumerate(grid):\n",
    "        for c, cell in enumerate(row):\n",
    "            new_grid[r][c] = solid[cell]\n",
    "    return new_grid\n",
    "\n",
    "# Tests if two GSB grid is the same\n",
    "def is_same_grid(a, b):\n",
    "    result = False\n",
    "    a_grid = gsb_to_grid(a)\n",
    "    b_grid = gsb_to_grid(b)\n",
    "    return np.all(a_grid == b_grid)"
   ]
  },
  {
   "cell_type": "markdown",
   "metadata": {
    "id": "RrZBdkC0Bi4d",
    "tags": []
   },
   "source": [
    "## RGB Color Utils"
   ]
  },
  {
   "cell_type": "code",
   "execution_count": 256,
   "metadata": {
    "executionInfo": {
     "elapsed": 127,
     "status": "ok",
     "timestamp": 1666334070353,
     "user": {
      "displayName": "Gary Ng",
      "userId": "02885211737705035727"
     },
     "user_tz": 420
    },
    "id": "71mZ_zbxBi4d"
   },
   "outputs": [],
   "source": [
    "# RGB colors of the ARC tasks.\n",
    "# Added #444444 at index 10 for grid padding\n",
    "rgbs = ['#000000', '#0074D9','#FF4136','#2ECC40','#FFDC00',\n",
    "        '#AAAAAA', '#F012BE', '#FF851B', '#7FDBFF', '#870C25', '#444444']\n",
    "cmap = colors.ListedColormap(rgbs)\n",
    "norm = colors.Normalize(vmin=0, vmax=10)\n",
    "\n",
    "# Map #RGB string to 0->1 RGB values\n",
    "def to_rgb(rgbstr):\n",
    "    return int(rgbstr[1:3],16) / 255, int(rgbstr[3:5],16) / 255, int(rgbstr[5:7],16) / 255\n",
    "\n",
    "# Map a ARC task grid to a 3 channels RGB ndarray, usable in imshow.\n",
    "def grid_to_rgb(color_idx):\n",
    "    # print(color_idx.shape)\n",
    "    (h, w) = color_idx.shape\n",
    "    new_grid = np.zeros((h, w, 3))\n",
    "    for r, row in enumerate(color_idx):\n",
    "        for c, cell in enumerate(row):\n",
    "            R, G, B = to_rgb(rgbs[cell])\n",
    "            new_grid[r][c][0] = R\n",
    "            new_grid[r][c][1] = G\n",
    "            new_grid[r][c][2] = B\n",
    "    return new_grid   "
   ]
  },
  {
   "cell_type": "code",
   "execution_count": 257,
   "metadata": {
    "colab": {
     "base_uri": "https://localhost:8080/",
     "height": 401
    },
    "executionInfo": {
     "elapsed": 465,
     "status": "ok",
     "timestamp": 1666334072681,
     "user": {
      "displayName": "Gary Ng",
      "userId": "02885211737705035727"
     },
     "user_tz": 420
    },
    "id": "BEjLeCWMBi4e",
    "outputId": "1994884d-651e-4d8a-9b84-87f2479f0233"
   },
   "outputs": [
    {
     "name": "stdout",
     "output_type": "stream",
     "text": [
      "Grid Recovery\n",
      "Sanity Check:\n",
      "A rotated gsb should show '[ 0.96242838 -0.16512661  0.56377749]'\n",
      "[ 0.96242838 -0.16512661  0.56377749]\n"
     ]
    },
    {
     "data": {
      "image/png": "[encoded data removed]",
      "text/plain": [
       "<Figure size 720x504 with 2 Axes>"
      ]
     },
     "metadata": {
      "needs_background": "light"
     },
     "output_type": "display_data"
    }
   ],
   "source": [
    "# Visualize any randome image along with the mask\n",
    "def plot_one(ax, data, label, trim=True):\n",
    "    grid = gsb_to_grid(data)\n",
    "    tl_color = 'green' if np.all(grid == grid) else 'red'\n",
    "    grid = trim_grid(grid) if trim else grid\n",
    "    ax.imshow(grid_to_rgb(grid))\n",
    "    ax.set_title(label, color=tl_color)\n",
    "\n",
    "print(\"Grid Recovery\")\n",
    "fig, (ax1, ax2) = plt.subplots(1, 2, figsize = (10, 7))\n",
    "idx = next(i for i, s in enumerate(labels) if s.startswith('009d5c81_train_3'))\n",
    "plot_one(ax1, data[idx][0][0], labels[idx])\n",
    "\n",
    "print(\"Sanity Check:\\nA rotated gsb should show '[ 0.96242838 -0.16512661  0.56377749]'\")\n",
    "print(data[idx][0][0][0][0]) # idx, encoder. input, top, left.\n",
    "\n",
    "idx = next(i for i, s in enumerate(test_labels) if s.endswith('a680ac02_test_0'))\n",
    "plot_one(ax2, test_data[idx][1][0], test_labels[idx])"
   ]
  },
  {
   "cell_type": "markdown",
   "metadata": {
    "id": "ITrj1Q87Bi4e"
   },
   "source": [
    "## Start and End Tokens"
   ]
  },
  {
   "cell_type": "code",
   "execution_count": 258,
   "metadata": {
    "executionInfo": {
     "elapsed": 132,
     "status": "ok",
     "timestamp": 1666334074438,
     "user": {
      "displayName": "Gary Ng",
      "userId": "02885211737705035727"
     },
     "user_tz": 420
    },
    "id": "Em7c0xyLBi4f"
   },
   "outputs": [],
   "source": [
    "def token_gen(pattern_str):\n",
    "    ps = pattern_str.split('|')\n",
    "    ps_grid = np.array([ list(map(int, list(s))) for s in ps ])\n",
    "    black = ps_grid == 0\n",
    "    white = ps_grid == 1\n",
    "    token_grid = black * 4 + white * 0 # Flip the code to black.\n",
    "    return pad_grid(token_grid)"
   ]
  },
  {
   "cell_type": "code",
   "execution_count": 259,
   "metadata": {
    "colab": {
     "base_uri": "https://localhost:8080/",
     "height": 336
    },
    "executionInfo": {
     "elapsed": 593,
     "status": "ok",
     "timestamp": 1666334076798,
     "user": {
      "displayName": "Gary Ng",
      "userId": "02885211737705035727"
     },
     "user_tz": 420
    },
    "id": "_NG_atyuBi4f",
    "outputId": "cd8535d3-cdc5-45b0-9873-32e1f536c522"
   },
   "outputs": [
    {
     "data": {
      "text/plain": [
       "Text(0.5, 1.0, 'End')"
      ]
     },
     "execution_count": 259,
     "metadata": {},
     "output_type": "execute_result"
    },
    {
     "data": {
      "image/png": "[encoded data removed]",
      "text/plain": [
       "<Figure size 720x504 with 2 Axes>"
      ]
     },
     "metadata": {
      "needs_background": "light"
     },
     "output_type": "display_data"
    }
   ],
   "source": [
    "# QR code for \"START_TASK\" and \"END_TASK\"\n",
    "start_task_grid = token_gen(\n",
    "'111111100100001111111|100000100011101000001|101110100010001011101|101110100110001011101|\\\n",
    "101110100011101011101|100000101000001000001|111111101010101111111|000000000010000000000|\\\n",
    "100101101101110100000|011010011011010100000|111000110111001100101|111100001010101101000|\\\n",
    "110000101001011110101|000000001000000011010|111111100001111110110|100000101010000010011|\\\n",
    "101110100100111111110|101110101000010000011|101110100101010110001|100000100111100110000|111111101100000110110')\n",
    "end_task_grid   = token_gen(\n",
    "'111111100110001111111|100000101101001000001|101110100010001011101|101110100011001011101|\\\n",
    "101110101111101011101|100000100101001000001|111111101010101111111|000000000010000000000|\\\n",
    "101010100010100010010|111010000011011100110|101100101111010110011|011101010001110010000|\\\n",
    "011110110001001010111|000000001000001000010|111111100010100110111|100000100010001000010|\\\n",
    "101110101000101011100|101110100111010100110|101110101111011111001|100000100101110100010|111111101011011111111')\n",
    "stop_token = grid_to_gsb(end_task_grid)\n",
    "\n",
    "fig, (ax1, ax2) = plt.subplots(1, 2, figsize = (10, 7))\n",
    "\n",
    "ax1.imshow(grid_to_rgb(start_task_grid))\n",
    "ax1.grid(False)\n",
    "ax1.set_title(\"Start\")\n",
    "\n",
    "ax2.imshow(grid_to_rgb(end_task_grid))\n",
    "ax2.grid(False)\n",
    "ax2.set_title(\"End\")"
   ]
  },
  {
   "cell_type": "markdown",
   "metadata": {
    "id": "f8gKyq1gIq4r"
   },
   "source": [
    "# Preprocessing"
   ]
  },
  {
   "cell_type": "markdown",
   "metadata": {
    "id": "DmSEeRLTBi4f"
   },
   "source": [
    "## Construct Training Set"
   ]
  },
  {
   "cell_type": "code",
   "execution_count": 260,
   "metadata": {
    "executionInfo": {
     "elapsed": 125,
     "status": "ok",
     "timestamp": 1666334078975,
     "user": {
      "displayName": "Gary Ng",
      "userId": "02885211737705035727"
     },
     "user_tz": 420
    },
    "id": "TJ6LE4MrJjC_"
   },
   "outputs": [],
   "source": [
    "# data, labels, attrs, \n",
    "def construct_data(data, labels, attrs):\n",
    "    # Grid data dimensions (5100, 2, 2, 32, 32, 3)\n",
    "    # Training data comprises: train_task, test_task\n",
    "    # train_task_inp - Training task's input\n",
    "    enc_inp, dec_inp = np.squeeze(np.split(data, len(data[0]), axis=1))\n",
    "    print(\"Encoder Input Shape: {}, Decoder Input Shape: {}\".format(enc_inp.shape, dec_inp.shape))\n",
    "\n",
    "    data_inp        = enc_inp\n",
    "    data_inp_labels = labels\n",
    "    data_inp_attrs  = attrs\n",
    "\n",
    "    # train_task_tar - Training task's target, add the stop token\n",
    "    all_stop = np.repeat([stop_token], repeats=data_inp.shape[0], axis=0)\n",
    "    seq = np.squeeze(np.split(dec_inp, len(dec_inp[0]), axis=1))    \n",
    "    data_tar = np.stack([seq[0], seq[1], all_stop], axis=1)\n",
    "    data_tar_labels = labels\n",
    "    data_tar_attrs  = attrs\n",
    "    \n",
    "    return data_inp, data_inp_labels, data_inp_attrs, data_tar, data_tar_labels, data_tar_attrs"
   ]
  },
  {
   "cell_type": "code",
   "execution_count": 261,
   "metadata": {
    "colab": {
     "base_uri": "https://localhost:8080/"
    },
    "executionInfo": {
     "elapsed": 557,
     "status": "ok",
     "timestamp": 1666334081584,
     "user": {
      "displayName": "Gary Ng",
      "userId": "02885211737705035727"
     },
     "user_tz": 420
    },
    "id": "H2K2hMOWeMyy",
    "outputId": "134c2fa7-094d-4237-900b-07c656b36741"
   },
   "outputs": [
    {
     "name": "stdout",
     "output_type": "stream",
     "text": [
      "Encoder Input Shape: (5100, 2, 32, 32, 3), Decoder Input Shape: (5100, 2, 32, 32, 3)\n",
      "Training Data (5100, 2, 32, 32, 3) (5100, 3, 32, 32, 3)\n"
     ]
    }
   ],
   "source": [
    "train_inp, train_inp_labels, train_inp_attrs, train_tar, train_tar_labels, train_tar_attrs = construct_data(data, labels, attrs)\n",
    "print(\"Training Data\", train_inp.shape, train_tar.shape)"
   ]
  },
  {
   "cell_type": "code",
   "execution_count": 262,
   "metadata": {
    "colab": {
     "base_uri": "https://localhost:8080/",
     "height": 624
    },
    "executionInfo": {
     "elapsed": 1409,
     "status": "ok",
     "timestamp": 1666334083977,
     "user": {
      "displayName": "Gary Ng",
      "userId": "02885211737705035727"
     },
     "user_tz": 420
    },
    "id": "OP6KJtmcBi4g",
    "outputId": "f72f3d55-1487-42fe-deeb-40781bad9ffb"
   },
   "outputs": [
    {
     "data": {
      "image/png": "[encoded data removed]",
      "text/plain": [
       "<Figure size 1080x1080 with 6 Axes>"
      ]
     },
     "metadata": {
      "needs_background": "light"
     },
     "output_type": "display_data"
    }
   ],
   "source": [
    "# Take a look at a random task.\n",
    "task_id = 888\n",
    "fig, axes = plt.subplots(2, 3, figsize = (15, 15))\n",
    "plot_one(axes[0,0], train_inp[task_id][0], train_inp_labels[task_id], trim=False)\n",
    "plot_one(axes[0,1], train_inp[task_id][1], train_inp_labels[task_id], trim=False)\n",
    "axes[0,2].axis('off')\n",
    "plot_one(axes[1,0], train_tar[task_id][0], train_tar_labels[task_id], trim=False)\n",
    "plot_one(axes[1,1], train_tar[task_id][1], train_tar_labels[task_id], trim=False)\n",
    "plot_one(axes[1,2], train_tar[task_id][2], train_tar_labels[task_id], trim=False)"
   ]
  },
  {
   "cell_type": "markdown",
   "metadata": {
    "id": "mgIgpaFWBi4g"
   },
   "source": [
    "## Constructing Test Set"
   ]
  },
  {
   "cell_type": "code",
   "execution_count": 263,
   "metadata": {
    "colab": {
     "base_uri": "https://localhost:8080/"
    },
    "executionInfo": {
     "elapsed": 120,
     "status": "ok",
     "timestamp": 1666334085991,
     "user": {
      "displayName": "Gary Ng",
      "userId": "02885211737705035727"
     },
     "user_tz": 420
    },
    "id": "d2hBHjKeN3Y1",
    "outputId": "5427faa7-a6a1-4c05-d43c-7a585a646763",
    "tags": []
   },
   "outputs": [
    {
     "name": "stdout",
     "output_type": "stream",
     "text": [
      "Encoder Input Shape: (835, 2, 32, 32, 3), Decoder Input Shape: (835, 2, 32, 32, 3)\n",
      "Validation Data (835, 2, 32, 32, 3) (835, 3, 32, 32, 3)\n"
     ]
    }
   ],
   "source": [
    "valid_inp, valid_inp_labels, valid_inp_attrs, valid_tar, valid_tar_labels, valid_tar_attrs = construct_data(test_data, test_labels, test_attrs)\n",
    "print(\"Validation Data\", valid_inp.shape, valid_tar.shape)"
   ]
  },
  {
   "cell_type": "code",
   "execution_count": 264,
   "metadata": {
    "executionInfo": {
     "elapsed": 135,
     "status": "ok",
     "timestamp": 1666334087173,
     "user": {
      "displayName": "Gary Ng",
      "userId": "02885211737705035727"
     },
     "user_tz": 420
    },
    "id": "cVeMilXr-bpC"
   },
   "outputs": [],
   "source": [
    "# maxlen - max sequence length\n",
    "encoder_maxlen = 2\n",
    "decoder_maxlen = 4\n",
    "GRID_SHAPE = (32,32,3)"
   ]
  },
  {
   "cell_type": "markdown",
   "metadata": {
    "id": "_SWap3YJBk-D"
   },
   "source": [
    "## Padding/Truncating sequences for identical sequence lengths"
   ]
  },
  {
   "cell_type": "code",
   "execution_count": 265,
   "metadata": {
    "colab": {
     "base_uri": "https://localhost:8080/"
    },
    "executionInfo": {
     "elapsed": 1066,
     "status": "ok",
     "timestamp": 1666334091259,
     "user": {
      "displayName": "Gary Ng",
      "userId": "02885211737705035727"
     },
     "user_tz": 420
    },
    "id": "vEyUBeu7ACRt",
    "outputId": "323ad3de-caff-42fb-c387-4b8e8c6c6069"
   },
   "outputs": [
    {
     "name": "stdout",
     "output_type": "stream",
     "text": [
      "(5100, 2, 32, 32, 3) (5100, 4, 32, 32, 3)\n",
      "(5100, 2) (5100, 4)\n",
      "(835, 2, 32, 32, 3) (835, 4, 32, 32, 3)\n",
      "(835, 2) (835, 4)\n"
     ]
    }
   ],
   "source": [
    "zero_grid = np.zeros(GRID_SHAPE)\n",
    "\n",
    "# zero_grid = np.zeros((4,4,3))\n",
    "# one_grid  = np.ones((4,4,3))\n",
    "# mock_train_array = [np.tile(one_grid,(5,1,1,1)), np.tile(one_grid,(3,1,1,1)), np.tile(one_grid,(6,1,1,1))]\n",
    "# mock_pad = np.array([ np.concatenate((i, np.tile(zero_grid,(max(6-len(i),0),1,1,1))), axis=0) for i in mock_train_array ])\n",
    "# print(mock_pad.shape)\n",
    "\n",
    "def standardize_data(data_array, max_seq_length):\n",
    "    # Create the 0 padded (batch, max_len) representaion of both inputs and targets\n",
    "    # This is to be used in create_masks.\n",
    "    data_seq = [ np.ones((len(i)), dtype=np.int32) for i in data_array ]\n",
    "    data_pad = tf.keras.preprocessing.sequence.pad_sequences(data_seq, maxlen=max_seq_length, padding='post', truncating='post')\n",
    "\n",
    "    # Create the zero grid padded version (batch, max_len, GRID_SHAPE[0], GRID_SHAPE[1], GRID_SHAPE[2])\n",
    "    # Thare are the actual inputs.\n",
    "    std_data = np.array([ np.concatenate((i, np.tile(zero_grid,(max(max_seq_length-len(i),0),1,1,1))), axis=0) for i in data_array ])\n",
    "\n",
    "    return std_data, data_pad\n",
    "\n",
    "train_inputs,  train_inputs_pad = standardize_data(train_inp, encoder_maxlen)\n",
    "train_targets, train_targets_pad = standardize_data(train_tar, decoder_maxlen)\n",
    "print(train_inputs.shape, train_targets.shape)\n",
    "print(train_inputs_pad.shape, train_targets_pad.shape)\n",
    "\n",
    "valid_inputs, valid_inputs_pad = standardize_data(valid_inp, encoder_maxlen)\n",
    "valid_targets, valid_targets_pad = standardize_data(valid_tar, decoder_maxlen)\n",
    "print(valid_inputs.shape, valid_targets.shape)\n",
    "print(valid_inputs_pad.shape, valid_targets_pad.shape)"
   ]
  },
  {
   "cell_type": "markdown",
   "metadata": {
    "id": "wIP0kIIcB8Rm"
   },
   "source": [
    "## Creating datasets"
   ]
  },
  {
   "cell_type": "code",
   "execution_count": 266,
   "metadata": {
    "executionInfo": {
     "elapsed": 425,
     "status": "ok",
     "timestamp": 1666334093930,
     "user": {
      "displayName": "Gary Ng",
      "userId": "02885211737705035727"
     },
     "user_tz": 420
    },
    "id": "slZ5f4P4DurS"
   },
   "outputs": [],
   "source": [
    "BUFFER_SIZE = 20000\n",
    "BATCH_SIZE = 64"
   ]
  },
  {
   "cell_type": "code",
   "execution_count": 267,
   "metadata": {
    "executionInfo": {
     "elapsed": 3664,
     "status": "ok",
     "timestamp": 1666334098792,
     "user": {
      "displayName": "Gary Ng",
      "userId": "02885211737705035727"
     },
     "user_tz": 420
    },
    "id": "wI-fV7eABWN6"
   },
   "outputs": [],
   "source": [
    "training_batches = tf.data.Dataset.from_tensor_slices((train_inputs, train_targets, train_inputs_pad, train_targets_pad)).shuffle(BUFFER_SIZE, seed=0).batch(BATCH_SIZE)\n",
    "training_set = (train_inputs, train_targets, train_inputs_pad, train_targets_pad)\n",
    "validatn_set = (valid_inputs, valid_targets, valid_inputs_pad, valid_targets_pad)"
   ]
  },
  {
   "cell_type": "markdown",
   "metadata": {
    "id": "n8DqUBc4NFOy"
   },
   "source": [
    "# Building the Model"
   ]
  },
  {
   "cell_type": "markdown",
   "metadata": {
    "id": "isN1CpAXLfsl"
   },
   "source": [
    "## Positional Encoding"
   ]
  },
  {
   "cell_type": "code",
   "execution_count": 268,
   "metadata": {
    "executionInfo": {
     "elapsed": 169,
     "status": "ok",
     "timestamp": 1666338086550,
     "user": {
      "displayName": "Gary Ng",
      "userId": "02885211737705035727"
     },
     "user_tz": 420
    },
    "id": "Purv7oyhETDZ"
   },
   "outputs": [],
   "source": [
    "def get_angles(position, i, d_model):\n",
    "    angle_rates = 1 / np.power(10000, (2 * (i // 2)) / np.float32(d_model))\n",
    "    return position * angle_rates"
   ]
  },
  {
   "cell_type": "code",
   "execution_count": 269,
   "metadata": {
    "executionInfo": {
     "elapsed": 146,
     "status": "ok",
     "timestamp": 1666338087804,
     "user": {
      "displayName": "Gary Ng",
      "userId": "02885211737705035727"
     },
     "user_tz": 420
    },
    "id": "40J2pc2NEXp5"
   },
   "outputs": [],
   "source": [
    "def positional_encoding(position, d_model):\n",
    "    angle_rads = get_angles(\n",
    "        np.arange(position)[:, np.newaxis],\n",
    "        np.arange(d_model)[np.newaxis, :],\n",
    "        d_model\n",
    "    )\n",
    "\n",
    "    # apply sin to even indices in the array; 2i\n",
    "    angle_rads[:, 0::2] = np.sin(angle_rads[:, 0::2])\n",
    "\n",
    "    # apply cos to odd indices in the array; 2i+1\n",
    "    angle_rads[:, 1::2] = np.cos(angle_rads[:, 1::2])\n",
    "\n",
    "    pos_encoding = angle_rads[np.newaxis, ...]\n",
    "\n",
    "    return tf.cast(pos_encoding, dtype=tf.float32)\n"
   ]
  },
  {
   "cell_type": "markdown",
   "metadata": {
    "id": "24Pe01DMMWHc",
    "tags": []
   },
   "source": [
    "## Masking\n",
    "\n",
    "- Padding mask for masking \"pad\" sequences\n",
    "- Lookahead mask for masking future words from contributing in prediction of current words in self attention\n",
    "- The mask operation is achieved by adding a large negative number, thus the mask convention 0 for content element, 1 is to be masked."
   ]
  },
  {
   "cell_type": "code",
   "execution_count": 270,
   "metadata": {
    "executionInfo": {
     "elapsed": 430,
     "status": "ok",
     "timestamp": 1666338105699,
     "user": {
      "displayName": "Gary Ng",
      "userId": "02885211737705035727"
     },
     "user_tz": 420
    },
    "id": "hN1wVQAdMVYy"
   },
   "outputs": [],
   "source": [
    "def create_padding_mask(seq):\n",
    "    # print(\"create padding_mask\",seq.shape)\n",
    "    seq = tf.cast(tf.math.equal(seq, 0), tf.float32) \n",
    "    return seq[:, tf.newaxis, tf.newaxis, :]"
   ]
  },
  {
   "cell_type": "code",
   "execution_count": 271,
   "metadata": {
    "executionInfo": {
     "elapsed": 4,
     "status": "ok",
     "timestamp": 1666338106159,
     "user": {
      "displayName": "Gary Ng",
      "userId": "02885211737705035727"
     },
     "user_tz": 420
    },
    "id": "UmjAPLWuMREE"
   },
   "outputs": [],
   "source": [
    "def create_look_ahead_mask(size):\n",
    "    mask = 1 - tf.linalg.band_part(tf.ones((size, size)), -1, 0)\n",
    "    return mask"
   ]
  },
  {
   "cell_type": "markdown",
   "metadata": {
    "id": "WfknVF7hNKf7"
   },
   "source": [
    "## Scaled Dot Product"
   ]
  },
  {
   "cell_type": "code",
   "execution_count": 272,
   "metadata": {
    "executionInfo": {
     "elapsed": 114,
     "status": "ok",
     "timestamp": 1666338107825,
     "user": {
      "displayName": "Gary Ng",
      "userId": "02885211737705035727"
     },
     "user_tz": 420
    },
    "id": "w_B6M9OBNBKB"
   },
   "outputs": [],
   "source": [
    "def scaled_dot_product_attention(q, k, v, mask):\n",
    "    matmul_qk = tf.matmul(q, k, transpose_b=True)\n",
    "\n",
    "    dk = tf.cast(tf.shape(k)[-1], tf.float32)\n",
    "    scaled_attention_logits = matmul_qk / tf.math.sqrt(dk)\n",
    "\n",
    "    if mask is not None:\n",
    "        scaled_attention_logits += (mask * -1e9)  \n",
    "\n",
    "    attention_weights = tf.nn.softmax(scaled_attention_logits, axis=-1)\n",
    "\n",
    "    output = tf.matmul(attention_weights, v)\n",
    "    return output, attention_weights"
   ]
  },
  {
   "cell_type": "markdown",
   "metadata": {
    "id": "Rf7_a5uQOfJk"
   },
   "source": [
    "## Multi-Headed Attention"
   ]
  },
  {
   "cell_type": "code",
   "execution_count": 273,
   "metadata": {
    "executionInfo": {
     "elapsed": 436,
     "status": "ok",
     "timestamp": 1666338111533,
     "user": {
      "displayName": "Gary Ng",
      "userId": "02885211737705035727"
     },
     "user_tz": 420
    },
    "id": "iIuFrdXnNZEC"
   },
   "outputs": [],
   "source": [
    "class MultiHeadAttention(tf.keras.layers.Layer):\n",
    "    def __init__(self, d_model, num_heads):\n",
    "        super(MultiHeadAttention, self).__init__()\n",
    "        self.num_heads = num_heads\n",
    "        self.d_model = d_model\n",
    "\n",
    "        assert d_model % self.num_heads == 0\n",
    "\n",
    "        self.depth = d_model // self.num_heads\n",
    "\n",
    "        self.wq = tf.keras.layers.Dense(d_model)\n",
    "        self.wk = tf.keras.layers.Dense(d_model)\n",
    "        self.wv = tf.keras.layers.Dense(d_model)\n",
    "\n",
    "        self.dense = tf.keras.layers.Dense(d_model)\n",
    "        \n",
    "    def split_heads(self, x, batch_size):\n",
    "        x = tf.reshape(x, (batch_size, -1, self.num_heads, self.depth))\n",
    "        return tf.transpose(x, perm=[0, 2, 1, 3])\n",
    "    \n",
    "    def call(self, v, k, q, mask):\n",
    "        batch_size = tf.shape(q)[0]\n",
    "\n",
    "        q = self.wq(q)\n",
    "        k = self.wk(k)\n",
    "        v = self.wv(v)\n",
    "\n",
    "        q = self.split_heads(q, batch_size)\n",
    "        k = self.split_heads(k, batch_size)\n",
    "        v = self.split_heads(v, batch_size)\n",
    "\n",
    "        scaled_attention, attention_weights = scaled_dot_product_attention(\n",
    "            q, k, v, mask)\n",
    "\n",
    "        scaled_attention = tf.transpose(scaled_attention, perm=[0, 2, 1, 3])\n",
    "\n",
    "        concat_attention = tf.reshape(scaled_attention, (batch_size, -1, self.d_model))\n",
    "        output = self.dense(concat_attention)\n",
    "            \n",
    "        return output, attention_weights"
   ]
  },
  {
   "cell_type": "markdown",
   "metadata": {
    "id": "A49tXMVvOkOZ",
    "tags": []
   },
   "source": [
    "## Feed Forward Network"
   ]
  },
  {
   "cell_type": "code",
   "execution_count": 274,
   "metadata": {
    "executionInfo": {
     "elapsed": 151,
     "status": "ok",
     "timestamp": 1666338113677,
     "user": {
      "displayName": "Gary Ng",
      "userId": "02885211737705035727"
     },
     "user_tz": 420
    },
    "id": "d9-qoKuTNwKq"
   },
   "outputs": [],
   "source": [
    "def point_wise_feed_forward_network(d_model, dff):\n",
    "    ffn = tf.keras.Sequential()\n",
    "    # ffn.add( tf.keras.layers.Dense(dff, activation='relu', kernel_initializer=\"he_normal\") )\n",
    "    ffn.add( tf.keras.layers.Dense(dff))\n",
    "    # ffn.add( tf.keras.layers.LeakyReLU())\n",
    "    ffn.add( tf.keras.layers.PReLU(shared_axes=[1]) )\n",
    "    ffn.add( tf.keras.layers.Dense(d_model))\n",
    "    return ffn"
   ]
  },
  {
   "cell_type": "markdown",
   "metadata": {
    "id": "CEacCqvjBi4k"
   },
   "source": [
    "## Embedding"
   ]
  },
  {
   "cell_type": "code",
   "execution_count": 275,
   "metadata": {
    "executionInfo": {
     "elapsed": 154,
     "status": "ok",
     "timestamp": 1666338115929,
     "user": {
      "displayName": "Gary Ng",
      "userId": "02885211737705035727"
     },
     "user_tz": 420
    },
    "id": "JklEFGHiBi4k"
   },
   "outputs": [],
   "source": [
    "class EmbeddingLayer(tf.keras.layers.Layer):\n",
    "    # say seq_len = 4,\n",
    "    # Then each should go through the same embedding weights, \n",
    "    # yield dimention d_model\n",
    "    #\n",
    "    # So:\n",
    "    # Input  (batch_size, seq_len, 32, 32, 3)\n",
    "    # Output (batch_size, seq_len, d_model) \n",
    "    #\n",
    "    def __init__(self, in_shape, d_model):\n",
    "        super(EmbeddingLayer, self).__init__()\n",
    "\n",
    "        # Simplest Encoder is just a Dense layer\n",
    "        self.encoder = tf.keras.models.Sequential()\n",
    "        self.encoder.add(tf.keras.layers.InputLayer(in_shape,))\n",
    "        self.encoder.add(tf.keras.layers.Flatten())\n",
    "        # self.encoder.add(tf.keras.layers.Dense(d_model, activation='relu', kernel_initializer=\"he_normal\")) \n",
    "        self.encoder.add(tf.keras.layers.Dense(d_model))\n",
    "        # self.encoder.add(tf.keras.layers.LeakyReLU())\n",
    "        self.encoder.add(tf.keras.layers.PReLU() )\n",
    "\n",
    "\n",
    "    def call(self, x, training):\n",
    "        # Apply the same encoder to each element in the sequence \n",
    "        seq = tf.unstack(x, axis=1)\n",
    "        emb = [ self.encoder( s ) for s in seq ] \n",
    "        output = tf.stack(emb, axis=1)\n",
    "\n",
    "        return output"
   ]
  },
  {
   "cell_type": "markdown",
   "metadata": {
    "id": "B2RRmn2bOpW9"
   },
   "source": [
    "## Fundamental Unit of Transformer encoder"
   ]
  },
  {
   "cell_type": "code",
   "execution_count": 276,
   "metadata": {
    "executionInfo": {
     "elapsed": 188,
     "status": "ok",
     "timestamp": 1666338118285,
     "user": {
      "displayName": "Gary Ng",
      "userId": "02885211737705035727"
     },
     "user_tz": 420
    },
    "id": "HNuoJoFWO335"
   },
   "outputs": [],
   "source": [
    "class EncoderLayer(tf.keras.layers.Layer):\n",
    "    def __init__(self, d_model, num_heads, dff, rate):\n",
    "        super(EncoderLayer, self).__init__()\n",
    "\n",
    "        self.mha = MultiHeadAttention(d_model, num_heads)\n",
    "        self.ffn = point_wise_feed_forward_network(d_model, dff)\n",
    "\n",
    "        self.layernorm1 = tf.keras.layers.LayerNormalization(epsilon=1e-6)\n",
    "        self.layernorm2 = tf.keras.layers.LayerNormalization(epsilon=1e-6)\n",
    "\n",
    "        self.dropout1 = tf.keras.layers.Dropout(rate)\n",
    "        self.dropout2 = tf.keras.layers.Dropout(rate)\n",
    "    \n",
    "    def call(self, x, training, mask):\n",
    "        attn_output, _ = self.mha(x, x, x, mask)\n",
    "        attn_output = self.dropout1(attn_output, training=training)\n",
    "        out1 = self.layernorm1(x + attn_output)\n",
    "\n",
    "        ffn_output = self.ffn(out1)\n",
    "        ffn_output = self.dropout2(ffn_output, training=training)\n",
    "        out2 = self.layernorm2(out1 + ffn_output)\n",
    "\n",
    "        return out2\n"
   ]
  },
  {
   "cell_type": "markdown",
   "metadata": {
    "id": "9i6Zh8gnPqdW"
   },
   "source": [
    "## Fundamental Unit of Transformer decoder"
   ]
  },
  {
   "cell_type": "code",
   "execution_count": 277,
   "metadata": {
    "executionInfo": {
     "elapsed": 425,
     "status": "ok",
     "timestamp": 1666338121642,
     "user": {
      "displayName": "Gary Ng",
      "userId": "02885211737705035727"
     },
     "user_tz": 420
    },
    "id": "7CVmvs6dPMRC"
   },
   "outputs": [],
   "source": [
    "class DecoderLayer(tf.keras.layers.Layer):\n",
    "    def __init__(self, d_model, num_heads, dff, rate):\n",
    "        super(DecoderLayer, self).__init__()\n",
    "\n",
    "        self.mha1 = MultiHeadAttention(d_model, num_heads)\n",
    "        self.mha2 = MultiHeadAttention(d_model, num_heads)\n",
    "\n",
    "        self.ffn = point_wise_feed_forward_network(d_model, dff)\n",
    "\n",
    "        self.layernorm1 = tf.keras.layers.LayerNormalization(epsilon=1e-6)\n",
    "        self.layernorm2 = tf.keras.layers.LayerNormalization(epsilon=1e-6)\n",
    "        self.layernorm3 = tf.keras.layers.LayerNormalization(epsilon=1e-6)\n",
    "\n",
    "        self.dropout1 = tf.keras.layers.Dropout(rate)\n",
    "        self.dropout2 = tf.keras.layers.Dropout(rate)\n",
    "        self.dropout3 = tf.keras.layers.Dropout(rate)\n",
    "    \n",
    "    \n",
    "    def call(self, x, enc_output, training, look_ahead_mask, padding_mask):\n",
    "        attn1, attn_weights_block1 = self.mha1(x, x, x, look_ahead_mask)\n",
    "        attn1 = self.dropout1(attn1, training=training)\n",
    "        out1 = self.layernorm1(attn1 + x)\n",
    "\n",
    "        attn2, attn_weights_block2 = self.mha2(enc_output, enc_output, out1, padding_mask)\n",
    "        attn2 = self.dropout2(attn2, training=training)\n",
    "        out2 = self.layernorm2(attn2 + out1)\n",
    "\n",
    "        ffn_output = self.ffn(out2)\n",
    "        ffn_output = self.dropout3(ffn_output, training=training)\n",
    "        out3 = self.layernorm3(ffn_output + out2)\n",
    "\n",
    "        return out3, attn_weights_block1, attn_weights_block2\n"
   ]
  },
  {
   "cell_type": "markdown",
   "metadata": {
    "id": "6zt5MUc_QNid"
   },
   "source": [
    "## Encoder consisting of multiple EncoderLayer(s)"
   ]
  },
  {
   "cell_type": "code",
   "execution_count": 278,
   "metadata": {
    "executionInfo": {
     "elapsed": 189,
     "status": "ok",
     "timestamp": 1666338123923,
     "user": {
      "displayName": "Gary Ng",
      "userId": "02885211737705035727"
     },
     "user_tz": 420
    },
    "id": "BrbnTwijQJ-h"
   },
   "outputs": [],
   "source": [
    "class Encoder(tf.keras.layers.Layer):\n",
    "    def __init__(self, num_layers, d_model, num_heads, dff, maximum_position_encoding, embedding_layer, rate):\n",
    "        super(Encoder, self).__init__()\n",
    "\n",
    "        self.d_model = d_model\n",
    "        self.num_layers = num_layers\n",
    "\n",
    "        self.embedding = embedding_layer # tf.keras.layers.Embedding(input_vocab_size, d_model)\n",
    "        self.pos_encoding = positional_encoding(maximum_position_encoding, self.d_model)\n",
    "\n",
    "        self.enc_layers = [EncoderLayer(d_model, num_heads, dff, rate) for _ in range(num_layers)]\n",
    "\n",
    "        self.dropout = tf.keras.layers.Dropout(rate)\n",
    "        \n",
    "    def call(self, x, training, mask):\n",
    "        seq_len = tf.shape(x)[1]\n",
    "\n",
    "        x = self.embedding(x)\n",
    "        x *= tf.math.sqrt(tf.cast(self.d_model, tf.float32))\n",
    "        x += self.pos_encoding[:, :seq_len, :]\n",
    "\n",
    "        x = self.dropout(x, training=training)\n",
    "    \n",
    "        for i in range(self.num_layers):\n",
    "            x = self.enc_layers[i](x, training, mask)\n",
    "    \n",
    "        return x\n"
   ]
  },
  {
   "cell_type": "markdown",
   "metadata": {
    "id": "4N5LrNrvRexg"
   },
   "source": [
    "## Decoder consisting of multiple DecoderLayer(s)"
   ]
  },
  {
   "cell_type": "code",
   "execution_count": 279,
   "metadata": {
    "executionInfo": {
     "elapsed": 191,
     "status": "ok",
     "timestamp": 1666338126093,
     "user": {
      "displayName": "Gary Ng",
      "userId": "02885211737705035727"
     },
     "user_tz": 420
    },
    "id": "UmeqkZrIRbSB"
   },
   "outputs": [],
   "source": [
    "class Decoder(tf.keras.layers.Layer):\n",
    "    def __init__(self, num_layers, d_model, num_heads, dff, maximum_position_encoding, embedding_layer, rate):\n",
    "        super(Decoder, self).__init__()\n",
    "\n",
    "        self.d_model = d_model\n",
    "        self.num_layers = num_layers\n",
    "\n",
    "        self.embedding = embedding_layer # tf.keras.layers.Embedding(target_vocab_size, d_model)\n",
    "        self.pos_encoding = positional_encoding(maximum_position_encoding, d_model)\n",
    "\n",
    "        self.dec_layers = [DecoderLayer(d_model, num_heads, dff, rate) for _ in range(num_layers)]\n",
    "        self.dropout = tf.keras.layers.Dropout(rate)\n",
    "    \n",
    "    def call(self, x, enc_output, training, look_ahead_mask, padding_mask):\n",
    "        seq_len = tf.shape(x)[1]\n",
    "        attention_weights = {}\n",
    "\n",
    "        x = self.embedding(x)\n",
    "        x *= tf.math.sqrt(tf.cast(self.d_model, tf.float32))\n",
    "        x += self.pos_encoding[:, :seq_len, :]\n",
    "\n",
    "        x = self.dropout(x, training=training)\n",
    "\n",
    "        for i in range(self.num_layers):\n",
    "            x, block1, block2 = self.dec_layers[i](x, enc_output, training, look_ahead_mask, padding_mask)\n",
    "\n",
    "            attention_weights['decoder_layer{}_block1'.format(i+1)] = block1\n",
    "            attention_weights['decoder_layer{}_block2'.format(i+1)] = block2\n",
    "    \n",
    "        return x, attention_weights\n"
   ]
  },
  {
   "cell_type": "markdown",
   "metadata": {
    "id": "lbMNK_bzSHnh"
   },
   "source": [
    "## Finally, the Transformer"
   ]
  },
  {
   "cell_type": "code",
   "execution_count": 280,
   "metadata": {
    "executionInfo": {
     "elapsed": 252,
     "status": "ok",
     "timestamp": 1666338128289,
     "user": {
      "displayName": "Gary Ng",
      "userId": "02885211737705035727"
     },
     "user_tz": 420
    },
    "id": "FXHRG-o4R9Mc"
   },
   "outputs": [],
   "source": [
    "class Transformer(tf.keras.Model):\n",
    "    def __init__(self, num_layers, d_model, num_heads, dff, pe_input, pe_target, embedding_layer, rate):\n",
    "        super(Transformer, self).__init__()\n",
    "\n",
    "        self.encoder = Encoder(num_layers, d_model, num_heads, dff, pe_input, embedding_layer, rate)\n",
    "\n",
    "        self.decoder = Decoder(num_layers, d_model, num_heads, dff, pe_target, embedding_layer, rate)\n",
    "\n",
    "        self.final_layer = tf.keras.models.Sequential()\n",
    "        self.final_layer.add( tf.keras.layers.Dense(np.prod(GRID_SHAPE)) )\n",
    "        self.final_layer.add( tf.keras.layers.Reshape((-1, GRID_SHAPE[0], GRID_SHAPE[1], GRID_SHAPE[2])) ) # <- what's the right param?\n",
    "        \n",
    "    def call(self, inp, tar, training, enc_padding_mask, look_ahead_mask, dec_padding_mask):\n",
    "        enc_output = self.encoder(inp, training, enc_padding_mask)\n",
    "\n",
    "        dec_output, attention_weights = self.decoder(tar, enc_output, training, look_ahead_mask, dec_padding_mask)\n",
    "\n",
    "        final_output = self.final_layer(dec_output)\n",
    "\n",
    "        return final_output, attention_weights\n"
   ]
  },
  {
   "cell_type": "markdown",
   "metadata": {
    "id": "UndsMPZXTdSr"
   },
   "source": [
    "# Training"
   ]
  },
  {
   "cell_type": "markdown",
   "metadata": {
    "id": "XbTN198mBi4n"
   },
   "source": [
    "## Hyperparameters"
   ]
  },
  {
   "cell_type": "code",
   "execution_count": 281,
   "metadata": {
    "executionInfo": {
     "elapsed": 124,
     "status": "ok",
     "timestamp": 1666338161168,
     "user": {
      "displayName": "Gary Ng",
      "userId": "02885211737705035727"
     },
     "user_tz": 420
    },
    "id": "lMTZJdIoSbuy"
   },
   "outputs": [],
   "source": [
    "# hyper-params\n",
    "num_layers = 1\n",
    "d_model = 2048 # 128\n",
    "dff = 8192\n",
    "num_heads = 4 # 8 \n",
    "EPOCHS = 240\n",
    "dropout = 0.1\n",
    "lr = 1e-03\n",
    "lr_patience = 8\n",
    "lr_factor = 0.8\n"
   ]
  },
  {
   "cell_type": "markdown",
   "metadata": {
    "id": "_MUwhf9_Bi4n"
   },
   "source": [
    "## Custom ReduceLROnPlateau"
   ]
  },
  {
   "cell_type": "code",
   "execution_count": 282,
   "metadata": {
    "executionInfo": {
     "elapsed": 612,
     "status": "ok",
     "timestamp": 1666338168765,
     "user": {
      "displayName": "Gary Ng",
      "userId": "02885211737705035727"
     },
     "user_tz": 420
    },
    "id": "tfiynCLlTL8C",
    "tags": []
   },
   "outputs": [],
   "source": [
    "# Original Callback found in tf.keras.callbacks.Callbac\n",
    "# Copyright The TensorFlow Authors and Keras Authors.\n",
    "#\n",
    "# Modification by Alexander Pelkmann \n",
    "#   Article: https://medium.com/smart-iot/custom-training-with-custom-callbacks-3bcd117a8f7e\n",
    "#   Code: https://github.com/Pelk89/TF_Custom_Training_Callbacks\n",
    "#\n",
    "class CustomReduceLRoP():\n",
    "    \n",
    "    \"\"\"Reduce learning rate when a metric has stopped improving.\n",
    "    Models often benefit from reducing the learning rate by a factor\n",
    "    of 2-10 once learning stagnates. This callback monitors a\n",
    "    quantity and if no improvement is seen for a 'patience' number\n",
    "    of epochs, the learning rate is reduced.\n",
    "\n",
    "    Arguments:\n",
    "      monitor: quantity to be monitored.\n",
    "      factor: factor by which the learning rate will be reduced. new_lr = lr *\n",
    "        factor\n",
    "      patience: number of epochs with no improvement after which learning rate\n",
    "        will be reduced.\n",
    "      verbose: int. 0: quiet, 1: update messages.\n",
    "      mode: one of {auto, min, max}. In `min` mode, lr will be reduced when the\n",
    "        quantity monitored has stopped decreasing; in `max` mode it will be\n",
    "        reduced when the quantity monitored has stopped increasing; in `auto`\n",
    "        mode, the direction is automatically inferred from the name of the\n",
    "        monitored quantity.\n",
    "      min_delta: threshold for measuring the new optimum, to only focus on\n",
    "        significant changes.\n",
    "      cooldown: number of epochs to wait before resuming normal operation after\n",
    "        lr has been reduced.\n",
    "      min_lr: lower bound on the learning rate.\n",
    "    \"\"\"\n",
    "\n",
    "    def __init__(self,\n",
    "                  ## Custom modification:  Deprecated due to focusing on validation loss\n",
    "                  # monitor='val_loss',\n",
    "                  factor=0.1,\n",
    "                  patience=10,\n",
    "                  verbose=0,\n",
    "                  mode='auto',\n",
    "                  min_delta=1e-4,\n",
    "                  cooldown=0,\n",
    "                  min_lr=0,\n",
    "                  sign_number = 4,\n",
    "                  ## Custom modification: Passing optimizer as arguement\n",
    "                  optim_lr = None,\n",
    "                  ## Custom modification:  linearly reduction learning\n",
    "                  reduce_lin = False,\n",
    "                  **kwargs):\n",
    "\n",
    "        ## Custom modification:  Deprecated\n",
    "        # super(ReduceLROnPlateau, self).__init__()\n",
    "\n",
    "        ## Custom modification:  Deprecated\n",
    "        # self.monitor = monitor\n",
    "\n",
    "        ## Custom modification: Optimizer Error Handling\n",
    "        if tf.is_tensor(optim_lr) == False:\n",
    "            raise ValueError('Need optimizer !')\n",
    "        if factor >= 1.0:\n",
    "            raise ValueError('ReduceLROnPlateau ' 'does not support a factor >= 1.0.')\n",
    "        ## Custom modification: Passing optimizer as arguement\n",
    "        self.optim_lr = optim_lr  \n",
    "\n",
    "        self.factor = factor\n",
    "        self.min_lr = min_lr\n",
    "        self.min_delta = min_delta\n",
    "        self.patience = patience\n",
    "        self.verbose = verbose\n",
    "        self.cooldown = cooldown\n",
    "        self.cooldown_counter = 0  # Cooldown counter.\n",
    "        self.wait = 0\n",
    "        self.best = 0\n",
    "        self.mode = mode\n",
    "        self.monitor_op = None\n",
    "        self.sign_number = sign_number\n",
    "\n",
    "        ## Custom modification: linearly reducing learning\n",
    "        self.reduce_lin = reduce_lin\n",
    "        self.reduce_lr = True\n",
    "\n",
    "        self._reset()\n",
    "    \n",
    "    def _reset(self):\n",
    "        \"\"\"Resets wait counter and cooldown counter.\n",
    "        \"\"\"\n",
    "        if self.mode not in ['auto', 'min', 'max']:\n",
    "            print('Learning Rate Plateau Reducing mode %s is unknown, '\n",
    "                            'fallback to auto mode.', self.mode)\n",
    "            self.mode = 'auto'\n",
    "        if (self.mode == 'min' or\n",
    "                ## Custom modification: Deprecated due to focusing on validation loss\n",
    "                # (self.mode == 'auto' and 'acc' not in self.monitor)):\n",
    "                (self.mode == 'auto')):\n",
    "            self.monitor_op = lambda a, b: np.less(a, b - self.min_delta)\n",
    "            self.best = np.Inf\n",
    "        else:\n",
    "            self.monitor_op = lambda a, b: np.greater(a, b + self.min_delta)\n",
    "            self.best = -np.Inf\n",
    "        self.cooldown_counter = 0\n",
    "        self.wait = 0\n",
    "\n",
    "    def on_train_begin(self, logs=None):\n",
    "        self._reset()        \n",
    "        \n",
    "    def on_epoch_end(self, epoch, loss, logs=None):\n",
    "\n",
    "        logs = logs or {}\n",
    "        ## Custom modification: Optimizer\n",
    "        # logs['lr'] = K.get_value(self.model.optimizer.lr) returns a numpy array\n",
    "        # and therefore can be modified to          \n",
    "        logs['lr'] = float(self.optim_lr.numpy())\n",
    "\n",
    "        ## Custom modification: Deprecated due to focusing on validation loss\n",
    "        # current = logs.get(self.monitor)\n",
    "\n",
    "        current = float(loss)\n",
    "\n",
    "        ## Custom modification: Deprecated due to focusing on validation loss\n",
    "        # if current is None:\n",
    "        #     print('Reduce LR on plateau conditioned on metric `%s` '\n",
    "        #                     'which is not available. Available metrics are: %s',\n",
    "        #                     self.monitor, ','.join(list(logs.keys())))\n",
    "\n",
    "        # else:\n",
    "\n",
    "        if self.in_cooldown():\n",
    "            self.cooldown_counter -= 1\n",
    "            self.wait = 0\n",
    "\n",
    "        if self.monitor_op(current, self.best):\n",
    "            self.best = current\n",
    "            self.wait = 0\n",
    "        elif not self.in_cooldown():\n",
    "            self.wait += 1\n",
    "            if self.wait >= self.patience:\n",
    "\n",
    "                ## Custom modification: Optimizer Learning Rate\n",
    "                # old_lr = float(K.get_value(self.model.optimizer.lr))\n",
    "                old_lr = float(self.optim_lr.numpy())\n",
    "                if old_lr > self.min_lr and self.reduce_lr == True:\n",
    "                    ## Custom modification: Linear learning Rate\n",
    "                    if self.reduce_lin == True:\n",
    "                        new_lr = old_lr - self.factor\n",
    "                        ## Custom modification: Error Handling when learning rate is below zero\n",
    "                        if new_lr <= 0:\n",
    "                            print('Learning Rate is below zero: {}, '\n",
    "                            'fallback to minimal learning rate: {}. '\n",
    "                            'Stop reducing learning rate during training.'.format(new_lr, self.min_lr))  \n",
    "                            self.reduce_lr = False                           \n",
    "                    else:\n",
    "                        new_lr = old_lr * self.factor                   \n",
    "\n",
    "                    new_lr = max(new_lr, self.min_lr)\n",
    "\n",
    "                    ## Custom modification: Optimizer Learning Rate\n",
    "                    # K.set_value(self.model.optimizer.lr, new_lr)\n",
    "                    self.optim_lr.assign(new_lr)\n",
    "\n",
    "                    if self.verbose > 0:\n",
    "                        print('\\nEpoch %05d: ReduceLROnPlateau reducing learning '\n",
    "                                'rate to %s.\\n' % (epoch + 1, float(new_lr)))\n",
    "                    self.cooldown_counter = self.cooldown\n",
    "                    self.wait = 0\n",
    "                    \n",
    "    def in_cooldown(self):\n",
    "        return self.cooldown_counter > 0"
   ]
  },
  {
   "cell_type": "markdown",
   "metadata": {
    "id": "uOGvkYDNTjIj"
   },
   "source": [
    "## Adam Optimizer"
   ]
  },
  {
   "cell_type": "code",
   "execution_count": 283,
   "metadata": {
    "executionInfo": {
     "elapsed": 133,
     "status": "ok",
     "timestamp": 1666338177309,
     "user": {
      "displayName": "Gary Ng",
      "userId": "02885211737705035727"
     },
     "user_tz": 420
    },
    "id": "Ip1-943kTXXK"
   },
   "outputs": [],
   "source": [
    "# Defauls, for reference:\n",
    "#    learning_rate=0.001,\n",
    "#    beta_1=0.9,\n",
    "#    beta_2=0.999,\n",
    "#    epsilon=1e-07,\n",
    "optimizer = tf.keras.optimizers.Adam(learning_rate=lr) # tf.keras.optimizers.Adam(learning_rate, beta_1=0.9, beta_2=0.98, epsilon=1e-9) \n",
    "\n",
    "reduce_rl_plateau = CustomReduceLRoP(patience=lr_patience, factor=lr_factor, verbose=1, optim_lr=optimizer.learning_rate)\n"
   ]
  },
  {
   "cell_type": "markdown",
   "metadata": {
    "id": "DsVdrENTUERY"
   },
   "source": [
    "## Defining losses and other metrics "
   ]
  },
  {
   "cell_type": "code",
   "execution_count": 284,
   "metadata": {
    "executionInfo": {
     "elapsed": 143,
     "status": "ok",
     "timestamp": 1666338183243,
     "user": {
      "displayName": "Gary Ng",
      "userId": "02885211737705035727"
     },
     "user_tz": 420
    },
    "id": "ktKwyvKtTvF6"
   },
   "outputs": [],
   "source": [
    "loss_object = tf.keras.losses.MeanSquaredError() # tf.keras.losses.SparseCategoricalCrossentropy(from_logits=True, reduction='none')"
   ]
  },
  {
   "cell_type": "code",
   "execution_count": 285,
   "metadata": {
    "executionInfo": {
     "elapsed": 3,
     "status": "ok",
     "timestamp": 1666338183708,
     "user": {
      "displayName": "Gary Ng",
      "userId": "02885211737705035727"
     },
     "user_tz": 420
    },
    "id": "uW4LA_45T4Aa",
    "tags": []
   },
   "outputs": [],
   "source": [
    "def loss_function(real, pred):\n",
    "    # mask = tf.math.logical_not(tf.math.equal(real, 0)) # 0->True->False, >0->False->True\n",
    "    loss_ = loss_object(real, pred)\n",
    "\n",
    "    # mask = tf.cast(mask, dtype=loss_.dtype) # masked 0, 1 for non-zeros\n",
    "    # loss_ *= mask # only care about where real was non-zero.\n",
    "\n",
    "    # return tf.reduce_sum(loss_)/tf.reduce_sum(mask)\n",
    "    return loss_"
   ]
  },
  {
   "cell_type": "code",
   "execution_count": 286,
   "metadata": {
    "executionInfo": {
     "elapsed": 138,
     "status": "ok",
     "timestamp": 1666338185282,
     "user": {
      "displayName": "Gary Ng",
      "userId": "02885211737705035727"
     },
     "user_tz": 420
    },
    "id": "Ze0u6xxXT7dI"
   },
   "outputs": [],
   "source": [
    "train_loss = tf.keras.metrics.Mean(name='train_loss')\n",
    "val_loss   = tf.keras.metrics.Mean(name='val_loss')"
   ]
  },
  {
   "cell_type": "markdown",
   "metadata": {
    "id": "9XvKy3v6ULnO"
   },
   "source": [
    "## Transformer"
   ]
  },
  {
   "cell_type": "code",
   "execution_count": 287,
   "metadata": {
    "executionInfo": {
     "elapsed": 161,
     "status": "ok",
     "timestamp": 1666338186198,
     "user": {
      "displayName": "Gary Ng",
      "userId": "02885211737705035727"
     },
     "user_tz": 420
    },
    "id": "d5-RcxqFUCuk"
   },
   "outputs": [],
   "source": [
    "transformer = Transformer(\n",
    "    num_layers, \n",
    "    d_model, \n",
    "    num_heads, \n",
    "    dff,\n",
    "    encoder_maxlen, \n",
    "    decoder_maxlen,\n",
    "    EmbeddingLayer( GRID_SHAPE, d_model),\n",
    "    dropout\n",
    ")"
   ]
  },
  {
   "cell_type": "markdown",
   "metadata": {
    "id": "f56BGiVXU_Dk"
   },
   "source": [
    "## Masks"
   ]
  },
  {
   "cell_type": "code",
   "execution_count": 288,
   "metadata": {
    "executionInfo": {
     "elapsed": 185,
     "status": "ok",
     "timestamp": 1666338187378,
     "user": {
      "displayName": "Gary Ng",
      "userId": "02885211737705035727"
     },
     "user_tz": 420
    },
    "id": "FZxHuyZxU5Pa"
   },
   "outputs": [],
   "source": [
    "def create_masks(inp, tar):\n",
    "    \n",
    "    # By the time we got here, inp and tar are already 0 padded.\n",
    "    # With text inputs, we just need to create the masks from that accordingly.\n",
    "    # But for this use case, given our inputs are 3D grids, for this function we need \n",
    "    # a representation of inp (encoder input) and tar (decoder inputs) without the grids.\n",
    "    # i.e. we need them to be in the form (batch_size, sequence_len)\n",
    "    \n",
    "    # print(\"create mask\",inp.shape, tar.shape)\n",
    "    enc_padding_mask = create_padding_mask(inp)\n",
    "    dec_padding_mask = create_padding_mask(inp)\n",
    "\n",
    "    look_ahead_mask = create_look_ahead_mask(tf.shape(tar)[1])\n",
    "    dec_target_padding_mask = create_padding_mask(tar)\n",
    "    combined_mask = tf.maximum(dec_target_padding_mask, look_ahead_mask)\n",
    "  \n",
    "    return enc_padding_mask, combined_mask, dec_padding_mask\n"
   ]
  },
  {
   "cell_type": "markdown",
   "metadata": {
    "id": "SYIotvaBVI0d"
   },
   "source": [
    "## Checkpoints"
   ]
  },
  {
   "cell_type": "code",
   "execution_count": 289,
   "metadata": {
    "executionInfo": {
     "elapsed": 127,
     "status": "ok",
     "timestamp": 1666338189369,
     "user": {
      "displayName": "Gary Ng",
      "userId": "02885211737705035727"
     },
     "user_tz": 420
    },
    "id": "tOc1_3c-VGaL"
   },
   "outputs": [
    {
     "name": "stdout",
     "output_type": "stream",
     "text": [
      "Latest checkpoint restored!!\n"
     ]
    }
   ],
   "source": [
    "checkpoint_path = \"checkpoints\"\n",
    "\n",
    "ckpt = tf.train.Checkpoint(transformer=transformer, optimizer=optimizer)\n",
    "\n",
    "ckpt_manager = tf.train.CheckpointManager(ckpt, checkpoint_path, max_to_keep=2)\n",
    "\n",
    "if ckpt_manager.latest_checkpoint:\n",
    "    ckpt.restore(ckpt_manager.latest_checkpoint)\n",
    "    print ('Latest checkpoint restored!!')"
   ]
  },
  {
   "cell_type": "markdown",
   "metadata": {
    "id": "WfpI0gS4c06c"
   },
   "source": [
    "## Training steps"
   ]
  },
  {
   "cell_type": "code",
   "execution_count": 290,
   "metadata": {
    "executionInfo": {
     "elapsed": 160,
     "status": "ok",
     "timestamp": 1666338191453,
     "user": {
      "displayName": "Gary Ng",
      "userId": "02885211737705035727"
     },
     "user_tz": 420
    },
    "id": "xmVOMzkrczgl"
   },
   "outputs": [],
   "source": [
    "@tf.function\n",
    "def train_step(inp, tar, inp_pad, tar_pad):\n",
    "    tar_inp = tar[:, :-1] # without stop\n",
    "    tar_real = tar[:, 1:] # without go or the first element.\n",
    "\n",
    "    enc_padding_mask, combined_mask, dec_padding_mask = create_masks(inp_pad, tar_pad[:, :-1])\n",
    "\n",
    "    with tf.GradientTape() as tape:\n",
    "        predictions, _ = transformer(\n",
    "            inp, tar_inp, \n",
    "            True, \n",
    "            enc_padding_mask, \n",
    "            combined_mask, \n",
    "            dec_padding_mask\n",
    "        )\n",
    "        loss = loss_function(tar_real, predictions)\n",
    "\n",
    "    gradients = tape.gradient(loss, transformer.trainable_variables)    \n",
    "    optimizer.apply_gradients(zip(gradients, transformer.trainable_variables))\n",
    "\n",
    "    train_loss(loss)"
   ]
  },
  {
   "cell_type": "markdown",
   "metadata": {
    "id": "iRmIw0-tBi4p"
   },
   "source": [
    "## Test steps"
   ]
  },
  {
   "cell_type": "code",
   "execution_count": 291,
   "metadata": {
    "executionInfo": {
     "elapsed": 129,
     "status": "ok",
     "timestamp": 1666338193382,
     "user": {
      "displayName": "Gary Ng",
      "userId": "02885211737705035727"
     },
     "user_tz": 420
    },
    "id": "F5D5cv2Jd8-6",
    "tags": []
   },
   "outputs": [],
   "source": [
    "# Predicting one token at a time at the decoder and appending it to the output; \n",
    "# then taking the complete sequence as an input to the decoder,\n",
    "# repeating until maxlen or stop keyword appears\n",
    "def predict(inp, tar_head, inp_pad, tar_pad):\n",
    "\n",
    "    encoder_input = inp\n",
    "    output        = tar_head\n",
    "    output_pad    = tar_pad\n",
    "    stop_detected = False\n",
    "    \n",
    "    # maxlen = decoder_maxlen # tar_len if tar_len else decoder_maxlen\n",
    "    for i in range(decoder_maxlen-1):\n",
    "        enc_padding_mask, combined_mask, dec_padding_mask = create_masks(inp_pad, output_pad)\n",
    "\n",
    "        predictions, attention_weights = transformer(\n",
    "            encoder_input, \n",
    "            output,\n",
    "            False,\n",
    "            enc_padding_mask,\n",
    "            combined_mask,\n",
    "            dec_padding_mask\n",
    "        )        \n",
    "        latest = np.array(predictions[-1,-1])\n",
    "        if not stop_detected:\n",
    "            stop_detected = np.all(np.equal(gsb_to_grid(latest), end_task_grid)) \n",
    "        latest_append = np.array(np.expand_dims(latest, axis=(0,1)))\n",
    "        output     = np.concatenate([output, latest_append], axis=1)\n",
    "        output_pad = np.concatenate([output_pad, np.ones((1,1))], axis=1)\n",
    "    \n",
    "    return tf.squeeze(output, axis=0), stop_detected # attention_weights\n"
   ]
  },
  {
   "cell_type": "code",
   "execution_count": 292,
   "metadata": {
    "executionInfo": {
     "elapsed": 122,
     "status": "ok",
     "timestamp": 1666338196113,
     "user": {
      "displayName": "Gary Ng",
      "userId": "02885211737705035727"
     },
     "user_tz": 420
    },
    "id": "Eus77oXNBi4q"
   },
   "outputs": [],
   "source": [
    "def solve_one(inp, tar, inp_pad, tar_pad):\n",
    "    inp_ = np.expand_dims(inp, axis=0)\n",
    "    tar_ = np.expand_dims(tar[0], axis=(0,1))\n",
    "    inp_pad_ = np.expand_dims(inp_pad, axis=0)\n",
    "    tar_pad_ = np.expand_dims(tar_pad[0], axis=(0,1))\n",
    "    pred, stop_detected = predict( inp_, tar_, inp_pad_, tar_pad_)\n",
    "    loss = loss_function(tar, pred)\n",
    "    return pred, loss, stop_detected"
   ]
  },
  {
   "cell_type": "code",
   "execution_count": 293,
   "metadata": {
    "executionInfo": {
     "elapsed": 224,
     "status": "ok",
     "timestamp": 1666338197250,
     "user": {
      "displayName": "Gary Ng",
      "userId": "02885211737705035727"
     },
     "user_tz": 420
    },
    "id": "ni4UfkA3Bi4q"
   },
   "outputs": [],
   "source": [
    "def test_step(validatn_set, batch_size):\n",
    "    (inp, tar, inp_pad, tar_pad) = validatn_set\n",
    "    for idx in range(batch_size):\n",
    "        _, loss, _ = solve_one(inp[idx], tar[idx], inp_pad[idx], tar_pad[idx])\n",
    "        val_loss(loss)"
   ]
  },
  {
   "cell_type": "code",
   "execution_count": 294,
   "metadata": {
    "executionInfo": {
     "elapsed": 3,
     "status": "ok",
     "timestamp": 1666338197803,
     "user": {
      "displayName": "Gary Ng",
      "userId": "02885211737705035727"
     },
     "user_tz": 420
    },
    "id": "UtOgohftY6EM"
   },
   "outputs": [],
   "source": [
    "def is_exact_match(target, prediction):\n",
    "    tar_grid = np.array(list(map(gsb_to_grid, target)))\n",
    "    pred_grid= np.array(list(map(gsb_to_grid, prediction.numpy())))\n",
    "    return np.all(np.equal(tar_grid,pred_grid)) "
   ]
  },
  {
   "cell_type": "code",
   "execution_count": 295,
   "metadata": {
    "executionInfo": {
     "elapsed": 145,
     "status": "ok",
     "timestamp": 1666338199405,
     "user": {
      "displayName": "Gary Ng",
      "userId": "02885211737705035727"
     },
     "user_tz": 420
    },
    "id": "P6QgaENMBi4y"
   },
   "outputs": [],
   "source": [
    "history = []\n",
    "reduce_rl_plateau.on_train_begin()"
   ]
  },
  {
   "cell_type": "markdown",
   "metadata": {
    "id": "lMNdbFtqBi4y"
   },
   "source": [
    "## Training Loop"
   ]
  },
  {
   "cell_type": "code",
   "execution_count": 296,
   "metadata": {
    "colab": {
     "base_uri": "https://localhost:8080/"
    },
    "executionInfo": {
     "elapsed": 1486985,
     "status": "ok",
     "timestamp": 1666339688150,
     "user": {
      "displayName": "Gary Ng",
      "userId": "02885211737705035727"
     },
     "user_tz": 420
    },
    "id": "xORKpv69dSW5",
    "outputId": "55354e5b-a362-405a-ecf1-97272a25037e"
   },
   "outputs": [
    {
     "name": "stdout",
     "output_type": "stream",
     "text": [
      "Epoch 1 Batch 0 Loss 0.8580\n",
      "Epoch 1 Batch 20 Loss 0.3359\n",
      "Epoch 1 Batch 40 Loss 0.2341\n",
      "Epoch 1 Batch 60 Loss 0.1950\n",
      "Epoch: 1 - 10.47 secs - loss: 0.1746\n",
      "Epoch 2 Batch 0 Loss 0.1085\n",
      "Epoch 2 Batch 20 Loss 0.1039\n",
      "Epoch 2 Batch 40 Loss 0.1005\n",
      "Epoch 2 Batch 60 Loss 0.0963\n",
      "Epoch: 2 - 4.82 secs - loss: 0.0912\n",
      "Epoch 3 Batch 0 Loss 0.0620\n",
      "Epoch 3 Batch 20 Loss 0.0531\n",
      "Epoch 3 Batch 40 Loss 0.0482\n",
      "Epoch 3 Batch 60 Loss 0.0459\n",
      "Epoch: 3 - 4.89 secs - loss: 0.0446\n",
      "Epoch 4 Batch 0 Loss 0.0430\n",
      "Epoch 4 Batch 20 Loss 0.0409\n",
      "Epoch 4 Batch 40 Loss 0.0411\n",
      "Epoch 4 Batch 60 Loss 0.0408\n",
      "Epoch: 4 - 4.86 secs - loss: 0.0410\n",
      "Epoch 5 Batch 0 Loss 0.0444\n",
      "Epoch 5 Batch 20 Loss 0.0401\n",
      "Epoch 5 Batch 40 Loss 0.0430\n",
      "Epoch 5 Batch 60 Loss 0.0428\n",
      "Saving checkpoint for epoch 5 at checkpoints/ckpt-1\n",
      "Epoch: 5 - 12.01 secs - loss: 0.0422\n",
      "Epoch 6 Batch 0 Loss 0.0427\n",
      "Epoch 6 Batch 20 Loss 0.0403\n",
      "Epoch 6 Batch 40 Loss 0.0403\n",
      "Epoch 6 Batch 60 Loss 0.0403\n",
      "Epoch: 6 - 4.64 secs - loss: 0.0400\n",
      "Epoch 7 Batch 0 Loss 0.0380\n",
      "Epoch 7 Batch 20 Loss 0.0431\n",
      "Epoch 7 Batch 40 Loss 0.0426\n",
      "Epoch 7 Batch 60 Loss 0.0418\n",
      "Epoch: 7 - 4.60 secs - loss: 0.0414\n",
      "Epoch 8 Batch 0 Loss 0.0414\n",
      "Epoch 8 Batch 20 Loss 0.0390\n",
      "Epoch 8 Batch 40 Loss 0.0401\n",
      "Epoch 8 Batch 60 Loss 0.0404\n",
      "Epoch: 8 - 4.60 secs - loss: 0.0398\n",
      "Epoch 9 Batch 0 Loss 0.0341\n",
      "Epoch 9 Batch 20 Loss 0.0454\n",
      "Epoch 9 Batch 40 Loss 0.0435\n",
      "Epoch 9 Batch 60 Loss 0.0426\n",
      "Epoch: 9 - 4.60 secs - loss: 0.0421\n",
      "Epoch 10 Batch 0 Loss 0.0381\n",
      "Epoch 10 Batch 20 Loss 0.0399\n",
      "Epoch 10 Batch 40 Loss 0.0396\n",
      "Epoch 10 Batch 60 Loss 0.0409\n",
      "Saving checkpoint for epoch 10 at checkpoints/ckpt-2\n",
      "Epoch: 10 - 11.60 secs - loss: 0.0413\n",
      "Epoch 11 Batch 0 Loss 0.0396\n",
      "Epoch 11 Batch 20 Loss 0.0402\n",
      "Epoch 11 Batch 40 Loss 0.0402\n",
      "Epoch 11 Batch 60 Loss 0.0400\n",
      "Epoch: 11 - 4.57 secs - loss: 0.0395\n",
      "Epoch 12 Batch 0 Loss 0.0340\n",
      "Epoch 12 Batch 20 Loss 0.0326\n",
      "Epoch 12 Batch 40 Loss 0.0307\n",
      "Epoch 12 Batch 60 Loss 0.0287\n",
      "Epoch: 12 - 4.56 secs - loss: 0.0274\n",
      "Epoch 13 Batch 0 Loss 0.0272\n",
      "Epoch 13 Batch 20 Loss 0.0274\n",
      "Epoch 13 Batch 40 Loss 0.0239\n",
      "Epoch 13 Batch 60 Loss 0.0220\n",
      "Epoch: 13 - 4.60 secs - loss: 0.0212\n",
      "Epoch 14 Batch 0 Loss 0.0158\n",
      "Epoch 14 Batch 20 Loss 0.0162\n",
      "Epoch 14 Batch 40 Loss 0.0162\n",
      "Epoch 14 Batch 60 Loss 0.0169\n",
      "Epoch: 14 - 4.65 secs - loss: 0.0169\n",
      "Epoch 15 Batch 0 Loss 0.0160\n",
      "Epoch 15 Batch 20 Loss 0.0159\n",
      "Epoch 15 Batch 40 Loss 0.0156\n",
      "Epoch 15 Batch 60 Loss 0.0153\n",
      "Saving checkpoint for epoch 15 at checkpoints/ckpt-3\n",
      "Epoch: 15 - 11.65 secs - loss: 0.0151\n",
      "Epoch 16 Batch 0 Loss 0.0184\n",
      "Epoch 16 Batch 20 Loss 0.0138\n",
      "Epoch 16 Batch 40 Loss 0.0139\n",
      "Epoch 16 Batch 60 Loss 0.0136\n",
      "Epoch: 16 - 4.70 secs - loss: 0.0136\n",
      "Epoch 17 Batch 0 Loss 0.0130\n",
      "Epoch 17 Batch 20 Loss 0.0129\n",
      "Epoch 17 Batch 40 Loss 0.0127\n",
      "Epoch 17 Batch 60 Loss 0.0129\n",
      "Epoch: 17 - 4.66 secs - loss: 0.0130\n",
      "Epoch 18 Batch 0 Loss 0.0122\n",
      "Epoch 18 Batch 20 Loss 0.0129\n",
      "Epoch 18 Batch 40 Loss 0.0128\n",
      "Epoch 18 Batch 60 Loss 0.0132\n",
      "Epoch: 18 - 4.68 secs - loss: 0.0134\n",
      "Epoch 19 Batch 0 Loss 0.0111\n",
      "Epoch 19 Batch 20 Loss 0.0128\n",
      "Epoch 19 Batch 40 Loss 0.0132\n",
      "Epoch 19 Batch 60 Loss 0.0132\n",
      "Epoch: 19 - 4.71 secs - loss: 0.0130\n",
      "Epoch 20 Batch 0 Loss 0.0103\n",
      "Epoch 20 Batch 20 Loss 0.0118\n",
      "Epoch 20 Batch 40 Loss 0.0119\n",
      "Epoch 20 Batch 60 Loss 0.0121\n",
      "Saving checkpoint for epoch 20 at checkpoints/ckpt-4\n",
      "Epoch: 20 - 11.72 secs - loss: 0.0125\n",
      "Epoch 21 Batch 0 Loss 0.0134\n",
      "Epoch 21 Batch 20 Loss 0.0130\n",
      "Epoch 21 Batch 40 Loss 0.0126\n",
      "Epoch 21 Batch 60 Loss 0.0122\n",
      "Epoch: 21 - 4.63 secs - loss: 0.0122\n",
      "Epoch 22 Batch 0 Loss 0.0108\n",
      "Epoch 22 Batch 20 Loss 0.0123\n",
      "Epoch 22 Batch 40 Loss 0.0122\n",
      "Epoch 22 Batch 60 Loss 0.0125\n",
      "Epoch: 22 - 4.59 secs - loss: 0.0126\n",
      "Epoch 23 Batch 0 Loss 0.0144\n",
      "Epoch 23 Batch 20 Loss 0.0128\n",
      "Epoch 23 Batch 40 Loss 0.0124\n",
      "Epoch 23 Batch 60 Loss 0.0123\n",
      "Epoch: 23 - 4.62 secs - loss: 0.0123\n",
      "Epoch 24 Batch 0 Loss 0.0132\n",
      "Epoch 24 Batch 20 Loss 0.0128\n",
      "Epoch 24 Batch 40 Loss 0.0122\n",
      "Epoch 24 Batch 60 Loss 0.0119\n",
      "Epoch: 24 - 4.64 secs - loss: 0.0119\n",
      "Epoch 25 Batch 0 Loss 0.0137\n",
      "Epoch 25 Batch 20 Loss 0.0129\n",
      "Epoch 25 Batch 40 Loss 0.0143\n",
      "Epoch 25 Batch 60 Loss 0.0142\n",
      "Saving checkpoint for epoch 25 at checkpoints/ckpt-5\n",
      "Epoch: 25 - 11.67 secs - loss: 0.0137\n",
      "Epoch 26 Batch 0 Loss 0.0117\n",
      "Epoch 26 Batch 20 Loss 0.0118\n",
      "Epoch 26 Batch 40 Loss 0.0149\n",
      "Epoch 26 Batch 60 Loss 0.0151\n",
      "Epoch: 26 - 4.63 secs - loss: 0.0149\n",
      "Epoch 27 Batch 0 Loss 0.0114\n",
      "Epoch 27 Batch 20 Loss 0.0163\n",
      "Epoch 27 Batch 40 Loss 0.0148\n",
      "Epoch 27 Batch 60 Loss 0.0141\n",
      "Epoch: 27 - 4.60 secs - loss: 0.0141\n",
      "Epoch 28 Batch 0 Loss 0.0126\n",
      "Epoch 28 Batch 20 Loss 0.0124\n",
      "Epoch 28 Batch 40 Loss 0.0128\n",
      "Epoch 28 Batch 60 Loss 0.0129\n",
      "Epoch: 28 - 4.64 secs - loss: 0.0127\n",
      "Epoch 29 Batch 0 Loss 0.0136\n",
      "Epoch 29 Batch 20 Loss 0.0125\n",
      "Epoch 29 Batch 40 Loss 0.0121\n",
      "Epoch 29 Batch 60 Loss 0.0133\n",
      "Epoch: 29 - 4.69 secs - loss: 0.0131\n",
      "Epoch 30 Batch 0 Loss 0.0119\n",
      "Epoch 30 Batch 20 Loss 0.0130\n",
      "Epoch 30 Batch 40 Loss 0.0127\n",
      "Epoch 30 Batch 60 Loss 0.0125\n",
      "Saving checkpoint for epoch 30 at checkpoints/ckpt-6\n",
      "Epoch: 30 - 11.79 secs - loss: 0.0132\n",
      "Epoch 31 Batch 0 Loss 0.0143\n",
      "Epoch 31 Batch 20 Loss 0.0121\n",
      "Epoch 31 Batch 40 Loss 0.0121\n",
      "Epoch 31 Batch 60 Loss 0.0123\n",
      "Epoch: 31 - 4.67 secs - loss: 0.0123\n",
      "Epoch 32 Batch 0 Loss 0.0187\n",
      "Epoch 32 Batch 20 Loss 0.0132\n",
      "Epoch 32 Batch 40 Loss 0.0124\n",
      "Epoch 32 Batch 60 Loss 0.0125\n",
      "Epoch: 32 - 4.60 secs - loss: 0.0123\n",
      "\n",
      "Epoch 00032: ReduceLROnPlateau reducing learning rate to 0.000800000037997961.\n",
      "\n",
      "Epoch 33 Batch 0 Loss 0.0076\n",
      "Epoch 33 Batch 20 Loss 0.0114\n",
      "Epoch 33 Batch 40 Loss 0.0116\n",
      "Epoch 33 Batch 60 Loss 0.0114\n",
      "Epoch: 33 - 4.65 secs - loss: 0.0114\n",
      "Epoch 34 Batch 0 Loss 0.0126\n",
      "Epoch 34 Batch 20 Loss 0.0119\n",
      "Epoch 34 Batch 40 Loss 0.0122\n",
      "Epoch 34 Batch 60 Loss 0.0116\n",
      "Epoch: 34 - 4.68 secs - loss: 0.0113\n",
      "Epoch 35 Batch 0 Loss 0.0117\n",
      "Epoch 35 Batch 20 Loss 0.0100\n",
      "Epoch 35 Batch 40 Loss 0.0102\n",
      "Epoch 35 Batch 60 Loss 0.0102\n",
      "Saving checkpoint for epoch 35 at checkpoints/ckpt-7\n",
      "Epoch: 35 - 12.05 secs - loss: 0.0103\n",
      "Epoch 36 Batch 0 Loss 0.0085\n",
      "Epoch 36 Batch 20 Loss 0.0105\n",
      "Epoch 36 Batch 40 Loss 0.0106\n",
      "Epoch 36 Batch 60 Loss 0.0107\n",
      "Epoch: 36 - 4.64 secs - loss: 0.0107\n",
      "Epoch 37 Batch 0 Loss 0.0113\n",
      "Epoch 37 Batch 20 Loss 0.0108\n",
      "Epoch 37 Batch 40 Loss 0.0105\n",
      "Epoch 37 Batch 60 Loss 0.0102\n",
      "Epoch: 37 - 4.60 secs - loss: 0.0100\n",
      "Epoch 38 Batch 0 Loss 0.0105\n",
      "Epoch 38 Batch 20 Loss 0.0100\n",
      "Epoch 38 Batch 40 Loss 0.0102\n",
      "Epoch 38 Batch 60 Loss 0.0103\n",
      "Epoch: 38 - 4.64 secs - loss: 0.0102\n",
      "Epoch 39 Batch 0 Loss 0.0084\n",
      "Epoch 39 Batch 20 Loss 0.0106\n",
      "Epoch 39 Batch 40 Loss 0.0104\n",
      "Epoch 39 Batch 60 Loss 0.0101\n",
      "Epoch: 39 - 4.66 secs - loss: 0.0100\n",
      "Epoch 40 Batch 0 Loss 0.0082\n",
      "Epoch 40 Batch 20 Loss 0.0098\n",
      "Epoch 40 Batch 40 Loss 0.0100\n",
      "Epoch 40 Batch 60 Loss 0.0100\n",
      "Saving checkpoint for epoch 40 at checkpoints/ckpt-8\n",
      "Epoch: 40 - 11.76 secs - loss: 0.0099\n",
      "Epoch 41 Batch 0 Loss 0.0100\n",
      "Epoch 41 Batch 20 Loss 0.0104\n",
      "Epoch 41 Batch 40 Loss 0.0101\n",
      "Epoch 41 Batch 60 Loss 0.0098\n",
      "Epoch: 41 - 4.62 secs - loss: 0.0098\n",
      "Epoch 42 Batch 0 Loss 0.0093\n",
      "Epoch 42 Batch 20 Loss 0.0096\n",
      "Epoch 42 Batch 40 Loss 0.0103\n",
      "Epoch 42 Batch 60 Loss 0.0100\n",
      "Epoch: 42 - 4.60 secs - loss: 0.0100\n",
      "Epoch 43 Batch 0 Loss 0.0094\n",
      "Epoch 43 Batch 20 Loss 0.0096\n",
      "Epoch 43 Batch 40 Loss 0.0098\n",
      "Epoch 43 Batch 60 Loss 0.0099\n",
      "Epoch: 43 - 4.65 secs - loss: 0.0096\n",
      "Epoch 44 Batch 0 Loss 0.0109\n",
      "Epoch 44 Batch 20 Loss 0.0101\n",
      "Epoch 44 Batch 40 Loss 0.0096\n",
      "Epoch 44 Batch 60 Loss 0.0095\n",
      "Epoch: 44 - 4.70 secs - loss: 0.0096\n",
      "Epoch 45 Batch 0 Loss 0.0103\n",
      "Epoch 45 Batch 20 Loss 0.0096\n",
      "Epoch 45 Batch 40 Loss 0.0095\n",
      "Epoch 45 Batch 60 Loss 0.0095\n",
      "Saving checkpoint for epoch 45 at checkpoints/ckpt-9\n",
      "Epoch: 45 - 11.72 secs - loss: 0.0095\n",
      "Epoch 46 Batch 0 Loss 0.0072\n",
      "Epoch 46 Batch 20 Loss 0.0091\n",
      "Epoch 46 Batch 40 Loss 0.0092\n",
      "Epoch 46 Batch 60 Loss 0.0091\n",
      "Epoch: 46 - 4.63 secs - loss: 0.0093\n",
      "Epoch 47 Batch 0 Loss 0.0142\n",
      "Epoch 47 Batch 20 Loss 0.0108\n",
      "Epoch 47 Batch 40 Loss 0.0102\n",
      "Epoch 47 Batch 60 Loss 0.0098\n",
      "Epoch: 47 - 4.62 secs - loss: 0.0096\n",
      "Epoch 48 Batch 0 Loss 0.0077\n",
      "Epoch 48 Batch 20 Loss 0.0090\n",
      "Epoch 48 Batch 40 Loss 0.0090\n",
      "Epoch 48 Batch 60 Loss 0.0089\n",
      "Epoch: 48 - 4.65 secs - loss: 0.0089\n",
      "Epoch 49 Batch 0 Loss 0.0071\n",
      "Epoch 49 Batch 20 Loss 0.0099\n",
      "Epoch 49 Batch 40 Loss 0.0097\n",
      "Epoch 49 Batch 60 Loss 0.0095\n",
      "Epoch: 49 - 4.66 secs - loss: 0.0095\n",
      "Epoch 50 Batch 0 Loss 0.0093\n",
      "Epoch 50 Batch 20 Loss 0.0095\n",
      "Epoch 50 Batch 40 Loss 0.0094\n",
      "Epoch 50 Batch 60 Loss 0.0095\n",
      "Saving checkpoint for epoch 50 at checkpoints/ckpt-10\n",
      "Epoch: 50 - 11.81 secs - loss: 0.0093\n",
      "Epoch 51 Batch 0 Loss 0.0043\n",
      "Epoch 51 Batch 20 Loss 0.0093\n",
      "Epoch 51 Batch 40 Loss 0.0094\n",
      "Epoch 51 Batch 60 Loss 0.0094\n",
      "Epoch: 51 - 4.61 secs - loss: 0.0095\n",
      "Epoch 52 Batch 0 Loss 0.0085\n",
      "Epoch 52 Batch 20 Loss 0.0092\n",
      "Epoch 52 Batch 40 Loss 0.0090\n",
      "Epoch 52 Batch 60 Loss 0.0092\n",
      "Epoch: 52 - 4.61 secs - loss: 0.0092\n",
      "Epoch 53 Batch 0 Loss 0.0080\n",
      "Epoch 53 Batch 20 Loss 0.0089\n",
      "Epoch 53 Batch 40 Loss 0.0092\n",
      "Epoch 53 Batch 60 Loss 0.0091\n",
      "Epoch: 53 - 4.65 secs - loss: 0.0090\n",
      "Epoch 54 Batch 0 Loss 0.0076\n",
      "Epoch 54 Batch 20 Loss 0.0090\n",
      "Epoch 54 Batch 40 Loss 0.0096\n",
      "Epoch 54 Batch 60 Loss 0.0095\n",
      "Epoch: 54 - 4.66 secs - loss: 0.0094\n",
      "Epoch 55 Batch 0 Loss 0.0105\n",
      "Epoch 55 Batch 20 Loss 0.0085\n",
      "Epoch 55 Batch 40 Loss 0.0095\n",
      "Epoch 55 Batch 60 Loss 0.0100\n",
      "Saving checkpoint for epoch 55 at checkpoints/ckpt-11\n",
      "Epoch: 55 - 11.57 secs - loss: 0.0107\n",
      "Epoch 56 Batch 0 Loss 0.0127\n",
      "Epoch 56 Batch 20 Loss 0.0140\n",
      "Epoch 56 Batch 40 Loss 0.0138\n",
      "Epoch 56 Batch 60 Loss 0.0136\n",
      "Epoch: 56 - 4.66 secs - loss: 0.0135\n",
      "\n",
      "Epoch 00056: ReduceLROnPlateau reducing learning rate to 0.0006400000303983689.\n",
      "\n",
      "Epoch 57 Batch 0 Loss 0.0118\n",
      "Epoch 57 Batch 20 Loss 0.0126\n",
      "Epoch 57 Batch 40 Loss 0.0130\n",
      "Epoch 57 Batch 60 Loss 0.0130\n",
      "Epoch: 57 - 4.61 secs - loss: 0.0125\n",
      "Epoch 58 Batch 0 Loss 0.0083\n",
      "Epoch 58 Batch 20 Loss 0.0109\n",
      "Epoch 58 Batch 40 Loss 0.0111\n",
      "Epoch 58 Batch 60 Loss 0.0109\n",
      "Epoch: 58 - 4.63 secs - loss: 0.0111\n",
      "Epoch 59 Batch 0 Loss 0.0081\n",
      "Epoch 59 Batch 20 Loss 0.0107\n",
      "Epoch 59 Batch 40 Loss 0.0108\n",
      "Epoch 59 Batch 60 Loss 0.0108\n",
      "Epoch: 59 - 4.70 secs - loss: 0.0108\n",
      "Epoch 60 Batch 0 Loss 0.0150\n",
      "Epoch 60 Batch 20 Loss 0.0108\n",
      "Epoch 60 Batch 40 Loss 0.0111\n",
      "Epoch 60 Batch 60 Loss 0.0109\n",
      "Saving checkpoint for epoch 60 at checkpoints/ckpt-12\n",
      "Epoch: 60 - 13.02 secs - loss: 0.0108\n",
      "Epoch 61 Batch 0 Loss 0.0081\n",
      "Epoch 61 Batch 20 Loss 0.0106\n",
      "Epoch 61 Batch 40 Loss 0.0110\n",
      "Epoch 61 Batch 60 Loss 0.0108\n",
      "Epoch: 61 - 4.68 secs - loss: 0.0107\n",
      "Epoch 62 Batch 0 Loss 0.0096\n",
      "Epoch 62 Batch 20 Loss 0.0095\n",
      "Epoch 62 Batch 40 Loss 0.0101\n",
      "Epoch 62 Batch 60 Loss 0.0101\n",
      "Epoch: 62 - 4.60 secs - loss: 0.0103\n",
      "Epoch 63 Batch 0 Loss 0.0086\n",
      "Epoch 63 Batch 20 Loss 0.0102\n",
      "Epoch 63 Batch 40 Loss 0.0103\n",
      "Epoch 63 Batch 60 Loss 0.0104\n",
      "Epoch: 63 - 4.63 secs - loss: 0.0106\n",
      "Epoch 64 Batch 0 Loss 0.0101\n",
      "Epoch 64 Batch 20 Loss 0.0102\n",
      "Epoch 64 Batch 40 Loss 0.0104\n",
      "Epoch 64 Batch 60 Loss 0.0108\n",
      "Epoch: 64 - 4.67 secs - loss: 0.0109\n",
      "\n",
      "Epoch 00064: ReduceLROnPlateau reducing learning rate to 0.0005120000336319208.\n",
      "\n",
      "Epoch 65 Batch 0 Loss 0.0104\n",
      "Epoch 65 Batch 20 Loss 0.0101\n",
      "Epoch 65 Batch 40 Loss 0.0102\n",
      "Epoch 65 Batch 60 Loss 0.0102\n",
      "Saving checkpoint for epoch 65 at checkpoints/ckpt-13\n",
      "Epoch: 65 - 11.61 secs - loss: 0.0102\n",
      "Epoch 66 Batch 0 Loss 0.0107\n",
      "Epoch 66 Batch 20 Loss 0.0104\n",
      "Epoch 66 Batch 40 Loss 0.0099\n",
      "Epoch 66 Batch 60 Loss 0.0100\n",
      "Epoch: 66 - 4.67 secs - loss: 0.0104\n",
      "Epoch 67 Batch 0 Loss 0.0110\n",
      "Epoch 67 Batch 20 Loss 0.0102\n",
      "Epoch 67 Batch 40 Loss 0.0101\n",
      "Epoch 67 Batch 60 Loss 0.0105\n",
      "Epoch: 67 - 4.61 secs - loss: 0.0105\n",
      "Epoch 68 Batch 0 Loss 0.0122\n",
      "Epoch 68 Batch 20 Loss 0.0106\n",
      "Epoch 68 Batch 40 Loss 0.0104\n",
      "Epoch 68 Batch 60 Loss 0.0105\n",
      "Epoch: 68 - 4.66 secs - loss: 0.0104\n",
      "Epoch 69 Batch 0 Loss 0.0093\n",
      "Epoch 69 Batch 20 Loss 0.0102\n",
      "Epoch 69 Batch 40 Loss 0.0102\n",
      "Epoch 69 Batch 60 Loss 0.0101\n",
      "Epoch: 69 - 4.69 secs - loss: 0.0101\n",
      "Epoch 70 Batch 0 Loss 0.0109\n",
      "Epoch 70 Batch 20 Loss 0.0102\n",
      "Epoch 70 Batch 40 Loss 0.0105\n",
      "Epoch 70 Batch 60 Loss 0.0103\n",
      "Saving checkpoint for epoch 70 at checkpoints/ckpt-14\n",
      "Epoch: 70 - 12.17 secs - loss: 0.0100\n",
      "Epoch 71 Batch 0 Loss 0.0078\n",
      "Epoch 71 Batch 20 Loss 0.0100\n",
      "Epoch 71 Batch 40 Loss 0.0097\n",
      "Epoch 71 Batch 60 Loss 0.0094\n",
      "Epoch: 71 - 4.70 secs - loss: 0.0092\n",
      "Epoch 72 Batch 0 Loss 0.0097\n",
      "Epoch 72 Batch 20 Loss 0.0091\n",
      "Epoch 72 Batch 40 Loss 0.0093\n",
      "Epoch 72 Batch 60 Loss 0.0100\n",
      "Epoch: 72 - 4.60 secs - loss: 0.0098\n",
      "\n",
      "Epoch 00072: ReduceLROnPlateau reducing learning rate to 0.00040960004553198815.\n",
      "\n",
      "Epoch 73 Batch 0 Loss 0.0116\n",
      "Epoch 73 Batch 20 Loss 0.0088\n",
      "Epoch 73 Batch 40 Loss 0.0087\n",
      "Epoch 73 Batch 60 Loss 0.0086\n",
      "Epoch: 73 - 4.77 secs - loss: 0.0087\n",
      "Epoch 74 Batch 0 Loss 0.0089\n",
      "Epoch 74 Batch 20 Loss 0.0080\n",
      "Epoch 74 Batch 40 Loss 0.0084\n",
      "Epoch 74 Batch 60 Loss 0.0083\n",
      "Epoch: 74 - 4.78 secs - loss: 0.0084\n",
      "Epoch 75 Batch 0 Loss 0.0075\n",
      "Epoch 75 Batch 20 Loss 0.0082\n",
      "Epoch 75 Batch 40 Loss 0.0083\n",
      "Epoch 75 Batch 60 Loss 0.0084\n",
      "Saving checkpoint for epoch 75 at checkpoints/ckpt-15\n",
      "Epoch: 75 - 12.12 secs - loss: 0.0083\n",
      "Epoch 76 Batch 0 Loss 0.0076\n",
      "Epoch 76 Batch 20 Loss 0.0089\n",
      "Epoch 76 Batch 40 Loss 0.0085\n",
      "Epoch 76 Batch 60 Loss 0.0085\n",
      "Epoch: 76 - 4.67 secs - loss: 0.0085\n",
      "Epoch 77 Batch 0 Loss 0.0056\n",
      "Epoch 77 Batch 20 Loss 0.0080\n",
      "Epoch 77 Batch 40 Loss 0.0080\n",
      "Epoch 77 Batch 60 Loss 0.0080\n",
      "Epoch: 77 - 4.62 secs - loss: 0.0079\n",
      "Epoch 78 Batch 0 Loss 0.0072\n",
      "Epoch 78 Batch 20 Loss 0.0082\n",
      "Epoch 78 Batch 40 Loss 0.0080\n",
      "Epoch 78 Batch 60 Loss 0.0079\n",
      "Epoch: 78 - 4.65 secs - loss: 0.0082\n",
      "Epoch 79 Batch 0 Loss 0.0084\n",
      "Epoch 79 Batch 20 Loss 0.0088\n",
      "Epoch 79 Batch 40 Loss 0.0085\n",
      "Epoch 79 Batch 60 Loss 0.0082\n",
      "Epoch: 79 - 4.69 secs - loss: 0.0082\n",
      "Epoch 80 Batch 0 Loss 0.0097\n",
      "Epoch 80 Batch 20 Loss 0.0080\n",
      "Epoch 80 Batch 40 Loss 0.0078\n",
      "Epoch 80 Batch 60 Loss 0.0078\n",
      "Saving checkpoint for epoch 80 at checkpoints/ckpt-16\n",
      "Epoch: 80 - 11.92 secs - loss: 0.0078\n",
      "Epoch 81 Batch 0 Loss 0.0075\n",
      "Epoch 81 Batch 20 Loss 0.0084\n",
      "Epoch 81 Batch 40 Loss 0.0084\n",
      "Epoch 81 Batch 60 Loss 0.0083\n",
      "Epoch: 81 - 4.68 secs - loss: 0.0080\n",
      "Epoch 82 Batch 0 Loss 0.0079\n",
      "Epoch 82 Batch 20 Loss 0.0076\n",
      "Epoch 82 Batch 40 Loss 0.0078\n",
      "Epoch 82 Batch 60 Loss 0.0078\n",
      "Epoch: 82 - 4.59 secs - loss: 0.0077\n",
      "Epoch 83 Batch 0 Loss 0.0081\n",
      "Epoch 83 Batch 20 Loss 0.0070\n",
      "Epoch 83 Batch 40 Loss 0.0072\n",
      "Epoch 83 Batch 60 Loss 0.0074\n",
      "Epoch: 83 - 4.64 secs - loss: 0.0074\n",
      "Epoch 84 Batch 0 Loss 0.0061\n",
      "Epoch 84 Batch 20 Loss 0.0069\n",
      "Epoch 84 Batch 40 Loss 0.0073\n",
      "Epoch 84 Batch 60 Loss 0.0073\n",
      "Epoch: 84 - 4.68 secs - loss: 0.0075\n",
      "Epoch 85 Batch 0 Loss 0.0071\n",
      "Epoch 85 Batch 20 Loss 0.0073\n",
      "Epoch 85 Batch 40 Loss 0.0072\n",
      "Epoch 85 Batch 60 Loss 0.0074\n",
      "Saving checkpoint for epoch 85 at checkpoints/ckpt-17\n",
      "Epoch: 85 - 12.09 secs - loss: 0.0072\n",
      "Epoch 86 Batch 0 Loss 0.0100\n",
      "Epoch 86 Batch 20 Loss 0.0071\n",
      "Epoch 86 Batch 40 Loss 0.0071\n",
      "Epoch 86 Batch 60 Loss 0.0072\n",
      "Epoch: 86 - 4.63 secs - loss: 0.0073\n",
      "Epoch 87 Batch 0 Loss 0.0066\n",
      "Epoch 87 Batch 20 Loss 0.0066\n",
      "Epoch 87 Batch 40 Loss 0.0071\n",
      "Epoch 87 Batch 60 Loss 0.0071\n",
      "Epoch: 87 - 4.60 secs - loss: 0.0071\n",
      "Epoch 88 Batch 0 Loss 0.0071\n",
      "Epoch 88 Batch 20 Loss 0.0067\n",
      "Epoch 88 Batch 40 Loss 0.0072\n",
      "Epoch 88 Batch 60 Loss 0.0072\n",
      "Epoch: 88 - 4.66 secs - loss: 0.0071\n",
      "Epoch 89 Batch 0 Loss 0.0072\n",
      "Epoch 89 Batch 20 Loss 0.0072\n",
      "Epoch 89 Batch 40 Loss 0.0073\n",
      "Epoch 89 Batch 60 Loss 0.0073\n",
      "Epoch: 89 - 4.73 secs - loss: 0.0072\n",
      "Epoch 90 Batch 0 Loss 0.0068\n",
      "Epoch 90 Batch 20 Loss 0.0070\n",
      "Epoch 90 Batch 40 Loss 0.0069\n",
      "Epoch 90 Batch 60 Loss 0.0069\n",
      "Saving checkpoint for epoch 90 at checkpoints/ckpt-18\n",
      "Epoch: 90 - 12.48 secs - loss: 0.0070\n",
      "Epoch 91 Batch 0 Loss 0.0083\n",
      "Epoch 91 Batch 20 Loss 0.0076\n",
      "Epoch 91 Batch 40 Loss 0.0074\n",
      "Epoch 91 Batch 60 Loss 0.0072\n",
      "Epoch: 91 - 4.72 secs - loss: 0.0072\n",
      "Epoch 92 Batch 0 Loss 0.0071\n",
      "Epoch 92 Batch 20 Loss 0.0068\n",
      "Epoch 92 Batch 40 Loss 0.0067\n",
      "Epoch 92 Batch 60 Loss 0.0068\n",
      "Epoch: 92 - 4.62 secs - loss: 0.0068\n",
      "Epoch 93 Batch 0 Loss 0.0063\n",
      "Epoch 93 Batch 20 Loss 0.0068\n",
      "Epoch 93 Batch 40 Loss 0.0070\n",
      "Epoch 93 Batch 60 Loss 0.0069\n",
      "Epoch: 93 - 4.66 secs - loss: 0.0070\n",
      "Epoch 94 Batch 0 Loss 0.0086\n",
      "Epoch 94 Batch 20 Loss 0.0071\n",
      "Epoch 94 Batch 40 Loss 0.0069\n",
      "Epoch 94 Batch 60 Loss 0.0068\n",
      "Epoch: 94 - 4.69 secs - loss: 0.0068\n",
      "Epoch 95 Batch 0 Loss 0.0055\n",
      "Epoch 95 Batch 20 Loss 0.0066\n",
      "Epoch 95 Batch 40 Loss 0.0066\n",
      "Epoch 95 Batch 60 Loss 0.0068\n",
      "Saving checkpoint for epoch 95 at checkpoints/ckpt-19\n",
      "Epoch: 95 - 12.12 secs - loss: 0.0067\n",
      "Epoch 96 Batch 0 Loss 0.0088\n",
      "Epoch 96 Batch 20 Loss 0.0068\n",
      "Epoch 96 Batch 40 Loss 0.0066\n",
      "Epoch 96 Batch 60 Loss 0.0065\n",
      "Epoch: 96 - 4.71 secs - loss: 0.0065\n",
      "Epoch 97 Batch 0 Loss 0.0074\n",
      "Epoch 97 Batch 20 Loss 0.0065\n",
      "Epoch 97 Batch 40 Loss 0.0065\n",
      "Epoch 97 Batch 60 Loss 0.0066\n",
      "Epoch: 97 - 4.62 secs - loss: 0.0065\n",
      "Epoch 98 Batch 0 Loss 0.0056\n",
      "Epoch 98 Batch 20 Loss 0.0062\n",
      "Epoch 98 Batch 40 Loss 0.0062\n",
      "Epoch 98 Batch 60 Loss 0.0062\n",
      "Epoch: 98 - 4.66 secs - loss: 0.0062\n",
      "Epoch 99 Batch 0 Loss 0.0075\n",
      "Epoch 99 Batch 20 Loss 0.0064\n",
      "Epoch 99 Batch 40 Loss 0.0065\n",
      "Epoch 99 Batch 60 Loss 0.0064\n",
      "Epoch: 99 - 4.69 secs - loss: 0.0064\n",
      "Epoch 100 Batch 0 Loss 0.0069\n",
      "Epoch 100 Batch 20 Loss 0.0065\n",
      "Epoch 100 Batch 40 Loss 0.0066\n",
      "Epoch 100 Batch 60 Loss 0.0065\n",
      "Saving checkpoint for epoch 100 at checkpoints/ckpt-20\n",
      "Epoch: 100 - 11.78 secs - loss: 0.0065\n",
      "Epoch 101 Batch 0 Loss 0.0057\n",
      "Epoch 101 Batch 20 Loss 0.0065\n",
      "Epoch 101 Batch 40 Loss 0.0061\n",
      "Epoch 101 Batch 60 Loss 0.0065\n",
      "Epoch: 101 - 4.71 secs - loss: 0.0064\n",
      "Epoch 102 Batch 0 Loss 0.0054\n",
      "Epoch 102 Batch 20 Loss 0.0061\n",
      "Epoch 102 Batch 40 Loss 0.0065\n",
      "Epoch 102 Batch 60 Loss 0.0065\n",
      "Epoch: 102 - 4.60 secs - loss: 0.0064\n",
      "Epoch 103 Batch 0 Loss 0.0055\n",
      "Epoch 103 Batch 20 Loss 0.0060\n",
      "Epoch 103 Batch 40 Loss 0.0062\n",
      "Epoch 103 Batch 60 Loss 0.0061\n",
      "Epoch: 103 - 4.65 secs - loss: 0.0062\n",
      "Epoch 104 Batch 0 Loss 0.0047\n",
      "Epoch 104 Batch 20 Loss 0.0062\n",
      "Epoch 104 Batch 40 Loss 0.0060\n",
      "Epoch 104 Batch 60 Loss 0.0061\n",
      "Epoch: 104 - 4.70 secs - loss: 0.0061\n",
      "Epoch 105 Batch 0 Loss 0.0045\n",
      "Epoch 105 Batch 20 Loss 0.0064\n",
      "Epoch 105 Batch 40 Loss 0.0062\n",
      "Epoch 105 Batch 60 Loss 0.0060\n",
      "Saving checkpoint for epoch 105 at checkpoints/ckpt-21\n",
      "Epoch: 105 - 12.10 secs - loss: 0.0061\n",
      "Epoch 106 Batch 0 Loss 0.0048\n",
      "Epoch 106 Batch 20 Loss 0.0061\n",
      "Epoch 106 Batch 40 Loss 0.0059\n",
      "Epoch 106 Batch 60 Loss 0.0057\n",
      "Epoch: 106 - 4.71 secs - loss: 0.0058\n",
      "Epoch 107 Batch 0 Loss 0.0071\n",
      "Epoch 107 Batch 20 Loss 0.0057\n",
      "Epoch 107 Batch 40 Loss 0.0058\n",
      "Epoch 107 Batch 60 Loss 0.0059\n",
      "Epoch: 107 - 4.60 secs - loss: 0.0059\n",
      "Epoch 108 Batch 0 Loss 0.0041\n",
      "Epoch 108 Batch 20 Loss 0.0058\n",
      "Epoch 108 Batch 40 Loss 0.0058\n",
      "Epoch 108 Batch 60 Loss 0.0057\n",
      "Epoch: 108 - 4.64 secs - loss: 0.0057\n",
      "Epoch 109 Batch 0 Loss 0.0040\n",
      "Epoch 109 Batch 20 Loss 0.0058\n",
      "Epoch 109 Batch 40 Loss 0.0058\n",
      "Epoch 109 Batch 60 Loss 0.0057\n",
      "Epoch: 109 - 4.69 secs - loss: 0.0057\n",
      "Epoch 110 Batch 0 Loss 0.0075\n",
      "Epoch 110 Batch 20 Loss 0.0060\n",
      "Epoch 110 Batch 40 Loss 0.0059\n",
      "Epoch 110 Batch 60 Loss 0.0059\n",
      "Saving checkpoint for epoch 110 at checkpoints/ckpt-22\n",
      "Epoch: 110 - 12.18 secs - loss: 0.0059\n",
      "Epoch 111 Batch 0 Loss 0.0053\n",
      "Epoch 111 Batch 20 Loss 0.0058\n",
      "Epoch 111 Batch 40 Loss 0.0057\n",
      "Epoch 111 Batch 60 Loss 0.0057\n",
      "Epoch: 111 - 4.71 secs - loss: 0.0056\n",
      "Epoch 112 Batch 0 Loss 0.0046\n",
      "Epoch 112 Batch 20 Loss 0.0056\n",
      "Epoch 112 Batch 40 Loss 0.0054\n",
      "Epoch 112 Batch 60 Loss 0.0054\n",
      "Epoch: 112 - 4.61 secs - loss: 0.0054\n",
      "Epoch 113 Batch 0 Loss 0.0039\n",
      "Epoch 113 Batch 20 Loss 0.0052\n",
      "Epoch 113 Batch 40 Loss 0.0052\n",
      "Epoch 113 Batch 60 Loss 0.0052\n",
      "Epoch: 113 - 4.65 secs - loss: 0.0053\n",
      "Epoch 114 Batch 0 Loss 0.0050\n",
      "Epoch 114 Batch 20 Loss 0.0058\n",
      "Epoch 114 Batch 40 Loss 0.0056\n",
      "Epoch 114 Batch 60 Loss 0.0054\n",
      "Epoch: 114 - 4.71 secs - loss: 0.0054\n",
      "Epoch 115 Batch 0 Loss 0.0052\n",
      "Epoch 115 Batch 20 Loss 0.0051\n",
      "Epoch 115 Batch 40 Loss 0.0051\n",
      "Epoch 115 Batch 60 Loss 0.0050\n",
      "Saving checkpoint for epoch 115 at checkpoints/ckpt-23\n",
      "Epoch: 115 - 11.92 secs - loss: 0.0050\n",
      "Epoch 116 Batch 0 Loss 0.0055\n",
      "Epoch 116 Batch 20 Loss 0.0052\n",
      "Epoch 116 Batch 40 Loss 0.0051\n",
      "Epoch 116 Batch 60 Loss 0.0050\n",
      "Epoch: 116 - 4.64 secs - loss: 0.0052\n",
      "Epoch 117 Batch 0 Loss 0.0052\n",
      "Epoch 117 Batch 20 Loss 0.0054\n",
      "Epoch 117 Batch 40 Loss 0.0053\n",
      "Epoch 117 Batch 60 Loss 0.0053\n",
      "Epoch: 117 - 4.61 secs - loss: 0.0051\n",
      "Epoch 118 Batch 0 Loss 0.0043\n",
      "Epoch 118 Batch 20 Loss 0.0047\n",
      "Epoch 118 Batch 40 Loss 0.0049\n",
      "Epoch 118 Batch 60 Loss 0.0049\n",
      "Epoch: 118 - 4.66 secs - loss: 0.0049\n",
      "Epoch 119 Batch 0 Loss 0.0030\n",
      "Epoch 119 Batch 20 Loss 0.0049\n",
      "Epoch 119 Batch 40 Loss 0.0050\n",
      "Epoch 119 Batch 60 Loss 0.0051\n",
      "Epoch: 119 - 4.71 secs - loss: 0.0052\n",
      "Epoch 120 Batch 0 Loss 0.0050\n",
      "Epoch 120 Batch 20 Loss 0.0048\n",
      "Epoch 120 Batch 40 Loss 0.0049\n",
      "Epoch 120 Batch 60 Loss 0.0049\n",
      "Saving checkpoint for epoch 120 at checkpoints/ckpt-24\n",
      "Epoch: 120 - 12.98 secs - loss: 0.0049\n",
      "Epoch 121 Batch 0 Loss 0.0044\n",
      "Epoch 121 Batch 20 Loss 0.0058\n",
      "Epoch 121 Batch 40 Loss 0.0056\n",
      "Epoch 121 Batch 60 Loss 0.0053\n",
      "Epoch: 121 - 4.67 secs - loss: 0.0052\n",
      "Epoch 122 Batch 0 Loss 0.0047\n",
      "Epoch 122 Batch 20 Loss 0.0049\n",
      "Epoch 122 Batch 40 Loss 0.0049\n",
      "Epoch 122 Batch 60 Loss 0.0051\n",
      "Epoch: 122 - 4.60 secs - loss: 0.0050\n",
      "Epoch 123 Batch 0 Loss 0.0047\n",
      "Epoch 123 Batch 20 Loss 0.0049\n",
      "Epoch 123 Batch 40 Loss 0.0049\n",
      "Epoch 123 Batch 60 Loss 0.0049\n",
      "Epoch: 123 - 4.66 secs - loss: 0.0048\n",
      "Epoch 124 Batch 0 Loss 0.0042\n",
      "Epoch 124 Batch 20 Loss 0.0045\n",
      "Epoch 124 Batch 40 Loss 0.0044\n",
      "Epoch 124 Batch 60 Loss 0.0045\n",
      "Epoch: 124 - 4.70 secs - loss: 0.0046\n",
      "Epoch 125 Batch 0 Loss 0.0037\n",
      "Epoch 125 Batch 20 Loss 0.0045\n",
      "Epoch 125 Batch 40 Loss 0.0046\n",
      "Epoch 125 Batch 60 Loss 0.0049\n",
      "Saving checkpoint for epoch 125 at checkpoints/ckpt-25\n",
      "Epoch: 125 - 11.83 secs - loss: 0.0051\n",
      "Epoch 126 Batch 0 Loss 0.0053\n",
      "Epoch 126 Batch 20 Loss 0.0053\n",
      "Epoch 126 Batch 40 Loss 0.0054\n",
      "Epoch 126 Batch 60 Loss 0.0055\n",
      "Epoch: 126 - 4.64 secs - loss: 0.0055\n",
      "Epoch 127 Batch 0 Loss 0.0050\n",
      "Epoch 127 Batch 20 Loss 0.0051\n",
      "Epoch 127 Batch 40 Loss 0.0050\n",
      "Epoch 127 Batch 60 Loss 0.0050\n",
      "Epoch: 127 - 4.61 secs - loss: 0.0052\n",
      "Epoch 128 Batch 0 Loss 0.0080\n",
      "Epoch 128 Batch 20 Loss 0.0048\n",
      "Epoch 128 Batch 40 Loss 0.0051\n",
      "Epoch 128 Batch 60 Loss 0.0051\n",
      "Epoch: 128 - 4.66 secs - loss: 0.0051\n",
      "Epoch 129 Batch 0 Loss 0.0045\n",
      "Epoch 129 Batch 20 Loss 0.0048\n",
      "Epoch 129 Batch 40 Loss 0.0048\n",
      "Epoch 129 Batch 60 Loss 0.0049\n",
      "Epoch: 129 - 4.69 secs - loss: 0.0050\n",
      "Epoch 130 Batch 0 Loss 0.0043\n",
      "Epoch 130 Batch 20 Loss 0.0050\n",
      "Epoch 130 Batch 40 Loss 0.0048\n",
      "Epoch 130 Batch 60 Loss 0.0049\n",
      "Saving checkpoint for epoch 130 at checkpoints/ckpt-26\n",
      "Epoch: 130 - 12.54 secs - loss: 0.0049\n",
      "Epoch 131 Batch 0 Loss 0.0058\n",
      "Epoch 131 Batch 20 Loss 0.0046\n",
      "Epoch 131 Batch 40 Loss 0.0050\n",
      "Epoch 131 Batch 60 Loss 0.0050\n",
      "Epoch: 131 - 4.67 secs - loss: 0.0050\n",
      "Epoch 132 Batch 0 Loss 0.0049\n",
      "Epoch 132 Batch 20 Loss 0.0047\n",
      "Epoch 132 Batch 40 Loss 0.0049\n",
      "Epoch 132 Batch 60 Loss 0.0050\n",
      "Epoch: 132 - 4.62 secs - loss: 0.0049\n",
      "\n",
      "Epoch 00132: ReduceLROnPlateau reducing learning rate to 0.00032768002711236477.\n",
      "\n",
      "Epoch 133 Batch 0 Loss 0.0061\n",
      "Epoch 133 Batch 20 Loss 0.0052\n",
      "Epoch 133 Batch 40 Loss 0.0048\n",
      "Epoch 133 Batch 60 Loss 0.0046\n",
      "Epoch: 133 - 4.65 secs - loss: 0.0045\n",
      "Epoch 134 Batch 0 Loss 0.0046\n",
      "Epoch 134 Batch 20 Loss 0.0039\n",
      "Epoch 134 Batch 40 Loss 0.0040\n",
      "Epoch 134 Batch 60 Loss 0.0042\n",
      "Epoch: 134 - 4.67 secs - loss: 0.0042\n",
      "Epoch 135 Batch 0 Loss 0.0046\n",
      "Epoch 135 Batch 20 Loss 0.0042\n",
      "Epoch 135 Batch 40 Loss 0.0044\n",
      "Epoch 135 Batch 60 Loss 0.0044\n",
      "Saving checkpoint for epoch 135 at checkpoints/ckpt-27\n",
      "Epoch: 135 - 11.87 secs - loss: 0.0044\n",
      "Epoch 136 Batch 0 Loss 0.0046\n",
      "Epoch 136 Batch 20 Loss 0.0044\n",
      "Epoch 136 Batch 40 Loss 0.0045\n",
      "Epoch 136 Batch 60 Loss 0.0044\n",
      "Epoch: 136 - 4.65 secs - loss: 0.0045\n",
      "Epoch 137 Batch 0 Loss 0.0038\n",
      "Epoch 137 Batch 20 Loss 0.0044\n",
      "Epoch 137 Batch 40 Loss 0.0044\n",
      "Epoch 137 Batch 60 Loss 0.0044\n",
      "Epoch: 137 - 4.61 secs - loss: 0.0044\n",
      "Epoch 138 Batch 0 Loss 0.0057\n",
      "Epoch 138 Batch 20 Loss 0.0042\n",
      "Epoch 138 Batch 40 Loss 0.0042\n",
      "Epoch 138 Batch 60 Loss 0.0042\n",
      "Epoch: 138 - 4.67 secs - loss: 0.0043\n",
      "Epoch 139 Batch 0 Loss 0.0028\n",
      "Epoch 139 Batch 20 Loss 0.0040\n",
      "Epoch 139 Batch 40 Loss 0.0040\n",
      "Epoch 139 Batch 60 Loss 0.0042\n",
      "Epoch: 139 - 4.71 secs - loss: 0.0042\n",
      "Epoch 140 Batch 0 Loss 0.0040\n",
      "Epoch 140 Batch 20 Loss 0.0043\n",
      "Epoch 140 Batch 40 Loss 0.0042\n",
      "Epoch 140 Batch 60 Loss 0.0042\n",
      "Saving checkpoint for epoch 140 at checkpoints/ckpt-28\n",
      "Epoch: 140 - 12.93 secs - loss: 0.0042\n",
      "Epoch 141 Batch 0 Loss 0.0036\n",
      "Epoch 141 Batch 20 Loss 0.0041\n",
      "Epoch 141 Batch 40 Loss 0.0040\n",
      "Epoch 141 Batch 60 Loss 0.0040\n",
      "Epoch: 141 - 4.69 secs - loss: 0.0040\n",
      "Epoch 142 Batch 0 Loss 0.0038\n",
      "Epoch 142 Batch 20 Loss 0.0042\n",
      "Epoch 142 Batch 40 Loss 0.0040\n",
      "Epoch 142 Batch 60 Loss 0.0040\n",
      "Epoch: 142 - 4.62 secs - loss: 0.0041\n",
      "Epoch 143 Batch 0 Loss 0.0044\n",
      "Epoch 143 Batch 20 Loss 0.0039\n",
      "Epoch 143 Batch 40 Loss 0.0039\n",
      "Epoch 143 Batch 60 Loss 0.0040\n",
      "Epoch: 143 - 4.67 secs - loss: 0.0041\n",
      "Epoch 144 Batch 0 Loss 0.0058\n",
      "Epoch 144 Batch 20 Loss 0.0042\n",
      "Epoch 144 Batch 40 Loss 0.0041\n",
      "Epoch 144 Batch 60 Loss 0.0040\n",
      "Epoch: 144 - 4.68 secs - loss: 0.0041\n",
      "Epoch 145 Batch 0 Loss 0.0053\n",
      "Epoch 145 Batch 20 Loss 0.0038\n",
      "Epoch 145 Batch 40 Loss 0.0040\n",
      "Epoch 145 Batch 60 Loss 0.0040\n",
      "Saving checkpoint for epoch 145 at checkpoints/ckpt-29\n",
      "Epoch: 145 - 11.78 secs - loss: 0.0040\n",
      "Epoch 146 Batch 0 Loss 0.0051\n",
      "Epoch 146 Batch 20 Loss 0.0042\n",
      "Epoch 146 Batch 40 Loss 0.0039\n",
      "Epoch 146 Batch 60 Loss 0.0040\n",
      "Epoch: 146 - 4.66 secs - loss: 0.0040\n",
      "Epoch 147 Batch 0 Loss 0.0047\n",
      "Epoch 147 Batch 20 Loss 0.0038\n",
      "Epoch 147 Batch 40 Loss 0.0038\n",
      "Epoch 147 Batch 60 Loss 0.0039\n",
      "Epoch: 147 - 4.60 secs - loss: 0.0039\n",
      "Epoch 148 Batch 0 Loss 0.0035\n",
      "Epoch 148 Batch 20 Loss 0.0035\n",
      "Epoch 148 Batch 40 Loss 0.0036\n",
      "Epoch 148 Batch 60 Loss 0.0036\n",
      "Epoch: 148 - 4.66 secs - loss: 0.0036\n",
      "Epoch 149 Batch 0 Loss 0.0037\n",
      "Epoch 149 Batch 20 Loss 0.0037\n",
      "Epoch 149 Batch 40 Loss 0.0036\n",
      "Epoch 149 Batch 60 Loss 0.0037\n",
      "Epoch: 149 - 4.69 secs - loss: 0.0037\n",
      "Epoch 150 Batch 0 Loss 0.0052\n",
      "Epoch 150 Batch 20 Loss 0.0041\n",
      "Epoch 150 Batch 40 Loss 0.0041\n",
      "Epoch 150 Batch 60 Loss 0.0041\n",
      "Saving checkpoint for epoch 150 at checkpoints/ckpt-30\n",
      "Epoch: 150 - 12.08 secs - loss: 0.0040\n",
      "Epoch 151 Batch 0 Loss 0.0041\n",
      "Epoch 151 Batch 20 Loss 0.0036\n",
      "Epoch 151 Batch 40 Loss 0.0035\n",
      "Epoch 151 Batch 60 Loss 0.0035\n",
      "Epoch: 151 - 4.63 secs - loss: 0.0036\n",
      "Epoch 152 Batch 0 Loss 0.0048\n",
      "Epoch 152 Batch 20 Loss 0.0042\n",
      "Epoch 152 Batch 40 Loss 0.0041\n",
      "Epoch 152 Batch 60 Loss 0.0041\n",
      "Epoch: 152 - 4.59 secs - loss: 0.0040\n",
      "Epoch 153 Batch 0 Loss 0.0047\n",
      "Epoch 153 Batch 20 Loss 0.0035\n",
      "Epoch 153 Batch 40 Loss 0.0036\n",
      "Epoch 153 Batch 60 Loss 0.0037\n",
      "Epoch: 153 - 4.63 secs - loss: 0.0038\n",
      "Epoch 154 Batch 0 Loss 0.0044\n",
      "Epoch 154 Batch 20 Loss 0.0036\n",
      "Epoch 154 Batch 40 Loss 0.0037\n",
      "Epoch 154 Batch 60 Loss 0.0036\n",
      "Epoch: 154 - 4.69 secs - loss: 0.0036\n",
      "Epoch 155 Batch 0 Loss 0.0033\n",
      "Epoch 155 Batch 20 Loss 0.0035\n",
      "Epoch 155 Batch 40 Loss 0.0035\n",
      "Epoch 155 Batch 60 Loss 0.0040\n",
      "Saving checkpoint for epoch 155 at checkpoints/ckpt-31\n",
      "Epoch: 155 - 11.91 secs - loss: 0.0040\n",
      "Epoch 156 Batch 0 Loss 0.0028\n",
      "Epoch 156 Batch 20 Loss 0.0037\n",
      "Epoch 156 Batch 40 Loss 0.0037\n",
      "Epoch 156 Batch 60 Loss 0.0036\n",
      "Epoch: 156 - 4.71 secs - loss: 0.0036\n",
      "\n",
      "Epoch 00156: ReduceLROnPlateau reducing learning rate to 0.0002621440216898918.\n",
      "\n",
      "Epoch 157 Batch 0 Loss 0.0037\n",
      "Epoch 157 Batch 20 Loss 0.0034\n",
      "Epoch 157 Batch 40 Loss 0.0034\n",
      "Epoch 157 Batch 60 Loss 0.0034\n",
      "Epoch: 157 - 4.60 secs - loss: 0.0033\n",
      "Epoch 158 Batch 0 Loss 0.0030\n",
      "Epoch 158 Batch 20 Loss 0.0034\n",
      "Epoch 158 Batch 40 Loss 0.0032\n",
      "Epoch 158 Batch 60 Loss 0.0032\n",
      "Epoch: 158 - 4.65 secs - loss: 0.0032\n",
      "Epoch 159 Batch 0 Loss 0.0032\n",
      "Epoch 159 Batch 20 Loss 0.0033\n",
      "Epoch 159 Batch 40 Loss 0.0034\n",
      "Epoch 159 Batch 60 Loss 0.0033\n",
      "Epoch: 159 - 4.70 secs - loss: 0.0033\n",
      "Epoch 160 Batch 0 Loss 0.0028\n",
      "Epoch 160 Batch 20 Loss 0.0031\n",
      "Epoch 160 Batch 40 Loss 0.0031\n",
      "Epoch 160 Batch 60 Loss 0.0032\n",
      "Saving checkpoint for epoch 160 at checkpoints/ckpt-32\n",
      "Epoch: 160 - 11.85 secs - loss: 0.0032\n",
      "Epoch 161 Batch 0 Loss 0.0033\n",
      "Epoch 161 Batch 20 Loss 0.0031\n",
      "Epoch 161 Batch 40 Loss 0.0031\n",
      "Epoch 161 Batch 60 Loss 0.0032\n",
      "Epoch: 161 - 4.66 secs - loss: 0.0032\n",
      "Epoch 162 Batch 0 Loss 0.0032\n",
      "Epoch 162 Batch 20 Loss 0.0030\n",
      "Epoch 162 Batch 40 Loss 0.0030\n",
      "Epoch 162 Batch 60 Loss 0.0031\n",
      "Epoch: 162 - 4.61 secs - loss: 0.0031\n",
      "Epoch 163 Batch 0 Loss 0.0028\n",
      "Epoch 163 Batch 20 Loss 0.0033\n",
      "Epoch 163 Batch 40 Loss 0.0033\n",
      "Epoch 163 Batch 60 Loss 0.0033\n",
      "Epoch: 163 - 4.64 secs - loss: 0.0033\n",
      "Epoch 164 Batch 0 Loss 0.0032\n",
      "Epoch 164 Batch 20 Loss 0.0032\n",
      "Epoch 164 Batch 40 Loss 0.0032\n",
      "Epoch 164 Batch 60 Loss 0.0032\n",
      "Epoch: 164 - 4.70 secs - loss: 0.0032\n",
      "Epoch 165 Batch 0 Loss 0.0025\n",
      "Epoch 165 Batch 20 Loss 0.0032\n",
      "Epoch 165 Batch 40 Loss 0.0032\n",
      "Epoch 165 Batch 60 Loss 0.0032\n",
      "Saving checkpoint for epoch 165 at checkpoints/ckpt-33\n",
      "Epoch: 165 - 12.09 secs - loss: 0.0031\n",
      "Epoch 166 Batch 0 Loss 0.0026\n",
      "Epoch 166 Batch 20 Loss 0.0031\n",
      "Epoch 166 Batch 40 Loss 0.0032\n",
      "Epoch 166 Batch 60 Loss 0.0032\n",
      "Epoch: 166 - 4.64 secs - loss: 0.0032\n",
      "Epoch 167 Batch 0 Loss 0.0049\n",
      "Epoch 167 Batch 20 Loss 0.0033\n",
      "Epoch 167 Batch 40 Loss 0.0033\n",
      "Epoch 167 Batch 60 Loss 0.0033\n",
      "Epoch: 167 - 4.60 secs - loss: 0.0033\n",
      "Epoch 168 Batch 0 Loss 0.0027\n",
      "Epoch 168 Batch 20 Loss 0.0030\n",
      "Epoch 168 Batch 40 Loss 0.0030\n",
      "Epoch 168 Batch 60 Loss 0.0031\n",
      "Epoch: 168 - 4.64 secs - loss: 0.0033\n",
      "Epoch 169 Batch 0 Loss 0.0038\n",
      "Epoch 169 Batch 20 Loss 0.0036\n",
      "Epoch 169 Batch 40 Loss 0.0034\n",
      "Epoch 169 Batch 60 Loss 0.0033\n",
      "Epoch: 169 - 4.71 secs - loss: 0.0033\n",
      "Epoch 170 Batch 0 Loss 0.0037\n",
      "Epoch 170 Batch 20 Loss 0.0033\n",
      "Epoch 170 Batch 40 Loss 0.0032\n",
      "Epoch 170 Batch 60 Loss 0.0030\n",
      "Saving checkpoint for epoch 170 at checkpoints/ckpt-34\n",
      "Epoch: 170 - 12.48 secs - loss: 0.0030\n",
      "\n",
      "Epoch 00170: ReduceLROnPlateau reducing learning rate to 0.00020971521735191345.\n",
      "\n",
      "Epoch 171 Batch 0 Loss 0.0035\n",
      "Epoch 171 Batch 20 Loss 0.0030\n",
      "Epoch 171 Batch 40 Loss 0.0031\n",
      "Epoch 171 Batch 60 Loss 0.0031\n",
      "Epoch: 171 - 4.65 secs - loss: 0.0031\n",
      "Epoch 172 Batch 0 Loss 0.0029\n",
      "Epoch 172 Batch 20 Loss 0.0035\n",
      "Epoch 172 Batch 40 Loss 0.0034\n",
      "Epoch 172 Batch 60 Loss 0.0033\n",
      "Epoch: 172 - 4.62 secs - loss: 0.0032\n",
      "Epoch 173 Batch 0 Loss 0.0030\n",
      "Epoch 173 Batch 20 Loss 0.0030\n",
      "Epoch 173 Batch 40 Loss 0.0030\n",
      "Epoch 173 Batch 60 Loss 0.0030\n",
      "Epoch: 173 - 4.64 secs - loss: 0.0030\n",
      "Epoch 174 Batch 0 Loss 0.0033\n",
      "Epoch 174 Batch 20 Loss 0.0028\n",
      "Epoch 174 Batch 40 Loss 0.0031\n",
      "Epoch 174 Batch 60 Loss 0.0032\n",
      "Epoch: 174 - 4.69 secs - loss: 0.0031\n",
      "Epoch 175 Batch 0 Loss 0.0027\n",
      "Epoch 175 Batch 20 Loss 0.0029\n",
      "Epoch 175 Batch 40 Loss 0.0030\n",
      "Epoch 175 Batch 60 Loss 0.0030\n",
      "Saving checkpoint for epoch 175 at checkpoints/ckpt-35\n",
      "Epoch: 175 - 11.84 secs - loss: 0.0029\n",
      "Epoch 176 Batch 0 Loss 0.0023\n",
      "Epoch 176 Batch 20 Loss 0.0028\n",
      "Epoch 176 Batch 40 Loss 0.0029\n",
      "Epoch 176 Batch 60 Loss 0.0029\n",
      "Epoch: 176 - 4.66 secs - loss: 0.0030\n",
      "Epoch 177 Batch 0 Loss 0.0025\n",
      "Epoch 177 Batch 20 Loss 0.0030\n",
      "Epoch 177 Batch 40 Loss 0.0029\n",
      "Epoch 177 Batch 60 Loss 0.0028\n",
      "Epoch: 177 - 4.60 secs - loss: 0.0028\n",
      "Epoch 178 Batch 0 Loss 0.0039\n",
      "Epoch 178 Batch 20 Loss 0.0030\n",
      "Epoch 178 Batch 40 Loss 0.0030\n",
      "Epoch 178 Batch 60 Loss 0.0029\n",
      "Epoch: 178 - 4.65 secs - loss: 0.0028\n",
      "Epoch 179 Batch 0 Loss 0.0023\n",
      "Epoch 179 Batch 20 Loss 0.0027\n",
      "Epoch 179 Batch 40 Loss 0.0029\n",
      "Epoch 179 Batch 60 Loss 0.0029\n",
      "Epoch: 179 - 4.69 secs - loss: 0.0030\n",
      "Epoch 180 Batch 0 Loss 0.0022\n",
      "Epoch 180 Batch 20 Loss 0.0029\n",
      "Epoch 180 Batch 40 Loss 0.0029\n",
      "Epoch 180 Batch 60 Loss 0.0029\n",
      "Saving checkpoint for epoch 180 at checkpoints/ckpt-36\n",
      "Epoch: 180 - 12.59 secs - loss: 0.0029\n",
      "Epoch 181 Batch 0 Loss 0.0027\n",
      "Epoch 181 Batch 20 Loss 0.0026\n",
      "Epoch 181 Batch 40 Loss 0.0028\n",
      "Epoch 181 Batch 60 Loss 0.0029\n",
      "Epoch: 181 - 4.70 secs - loss: 0.0029\n",
      "Epoch 182 Batch 0 Loss 0.0024\n",
      "Epoch 182 Batch 20 Loss 0.0025\n",
      "Epoch 182 Batch 40 Loss 0.0027\n",
      "Epoch 182 Batch 60 Loss 0.0027\n",
      "Epoch: 182 - 4.61 secs - loss: 0.0027\n",
      "Epoch 183 Batch 0 Loss 0.0022\n",
      "Epoch 183 Batch 20 Loss 0.0026\n",
      "Epoch 183 Batch 40 Loss 0.0026\n",
      "Epoch 183 Batch 60 Loss 0.0027\n",
      "Epoch: 183 - 4.64 secs - loss: 0.0027\n",
      "Epoch 184 Batch 0 Loss 0.0023\n",
      "Epoch 184 Batch 20 Loss 0.0026\n",
      "Epoch 184 Batch 40 Loss 0.0027\n",
      "Epoch 184 Batch 60 Loss 0.0027\n",
      "Epoch: 184 - 4.68 secs - loss: 0.0027\n",
      "Epoch 185 Batch 0 Loss 0.0021\n",
      "Epoch 185 Batch 20 Loss 0.0028\n",
      "Epoch 185 Batch 40 Loss 0.0027\n",
      "Epoch 185 Batch 60 Loss 0.0026\n",
      "Saving checkpoint for epoch 185 at checkpoints/ckpt-37\n",
      "Epoch: 185 - 12.38 secs - loss: 0.0026\n",
      "Epoch 186 Batch 0 Loss 0.0019\n",
      "Epoch 186 Batch 20 Loss 0.0025\n",
      "Epoch 186 Batch 40 Loss 0.0025\n",
      "Epoch 186 Batch 60 Loss 0.0026\n",
      "Epoch: 186 - 4.76 secs - loss: 0.0025\n",
      "Epoch 187 Batch 0 Loss 0.0030\n",
      "Epoch 187 Batch 20 Loss 0.0026\n",
      "Epoch 187 Batch 40 Loss 0.0025\n",
      "Epoch 187 Batch 60 Loss 0.0025\n",
      "Epoch: 187 - 4.63 secs - loss: 0.0025\n",
      "Epoch 188 Batch 0 Loss 0.0023\n",
      "Epoch 188 Batch 20 Loss 0.0023\n",
      "Epoch 188 Batch 40 Loss 0.0025\n",
      "Epoch 188 Batch 60 Loss 0.0025\n",
      "Epoch: 188 - 4.66 secs - loss: 0.0026\n",
      "Epoch 189 Batch 0 Loss 0.0018\n",
      "Epoch 189 Batch 20 Loss 0.0025\n",
      "Epoch 189 Batch 40 Loss 0.0025\n",
      "Epoch 189 Batch 60 Loss 0.0025\n",
      "Epoch: 189 - 4.69 secs - loss: 0.0024\n",
      "Epoch 190 Batch 0 Loss 0.0022\n",
      "Epoch 190 Batch 20 Loss 0.0024\n",
      "Epoch 190 Batch 40 Loss 0.0025\n",
      "Epoch 190 Batch 60 Loss 0.0026\n",
      "Saving checkpoint for epoch 190 at checkpoints/ckpt-38\n",
      "Epoch: 190 - 11.91 secs - loss: 0.0026\n",
      "Epoch 191 Batch 0 Loss 0.0024\n",
      "Epoch 191 Batch 20 Loss 0.0024\n",
      "Epoch 191 Batch 40 Loss 0.0024\n",
      "Epoch 191 Batch 60 Loss 0.0024\n",
      "Epoch: 191 - 4.64 secs - loss: 0.0024\n",
      "Epoch 192 Batch 0 Loss 0.0024\n",
      "Epoch 192 Batch 20 Loss 0.0024\n",
      "Epoch 192 Batch 40 Loss 0.0025\n",
      "Epoch 192 Batch 60 Loss 0.0024\n",
      "Epoch: 192 - 4.60 secs - loss: 0.0024\n",
      "Epoch 193 Batch 0 Loss 0.0027\n",
      "Epoch 193 Batch 20 Loss 0.0023\n",
      "Epoch 193 Batch 40 Loss 0.0023\n",
      "Epoch 193 Batch 60 Loss 0.0023\n",
      "Epoch: 193 - 4.64 secs - loss: 0.0024\n",
      "Epoch 194 Batch 0 Loss 0.0029\n",
      "Epoch 194 Batch 20 Loss 0.0023\n",
      "Epoch 194 Batch 40 Loss 0.0023\n",
      "Epoch 194 Batch 60 Loss 0.0023\n",
      "Epoch: 194 - 4.68 secs - loss: 0.0023\n",
      "Epoch 195 Batch 0 Loss 0.0018\n",
      "Epoch 195 Batch 20 Loss 0.0023\n",
      "Epoch 195 Batch 40 Loss 0.0023\n",
      "Epoch 195 Batch 60 Loss 0.0023\n",
      "Saving checkpoint for epoch 195 at checkpoints/ckpt-39\n",
      "Epoch: 195 - 11.91 secs - loss: 0.0023\n",
      "Epoch 196 Batch 0 Loss 0.0019\n",
      "Epoch 196 Batch 20 Loss 0.0025\n",
      "Epoch 196 Batch 40 Loss 0.0024\n",
      "Epoch 196 Batch 60 Loss 0.0024\n",
      "Epoch: 196 - 4.65 secs - loss: 0.0024\n",
      "Epoch 197 Batch 0 Loss 0.0022\n",
      "Epoch 197 Batch 20 Loss 0.0021\n",
      "Epoch 197 Batch 40 Loss 0.0022\n",
      "Epoch 197 Batch 60 Loss 0.0022\n",
      "Epoch: 197 - 4.62 secs - loss: 0.0023\n",
      "Epoch 198 Batch 0 Loss 0.0022\n",
      "Epoch 198 Batch 20 Loss 0.0028\n",
      "Epoch 198 Batch 40 Loss 0.0026\n",
      "Epoch 198 Batch 60 Loss 0.0025\n",
      "Epoch: 198 - 4.66 secs - loss: 0.0024\n",
      "Epoch 199 Batch 0 Loss 0.0020\n",
      "Epoch 199 Batch 20 Loss 0.0024\n",
      "Epoch 199 Batch 40 Loss 0.0023\n",
      "Epoch 199 Batch 60 Loss 0.0022\n",
      "Epoch: 199 - 4.67 secs - loss: 0.0022\n",
      "Epoch 200 Batch 0 Loss 0.0021\n",
      "Epoch 200 Batch 20 Loss 0.0022\n",
      "Epoch 200 Batch 40 Loss 0.0022\n",
      "Epoch 200 Batch 60 Loss 0.0022\n",
      "Saving checkpoint for epoch 200 at checkpoints/ckpt-40\n",
      "Epoch: 200 - 12.00 secs - loss: 0.0022\n",
      "Epoch 201 Batch 0 Loss 0.0018\n",
      "Epoch 201 Batch 20 Loss 0.0023\n",
      "Epoch 201 Batch 40 Loss 0.0023\n",
      "Epoch 201 Batch 60 Loss 0.0022\n",
      "Epoch: 201 - 4.67 secs - loss: 0.0022\n",
      "Epoch 202 Batch 0 Loss 0.0034\n",
      "Epoch 202 Batch 20 Loss 0.0022\n",
      "Epoch 202 Batch 40 Loss 0.0022\n",
      "Epoch 202 Batch 60 Loss 0.0022\n",
      "Epoch: 202 - 4.60 secs - loss: 0.0022\n",
      "\n",
      "Epoch 00202: ReduceLROnPlateau reducing learning rate to 0.00016777217388153076.\n",
      "\n",
      "Epoch 203 Batch 0 Loss 0.0022\n",
      "Epoch 203 Batch 20 Loss 0.0022\n",
      "Epoch 203 Batch 40 Loss 0.0023\n",
      "Epoch 203 Batch 60 Loss 0.0023\n",
      "Epoch: 203 - 4.66 secs - loss: 0.0022\n",
      "Epoch 204 Batch 0 Loss 0.0017\n",
      "Epoch 204 Batch 20 Loss 0.0021\n",
      "Epoch 204 Batch 40 Loss 0.0021\n",
      "Epoch 204 Batch 60 Loss 0.0021\n",
      "Epoch: 204 - 4.70 secs - loss: 0.0021\n",
      "Epoch 205 Batch 0 Loss 0.0021\n",
      "Epoch 205 Batch 20 Loss 0.0024\n",
      "Epoch 205 Batch 40 Loss 0.0023\n",
      "Epoch 205 Batch 60 Loss 0.0022\n",
      "Saving checkpoint for epoch 205 at checkpoints/ckpt-41\n",
      "Epoch: 205 - 11.90 secs - loss: 0.0022\n",
      "Epoch 206 Batch 0 Loss 0.0019\n",
      "Epoch 206 Batch 20 Loss 0.0020\n",
      "Epoch 206 Batch 40 Loss 0.0020\n",
      "Epoch 206 Batch 60 Loss 0.0021\n",
      "Epoch: 206 - 4.70 secs - loss: 0.0020\n",
      "Epoch 207 Batch 0 Loss 0.0017\n",
      "Epoch 207 Batch 20 Loss 0.0020\n",
      "Epoch 207 Batch 40 Loss 0.0020\n",
      "Epoch 207 Batch 60 Loss 0.0021\n",
      "Epoch: 207 - 4.59 secs - loss: 0.0020\n",
      "Epoch 208 Batch 0 Loss 0.0020\n",
      "Epoch 208 Batch 20 Loss 0.0020\n",
      "Epoch 208 Batch 40 Loss 0.0021\n",
      "Epoch 208 Batch 60 Loss 0.0021\n",
      "Epoch: 208 - 4.63 secs - loss: 0.0021\n",
      "Epoch 209 Batch 0 Loss 0.0019\n",
      "Epoch 209 Batch 20 Loss 0.0021\n",
      "Epoch 209 Batch 40 Loss 0.0021\n",
      "Epoch 209 Batch 60 Loss 0.0021\n",
      "Epoch: 209 - 4.67 secs - loss: 0.0021\n",
      "Epoch 210 Batch 0 Loss 0.0017\n",
      "Epoch 210 Batch 20 Loss 0.0020\n",
      "Epoch 210 Batch 40 Loss 0.0020\n",
      "Epoch 210 Batch 60 Loss 0.0020\n",
      "Saving checkpoint for epoch 210 at checkpoints/ckpt-42\n",
      "Epoch: 210 - 14.06 secs - loss: 0.0021\n",
      "Epoch 211 Batch 0 Loss 0.0017\n",
      "Epoch 211 Batch 20 Loss 0.0022\n",
      "Epoch 211 Batch 40 Loss 0.0022\n",
      "Epoch 211 Batch 60 Loss 0.0022\n",
      "Epoch: 211 - 4.71 secs - loss: 0.0022\n",
      "Epoch 212 Batch 0 Loss 0.0019\n",
      "Epoch 212 Batch 20 Loss 0.0020\n",
      "Epoch 212 Batch 40 Loss 0.0020\n",
      "Epoch 212 Batch 60 Loss 0.0020\n",
      "Epoch: 212 - 4.59 secs - loss: 0.0020\n",
      "Epoch 213 Batch 0 Loss 0.0018\n",
      "Epoch 213 Batch 20 Loss 0.0018\n",
      "Epoch 213 Batch 40 Loss 0.0019\n",
      "Epoch 213 Batch 60 Loss 0.0019\n",
      "Epoch: 213 - 4.62 secs - loss: 0.0019\n",
      "Epoch 214 Batch 0 Loss 0.0013\n",
      "Epoch 214 Batch 20 Loss 0.0020\n",
      "Epoch 214 Batch 40 Loss 0.0020\n",
      "Epoch 214 Batch 60 Loss 0.0020\n",
      "Epoch: 214 - 5.10 secs - loss: 0.0020\n",
      "Epoch 215 Batch 0 Loss 0.0016\n",
      "Epoch 215 Batch 20 Loss 0.0019\n",
      "Epoch 215 Batch 40 Loss 0.0022\n",
      "Epoch 215 Batch 60 Loss 0.0021\n",
      "Saving checkpoint for epoch 215 at checkpoints/ckpt-43\n",
      "Epoch: 215 - 11.79 secs - loss: 0.0021\n",
      "Epoch 216 Batch 0 Loss 0.0020\n",
      "Epoch 216 Batch 20 Loss 0.0021\n",
      "Epoch 216 Batch 40 Loss 0.0020\n",
      "Epoch 216 Batch 60 Loss 0.0020\n",
      "Epoch: 216 - 4.66 secs - loss: 0.0020\n",
      "Epoch 217 Batch 0 Loss 0.0017\n",
      "Epoch 217 Batch 20 Loss 0.0018\n",
      "Epoch 217 Batch 40 Loss 0.0018\n",
      "Epoch 217 Batch 60 Loss 0.0019\n",
      "Epoch: 217 - 4.61 secs - loss: 0.0019\n",
      "Epoch 218 Batch 0 Loss 0.0015\n",
      "Epoch 218 Batch 20 Loss 0.0019\n",
      "Epoch 218 Batch 40 Loss 0.0018\n",
      "Epoch 218 Batch 60 Loss 0.0019\n",
      "Epoch: 218 - 4.63 secs - loss: 0.0019\n",
      "Epoch 219 Batch 0 Loss 0.0014\n",
      "Epoch 219 Batch 20 Loss 0.0019\n",
      "Epoch 219 Batch 40 Loss 0.0019\n",
      "Epoch 219 Batch 60 Loss 0.0019\n",
      "Epoch: 219 - 4.67 secs - loss: 0.0019\n",
      "Epoch 220 Batch 0 Loss 0.0020\n",
      "Epoch 220 Batch 20 Loss 0.0018\n",
      "Epoch 220 Batch 40 Loss 0.0019\n",
      "Epoch 220 Batch 60 Loss 0.0018\n",
      "Saving checkpoint for epoch 220 at checkpoints/ckpt-44\n",
      "Epoch: 220 - 11.57 secs - loss: 0.0019\n",
      "Epoch 221 Batch 0 Loss 0.0037\n",
      "Epoch 221 Batch 20 Loss 0.0019\n",
      "Epoch 221 Batch 40 Loss 0.0019\n",
      "Epoch 221 Batch 60 Loss 0.0019\n",
      "Epoch: 221 - 4.65 secs - loss: 0.0019\n",
      "Epoch 222 Batch 0 Loss 0.0023\n",
      "Epoch 222 Batch 20 Loss 0.0018\n",
      "Epoch 222 Batch 40 Loss 0.0019\n",
      "Epoch 222 Batch 60 Loss 0.0020\n",
      "Epoch: 222 - 4.59 secs - loss: 0.0019\n",
      "Epoch 223 Batch 0 Loss 0.0019\n",
      "Epoch 223 Batch 20 Loss 0.0019\n",
      "Epoch 223 Batch 40 Loss 0.0019\n",
      "Epoch 223 Batch 60 Loss 0.0019\n",
      "Epoch: 223 - 4.62 secs - loss: 0.0019\n",
      "Epoch 224 Batch 0 Loss 0.0014\n",
      "Epoch 224 Batch 20 Loss 0.0018\n",
      "Epoch 224 Batch 40 Loss 0.0018\n",
      "Epoch 224 Batch 60 Loss 0.0018\n",
      "Epoch: 224 - 4.64 secs - loss: 0.0018\n",
      "Epoch 225 Batch 0 Loss 0.0014\n",
      "Epoch 225 Batch 20 Loss 0.0017\n",
      "Epoch 225 Batch 40 Loss 0.0019\n",
      "Epoch 225 Batch 60 Loss 0.0019\n",
      "Saving checkpoint for epoch 225 at checkpoints/ckpt-45\n",
      "Epoch: 225 - 11.54 secs - loss: 0.0018\n",
      "Epoch 226 Batch 0 Loss 0.0022\n",
      "Epoch 226 Batch 20 Loss 0.0017\n",
      "Epoch 226 Batch 40 Loss 0.0018\n",
      "Epoch 226 Batch 60 Loss 0.0018\n",
      "Epoch: 226 - 4.65 secs - loss: 0.0018\n",
      "\n",
      "Epoch 00226: ReduceLROnPlateau reducing learning rate to 0.00013421773910522462.\n",
      "\n",
      "Epoch 227 Batch 0 Loss 0.0014\n",
      "Epoch 227 Batch 20 Loss 0.0017\n",
      "Epoch 227 Batch 40 Loss 0.0017\n",
      "Epoch 227 Batch 60 Loss 0.0017\n",
      "Epoch: 227 - 4.61 secs - loss: 0.0017\n",
      "Epoch 228 Batch 0 Loss 0.0013\n",
      "Epoch 228 Batch 20 Loss 0.0017\n",
      "Epoch 228 Batch 40 Loss 0.0017\n",
      "Epoch 228 Batch 60 Loss 0.0017\n",
      "Epoch: 228 - 4.63 secs - loss: 0.0017\n",
      "Epoch 229 Batch 0 Loss 0.0014\n",
      "Epoch 229 Batch 20 Loss 0.0017\n",
      "Epoch 229 Batch 40 Loss 0.0017\n",
      "Epoch 229 Batch 60 Loss 0.0019\n",
      "Epoch: 229 - 4.68 secs - loss: 0.0019\n",
      "Epoch 230 Batch 0 Loss 0.0021\n",
      "Epoch 230 Batch 20 Loss 0.0019\n",
      "Epoch 230 Batch 40 Loss 0.0019\n",
      "Epoch 230 Batch 60 Loss 0.0019\n",
      "Saving checkpoint for epoch 230 at checkpoints/ckpt-46\n",
      "Epoch: 230 - 11.59 secs - loss: 0.0019\n",
      "Epoch 231 Batch 0 Loss 0.0018\n",
      "Epoch 231 Batch 20 Loss 0.0019\n",
      "Epoch 231 Batch 40 Loss 0.0019\n",
      "Epoch 231 Batch 60 Loss 0.0018\n",
      "Epoch: 231 - 4.64 secs - loss: 0.0018\n",
      "Epoch 232 Batch 0 Loss 0.0015\n",
      "Epoch 232 Batch 20 Loss 0.0017\n",
      "Epoch 232 Batch 40 Loss 0.0018\n",
      "Epoch 232 Batch 60 Loss 0.0019\n",
      "Epoch: 232 - 4.61 secs - loss: 0.0018\n",
      "Epoch 233 Batch 0 Loss 0.0015\n",
      "Epoch 233 Batch 20 Loss 0.0017\n",
      "Epoch 233 Batch 40 Loss 0.0017\n",
      "Epoch 233 Batch 60 Loss 0.0017\n",
      "Epoch: 233 - 4.62 secs - loss: 0.0017\n",
      "Epoch 234 Batch 0 Loss 0.0021\n",
      "Epoch 234 Batch 20 Loss 0.0017\n",
      "Epoch 234 Batch 40 Loss 0.0017\n",
      "Epoch 234 Batch 60 Loss 0.0016\n",
      "Epoch: 234 - 4.64 secs - loss: 0.0017\n",
      "Epoch 235 Batch 0 Loss 0.0017\n",
      "Epoch 235 Batch 20 Loss 0.0018\n",
      "Epoch 235 Batch 40 Loss 0.0017\n",
      "Epoch 235 Batch 60 Loss 0.0017\n",
      "Saving checkpoint for epoch 235 at checkpoints/ckpt-47\n",
      "Epoch: 235 - 11.54 secs - loss: 0.0017\n",
      "\n",
      "Epoch 00235: ReduceLROnPlateau reducing learning rate to 0.00010737419361248613.\n",
      "\n",
      "Epoch 236 Batch 0 Loss 0.0013\n",
      "Epoch 236 Batch 20 Loss 0.0017\n",
      "Epoch 236 Batch 40 Loss 0.0017\n",
      "Epoch 236 Batch 60 Loss 0.0017\n",
      "Epoch: 236 - 4.66 secs - loss: 0.0017\n",
      "Epoch 237 Batch 0 Loss 0.0014\n",
      "Epoch 237 Batch 20 Loss 0.0016\n",
      "Epoch 237 Batch 40 Loss 0.0016\n",
      "Epoch 237 Batch 60 Loss 0.0017\n",
      "Epoch: 237 - 4.60 secs - loss: 0.0016\n",
      "Epoch 238 Batch 0 Loss 0.0014\n",
      "Epoch 238 Batch 20 Loss 0.0016\n",
      "Epoch 238 Batch 40 Loss 0.0016\n",
      "Epoch 238 Batch 60 Loss 0.0016\n",
      "Epoch: 238 - 4.64 secs - loss: 0.0016\n",
      "Epoch 239 Batch 0 Loss 0.0022\n",
      "Epoch 239 Batch 20 Loss 0.0015\n",
      "Epoch 239 Batch 40 Loss 0.0015\n",
      "Epoch 239 Batch 60 Loss 0.0016\n",
      "Epoch: 239 - 4.69 secs - loss: 0.0016\n",
      "Epoch 240 Batch 0 Loss 0.0022\n",
      "Epoch 240 Batch 20 Loss 0.0017\n",
      "Epoch 240 Batch 40 Loss 0.0017\n",
      "Epoch 240 Batch 60 Loss 0.0017\n",
      "Saving checkpoint for epoch 240 at checkpoints/ckpt-48\n",
      "Epoch: 240 - 12.00 secs - loss: 0.0016\n"
     ]
    }
   ],
   "source": [
    "for epoch in range(len(history), len(history)+EPOCHS):\n",
    "    start = time.time()\n",
    "\n",
    "    train_loss.reset_states()\n",
    "    val_loss.reset_states()\n",
    "    \n",
    "    for (batch, (inp, tar, inp_pad, tar_pad)) in enumerate(training_batches):\n",
    "        train_step(inp, tar, inp_pad, tar_pad)\n",
    "    \n",
    "        # 6.3k samples\n",
    "        # we display 3 batch results -- 0th, middle and last one (approx)\n",
    "        # 6.3k / 64 ~ 100; 100 / 5 = 20\n",
    "        if batch % 20 == 0:\n",
    "            print ('Epoch {} Batch {} Loss {:.4f}'.format(epoch + 1, batch, train_loss.result()))\n",
    "        \n",
    "    if (epoch + 1) % 5 == 0:\n",
    "        ckpt_save_path = ckpt_manager.save()\n",
    "        print ('Saving checkpoint for epoch {} at {}'.format(epoch+1, ckpt_save_path))\n",
    "    \n",
    "    # Run a validation loop at the end of each epoch.    \n",
    "    # test_step(validatn_set, BATCH_SIZE)\n",
    "    \n",
    "    # print ('Epoch: {} - {:.2f} secs - loss: {:.4f} - val_loss: {:.4f}'.format(epoch + 1, time.time() - start, train_loss.result(), val_loss.result()))\n",
    "    print ('Epoch: {} - {:.2f} secs - loss: {:.4f}'.format(epoch + 1, time.time() - start, train_loss.result()))\n",
    "    \n",
    "    reduce_rl_plateau.on_epoch_end(epoch, train_loss.result())\n",
    "    history.append(train_loss.result())\n"
   ]
  },
  {
   "cell_type": "code",
   "execution_count": 297,
   "metadata": {
    "colab": {
     "base_uri": "https://localhost:8080/",
     "height": 513
    },
    "executionInfo": {
     "elapsed": 955,
     "status": "ok",
     "timestamp": 1666339872776,
     "user": {
      "displayName": "Gary Ng",
      "userId": "02885211737705035727"
     },
     "user_tz": 420
    },
    "id": "jiB-eN5oBi4z",
    "outputId": "b41955b3-8c49-4b08-b1b3-e8d5f1a1aa51"
   },
   "outputs": [
    {
     "data": {
      "image/png": "[encoded data removed]",
      "text/plain": [
       "<Figure size 576x576 with 1 Axes>"
      ]
     },
     "metadata": {
      "needs_background": "light"
     },
     "output_type": "display_data"
    }
   ],
   "source": [
    "plt.figure(figsize=(8, 8))\n",
    "plt.title(\"Learning curve\")\n",
    "plt.plot(history, label=\"loss\")\n",
    "plt.xlabel(\"Epochs\")\n",
    "plt.ylabel(\"loss\")\n",
    "plt.legend();\n",
    "# transformer.summary()"
   ]
  },
  {
   "cell_type": "markdown",
   "metadata": {
    "id": "PVbEUCZagJ0G"
   },
   "source": [
    "# Inference"
   ]
  },
  {
   "cell_type": "markdown",
   "metadata": {
    "id": "-QrHoQui-_Eo"
   },
   "source": [
    "## Survey Model Weights"
   ]
  },
  {
   "cell_type": "code",
   "execution_count": 298,
   "metadata": {
    "colab": {
     "base_uri": "https://localhost:8080/",
     "height": 533
    },
    "executionInfo": {
     "elapsed": 11589,
     "status": "ok",
     "timestamp": 1666339890380,
     "user": {
      "displayName": "Gary Ng",
      "userId": "02885211737705035727"
     },
     "user_tz": 420
    },
    "id": "NqGdAR0cmP19",
    "outputId": "3d7d57e7-fe78-432f-b274-bd0fcfd0edaa"
   },
   "outputs": [
    {
        "output_type": "stream",
        "name": "stdout",
        "text":
        [
            "Model: \"transformer_4\"\n",
            "_________________________________________________________________\n",
            " Layer (type)                Output Shape              Param #   \n",
            "=================================================================\n",
            " encoder_4 (Encoder)         multiple                  56662016  \n",
            "                                                                 \n",
            " decoder_4 (Decoder)         multiple                  73451520  \n",
            "                                                                 \n",
            " sequential_19 (Sequential)  (None, 3, 32, 32, 3)      6294528   \n",
            "                                                                 \n",
            "=================================================================\n",
            "Total params: 130,112,512\n",
            "Trainable params: 130,112,512\n",
            "Non-trainable params: 0\n",
            "_________________________________________________________________\n"
        ]
    },
    {
        "output_type": "display_data",
        "data":
        {
            "text/plain":
            [
                "<Figure size 432x288 with 1 Axes>"
            ],
            "image/png": "[encoded data removed]"
        },
        "metadata":
        {
            "needs_background": "light"
        }
    }    
   ],
   "source": [
    "transformer.summary()\n",
    "# weights = transformer.get_weights()\n",
    "for w in transformer.trainable_weights:\n",
    "    # print(np.sum(np.isnan(w)))\n",
    "    pr, _ = np.histogram(w, bins=np.linspace(-1.5, 1.5, 200), density=True)\n",
    "    plt.plot(np.linspace(-1.5, 1.5, len(pr)), pr) # , label='real', color='g', linewidth=2)"
   ]
  },
  {
   "cell_type": "code",
   "execution_count": 299,
   "metadata": {
    "colab": {
     "base_uri": "https://localhost:8080/",
     "height": 428
    },
    "executionInfo": {
     "elapsed": 11018,
     "status": "ok",
     "timestamp": 1666339906044,
     "user": {
      "displayName": "Gary Ng",
      "userId": "02885211737705035727"
     },
     "user_tz": 420
    },
    "id": "3fF19-jB_HKs",
    "outputId": "fd34aae2-c1f0-4b5b-caa4-ffc2d904ac18"
   },
   "outputs": [
    {
     "name": "stderr",
     "output_type": "stream",
     "text": [
      "/usr/local/lib/python3.7/dist-packages/numpy/lib/histograms.py:906: RuntimeWarning: invalid value encountered in true_divide\n",
      "  return n/db/n.sum(), bin_edges\n",
      "/usr/local/lib/python3.7/dist-packages/numpy/lib/histograms.py:906: RuntimeWarning: invalid value encountered in true_divide\n",
      "  return n/db/n.sum(), bin_edges\n",
      "/usr/local/lib/python3.7/dist-packages/numpy/lib/histograms.py:906: RuntimeWarning: invalid value encountered in true_divide\n",
      "  return n/db/n.sum(), bin_edges\n",
      "/usr/local/lib/python3.7/dist-packages/numpy/lib/histograms.py:906: RuntimeWarning: invalid value encountered in true_divide\n",
      "  return n/db/n.sum(), bin_edges\n"
     ]
    },
    {
     "data": {
      "image/png": "[encoded data removed]",
      "text/plain": [
       "<Figure size 432x288 with 1 Axes>"
      ]
     },
     "metadata": {
      "needs_background": "light"
     },
     "output_type": "display_data"
    }
   ],
   "source": [
    "for w in transformer.trainable_weights:\n",
    "    # print(np.sum(np.isnan(w)))\n",
    "    pr, _ = np.histogram(w, bins=np.linspace(-0.05, 0.05, 100), density=True)\n",
    "    plt.plot(np.linspace(-0.05, 0.05, len(pr)), pr) # , label='real', color='g', linewidth=2)\n",
    "# plt.clf()"
   ]
  },
  {
   "cell_type": "markdown",
   "metadata": {
    "id": "Ba7Tg4zfBi40"
   },
   "source": [
    "## Solving and Plotting Utilities"
   ]
  },
  {
   "cell_type": "code",
   "execution_count": 300,
   "metadata": {
    "executionInfo": {
     "elapsed": 137,
     "status": "ok",
     "timestamp": 1666339913984,
     "user": {
      "displayName": "Gary Ng",
      "userId": "02885211737705035727"
     },
     "user_tz": 420
    },
    "id": "epMphSaRBi40"
   },
   "outputs": [],
   "source": [
    "# Plot task grids      \n",
    "def plot_task( inp, tar, pred, idx ):\n",
    "    fig, axes = plt.subplots(1, len(inp[idx]), figsize = (7, 20))\n",
    "    for i in range(len(inp[idx])):\n",
    "        plot_one(axes[i], np.array(inp[idx][i]), \"\", trim=False) \n",
    "    fig, axes = plt.subplots(1, len(tar[idx]), figsize = (15, 20))\n",
    "    for i in range(len(tar[idx])):\n",
    "        plot_one(axes[i], np.array(tar[idx][i]), \"\", trim=False)\n",
    "    fig, axes = plt.subplots(1, len(pred), figsize = (15, 20))\n",
    "    for i in range(len(pred)):\n",
    "        plot_one(axes[i], np.array(pred[i]), \"\", trim=False)        "
   ]
  },
  {
   "cell_type": "code",
   "execution_count": 301,
   "metadata": {
    "executionInfo": {
     "elapsed": 123,
     "status": "ok",
     "timestamp": 1666339915782,
     "user": {
      "displayName": "Gary Ng",
      "userId": "02885211737705035727"
     },
     "user_tz": 420
    },
    "id": "g3rPdMTVBi40"
   },
   "outputs": [],
   "source": [
    "def solve_and_plot(from_dataset, inp_labels, target_labels, idxs=None):\n",
    "\n",
    "    (inp, tar, inp_pad, tar_pad) = from_dataset\n",
    "    if not idxs:\n",
    "        # Pick a random one        \n",
    "        idxs = [np.random.randint(0, len(inp))]\n",
    "        \n",
    "    for idx in idxs:\n",
    "        print(\"Task index: {}, Input: {}, Target: {}\".format(idx, inp_labels[idx], target_labels[idx]))\n",
    "        # Run prediction\n",
    "        pred, loss, stop_detected = solve_one(inp[idx], tar[idx], inp_pad[idx], tar_pad[idx])       \n",
    "        accurate = is_exact_match(tar[idx], pred)\n",
    "        print(\"Result Elements: {}, Accurate: {}, Shape: {}, Stopped: {}\".format(len(pred), accurate, pred.shape, stop_detected))\n",
    "        print(\"Loss\", loss)\n",
    "        plot_task( inp, tar, pred, idx )\n",
    "        "
   ]
  },
  {
   "cell_type": "markdown",
   "metadata": {
    "id": "W2Rz5LmUBi40"
   },
   "source": [
    "## Random Pick from Training Set"
   ]
  },
  {
   "cell_type": "code",
   "execution_count": 302,
   "metadata": {
    "colab": {
     "base_uri": "https://localhost:8080/",
     "height": 632
    },
    "executionInfo": {
     "elapsed": 1963,
     "status": "ok",
     "timestamp": 1666341802556,
     "user": {
      "displayName": "Gary Ng",
      "userId": "02885211737705035727"
     },
     "user_tz": 420
    },
    "id": "I9nttArpBi40",
    "outputId": "b9c63b7f-6ec5-4af8-811e-9254b6dc71ec"
   },
   "outputs": [
    {
     "name": "stdout",
     "output_type": "stream",
     "text": [
      "Task index: 3528, Input: 759f3fd3_train_1|759f3fd3_train_1, Target: 759f3fd3_train_1|759f3fd3_train_1\n",
      "Result Elements: 4, Accurate: False, Shape: (4, 32, 32, 3), Stopped: True\n",
      "Loss tf.Tensor(0.004193237517029047, shape=(), dtype=float64)\n"
     ]
    },
    {
     "data": {
      "image/png": "[encoded data removed]",
      "text/plain": [
       "<Figure size 504x1440 with 2 Axes>"
      ]
     },
     "metadata": {
      "needs_background": "light"
     },
     "output_type": "display_data"
    },
    {
     "data": {
      "image/png": "[encoded data removed]",
      "text/plain": [
       "<Figure size 1080x1440 with 4 Axes>"
      ]
     },
     "metadata": {
      "needs_background": "light"
     },
     "output_type": "display_data"
    },
    {
     "data": {
      "image/png": "[encoded data removed]",
      "text/plain": [
       "<Figure size 1080x1440 with 4 Axes>"
      ]
     },
     "metadata": {
      "needs_background": "light"
     },
     "output_type": "display_data"
    }
   ],
   "source": [
    "solve_and_plot(training_set, train_inp_labels, train_tar_labels)"
   ]
  },
  {
   "cell_type": "markdown",
   "metadata": {
    "id": "WUk7QaZPBi40"
   },
   "source": [
    "## Random Pick from Test Set"
   ]
  },
  {
   "cell_type": "code",
   "execution_count": 303,
   "metadata": {
    "colab": {
     "base_uri": "https://localhost:8080/",
     "height": 632
    },
    "executionInfo": {
     "elapsed": 2988,
     "status": "ok",
     "timestamp": 1666339941758,
     "user": {
      "displayName": "Gary Ng",
      "userId": "02885211737705035727"
     },
     "user_tz": 420
    },
    "id": "kNVOWPXFIn0k",
    "outputId": "3eea9f09-7138-469c-86eb-efea79381aaa"
   },
   "outputs": [
    {
     "name": "stdout",
     "output_type": "stream",
     "text": [
      "Task index: 350, Input: d687bc17_train_0|d687bc17_test_0, Target: d687bc17_train_0|d687bc17_test_0\n",
      "Result Elements: 4, Accurate: False, Shape: (4, 32, 32, 3), Stopped: True\n",
      "Loss tf.Tensor(0.015351656824350357, shape=(), dtype=float64)\n"
     ]
    },
    {
     "data": {
      "image/png": "[encoded data removed]",
      "text/plain": [
       "<Figure size 504x1440 with 2 Axes>"
      ]
     },
     "metadata": {
      "needs_background": "light"
     },
     "output_type": "display_data"
    },
    {
     "data": {
      "image/png": "[encoded data removed]",
      "text/plain": [
       "<Figure size 1080x1440 with 4 Axes>"
      ]
     },
     "metadata": {
      "needs_background": "light"
     },
     "output_type": "display_data"
    },
    {
     "data": {
      "image/png": "[encoded data removed]",
      "text/plain": [
       "<Figure size 1080x1440 with 4 Axes>"
      ]
     },
     "metadata": {
      "needs_background": "light"
     },
     "output_type": "display_data"
    }
   ],
   "source": [
    "solve_and_plot(validatn_set, valid_inp_labels, valid_tar_labels)"
   ]
  },
  {
   "cell_type": "markdown",
   "metadata": {
    "id": "mk_1uBuuBi41"
   },
   "source": [
    "## Try some known test cases"
   ]
  },
  {
   "cell_type": "code",
   "execution_count": 304,
   "metadata": {
    "id": "zh4jLjrAeMy_"
   },
   "outputs": [
    {
     "name": "stdout",
     "output_type": "stream",
     "text": [
      "d931c21c_train_2|d931c21c_train_3\n",
      "9172f3a0_train_1\n",
      "ca8f78db_train_1|ca8f78db_train_2\n",
      "Task index: 4610, Input: d931c21c_train_2|d931c21c_train_3, Target: d931c21c_train_2|d931c21c_train_3\n",
      "Result Elements: 4, Accurate: True, Shape: (4, 32, 32, 3), Stopped: True\n",
      "Loss tf.Tensor(0.00023862744274083525, shape=(), dtype=float64)\n",
      "Task index: 1327, Input: 9172f3a0_train_1|9172f3a0_train_1, Target: 9172f3a0_train_1|9172f3a0_train_1\n",
      "Result Elements: 4, Accurate: False, Shape: (4, 32, 32, 3), Stopped: True\n",
      "Loss tf.Tensor(0.001485044020228088, shape=(), dtype=float64)\n",
      "Task index: 4422, Input: ca8f78db_train_1|ca8f78db_train_2, Target: ca8f78db_train_1|ca8f78db_train_2\n",
      "Result Elements: 4, Accurate: True, Shape: (4, 32, 32, 3), Stopped: True\n",
      "Loss tf.Tensor(0.0004693637019954622, shape=(), dtype=float64)\n",
      "Task index: 613, Input: 7d18a6fb_train_0|7d18a6fb_test_0, Target: 7d18a6fb_train_0|7d18a6fb_test_0\n",
      "Result Elements: 4, Accurate: False, Shape: (4, 32, 32, 3), Stopped: True\n",
      "Loss tf.Tensor(0.011134712025523186, shape=(), dtype=float64)\n",
      "Task index: 17, Input: 0e206a2e_train_0|0e206a2e_test_0, Target: 0e206a2e_train_0|0e206a2e_test_0\n",
      "Result Elements: 4, Accurate: False, Shape: (4, 32, 32, 3), Stopped: True\n",
      "Loss tf.Tensor(0.011709021404385567, shape=(), dtype=float64)\n",
      "Task index: 337, Input: d23f8c26_train_0|d23f8c26_test_0, Target: d23f8c26_train_0|d23f8c26_test_0\n",
      "Result Elements: 4, Accurate: False, Shape: (4, 32, 32, 3), Stopped: True\n",
      "Loss tf.Tensor(0.0031602478120476007, shape=(), dtype=float64)\n",
      "Task index: 540, Input: 4f537728_train_0|4f537728_test_0, Target: 4f537728_train_0|4f537728_test_0\n",
      "Result Elements: 4, Accurate: False, Shape: (4, 32, 32, 3), Stopped: True\n",
      "Loss tf.Tensor(0.04349353909492493, shape=(), dtype=float64)\n",
      "Task index: 103, Input: 444801d8_train_0|444801d8_test_0, Target: 444801d8_train_0|444801d8_test_0\n"
     ]
    },
    {
     "name": "stderr",
     "output_type": "stream",
     "text": [
      "/Users/garyng/.local/lib/python3.7/site-packages/ipykernel_launcher.py:9: RuntimeWarning: More than 20 figures have been opened. Figures created through the pyplot interface (`matplotlib.pyplot.figure`) are retained until explicitly closed and may consume too much memory. (To control this warning, see the rcParam `figure.max_open_warning`).\n",
      "  if __name__ == '__main__':\n"
     ]
    },
    {
     "name": "stdout",
     "output_type": "stream",
     "text": [
      "Result Elements: 4, Accurate: False, Shape: (4, 32, 32, 3), Stopped: True\n",
      "Loss tf.Tensor(0.00727548822760582, shape=(), dtype=float64)\n"
     ]
    },
    {
     "name": "stderr",
     "output_type": "stream",
     "text": [
      "/Users/garyng/.local/lib/python3.7/site-packages/ipykernel_launcher.py:3: RuntimeWarning: More than 20 figures have been opened. Figures created through the pyplot interface (`matplotlib.pyplot.figure`) are retained until explicitly closed and may consume too much memory. (To control this warning, see the rcParam `figure.max_open_warning`).\n",
      "  This is separate from the ipykernel package so we can avoid doing imports until\n",
      "/Users/garyng/.local/lib/python3.7/site-packages/ipykernel_launcher.py:6: RuntimeWarning: More than 20 figures have been opened. Figures created through the pyplot interface (`matplotlib.pyplot.figure`) are retained until explicitly closed and may consume too much memory. (To control this warning, see the rcParam `figure.max_open_warning`).\n",
      "  \n"
     ]
    },
    {
     "data": {
      "image/png": "[encoded data removed]",
      "text/plain": [
       "<Figure size 504x1440 with 2 Axes>"
      ]
     },
     "metadata": {
      "needs_background": "light"
     },
     "output_type": "display_data"
    },
    {
     "data": {
      "image/png": "[encoded data removed]",
      "text/plain": [
       "<Figure size 1080x1440 with 4 Axes>"
      ]
     },
     "metadata": {
      "needs_background": "light"
     },
     "output_type": "display_data"
    },
    {
     "data": {
      "image/png": "[encoded data removed]",
      "text/plain": [
       "<Figure size 1080x1440 with 4 Axes>"
      ]
     },
     "metadata": {
      "needs_background": "light"
     },
     "output_type": "display_data"
    },
    {
     "data": {
      "image/png": "[encoded data removed]",
      "text/plain": [
       "<Figure size 504x1440 with 2 Axes>"
      ]
     },
     "metadata": {
      "needs_background": "light"
     },
     "output_type": "display_data"
    },
    {
     "data": {
      "image/png": "[encoded data removed]",
      "text/plain": [
       "<Figure size 1080x1440 with 4 Axes>"
      ]
     },
     "metadata": {
      "needs_background": "light"
     },
     "output_type": "display_data"
    },
    {
     "data": {
      "image/png": "[encoded data removed]",
      "text/plain": [
       "<Figure size 1080x1440 with 4 Axes>"
      ]
     },
     "metadata": {
      "needs_background": "light"
     },
     "output_type": "display_data"
    },
    {
     "data": {
      "image/png": "[encoded data removed]",
      "text/plain": [
       "<Figure size 504x1440 with 2 Axes>"
      ]
     },
     "metadata": {
      "needs_background": "light"
     },
     "output_type": "display_data"
    },
    {
     "data": {
      "image/png": "[encoded data removed]",
      "text/plain": [
       "<Figure size 1080x1440 with 4 Axes>"
      ]
     },
     "metadata": {
      "needs_background": "light"
     },
     "output_type": "display_data"
    },
    {
     "data": {
      "image/png": "[encoded data removed]",
      "text/plain": [
       "<Figure size 1080x1440 with 4 Axes>"
      ]
     },
     "metadata": {
      "needs_background": "light"
     },
     "output_type": "display_data"
    },
    {
     "data": {
      "image/png": "[encoded data removed]",
      "text/plain": [
       "<Figure size 504x1440 with 2 Axes>"
      ]
     },
     "metadata": {
      "needs_background": "light"
     },
     "output_type": "display_data"
    },
    {
     "data": {
      "image/png": "[encoded data removed]",
      "text/plain": [
       "<Figure size 1080x1440 with 4 Axes>"
      ]
     },
     "metadata": {
      "needs_background": "light"
     },
     "output_type": "display_data"
    },
    {
     "data": {
      "image/png": "[encoded data removed]",
      "text/plain": [
       "<Figure size 1080x1440 with 4 Axes>"
      ]
     },
     "metadata": {
      "needs_background": "light"
     },
     "output_type": "display_data"
    },
    {
     "data": {
      "image/png": "[encoded data removed]",
      "text/plain": [
       "<Figure size 504x1440 with 2 Axes>"
      ]
     },
     "metadata": {
      "needs_background": "light"
     },
     "output_type": "display_data"
    },
    {
     "data": {
      "image/png": "[encoded data removed]",
      "text/plain": [
       "<Figure size 1080x1440 with 4 Axes>"
      ]
     },
     "metadata": {
      "needs_background": "light"
     },
     "output_type": "display_data"
    },
    {
     "data": {
      "image/png": "[encoded data removed]",
      "text/plain": [
       "<Figure size 1080x1440 with 4 Axes>"
      ]
     },
     "metadata": {
      "needs_background": "light"
     },
     "output_type": "display_data"
    },
    {
     "data": {
      "image/png": "[encoded data removed]",
      "text/plain": [
       "<Figure size 504x1440 with 2 Axes>"
      ]
     },
     "metadata": {
      "needs_background": "light"
     },
     "output_type": "display_data"
    },
    {
     "data": {
      "image/png": "[encoded data removed]",
      "text/plain": [
       "<Figure size 1080x1440 with 4 Axes>"
      ]
     },
     "metadata": {
      "needs_background": "light"
     },
     "output_type": "display_data"
    },
    {
     "data": {
      "image/png": "[encoded data removed]",
      "text/plain": [
       "<Figure size 1080x1440 with 4 Axes>"
      ]
     },
     "metadata": {
      "needs_background": "light"
     },
     "output_type": "display_data"
    },
    {
     "data": {
      "image/png": "[encoded data removed]",
      "text/plain": [
       "<Figure size 504x1440 with 2 Axes>"
      ]
     },
     "metadata": {
      "needs_background": "light"
     },
     "output_type": "display_data"
    },
    {
     "data": {
      "image/png": "[encoded data removed]",
      "text/plain": [
       "<Figure size 1080x1440 with 4 Axes>"
      ]
     },
     "metadata": {
      "needs_background": "light"
     },
     "output_type": "display_data"
    },
    {
     "data": {
      "image/png": "[encoded data removed]",
      "text/plain": [
       "<Figure size 1080x1440 with 4 Axes>"
      ]
     },
     "metadata": {
      "needs_background": "light"
     },
     "output_type": "display_data"
    },
    {
     "data": {
      "image/png": "[encoded data removed]",
      "text/plain": [
       "<Figure size 504x1440 with 2 Axes>"
      ]
     },
     "metadata": {
      "needs_background": "light"
     },
     "output_type": "display_data"
    },
    {
     "data": {
      "image/png": "[encoded data removed]",
      "text/plain": [
       "<Figure size 1080x1440 with 4 Axes>"
      ]
     },
     "metadata": {
      "needs_background": "light"
     },
     "output_type": "display_data"
    },
    {
     "data": {
      "image/png": "[encoded data removed]",
      "text/plain": [
       "<Figure size 1080x1440 with 4 Axes>"
      ]
     },
     "metadata": {
      "needs_background": "light"
     },
     "output_type": "display_data"
    }
   ],
   "source": [
    "cases = ['d931c21c_train_2|d931c21c_train_3','9172f3a0_train_1','ca8f78db_train_1|ca8f78db_train_2']\n",
    "inds = []\n",
    "for c in cases:\n",
    "    print(c)\n",
    "    inds.append(next(i for i, s in enumerate(train_inp_labels) if s.startswith(c)))\n",
    "solve_and_plot(training_set, train_inp_labels, train_tar_labels, inds)\n",
    "\n",
    "cases = ['7d18a6fb_test_0','0e206a2e_test_0','d23f8c26_test_0','4f537728_test_0','444801d8_test_0']\n",
    "inds = []\n",
    "for c in cases:\n",
    "    inds.append(next(i for i, s in enumerate(valid_inp_labels) if s.endswith(c)))\n",
    "solve_and_plot(validatn_set, valid_inp_labels, valid_tar_labels, inds)\n"
   ]
  },
  {
   "cell_type": "markdown",
   "metadata": {
    "id": "abiEb-JcBi41"
   },
   "source": [
    "# Score Test Set"
   ]
  },
  {
   "cell_type": "code",
   "execution_count": 305,
   "metadata": {
    "executionInfo": {
     "elapsed": 162,
     "status": "ok",
     "timestamp": 1666339947176,
     "user": {
      "displayName": "Gary Ng",
      "userId": "02885211737705035727"
     },
     "user_tz": 420
    },
    "id": "CzqWBFZYBi41"
   },
   "outputs": [],
   "source": [
    "def score(data_set):\n",
    "\n",
    "  val_loss.reset_states()\n",
    "  stops_found=0\n",
    "  accurate=[]\n",
    "\n",
    "  (inp, tar, inp_pad, tar_pad) = data_set\n",
    "  for idx in range(len(inp)):\n",
    "      pred, loss, stop_detected = solve_one(inp[idx], tar[idx], inp_pad[idx], tar_pad[idx])\n",
    "      if is_exact_match(tar[idx], pred):\n",
    "          accurate.append(idx)\n",
    "      val_loss(loss)\n",
    "      stops_found+= stop_detected\n",
    "      if idx % np.around(len(inp) / 10) == 0:\n",
    "          print(\"processed\", idx)\n",
    "      \n",
    "  print(\"Count: {}, Avg loss: {:.4f}, Accuracy: {} ({:.4f}), Stops found: {}\".format(len(inp), val_loss.result(), len(accurate), len(accurate)/len(inp), stops_found))\n",
    "  return accurate"
   ]
  },
  {
   "cell_type": "code",
   "execution_count": 306,
   "metadata": {
    "colab": {
     "base_uri": "https://localhost:8080/"
    },
    "executionInfo": {
     "elapsed": 134156,
     "status": "ok",
     "timestamp": 1666340083210,
     "user": {
      "displayName": "Gary Ng",
      "userId": "02885211737705035727"
     },
     "user_tz": 420
    },
    "id": "hwdACHoNMXv4",
    "outputId": "bc7d7bba-6d89-470f-ef20-1650a51e2572"
   },
   "outputs": [
    {
     "name": "stdout",
     "output_type": "stream",
     "text": [
      "processed 0\n",
      "processed 84\n",
      "processed 168\n",
      "processed 252\n",
      "processed 336\n",
      "processed 420\n",
      "processed 504\n",
      "processed 588\n",
      "processed 672\n",
      "processed 756\n",
      "Count: 835, Avg loss: 0.0160, Accuracy: 0 (0.0000), Stops found: 816\n",
      "[]\n"
     ]
    }
   ],
   "source": [
    "correct_idxs = score(validatn_set)\n",
    "print(correct_idxs)"
   ]
  },
  {
   "cell_type": "code",
   "execution_count": 307,
   "metadata": {
    "colab": {
     "base_uri": "https://localhost:8080/",
     "height": 632
    },
    "executionInfo": {
     "elapsed": 2003,
     "status": "ok",
     "timestamp": 1666340404239,
     "user": {
      "displayName": "Gary Ng",
      "userId": "02885211737705035727"
     },
     "user_tz": 420
    },
    "id": "O2MF-QQtUSGv",
    "outputId": "c99a9aa8-a842-4dc6-a118-f3c2747d5250"
   },
   "outputs": [
    {
     "name": "stdout",
     "output_type": "stream",
     "text": [
      "Task index: 42, Input: 2281f1f4_train_0|2281f1f4_test_0, Target: 2281f1f4_train_0|2281f1f4_test_0\n",
      "Result Elements: 4, Accurate: False, Shape: (4, 32, 32, 3), Stopped: True\n",
      "Loss tf.Tensor(0.00280543090775609, shape=(), dtype=float64)\n"
     ]
    },
    {
     "data": {
      "image/png": "[encoded data removed]",
      "text/plain": [
       "<Figure size 504x1440 with 2 Axes>"
      ]
     },
     "metadata": {
      "needs_background": "light"
     },
     "output_type": "display_data"
    },
    {
     "data": {
      "image/png": "[encoded data removed]",
      "text/plain": [
       "<Figure size 1080x1440 with 4 Axes>"
      ]
     },
     "metadata": {
      "needs_background": "light"
     },
     "output_type": "display_data"
    },
    {
     "data": {
      "image/png": "[encoded data removed]",
      "text/plain": [
       "<Figure size 1080x1440 with 4 Axes>"
      ]
     },
     "metadata": {
      "needs_background": "light"
     },
     "output_type": "display_data"
    }
   ],
   "source": [
    "solve_and_plot(validatn_set, valid_inp_labels, valid_tar_labels, correct_idxs)"
   ]
  },
  {
   "cell_type": "markdown",
   "metadata": {
    "id": "4lJv_R0XWUw3"
   },
   "source": [
    "# Score Train Set"
   ]
  },
  {
   "cell_type": "code",
   "execution_count": 308,
   "metadata": {
    "colab": {
     "base_uri": "https://localhost:8080/"
    },
    "executionInfo": {
     "elapsed": 848046,
     "status": "ok",
     "timestamp": 1666341265986,
     "user": {
      "displayName": "Gary Ng",
      "userId": "02885211737705035727"
     },
     "user_tz": 420
    },
    "id": "jRlWS-k9Bi41",
    "outputId": "be10bfe4-878f-4426-c101-3d1f0ba837da"
   },
   "outputs": [
    {
     "name": "stdout",
     "output_type": "stream",
     "text": [
      "processed 0\n",
      "processed 510\n",
      "processed 1020\n",
      "processed 1530\n",
      "processed 2040\n",
      "processed 2550\n",
      "processed 3060\n",
      "processed 3570\n",
      "processed 4080\n",
      "processed 4590\n",
      "Count: 5100, Avg loss: 0.0016, Accuracy: 1216 (0.2384), Stops found: 5043\n",
      "[8, 9, 10, 11, 12, 13, 14, 15, 28, 29, 30, 31, 53, 54, 55, 56, 61, 62, 63, 68, 69, 70, 71, 72, 73, 74, 75, 76, 94, 95, 96, 97, 108, 109, 110, 132, 151, 152, 172, 173, 174, 175, 189, 262, 263, 264, 265, 295, 296, 297, 298, 299, 300, 301, 345, 346, 347, 348, 394, 395, 396, 397, 398, 399, 400, 401, 411, 412, 413, 414, 415, 416, 417, 418, 419, 429, 430, 433, 434, 435, 439, 440, 441, 448, 449, 459, 460, 461, 462, 477, 478, 479, 480, 481, 482, 483, 484, 485, 494, 495, 506, 507, 508, 509, 520, 552, 553, 554, 558, 559, 560, 566, 567, 574, 575, 579, 580, 582, 583, 584, 599, 600, 616, 617, 618, 619, 620, 621, 622, 623, 624, 644, 645, 646, 647, 648, 649, 650, 651, 656, 657, 658, 659, 690, 691, 692, 693, 694, 695, 703, 704, 705, 706, 715, 716, 734, 735, 736, 762, 763, 764, 819, 820, 821, 822, 823, 824, 887, 888, 889, 890, 893, 894, 900, 901, 902, 903, 981, 982, 983, 984, 1038, 1039, 1040, 1041, 1042, 1043, 1044, 1045, 1046, 1064, 1065, 1066, 1067, 1068, 1069, 1070, 1071, 1072, 1073, 1074, 1075, 1076, 1077, 1078, 1079, 1080, 1081, 1082, 1083, 1084, 1085, 1086, 1087, 1088, 1089, 1090, 1092, 1093, 1094, 1099, 1100, 1101, 1102, 1103, 1104, 1105, 1106, 1107, 1108, 1109, 1110, 1111, 1113, 1114, 1115, 1116, 1117, 1136, 1137, 1138, 1139, 1140, 1141, 1142, 1143, 1144, 1145, 1146, 1147, 1148, 1161, 1162, 1163, 1164, 1165, 1166, 1167, 1168, 1169, 1171, 1172, 1196, 1197, 1198, 1199, 1217, 1218, 1219, 1220, 1221, 1222, 1223, 1224, 1225, 1232, 1233, 1234, 1235, 1236, 1237, 1238, 1239, 1240, 1241, 1242, 1243, 1244, 1245, 1246, 1247, 1248, 1249, 1250, 1263, 1264, 1265, 1266, 1290, 1291, 1292, 1301, 1302, 1314, 1315, 1316, 1320, 1321, 1322, 1378, 1379, 1380, 1381, 1434, 1435, 1436, 1437, 1499, 1500, 1501, 1502, 1545, 1567, 1568, 1569, 1570, 1587, 1588, 1642, 1653, 1654, 1655, 1656, 1657, 1658, 1659, 1660, 1661, 1662, 1663, 1664, 1665, 1666, 1667, 1670, 1671, 1683, 1684, 1685, 1686, 1687, 1688, 1689, 1690, 1691, 1705, 1706, 1707, 1708, 1713, 1714, 1715, 1716, 1725, 1726, 1727, 1728, 1729, 1730, 1731, 1732, 1741, 1742, 1743, 1744, 1745, 1746, 1751, 1753, 1754, 1755, 1756, 1757, 1758, 1811, 1812, 1817, 1818, 1903, 1904, 1905, 1906, 1965, 1967, 2010, 2011, 2055, 2056, 2057, 2058, 2059, 2060, 2061, 2062, 2063, 2139, 2140, 2141, 2142, 2172, 2173, 2178, 2179, 2187, 2188, 2222, 2223, 2224, 2225, 2243, 2244, 2245, 2246, 2268, 2269, 2270, 2338, 2339, 2340, 2341, 2342, 2343, 2344, 2345, 2351, 2353, 2365, 2367, 2394, 2398, 2408, 2409, 2410, 2411, 2412, 2413, 2414, 2415, 2423, 2424, 2425, 2426, 2427, 2428, 2433, 2434, 2435, 2436, 2437, 2438, 2439, 2440, 2459, 2460, 2461, 2462, 2467, 2468, 2469, 2470, 2471, 2472, 2473, 2474, 2475, 2498, 2499, 2500, 2501, 2511, 2512, 2513, 2530, 2531, 2532, 2533, 2547, 2548, 2549, 2560, 2561, 2562, 2563, 2570, 2571, 2572, 2573, 2574, 2581, 2582, 2583, 2584, 2587, 2588, 2595, 2596, 2597, 2598, 2619, 2620, 2621, 2622, 2623, 2624, 2662, 2663, 2664, 2665, 2666, 2667, 2668, 2669, 2670, 2671, 2672, 2673, 2674, 2683, 2685, 2686, 2687, 2688, 2689, 2690, 2691, 2701, 2702, 2703, 2704, 2709, 2710, 2721, 2723, 2724, 2726, 2727, 2728, 2729, 2730, 2731, 2732, 2733, 2734, 2735, 2737, 2738, 2739, 2740, 2756, 2757, 2758, 2759, 2760, 2772, 2773, 2774, 2783, 2784, 2785, 2853, 2854, 2855, 2856, 2857, 2858, 2863, 2864, 2865, 2866, 2904, 2905, 2906, 2907, 2911, 2912, 2913, 2933, 2934, 2935, 2936, 2938, 2939, 2940, 2941, 2942, 2943, 2944, 2945, 2946, 2947, 2948, 2949, 2995, 2996, 2997, 2998, 3004, 3005, 3006, 3007, 3028, 3029, 3030, 3031, 3032, 3033, 3034, 3035, 3036, 3043, 3044, 3057, 3058, 3061, 3062, 3063, 3064, 3065, 3066, 3067, 3068, 3069, 3090, 3091, 3092, 3093, 3094, 3095, 3096, 3097, 3098, 3099, 3105, 3106, 3107, 3108, 3109, 3110, 3111, 3112, 3113, 3114, 3115, 3116, 3117, 3118, 3128, 3129, 3130, 3131, 3145, 3146, 3147, 3148, 3153, 3154, 3155, 3156, 3157, 3183, 3184, 3191, 3192, 3193, 3194, 3195, 3196, 3197, 3198, 3199, 3200, 3201, 3202, 3203, 3206, 3207, 3217, 3218, 3219, 3220, 3221, 3222, 3223, 3224, 3225, 3226, 3227, 3228, 3229, 3234, 3235, 3236, 3237, 3238, 3243, 3244, 3245, 3246, 3247, 3248, 3249, 3250, 3264, 3265, 3266, 3267, 3277, 3282, 3284, 3285, 3286, 3287, 3288, 3289, 3290, 3291, 3292, 3293, 3294, 3295, 3296, 3297, 3298, 3299, 3346, 3383, 3384, 3385, 3392, 3394, 3395, 3396, 3397, 3472, 3473, 3474, 3502, 3503, 3504, 3505, 3506, 3507, 3531, 3532, 3542, 3543, 3544, 3545, 3546, 3547, 3548, 3549, 3550, 3551, 3552, 3553, 3566, 3567, 3568, 3569, 3570, 3581, 3582, 3583, 3584, 3585, 3599, 3600, 3601, 3602, 3619, 3620, 3621, 3622, 3623, 3624, 3625, 3626, 3627, 3628, 3629, 3630, 3635, 3636, 3637, 3638, 3639, 3640, 3641, 3642, 3660, 3661, 3662, 3666, 3667, 3668, 3687, 3688, 3689, 3705, 3706, 3710, 3711, 3712, 3713, 3714, 3715, 3719, 3720, 3721, 3722, 3723, 3724, 3725, 3726, 3732, 3733, 3734, 3735, 3736, 3737, 3738, 3739, 3740, 3741, 3742, 3770, 3771, 3772, 3773, 3774, 3775, 3776, 3777, 3778, 3779, 3780, 3790, 3797, 3798, 3799, 3800, 3801, 3802, 3803, 3804, 3805, 3842, 3843, 3846, 3847, 3848, 3849, 3850, 3851, 3852, 3853, 3854, 3855, 3856, 3857, 3858, 3861, 3862, 3863, 3864, 3874, 3875, 3876, 3877, 3887, 3888, 3889, 3890, 3891, 3892, 3893, 3894, 3895, 3898, 3899, 3900, 3901, 3902, 3903, 3904, 3905, 3906, 3907, 3908, 3909, 3919, 3920, 3921, 3922, 3927, 3928, 3929, 3930, 3935, 3936, 3937, 3944, 3945, 3946, 3947, 3973, 3974, 3975, 3976, 3978, 3979, 3980, 3981, 3984, 3985, 3986, 3987, 3988, 3989, 3990, 3991, 3997, 3998, 3999, 4000, 4001, 4002, 4007, 4008, 4009, 4010, 4015, 4016, 4017, 4018, 4023, 4024, 4025, 4026, 4040, 4041, 4042, 4043, 4062, 4063, 4064, 4065, 4088, 4089, 4090, 4091, 4092, 4096, 4097, 4098, 4127, 4128, 4129, 4130, 4131, 4132, 4146, 4147, 4148, 4149, 4150, 4151, 4152, 4153, 4154, 4163, 4164, 4165, 4181, 4182, 4183, 4184, 4201, 4202, 4203, 4204, 4205, 4206, 4207, 4208, 4209, 4210, 4211, 4212, 4213, 4214, 4215, 4216, 4217, 4226, 4227, 4228, 4229, 4234, 4235, 4236, 4237, 4238, 4259, 4260, 4263, 4264, 4265, 4266, 4271, 4272, 4293, 4294, 4295, 4296, 4297, 4298, 4311, 4312, 4313, 4314, 4315, 4316, 4317, 4318, 4319, 4320, 4321, 4324, 4325, 4326, 4327, 4378, 4379, 4380, 4381, 4384, 4385, 4386, 4387, 4388, 4389, 4390, 4391, 4399, 4406, 4407, 4408, 4409, 4410, 4411, 4412, 4413, 4414, 4420, 4421, 4422, 4423, 4426, 4427, 4432, 4433, 4434, 4435, 4436, 4442, 4443, 4444, 4445, 4446, 4447, 4448, 4449, 4450, 4451, 4452, 4453, 4454, 4455, 4456, 4481, 4482, 4513, 4523, 4524, 4525, 4526, 4527, 4528, 4529, 4530, 4531, 4532, 4533, 4534, 4547, 4548, 4549, 4550, 4551, 4552, 4606, 4607, 4608, 4609, 4610, 4611, 4612, 4613, 4614, 4615, 4622, 4623, 4625, 4626, 4627, 4628, 4629, 4630, 4631, 4632, 4633, 4634, 4644, 4645, 4646, 4652, 4653, 4687, 4688, 4689, 4690, 4691, 4692, 4708, 4709, 4710, 4711, 4736, 4737, 4738, 4739, 4760, 4761, 4762, 4763, 4781, 4782, 4783, 4784, 4804, 4806, 4811, 4812, 4813, 4814, 4828, 4829, 4830, 4831, 4832, 4833, 4834, 4835, 4877, 4878, 4879, 4880, 4881, 4882, 4885, 4886, 4887, 4888, 4889, 4890, 4958, 4971, 4972, 4973, 4974, 4977, 4978, 4979, 4980, 4981, 4982, 5020, 5021, 5022, 5023, 5048, 5049, 5050, 5058, 5059, 5060, 5061, 5062, 5063, 5064, 5065, 5066, 5084, 5085]\n"
     ]
    }
   ],
   "source": [
    "correct_idxs = score(training_set)\n",
    "print(correct_idxs)"
   ]
  },
  {
   "cell_type": "markdown",
   "metadata": {
    "id": "H9yZcs1qWgJW"
   },
   "source": [
    "## Plot Correct Train Tasks"
   ]
  },
  {
   "cell_type": "code",
   "execution_count": 309,
   "metadata": {
    "colab": {
     "base_uri": "https://localhost:8080/",
     "height": 1000
    },
    "executionInfo": {
     "elapsed": 15132,
     "status": "ok",
     "timestamp": 1666341719688,
     "user": {
      "displayName": "Gary Ng",
      "userId": "02885211737705035727"
     },
     "user_tz": 420
    },
    "id": "US1YshaBQ5tW",
    "outputId": "4d1fc2a3-4884-49ff-a2b7-83ecc629a9ce"
   },
   "outputs": [
    {
     "name": "stdout",
     "output_type": "stream",
     "text": [
      "1216\n",
      "[11, 4436, 3238, 3638, 4711, 1083, 4406, 3222, 3638, 619]\n",
      "Task index: 11, Input: 007bbfb7_train_4|007bbfb7_train_3, Target: 007bbfb7_train_4|007bbfb7_train_3\n",
      "Result Elements: 4, Accurate: True, Shape: (4, 32, 32, 3), Stopped: True\n",
      "Loss tf.Tensor(0.0003074124688282609, shape=(), dtype=float64)\n",
      "Task index: 4436, Input: ccd554ac_train_5|ccd554ac_train_1, Target: ccd554ac_train_5|ccd554ac_train_1\n",
      "Result Elements: 4, Accurate: True, Shape: (4, 32, 32, 3), Stopped: True\n",
      "Loss tf.Tensor(0.00023235415574163198, shape=(), dtype=float64)\n",
      "Task index: 3238, Input: 55783887_train_4|55783887_train_1, Target: 55783887_train_4|55783887_train_1\n",
      "Result Elements: 4, Accurate: True, Shape: (4, 32, 32, 3), Stopped: True\n",
      "Loss tf.Tensor(0.0004922270309180021, shape=(), dtype=float64)\n",
      "Task index: 3638, Input: 817e6c09_train_4|817e6c09_train_1, Target: 817e6c09_train_4|817e6c09_train_1\n",
      "Result Elements: 4, Accurate: True, Shape: (4, 32, 32, 3), Stopped: True\n",
      "Loss tf.Tensor(0.0005999779677949846, shape=(), dtype=float64)\n",
      "Task index: 4711, Input: e41c6fd3_train_2|e41c6fd3_train_2, Target: e41c6fd3_train_2|e41c6fd3_train_2\n",
      "Result Elements: 4, Accurate: True, Shape: (4, 32, 32, 3), Stopped: True\n",
      "Loss tf.Tensor(0.0004198767419438809, shape=(), dtype=float64)\n",
      "Task index: 1083, Input: 794b24be_train_2|794b24be_train_3, Target: 794b24be_train_2|794b24be_train_3\n",
      "Result Elements: 4, Accurate: True, Shape: (4, 32, 32, 3), Stopped: True\n",
      "Loss tf.Tensor(0.00015569973038509488, shape=(), dtype=float64)\n",
      "Task index: 4406, Input: c92b942c_train_1|c92b942c_train_1, Target: c92b942c_train_1|c92b942c_train_1\n",
      "Result Elements: 4, Accurate: True, Shape: (4, 32, 32, 3), Stopped: True\n",
      "Loss tf.Tensor(0.0003658564237412065, shape=(), dtype=float64)\n",
      "Task index: 3222, Input: 54db823b_train_2|54db823b_train_1, Target: 54db823b_train_2|54db823b_train_1\n"
     ]
    },
    {
     "name": "stderr",
     "output_type": "stream",
     "text": [
      "/Users/garyng/.local/lib/python3.7/site-packages/ipykernel_launcher.py:9: RuntimeWarning: More than 20 figures have been opened. Figures created through the pyplot interface (`matplotlib.pyplot.figure`) are retained until explicitly closed and may consume too much memory. (To control this warning, see the rcParam `figure.max_open_warning`).\n",
      "  if __name__ == '__main__':\n"
     ]
    },
    {
     "name": "stdout",
     "output_type": "stream",
     "text": [
      "Result Elements: 4, Accurate: True, Shape: (4, 32, 32, 3), Stopped: True\n",
      "Loss tf.Tensor(0.0004187057784292847, shape=(), dtype=float64)\n"
     ]
    },
    {
     "name": "stderr",
     "output_type": "stream",
     "text": [
      "/Users/garyng/.local/lib/python3.7/site-packages/ipykernel_launcher.py:3: RuntimeWarning: More than 20 figures have been opened. Figures created through the pyplot interface (`matplotlib.pyplot.figure`) are retained until explicitly closed and may consume too much memory. (To control this warning, see the rcParam `figure.max_open_warning`).\n",
      "  This is separate from the ipykernel package so we can avoid doing imports until\n",
      "/Users/garyng/.local/lib/python3.7/site-packages/ipykernel_launcher.py:6: RuntimeWarning: More than 20 figures have been opened. Figures created through the pyplot interface (`matplotlib.pyplot.figure`) are retained until explicitly closed and may consume too much memory. (To control this warning, see the rcParam `figure.max_open_warning`).\n",
      "  \n"
     ]
    },
    {
     "name": "stdout",
     "output_type": "stream",
     "text": [
      "Task index: 3638, Input: 817e6c09_train_4|817e6c09_train_1, Target: 817e6c09_train_4|817e6c09_train_1\n",
      "Result Elements: 4, Accurate: True, Shape: (4, 32, 32, 3), Stopped: True\n",
      "Loss tf.Tensor(0.0005999779677949846, shape=(), dtype=float64)\n",
      "Task index: 619, Input: 44f52bb0_train_5|44f52bb0_train_2, Target: 44f52bb0_train_5|44f52bb0_train_2\n",
      "Result Elements: 4, Accurate: True, Shape: (4, 32, 32, 3), Stopped: True\n",
      "Loss tf.Tensor(0.00013819683226756752, shape=(), dtype=float64)\n"
     ]
    },
    {
     "data": {
      "image/png": "[encoded data removed]",
      "text/plain": [
       "<Figure size 504x1440 with 2 Axes>"
      ]
     },
     "metadata": {
      "needs_background": "light"
     },
     "output_type": "display_data"
    },
    {
     "data": {
      "image/png": "[encoded data removed]",
      "text/plain": [
       "<Figure size 1080x1440 with 4 Axes>"
      ]
     },
     "metadata": {
      "needs_background": "light"
     },
     "output_type": "display_data"
    },
    {
     "data": {
      "image/png": "[encoded data removed]",
      "text/plain": [
       "<Figure size 1080x1440 with 4 Axes>"
      ]
     },
     "metadata": {
      "needs_background": "light"
     },
     "output_type": "display_data"
    },
    {
     "data": {
      "image/png": "[encoded data removed]",
      "text/plain": [
       "<Figure size 504x1440 with 2 Axes>"
      ]
     },
     "metadata": {
      "needs_background": "light"
     },
     "output_type": "display_data"
    },
    {
     "data": {
      "image/png": "[encoded data removed]",
      "text/plain": [
       "<Figure size 1080x1440 with 4 Axes>"
      ]
     },
     "metadata": {
      "needs_background": "light"
     },
     "output_type": "display_data"
    },
    {
     "data": {
      "image/png": "[encoded data removed]",
      "text/plain": [
       "<Figure size 1080x1440 with 4 Axes>"
      ]
     },
     "metadata": {
      "needs_background": "light"
     },
     "output_type": "display_data"
    },
    {
     "data": {
      "image/png": "[encoded data removed]",
      "text/plain": [
       "<Figure size 504x1440 with 2 Axes>"
      ]
     },
     "metadata": {
      "needs_background": "light"
     },
     "output_type": "display_data"
    },
    {
     "data": {
      "image/png": "[encoded data removed]",
      "text/plain": [
       "<Figure size 1080x1440 with 4 Axes>"
      ]
     },
     "metadata": {
      "needs_background": "light"
     },
     "output_type": "display_data"
    },
    {
     "data": {
      "image/png": "[encoded data removed]",
      "text/plain": [
       "<Figure size 1080x1440 with 4 Axes>"
      ]
     },
     "metadata": {
      "needs_background": "light"
     },
     "output_type": "display_data"
    },
    {
     "data": {
      "image/png": "[encoded data removed]",
      "text/plain": [
       "<Figure size 504x1440 with 2 Axes>"
      ]
     },
     "metadata": {
      "needs_background": "light"
     },
     "output_type": "display_data"
    },
    {
     "data": {
      "image/png": "[encoded data removed]",
      "text/plain": [
       "<Figure size 1080x1440 with 4 Axes>"
      ]
     },
     "metadata": {
      "needs_background": "light"
     },
     "output_type": "display_data"
    },
    {
     "data": {
      "image/png": "[encoded data removed]",
      "text/plain": [
       "<Figure size 1080x1440 with 4 Axes>"
      ]
     },
     "metadata": {
      "needs_background": "light"
     },
     "output_type": "display_data"
    },
    {
     "data": {
      "image/png": "[encoded data removed]",
      "text/plain": [
       "<Figure size 504x1440 with 2 Axes>"
      ]
     },
     "metadata": {
      "needs_background": "light"
     },
     "output_type": "display_data"
    },
    {
     "data": {
      "image/png": "[encoded data removed]",
      "text/plain": [
       "<Figure size 1080x1440 with 4 Axes>"
      ]
     },
     "metadata": {
      "needs_background": "light"
     },
     "output_type": "display_data"
    },
    {
     "data": {
      "image/png": "[encoded data removed]",
      "text/plain": [
       "<Figure size 1080x1440 with 4 Axes>"
      ]
     },
     "metadata": {
      "needs_background": "light"
     },
     "output_type": "display_data"
    },
    {
     "data": {
      "image/png": "[encoded data removed]",
      "text/plain": [
       "<Figure size 504x1440 with 2 Axes>"
      ]
     },
     "metadata": {
      "needs_background": "light"
     },
     "output_type": "display_data"
    },
    {
     "data": {
      "image/png": "[encoded data removed]",
      "text/plain": [
       "<Figure size 1080x1440 with 4 Axes>"
      ]
     },
     "metadata": {
      "needs_background": "light"
     },
     "output_type": "display_data"
    },
    {
     "data": {
      "image/png": "[encoded data removed]",
      "text/plain": [
       "<Figure size 1080x1440 with 4 Axes>"
      ]
     },
     "metadata": {
      "needs_background": "light"
     },
     "output_type": "display_data"
    },
    {
     "data": {
      "image/png": "[encoded data removed]",
      "text/plain": [
       "<Figure size 504x1440 with 2 Axes>"
      ]
     },
     "metadata": {
      "needs_background": "light"
     },
     "output_type": "display_data"
    },
    {
     "data": {
      "image/png": "[encoded data removed]",
      "text/plain": [
       "<Figure size 1080x1440 with 4 Axes>"
      ]
     },
     "metadata": {
      "needs_background": "light"
     },
     "output_type": "display_data"
    },
    {
     "data": {
      "image/png": "[encoded data removed]",
      "text/plain": [
       "<Figure size 1080x1440 with 4 Axes>"
      ]
     },
     "metadata": {
      "needs_background": "light"
     },
     "output_type": "display_data"
    },
    {
     "data": {
      "image/png": "[encoded data removed]",
      "text/plain": [
       "<Figure size 504x1440 with 2 Axes>"
      ]
     },
     "metadata": {
      "needs_background": "light"
     },
     "output_type": "display_data"
    },
    {
     "data": {
      "image/png": "[encoded data removed]",
      "text/plain": [
       "<Figure size 1080x1440 with 4 Axes>"
      ]
     },
     "metadata": {
      "needs_background": "light"
     },
     "output_type": "display_data"
    },
    {
     "data": {
      "image/png": "[encoded data removed]",
      "text/plain": [
       "<Figure size 1080x1440 with 4 Axes>"
      ]
     },
     "metadata": {
      "needs_background": "light"
     },
     "output_type": "display_data"
    },
    {
     "data": {
      "image/png": "[encoded data removed]",
      "text/plain": [
       "<Figure size 504x1440 with 2 Axes>"
      ]
     },
     "metadata": {
      "needs_background": "light"
     },
     "output_type": "display_data"
    },
    {
     "data": {
      "image/png": "[encoded data removed]",
      "text/plain": [
       "<Figure size 1080x1440 with 4 Axes>"
      ]
     },
     "metadata": {
      "needs_background": "light"
     },
     "output_type": "display_data"
    },
    {
     "data": {
      "image/png": "[encoded data removed]",
      "text/plain": [
       "<Figure size 1080x1440 with 4 Axes>"
      ]
     },
     "metadata": {
      "needs_background": "light"
     },
     "output_type": "display_data"
    },
    {
     "data": {
      "image/png": "[encoded data removed]",
      "text/plain": [
       "<Figure size 504x1440 with 2 Axes>"
      ]
     },
     "metadata": {
      "needs_background": "light"
     },
     "output_type": "display_data"
    },
    {
     "data": {
      "image/png": "[encoded data removed]",
      "text/plain": [
       "<Figure size 1080x1440 with 4 Axes>"
      ]
     },
     "metadata": {
      "needs_background": "light"
     },
     "output_type": "display_data"
    },
    {
     "data": {
      "image/png": "[encoded data removed]",
      "text/plain": [
       "<Figure size 1080x1440 with 4 Axes>"
      ]
     },
     "metadata": {
      "needs_background": "light"
     },
     "output_type": "display_data"
    }
   ],
   "source": [
    "print (len(correct_idxs))\n",
    "subset=[ correct_idxs[np.random.randint(0, len(correct_idxs))] for i in range(10) ]\n",
    "print(subset)\n",
    "solve_and_plot(training_set, train_inp_labels, train_tar_labels, subset)\n"
   ]
  },
  {
   "cell_type": "markdown",
   "metadata": {
    "id": "APW97tXrW_Aa"
   },
   "source": [
    "## Plot Corresponding Test Tasks"
   ]
  },
  {
   "cell_type": "code",
   "execution_count": 69,
   "metadata": {
    "colab": {
     "base_uri": "https://localhost:8080/"
    },
    "executionInfo": {
     "elapsed": 4,
     "status": "ok",
     "timestamp": 1666336643666,
     "user": {
      "displayName": "Gary Ng",
      "userId": "02885211737705035727"
     },
     "user_tz": 420
    },
    "id": "DOO9jIVpTQiY",
    "outputId": "0ae7de19-0faf-4ab2-8688-dd43bfd2643e"
   },
   "outputs": [
    {
     "name": "stdout",
     "output_type": "stream",
     "text": [
      "9\n",
      "{'e9bb6954': 0, '8dae5dfc': 1, '09c534e7': 0, '37d3e8b2': 0, '0607ce86': 0, '25094a63': 0, 'b7f8a4d8': 0, '7d1f7ee8': 0, '50f325b5': 0}\n"
     ]
    }
   ],
   "source": [
    "crt = {}\n",
    "for c in subset:\n",
    "  task = train_inp_labels[c].split(\"_\")[0]\n",
    "  if task in crt:\n",
    "    crt[task]+=1\n",
    "  else:\n",
    "    crt[task]=0\n",
    "print(len(crt)) # 24 / 400 - 6%\n",
    "print(crt)"
   ]
  },
  {
   "cell_type": "code",
   "execution_count": 70,
   "metadata": {
    "colab": {
     "base_uri": "https://localhost:8080/",
     "height": 1000
    },
    "executionInfo": {
     "elapsed": 12775,
     "status": "ok",
     "timestamp": 1666336670637,
     "user": {
      "displayName": "Gary Ng",
      "userId": "02885211737705035727"
     },
     "user_tz": 420
    },
    "id": "c0DdCrfgUxdv",
    "outputId": "93c15a1d-623b-44fc-d193-8b2888e3a3a8"
   },
   "outputs": [
    {
     "name": "stdout",
     "output_type": "stream",
     "text": [
      "Task index: 803, Input: e9bb6954_train_0|e9bb6954_test_0, Target: e9bb6954_train_0|e9bb6954_test_0\n",
      "Result Elements: 4, Accurate: False, Shape: (4, 32, 32, 3), Stopped: True\n",
      "Loss tf.Tensor(0.023978802528878754, shape=(), dtype=float64)\n",
      "Task index: 636, Input: 8dae5dfc_train_0|8dae5dfc_test_0, Target: 8dae5dfc_train_0|8dae5dfc_test_0\n",
      "Result Elements: 4, Accurate: False, Shape: (4, 32, 32, 3), Stopped: True\n",
      "Loss tf.Tensor(0.02125575678454353, shape=(), dtype=float64)\n",
      "Task index: 426, Input: 09c534e7_train_0|09c534e7_test_0, Target: 09c534e7_train_0|09c534e7_test_0\n",
      "Result Elements: 4, Accurate: False, Shape: (4, 32, 32, 3), Stopped: True\n",
      "Loss tf.Tensor(0.08066901736170078, shape=(), dtype=float64)\n",
      "Task index: 508, Input: 37d3e8b2_train_0|37d3e8b2_test_0, Target: 37d3e8b2_train_0|37d3e8b2_test_0\n",
      "Result Elements: 4, Accurate: False, Shape: (4, 32, 32, 3), Stopped: True\n",
      "Loss tf.Tensor(0.01618209816406566, shape=(), dtype=float64)\n",
      "Task index: 421, Input: 0607ce86_train_0|0607ce86_test_0, Target: 0607ce86_train_0|0607ce86_test_0\n",
      "Result Elements: 4, Accurate: False, Shape: (4, 32, 32, 3), Stopped: True\n",
      "Loss tf.Tensor(0.033069357712195144, shape=(), dtype=float64)\n",
      "Task index: 478, Input: 25094a63_train_0|25094a63_test_0, Target: 25094a63_train_0|25094a63_test_0\n",
      "Result Elements: 4, Accurate: False, Shape: (4, 32, 32, 3), Stopped: True\n",
      "Loss tf.Tensor(0.13403220131761023, shape=(), dtype=float64)\n",
      "Task index: 705, Input: b7f8a4d8_train_0|b7f8a4d8_test_0, Target: b7f8a4d8_train_0|b7f8a4d8_test_0\n",
      "Result Elements: 4, Accurate: False, Shape: (4, 32, 32, 3), Stopped: True\n",
      "Loss tf.Tensor(0.03660578877789615, shape=(), dtype=float64)\n"
     ]
    },
    {
     "name": "stderr",
     "output_type": "stream",
     "text": [
      "/usr/local/lib/python3.7/dist-packages/ipykernel_launcher.py:9: RuntimeWarning: More than 20 figures have been opened. Figures created through the pyplot interface (`matplotlib.pyplot.figure`) are retained until explicitly closed and may consume too much memory. (To control this warning, see the rcParam `figure.max_open_warning`).\n",
      "  if __name__ == '__main__':\n"
     ]
    },
    {
     "name": "stdout",
     "output_type": "stream",
     "text": [
      "Task index: 614, Input: 7d1f7ee8_train_0|7d1f7ee8_test_0, Target: 7d1f7ee8_train_0|7d1f7ee8_test_0\n",
      "Result Elements: 4, Accurate: False, Shape: (4, 32, 32, 3), Stopped: True\n",
      "Loss tf.Tensor(0.048514140181310283, shape=(), dtype=float64)\n"
     ]
    },
    {
     "name": "stderr",
     "output_type": "stream",
     "text": [
      "/usr/local/lib/python3.7/dist-packages/ipykernel_launcher.py:3: RuntimeWarning: More than 20 figures have been opened. Figures created through the pyplot interface (`matplotlib.pyplot.figure`) are retained until explicitly closed and may consume too much memory. (To control this warning, see the rcParam `figure.max_open_warning`).\n",
      "  This is separate from the ipykernel package so we can avoid doing imports until\n",
      "/usr/local/lib/python3.7/dist-packages/ipykernel_launcher.py:6: RuntimeWarning: More than 20 figures have been opened. Figures created through the pyplot interface (`matplotlib.pyplot.figure`) are retained until explicitly closed and may consume too much memory. (To control this warning, see the rcParam `figure.max_open_warning`).\n",
      "  \n"
     ]
    },
    {
     "name": "stdout",
     "output_type": "stream",
     "text": [
      "Task index: 546, Input: 50f325b5_train_0|50f325b5_test_0, Target: 50f325b5_train_0|50f325b5_test_0\n",
      "Result Elements: 4, Accurate: False, Shape: (4, 32, 32, 3), Stopped: True\n",
      "Loss tf.Tensor(0.01994351779006496, shape=(), dtype=float64)\n"
     ]
    },
    {
     "data": {
      "image/png": "[encoded data removed]",
      "text/plain": [
       "<Figure size 504x1440 with 2 Axes>"
      ]
     },
     "metadata": {
      "needs_background": "light"
     },
     "output_type": "display_data"
    },
    {
     "data": {
      "image/png": "[encoded data removed]",
      "text/plain": [
       "<Figure size 1080x1440 with 4 Axes>"
      ]
     },
     "metadata": {
      "needs_background": "light"
     },
     "output_type": "display_data"
    },
    {
     "data": {
      "image/png": "[encoded data removed]",
      "text/plain": [
       "<Figure size 1080x1440 with 4 Axes>"
      ]
     },
     "metadata": {
      "needs_background": "light"
     },
     "output_type": "display_data"
    },
    {
     "data": {
      "image/png": "[encoded data removed]",
      "text/plain": [
       "<Figure size 504x1440 with 2 Axes>"
      ]
     },
     "metadata": {
      "needs_background": "light"
     },
     "output_type": "display_data"
    },
    {
     "data": {
      "image/png": "[encoded data removed]",
      "text/plain": [
       "<Figure size 1080x1440 with 4 Axes>"
      ]
     },
     "metadata": {
      "needs_background": "light"
     },
     "output_type": "display_data"
    },
    {
     "data": {
      "image/png": "[encoded data removed]",
      "text/plain": [
       "<Figure size 1080x1440 with 4 Axes>"
      ]
     },
     "metadata": {
      "needs_background": "light"
     },
     "output_type": "display_data"
    },
    {
     "data": {
      "image/png": "[encoded data removed]",
      "text/plain": [
       "<Figure size 504x1440 with 2 Axes>"
      ]
     },
     "metadata": {
      "needs_background": "light"
     },
     "output_type": "display_data"
    },
    {
     "data": {
      "image/png": "[encoded data removed]",
      "text/plain": [
       "<Figure size 1080x1440 with 4 Axes>"
      ]
     },
     "metadata": {
      "needs_background": "light"
     },
     "output_type": "display_data"
    },
    {
     "data": {
      "image/png": "[encoded data removed]",
      "text/plain": [
       "<Figure size 1080x1440 with 4 Axes>"
      ]
     },
     "metadata": {
      "needs_background": "light"
     },
     "output_type": "display_data"
    },
    {
     "data": {
      "image/png": "[encoded data removed]",
      "text/plain": [
       "<Figure size 504x1440 with 2 Axes>"
      ]
     },
     "metadata": {
      "needs_background": "light"
     },
     "output_type": "display_data"
    },
    {
     "data": {
      "image/png": "[encoded data removed]",
      "text/plain": [
       "<Figure size 1080x1440 with 4 Axes>"
      ]
     },
     "metadata": {
      "needs_background": "light"
     },
     "output_type": "display_data"
    },
    {
     "data": {
      "image/png": "[encoded data removed]",
      "text/plain": [
       "<Figure size 1080x1440 with 4 Axes>"
      ]
     },
     "metadata": {
      "needs_background": "light"
     },
     "output_type": "display_data"
    },
    {
     "data": {
      "image/png": "[encoded data removed]",
      "text/plain": [
       "<Figure size 504x1440 with 2 Axes>"
      ]
     },
     "metadata": {
      "needs_background": "light"
     },
     "output_type": "display_data"
    },
    {
     "data": {
      "image/png": "[encoded data removed]",
      "text/plain": [
       "<Figure size 1080x1440 with 4 Axes>"
      ]
     },
     "metadata": {
      "needs_background": "light"
     },
     "output_type": "display_data"
    },
    {
     "data": {
      "image/png": "[encoded data removed]",
      "text/plain": [
       "<Figure size 1080x1440 with 4 Axes>"
      ]
     },
     "metadata": {
      "needs_background": "light"
     },
     "output_type": "display_data"
    },
    {
     "data": {
      "image/png": "[encoded data removed]",
      "text/plain": [
       "<Figure size 504x1440 with 2 Axes>"
      ]
     },
     "metadata": {
      "needs_background": "light"
     },
     "output_type": "display_data"
    },
    {
     "data": {
      "image/png": "[encoded data removed]",
      "text/plain": [
       "<Figure size 1080x1440 with 4 Axes>"
      ]
     },
     "metadata": {
      "needs_background": "light"
     },
     "output_type": "display_data"
    },
    {
     "data": {
      "image/png": "[encoded data removed]",
      "text/plain": [
       "<Figure size 1080x1440 with 4 Axes>"
      ]
     },
     "metadata": {
      "needs_background": "light"
     },
     "output_type": "display_data"
    },
    {
     "data": {
      "image/png": "[encoded data removed]",
      "text/plain": [
       "<Figure size 504x1440 with 2 Axes>"
      ]
     },
     "metadata": {
      "needs_background": "light"
     },
     "output_type": "display_data"
    },
    {
     "data": {
      "image/png": "[encoded data removed]",
      "text/plain": [
       "<Figure size 1080x1440 with 4 Axes>"
      ]
     },
     "metadata": {
      "needs_background": "light"
     },
     "output_type": "display_data"
    },
    {
     "data": {
      "image/png": "[encoded data removed]",
      "text/plain": [
       "<Figure size 1080x1440 with 4 Axes>"
      ]
     },
     "metadata": {
      "needs_background": "light"
     },
     "output_type": "display_data"
    },
    {
     "data": {
      "image/png": "[encoded data removed]",
      "text/plain": [
       "<Figure size 504x1440 with 2 Axes>"
      ]
     },
     "metadata": {
      "needs_background": "light"
     },
     "output_type": "display_data"
    },
    {
     "data": {
      "image/png": "[encoded data removed]",
      "text/plain": [
       "<Figure size 1080x1440 with 4 Axes>"
      ]
     },
     "metadata": {
      "needs_background": "light"
     },
     "output_type": "display_data"
    },
    {
     "data": {
      "image/png": "[encoded data removed]",
      "text/plain": [
       "<Figure size 1080x1440 with 4 Axes>"
      ]
     },
     "metadata": {
      "needs_background": "light"
     },
     "output_type": "display_data"
    },
    {
     "data": {
      "image/png": "[encoded data removed]",
      "text/plain": [
       "<Figure size 504x1440 with 2 Axes>"
      ]
     },
     "metadata": {
      "needs_background": "light"
     },
     "output_type": "display_data"
    },
    {
     "data": {
      "image/png": "[encoded data removed]",
      "text/plain": [
       "<Figure size 1080x1440 with 4 Axes>"
      ]
     },
     "metadata": {
      "needs_background": "light"
     },
     "output_type": "display_data"
    },
    {
     "data": {
      "image/png": "[encoded data removed]",
      "text/plain": [
       "<Figure size 1080x1440 with 4 Axes>"
      ]
     },
     "metadata": {
      "needs_background": "light"
     },
     "output_type": "display_data"
    }
   ],
   "source": [
    "cases = [c+\"_test_0\" for c in crt.keys()]\n",
    "inds = []\n",
    "for c in cases:\n",
    "    inds.append(next(i for i, s in enumerate(valid_inp_labels) if s.endswith(c)))\n",
    "solve_and_plot(validatn_set, valid_inp_labels, valid_tar_labels, inds)\n"
   ]
  }
 ],
 "metadata": {
  "accelerator": "GPU",
  "colab": {
   "collapsed_sections": [],
   "provenance": [],
   "toc_visible": true
  },
  "kernelspec": {
   "display_name": "Python 3",
   "language": "python",
   "name": "python3"
  },
  "language_info": {
   "codemirror_mode": {
    "name": "ipython",
    "version": 3
   },
   "file_extension": ".py",
   "mimetype": "text/x-python",
   "name": "python",
   "nbconvert_exporter": "python",
   "pygments_lexer": "ipython3",
   "version": "3.7.6"
  }
 },
 "nbformat": 4,
 "nbformat_minor": 4
}
