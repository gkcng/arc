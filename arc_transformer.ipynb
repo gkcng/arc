{
 "cells": [
  {
   "cell_type": "code",
   "execution_count": null,
   "metadata": {
    "id": "jUMy0GzS32Zm"
   },
   "outputs": [],
   "source": [
    "# Copyright 2019 The TensorFlow Authors.\n",
    "\n",
    "#@title Licensed under the Apache License, Version 2.0 (the \"License\");\n",
    "# you may not use this file except in compliance with the License.\n",
    "# You may obtain a copy of the License at\n",
    "#\n",
    "# https://www.apache.org/licenses/LICENSE-2.0\n",
    "#\n",
    "# Unless required by applicable law or agreed to in writing, software\n",
    "# distributed under the License is distributed on an \"AS IS\" BASIS,\n",
    "# WITHOUT WARRANTIES OR CONDITIONS OF ANY KIND, either express or implied.\n",
    "# See the License for the specific language governing permissions and\n",
    "# limitations under the License.\n",
    "\n",
    "# https://github.com/tensorflow/docs/blob/master/site/en/tutorials/text/transformer.ipynb"
   ]
  },
  {
   "cell_type": "code",
   "execution_count": 3,
   "metadata": {
    "colab": {
     "base_uri": "https://localhost:8080/"
    },
    "executionInfo": {
     "elapsed": 23927,
     "status": "ok",
     "timestamp": 1665824509140,
     "user": {
      "displayName": "Gary Ng",
      "userId": "02885211737705035727"
     },
     "user_tz": 420
    },
    "id": "TkrI9umE4GWU",
    "outputId": "b19c4982-1368-4ce0-9073-d7e7ee6214e0"
   },
   "outputs": [
    {
     "name": "stdout",
     "output_type": "stream",
     "text": [
      "Mounted at /content/drive\n"
     ]
    }
   ],
   "source": [
    "from google.colab import drive\n",
    "drive.mount('/content/drive')"
   ]
  },
  {
   "cell_type": "code",
   "execution_count": null,
   "metadata": {
    "id": "yU201wlF32Zq"
   },
   "outputs": [],
   "source": [
    "# Modifications Copyright (C) 2020 Rohan Jagtap"
   ]
  },
  {
   "cell_type": "code",
   "execution_count": 4,
   "metadata": {
    "colab": {
     "base_uri": "https://localhost:8080/"
    },
    "executionInfo": {
     "elapsed": 678,
     "status": "ok",
     "timestamp": 1665824512463,
     "user": {
      "displayName": "Gary Ng",
      "userId": "02885211737705035727"
     },
     "user_tz": 420
    },
    "id": "ImPCIsrTE5sF",
    "outputId": "9782ed26-49c1-4fde-8999-513a08e3f42c",
    "tags": []
   },
   "outputs": [
    {
     "name": "stdout",
     "output_type": "stream",
     "text": [
      "/content/drive/My Drive/Colab Notebooks/arc_transformer\n"
     ]
    }
   ],
   "source": [
    "cd /content/drive/My Drive/Colab Notebooks/arc_transformer/"
   ]
  },
  {
   "cell_type": "code",
   "execution_count": 5,
   "metadata": {
    "executionInfo": {
     "elapsed": 2290,
     "status": "ok",
     "timestamp": 1665824518845,
     "user": {
      "displayName": "Gary Ng",
      "userId": "02885211737705035727"
     },
     "user_tz": 420
    },
    "id": "Zbxhyl_zFlWL"
   },
   "outputs": [],
   "source": [
    "import pandas as pd\n",
    "import numpy as np\n",
    "import tensorflow as tf\n",
    "import time\n",
    "import re\n",
    "import pickle\n",
    "\n",
    "import matplotlib.pyplot as plt\n",
    "from matplotlib import colors\n",
    "\n",
    "from sklearn.model_selection import train_test_split\n",
    "from sklearn.utils import shuffle"
   ]
  },
  {
   "cell_type": "markdown",
   "metadata": {
    "id": "yH5cg5pSIHaZ"
   },
   "source": [
    "### Loading Data"
   ]
  },
  {
   "cell_type": "code",
   "execution_count": 6,
   "metadata": {
    "executionInfo": {
     "elapsed": 355,
     "status": "ok",
     "timestamp": 1665824525552,
     "user": {
      "displayName": "Gary Ng",
      "userId": "02885211737705035727"
     },
     "user_tz": 420
    },
    "id": "pXYxzRXBN3Yz",
    "tags": []
   },
   "outputs": [],
   "source": [
    "# Set some parameters\n",
    "im_width  = 32\n",
    "im_height = 32\n",
    "\n",
    "# train_dir=\"tgs-salt-identification-challenge/competition_data/train\"\n",
    "data_file=\"data/arc_v6_gsb.npz\""
   ]
  },
  {
   "cell_type": "code",
   "execution_count": 7,
   "metadata": {
    "colab": {
     "base_uri": "https://localhost:8080/"
    },
    "executionInfo": {
     "elapsed": 1842,
     "status": "ok",
     "timestamp": 1665824545390,
     "user": {
      "displayName": "Gary Ng",
      "userId": "02885211737705035727"
     },
     "user_tz": 420
    },
    "id": "yCDhP037N3Y0",
    "outputId": "bcc689db-8a6a-46e4-99ab-74bb71f851a6",
    "tags": []
   },
   "outputs": [
    {
     "name": "stdout",
     "output_type": "stream",
     "text": [
      "No. of grids =  6998\n",
      "Data shape (6998, 32, 32, 3)\n"
     ]
    }
   ],
   "source": [
    "data_dict = np.load(data_file, allow_pickle=True)\n",
    "data   = data_dict[\"x_train\"] # 32 x 32 grids\n",
    "labels = data_dict[\"y_train\"] # <task_id>_<dataset>_<example_num>_<inputoutpu> id string\n",
    "attrs  = data_dict[\"a_train\"] # Metadaa about the task\n",
    "\n",
    "# print(attrs[:10])\n",
    "# print(data[2])\n",
    "# data = data / 255.\n",
    "\n",
    "data, labels, attrs = shuffle(data, labels, attrs, random_state=0)\n",
    "\n",
    "# print(data[10])\n",
    "# data = np.expand_dims(data, -1) # set up array for training\n",
    "\n",
    "print(\"No. of grids = \", len(data))\n",
    "print(\"Data shape\", data.shape)"
   ]
  },
  {
   "cell_type": "markdown",
   "metadata": {
    "id": "rs74xeu332Zx",
    "tags": []
   },
   "source": [
    "#### Data Utiliies"
   ]
  },
  {
   "cell_type": "markdown",
   "metadata": {
    "id": "xw5KEpE032Zy"
   },
   "source": [
    "##### Padding Utils"
   ]
  },
  {
   "cell_type": "code",
   "execution_count": 8,
   "metadata": {
    "executionInfo": {
     "elapsed": 352,
     "status": "ok",
     "timestamp": 1665824558240,
     "user": {
      "displayName": "Gary Ng",
      "userId": "02885211737705035727"
     },
     "user_tz": 420
    },
    "id": "jmeHW0Sg32Z0"
   },
   "outputs": [],
   "source": [
    "# Pad a ARC Task grid for uniformity\n",
    "def pad_grid(grid, bound_shape=(32,32)):\n",
    "    diff = [ bound_shape[i] - grid.shape[i] for i in range(2) ]\n",
    "    return np.pad(grid, [(0,diff[0]),(0,diff[1])], mode='constant', constant_values=(10,))\n",
    "    \n",
    "# Removes padding from a ARC Task grid\n",
    "def trim_grid(padded_grid):\n",
    "    bounds = padded_grid == 10\n",
    "    grid = padded_grid[:np.argmax(np.all(bounds, axis=1)), :np.argmax(np.all(bounds, axis=0))]\n",
    "    # print(grid.shape)\n",
    "    return grid"
   ]
  },
  {
   "cell_type": "markdown",
   "metadata": {
    "id": "DNhNHGgh32Z1",
    "tags": []
   },
   "source": [
    "##### Gyroelongated Square Bipyramid"
   ]
  },
  {
   "cell_type": "code",
   "execution_count": 9,
   "metadata": {
    "executionInfo": {
     "elapsed": 3,
     "status": "ok",
     "timestamp": 1665824560771,
     "user": {
      "displayName": "Gary Ng",
      "userId": "02885211737705035727"
     },
     "user_tz": 420
    },
    "id": "xNKxK9ZMN3Y4"
   },
   "outputs": [],
   "source": [
    "# Represent the 10 colors with a 3D Gyroelongated Square Bipyramid. \n",
    "# Coord 0,0,0 is used for padding purposes.\n",
    "# https://polytope.miraheze.org/wiki/Gyroelongated_square_bipyramid\n",
    "qurt_8 = np.power(8,1/4)\n",
    "sqrt_2 = np.power(2,1/2)\n",
    "# GSB equivalent of the rgbs map\n",
    "solid  = np.array([\n",
    "    [0,          0, +(2*sqrt_2 + qurt_8) / 4],\n",
    "    [0,          0, -(2*sqrt_2 + qurt_8) / 4],\n",
    "    [+0.5,    +0.5,     qurt_8 / 4],\n",
    "    [-0.5,    +0.5,     qurt_8 / 4],\n",
    "    [+0.5,    -0.5,     qurt_8 / 4],\n",
    "    [-0.5,    -0.5,     qurt_8 / 4],\n",
    "    [0, +sqrt_2/2, -qurt_8 / 4],\n",
    "    [0, -sqrt_2/2, -qurt_8 / 4],\n",
    "    [+sqrt_2/2, 0, -qurt_8 / 4],\n",
    "    [-sqrt_2/2, 0, -qurt_8 / 4],\n",
    "    [0,        0,           0]\n",
    "])\n",
    "\n",
    "# Retrieve ARC task grid from the GSB representation\n",
    "gsb_grid_mask = np.tile(solid,(32,32,1,1)) # The result shape is (32, 32, 11, 3)\n",
    "def gsb_to_grid(gsb_grid):\n",
    "    g = gsb_grid.copy()\n",
    "    g = np.expand_dims(g, 2)\n",
    "    dist = np.linalg.norm(gsb_grid_mask - g, axis=3)\n",
    "    recovered = np.argmin(dist, axis=2)\n",
    "    return recovered\n",
    "\n",
    "def grid_to_gsb(grid):\n",
    "    new_grid = np.zeros((32,32,3))\n",
    "    for r, row in enumerate(grid):\n",
    "        for c, cell in enumerate(row):\n",
    "            new_grid[r][c] = solid[cell]\n",
    "    return new_grid\n",
    "\n",
    "# Tests if two GSB grid is the same\n",
    "def is_same_grid(a, b):\n",
    "    result = False\n",
    "    a_grid = gsb_to_grid(a)\n",
    "    b_grid = gsb_to_grid(b)\n",
    "    return np.all(a_grid == b_grid)"
   ]
  },
  {
   "cell_type": "markdown",
   "metadata": {
    "id": "zxUGlrRP32Z2",
    "tags": []
   },
   "source": [
    "##### RGB Color Utils"
   ]
  },
  {
   "cell_type": "code",
   "execution_count": 10,
   "metadata": {
    "executionInfo": {
     "elapsed": 2,
     "status": "ok",
     "timestamp": 1665824564055,
     "user": {
      "displayName": "Gary Ng",
      "userId": "02885211737705035727"
     },
     "user_tz": 420
    },
    "id": "reH5xczJ32Z3"
   },
   "outputs": [],
   "source": [
    "# RGB colors of the ARC tasks.\n",
    "# Added #444444 at index 10 for grid padding\n",
    "rgbs = ['#000000', '#0074D9','#FF4136','#2ECC40','#FFDC00',\n",
    "        '#AAAAAA', '#F012BE', '#FF851B', '#7FDBFF', '#870C25', '#444444']\n",
    "cmap = colors.ListedColormap(rgbs)\n",
    "norm = colors.Normalize(vmin=0, vmax=10)\n",
    "\n",
    "# Map #RGB string to 0->1 RGB values\n",
    "def to_rgb(rgbstr):\n",
    "    return int(rgbstr[1:3],16) / 255, int(rgbstr[3:5],16) / 255, int(rgbstr[5:7],16) / 255\n",
    "\n",
    "# Map a ARC task grid to a 3 channels RGB ndarray, usable in imshow.\n",
    "def grid_to_rgb(color_idx):\n",
    "    # print(color_idx.shape)\n",
    "    (h, w) = color_idx.shape\n",
    "    new_grid = np.zeros((h, w, 3))\n",
    "    for r, row in enumerate(color_idx):\n",
    "        for c, cell in enumerate(row):\n",
    "            R, G, B = to_rgb(rgbs[cell])\n",
    "            new_grid[r][c][0] = R\n",
    "            new_grid[r][c][1] = G\n",
    "            new_grid[r][c][2] = B\n",
    "    return new_grid   "
   ]
  },
  {
   "cell_type": "code",
   "execution_count": 11,
   "metadata": {
    "colab": {
     "base_uri": "https://localhost:8080/",
     "height": 332
    },
    "executionInfo": {
     "elapsed": 6,
     "status": "ok",
     "timestamp": 1665824567353,
     "user": {
      "displayName": "Gary Ng",
      "userId": "02885211737705035727"
     },
     "user_tz": 420
    },
    "id": "OQFxEybC32Z4",
    "outputId": "12771842-1173-46c0-8207-e447989cbff9"
   },
   "outputs": [
    {
     "data": {
      "image/png": "[encoded data removed]",
      "text/plain": [
       "<Figure size 720x504 with 2 Axes>"
      ]
     },
     "metadata": {
      "needs_background": "light"
     },
     "output_type": "display_data"
    }
   ],
   "source": [
    "# Visualize any randome image along with the mask\n",
    "def plot_one(ax, data, label, trim=True):\n",
    "    grid = gsb_to_grid(data)\n",
    "    tl_color = 'green' if np.all(grid == grid) else 'red'\n",
    "    grid = trim_grid(grid) if trim else grid\n",
    "    ax.imshow(grid_to_rgb(grid))\n",
    "    ax.set_title(label, color=tl_color)\n",
    "    \n",
    "fig, (ax1, ax2) = plt.subplots(1, 2, figsize = (10, 7))\n",
    "# 009d5c81_train_0_o\n",
    "# ix = random.randint(0, len(X_train))\n",
    "plot_one(ax1, data[5787], labels[5787])\n",
    "# a680ac02_test_0_i\n",
    "# ix = random.randint(0, len(X_train))\n",
    "plot_one(ax2, data[5837], labels[5837])"
   ]
  },
  {
   "cell_type": "markdown",
   "metadata": {
    "id": "-bV_L9ZA32Z5"
   },
   "source": [
    "#### Start and End Tokens"
   ]
  },
  {
   "cell_type": "code",
   "execution_count": 12,
   "metadata": {
    "executionInfo": {
     "elapsed": 4,
     "status": "ok",
     "timestamp": 1665824569885,
     "user": {
      "displayName": "Gary Ng",
      "userId": "02885211737705035727"
     },
     "user_tz": 420
    },
    "id": "YvTXlccX32Z5"
   },
   "outputs": [],
   "source": [
    "def token_gen(pattern_str):\n",
    "    ps = pattern_str.split('|')\n",
    "    ps_grid = np.array([ list(map(int, list(s))) for s in ps ])\n",
    "    black = ps_grid == 0\n",
    "    white = ps_grid == 1\n",
    "    token_grid = black * 4 + white * 0 # Flip the code to black.\n",
    "    return pad_grid(token_grid)"
   ]
  },
  {
   "cell_type": "code",
   "execution_count": 13,
   "metadata": {
    "colab": {
     "base_uri": "https://localhost:8080/",
     "height": 336
    },
    "executionInfo": {
     "elapsed": 485,
     "status": "ok",
     "timestamp": 1665824571934,
     "user": {
      "displayName": "Gary Ng",
      "userId": "02885211737705035727"
     },
     "user_tz": 420
    },
    "id": "4I_07KkA32Z6",
    "outputId": "0da458fc-4bdc-4407-8a93-dca11fe8daf0"
   },
   "outputs": [
    {
     "data": {
      "text/plain": [
       "Text(0.5, 1.0, 'End')"
      ]
     },
     "execution_count": 13,
     "metadata": {},
     "output_type": "execute_result"
    },
    {
     "data": {
      "image/png": "[encoded data removed]",
      "text/plain": [
       "<Figure size 720x504 with 2 Axes>"
      ]
     },
     "metadata": {
      "needs_background": "light"
     },
     "output_type": "display_data"
    }
   ],
   "source": [
    "# QR code for \"START_TASK\" and \"END_TASK\"\n",
    "start_task_grid = token_gen(\n",
    "'111111100100001111111|100000100011101000001|101110100010001011101|101110100110001011101|\\\n",
    "101110100011101011101|100000101000001000001|111111101010101111111|000000000010000000000|\\\n",
    "100101101101110100000|011010011011010100000|111000110111001100101|111100001010101101000|\\\n",
    "110000101001011110101|000000001000000011010|111111100001111110110|100000101010000010011|\\\n",
    "101110100100111111110|101110101000010000011|101110100101010110001|100000100111100110000|111111101100000110110')\n",
    "end_task_grid   = token_gen(\n",
    "'111111100110001111111|100000101101001000001|101110100010001011101|101110100011001011101|\\\n",
    "101110101111101011101|100000100101001000001|111111101010101111111|000000000010000000000|\\\n",
    "101010100010100010010|111010000011011100110|101100101111010110011|011101010001110010000|\\\n",
    "011110110001001010111|000000001000001000010|111111100010100110111|100000100010001000010|\\\n",
    "101110101000101011100|101110100111010100110|101110101111011111001|100000100101110100010|111111101011011111111')\n",
    "stop_token = grid_to_gsb(end_task_grid)\n",
    "\n",
    "fig, (ax1, ax2) = plt.subplots(1, 2, figsize = (10, 7))\n",
    "\n",
    "ax1.imshow(grid_to_rgb(start_task_grid))\n",
    "ax1.grid(False)\n",
    "ax1.set_title(\"Start\")\n",
    "\n",
    "ax2.imshow(grid_to_rgb(end_task_grid))\n",
    "ax2.grid(False)\n",
    "ax2.set_title(\"End\")"
   ]
  },
  {
   "cell_type": "markdown",
   "metadata": {
    "id": "f8gKyq1gIq4r"
   },
   "source": [
    "### Preprocessing"
   ]
  },
  {
   "cell_type": "markdown",
   "metadata": {
    "id": "-HFf0EfY32Z6"
   },
   "source": [
    "#### Construct Training Data"
   ]
  },
  {
   "cell_type": "code",
   "execution_count": 14,
   "metadata": {
    "colab": {
     "base_uri": "https://localhost:8080/"
    },
    "executionInfo": {
     "elapsed": 723,
     "status": "ok",
     "timestamp": 1665824575151,
     "user": {
      "displayName": "Gary Ng",
      "userId": "02885211737705035727"
     },
     "user_tz": 420
    },
    "id": "TJ6LE4MrJjC_",
    "outputId": "830596f7-a303-4e74-aec3-98665dc8f611"
   },
   "outputs": [
    {
     "name": "stdout",
     "output_type": "stream",
     "text": [
      "Tasks shape (6998, 2, 32, 32, 3) (6998, 3, 32, 32, 3)\n"
     ]
    }
   ],
   "source": [
    "# data, labels, attrs, \n",
    "# Training data comprises: train_task, test_task\n",
    "\n",
    "# Constructing the identity task\n",
    "# train_task_inp - Training task's input, is just a grid and next in sequence is itself.\n",
    "data_inp = np.stack([data, data], axis=1)\n",
    "data_inp_labels = labels\n",
    "data_inp_attrs  = attrs\n",
    "\n",
    "# train_task_tar - Training task's target, is a random shuffle of the training data.\n",
    "# NOTE: We can make a lot more variations, it is a n^2 possibility.\n",
    "shfd_data, shfd_labels, shfd_attrs = shuffle(data, labels, attrs, random_state=0)\n",
    "# Then add the stop token\n",
    "all_stop = np.repeat([stop_token], repeats=shfd_data.shape[0], axis=0)\n",
    "data_tar = np.stack([shfd_data, shfd_data, all_stop], axis=1)\n",
    "data_tar_labels = shfd_labels\n",
    "data_tar_attrs  = shfd_attrs\n",
    "\n",
    "print(\"Tasks shape\", data_inp.shape, data_tar.shape)"
   ]
  },
  {
   "cell_type": "code",
   "execution_count": 15,
   "metadata": {
    "colab": {
     "base_uri": "https://localhost:8080/",
     "height": 602
    },
    "executionInfo": {
     "elapsed": 1209,
     "status": "ok",
     "timestamp": 1665824578826,
     "user": {
      "displayName": "Gary Ng",
      "userId": "02885211737705035727"
     },
     "user_tz": 420
    },
    "id": "ESw8b55o32Z7",
    "outputId": "96b28f14-94ba-42da-8a01-3d85d3cfe15d"
   },
   "outputs": [
    {
     "data": {
      "image/png": "[encoded data removed]",
      "text/plain": [
       "<Figure size 1080x1080 with 6 Axes>"
      ]
     },
     "metadata": {
      "needs_background": "light"
     },
     "output_type": "display_data"
    }
   ],
   "source": [
    "# Take a look at a random task.\n",
    "task_id = 6345\n",
    "fig, axes = plt.subplots(2, 3, figsize = (15, 15))\n",
    "plot_one(axes[0,0], data_inp[task_id][0], data_inp_labels[task_id], trim=False)\n",
    "plot_one(axes[0,1], data_inp[task_id][1], data_inp_labels[task_id], trim=False)\n",
    "axes[0,2].axis('off')\n",
    "plot_one(axes[1,0], data_tar[task_id][0], data_tar_labels[task_id], trim=False)\n",
    "plot_one(axes[1,1], data_tar[task_id][1], data_tar_labels[task_id], trim=False)\n",
    "plot_one(axes[1,2], data_tar[task_id][2], data_tar_labels[task_id], trim=False)"
   ]
  },
  {
   "cell_type": "markdown",
   "metadata": {
    "id": "tJvxypMp32Z7"
   },
   "source": [
    "#### Split train, test set"
   ]
  },
  {
   "cell_type": "code",
   "execution_count": 16,
   "metadata": {
    "colab": {
     "base_uri": "https://localhost:8080/"
    },
    "executionInfo": {
     "elapsed": 356,
     "status": "ok",
     "timestamp": 1665824581775,
     "user": {
      "displayName": "Gary Ng",
      "userId": "02885211737705035727"
     },
     "user_tz": 420
    },
    "id": "d2hBHjKeN3Y1",
    "outputId": "3e27f65c-d145-4814-bbeb-a4bf209b24a5",
    "tags": []
   },
   "outputs": [
    {
     "name": "stdout",
     "output_type": "stream",
     "text": [
      "Training (6298, 2, 32, 32, 3) (6298, 3, 32, 32, 3)\n",
      "Validation (700, 2, 32, 32, 3) (700, 3, 32, 32, 3)\n"
     ]
    }
   ],
   "source": [
    "# Split train and valid\n",
    "(train_inp, valid_inp, train_inp_labels, valid_inp_labels, train_inp_attrs, valid_inp_attrs, train_tar, valid_tar, train_tar_labels, valid_tar_labels, train_tar_attrs, valid_tar_attrs) = train_test_split(\n",
    "    data_inp, data_inp_labels, data_inp_attrs,\n",
    "    data_tar, data_tar_labels, data_tar_attrs, \n",
    "    test_size=0.1, random_state=0)\n",
    "\n",
    "print(\"Training\", train_inp.shape, train_tar.shape)\n",
    "print(\"Validation\", valid_inp.shape, valid_tar.shape)"
   ]
  },
  {
   "cell_type": "code",
   "execution_count": 17,
   "metadata": {
    "executionInfo": {
     "elapsed": 353,
     "status": "ok",
     "timestamp": 1665824583878,
     "user": {
      "displayName": "Gary Ng",
      "userId": "02885211737705035727"
     },
     "user_tz": 420
    },
    "id": "cVeMilXr-bpC"
   },
   "outputs": [],
   "source": [
    "# maxlen - max sequence length\n",
    "encoder_maxlen = 2\n",
    "decoder_maxlen = 4\n",
    "GRID_SHAPE = (32,32,3)"
   ]
  },
  {
   "cell_type": "markdown",
   "metadata": {
    "id": "_SWap3YJBk-D"
   },
   "source": [
    "#### Padding/Truncating sequences for identical sequence lengths"
   ]
  },
  {
   "cell_type": "code",
   "execution_count": 18,
   "metadata": {
    "colab": {
     "base_uri": "https://localhost:8080/"
    },
    "executionInfo": {
     "elapsed": 1244,
     "status": "ok",
     "timestamp": 1665824587549,
     "user": {
      "displayName": "Gary Ng",
      "userId": "02885211737705035727"
     },
     "user_tz": 420
    },
    "id": "vEyUBeu7ACRt",
    "outputId": "5f310260-296a-4336-bab4-083e1492be02"
   },
   "outputs": [
    {
     "name": "stdout",
     "output_type": "stream",
     "text": [
      "(6298, 2, 32, 32, 3) (6298, 4, 32, 32, 3)\n",
      "(6298, 2) (6298, 4)\n",
      "(700, 2, 32, 32, 3) (700, 4, 32, 32, 3)\n",
      "(700, 2) (700, 4)\n"
     ]
    }
   ],
   "source": [
    "zero_grid = np.zeros(GRID_SHAPE)\n",
    "\n",
    "# zero_grid = np.zeros((4,4,3))\n",
    "# one_grid  = np.ones((4,4,3))\n",
    "# mock_train_array = [np.tile(one_grid,(5,1,1,1)), np.tile(one_grid,(3,1,1,1)), np.tile(one_grid,(6,1,1,1))]\n",
    "# mock_pad = np.array([ np.concatenate((i, np.tile(zero_grid,(max(6-len(i),0),1,1,1))), axis=0) for i in mock_train_array ])\n",
    "# print(mock_pad.shape)\n",
    "\n",
    "def standardize_data(data_array, max_seq_length):\n",
    "    # Create the 0 padded (batch, max_len) representaion of both inputs and targets\n",
    "    # This is to be used in create_masks.\n",
    "    data_seq = [ np.ones((len(i)), dtype=np.int32) for i in data_array ]\n",
    "    data_pad = tf.keras.preprocessing.sequence.pad_sequences(data_seq, maxlen=max_seq_length, padding='post', truncating='post')\n",
    "\n",
    "    # Create the zero grid padded version (batch, max_len, GRID_SHAPE[0], GRID_SHAPE[1], GRID_SHAPE[2])\n",
    "    # Thare are the actual inputs.\n",
    "    std_data = np.array([ np.concatenate((i, np.tile(zero_grid,(max(max_seq_length-len(i),0),1,1,1))), axis=0) for i in data_array ])\n",
    "\n",
    "    return std_data, data_pad\n",
    "\n",
    "train_inputs,  train_inputs_pad = standardize_data(train_inp, encoder_maxlen)\n",
    "train_targets, train_targets_pad = standardize_data(train_tar, decoder_maxlen)\n",
    "print(train_inputs.shape, train_targets.shape)\n",
    "print(train_inputs_pad.shape, train_targets_pad.shape)\n",
    "\n",
    "valid_inputs, valid_inputs_pad = standardize_data(valid_inp, encoder_maxlen)\n",
    "valid_targets, valid_targets_pad = standardize_data(valid_tar, decoder_maxlen)\n",
    "print(valid_inputs.shape, valid_targets.shape)\n",
    "print(valid_inputs_pad.shape, valid_targets_pad.shape)"
   ]
  },
  {
   "cell_type": "markdown",
   "metadata": {
    "id": "wIP0kIIcB8Rm"
   },
   "source": [
    "#### Creating dataset pipeline"
   ]
  },
  {
   "cell_type": "code",
   "execution_count": 19,
   "metadata": {
    "executionInfo": {
     "elapsed": 1153,
     "status": "ok",
     "timestamp": 1665824590697,
     "user": {
      "displayName": "Gary Ng",
      "userId": "02885211737705035727"
     },
     "user_tz": 420
    },
    "id": "LzO6l3-AB7hJ"
   },
   "outputs": [],
   "source": [
    "# inputs = tf.cast(inputs, dtype=tf.int32)\n",
    "# targets = tf.cast(targets, dtype=tf.int32)\n",
    "# inputs = train_inp\n",
    "# targets = train_tar"
   ]
  },
  {
   "cell_type": "code",
   "execution_count": 20,
   "metadata": {
    "executionInfo": {
     "elapsed": 3,
     "status": "ok",
     "timestamp": 1665824591134,
     "user": {
      "displayName": "Gary Ng",
      "userId": "02885211737705035727"
     },
     "user_tz": 420
    },
    "id": "slZ5f4P4DurS"
   },
   "outputs": [],
   "source": [
    "BUFFER_SIZE = 20000\n",
    "BATCH_SIZE = 64"
   ]
  },
  {
   "cell_type": "code",
   "execution_count": 21,
   "metadata": {
    "executionInfo": {
     "elapsed": 3410,
     "status": "ok",
     "timestamp": 1665824596360,
     "user": {
      "displayName": "Gary Ng",
      "userId": "02885211737705035727"
     },
     "user_tz": 420
    },
    "id": "wI-fV7eABWN6"
   },
   "outputs": [],
   "source": [
    "training_set = tf.data.Dataset.from_tensor_slices((train_inputs, train_targets, train_inputs_pad, train_targets_pad)).shuffle(BUFFER_SIZE, seed=0).batch(BATCH_SIZE)\n",
    "validatn_set = (valid_inputs, valid_targets, valid_inputs_pad, valid_targets_pad)"
   ]
  },
  {
   "cell_type": "markdown",
   "metadata": {
    "id": "n8DqUBc4NFOy"
   },
   "source": [
    "### Building the Model"
   ]
  },
  {
   "cell_type": "markdown",
   "metadata": {
    "id": "isN1CpAXLfsl"
   },
   "source": [
    "#### Positional Encoding for adding notion of position among words as unlike RNN this is non-directional"
   ]
  },
  {
   "cell_type": "code",
   "execution_count": 22,
   "metadata": {
    "executionInfo": {
     "elapsed": 627,
     "status": "ok",
     "timestamp": 1665824599266,
     "user": {
      "displayName": "Gary Ng",
      "userId": "02885211737705035727"
     },
     "user_tz": 420
    },
    "id": "Purv7oyhETDZ"
   },
   "outputs": [],
   "source": [
    "def get_angles(position, i, d_model):\n",
    "    angle_rates = 1 / np.power(10000, (2 * (i // 2)) / np.float32(d_model))\n",
    "    return position * angle_rates"
   ]
  },
  {
   "cell_type": "code",
   "execution_count": 23,
   "metadata": {
    "executionInfo": {
     "elapsed": 1,
     "status": "ok",
     "timestamp": 1665824600865,
     "user": {
      "displayName": "Gary Ng",
      "userId": "02885211737705035727"
     },
     "user_tz": 420
    },
    "id": "40J2pc2NEXp5"
   },
   "outputs": [],
   "source": [
    "def positional_encoding(position, d_model):\n",
    "    angle_rads = get_angles(\n",
    "        np.arange(position)[:, np.newaxis],\n",
    "        np.arange(d_model)[np.newaxis, :],\n",
    "        d_model\n",
    "    )\n",
    "\n",
    "    # apply sin to even indices in the array; 2i\n",
    "    angle_rads[:, 0::2] = np.sin(angle_rads[:, 0::2])\n",
    "\n",
    "    # apply cos to odd indices in the array; 2i+1\n",
    "    angle_rads[:, 1::2] = np.cos(angle_rads[:, 1::2])\n",
    "\n",
    "    pos_encoding = angle_rads[np.newaxis, ...]\n",
    "\n",
    "    return tf.cast(pos_encoding, dtype=tf.float32)\n"
   ]
  },
  {
   "cell_type": "markdown",
   "metadata": {
    "id": "24Pe01DMMWHc",
    "tags": []
   },
   "source": [
    "#### Masking\n",
    "\n",
    "- Padding mask for masking \"pad\" sequences\n",
    "- Lookahead mask for masking future words from contributing in prediction of current words in self attention\n",
    "- The mask operation is achieved by adding a large negative number, thus the mask convention 0 for content element, 1 is to be masked."
   ]
  },
  {
   "cell_type": "code",
   "execution_count": 24,
   "metadata": {
    "executionInfo": {
     "elapsed": 329,
     "status": "ok",
     "timestamp": 1665824603918,
     "user": {
      "displayName": "Gary Ng",
      "userId": "02885211737705035727"
     },
     "user_tz": 420
    },
    "id": "hN1wVQAdMVYy"
   },
   "outputs": [],
   "source": [
    "def create_padding_mask(seq):\n",
    "    seq = tf.cast(tf.math.equal(seq, 0), tf.float32)\n",
    "    return seq[:, tf.newaxis, tf.newaxis, :]"
   ]
  },
  {
   "cell_type": "code",
   "execution_count": 25,
   "metadata": {
    "executionInfo": {
     "elapsed": 2,
     "status": "ok",
     "timestamp": 1665824605725,
     "user": {
      "displayName": "Gary Ng",
      "userId": "02885211737705035727"
     },
     "user_tz": 420
    },
    "id": "UmjAPLWuMREE"
   },
   "outputs": [],
   "source": [
    "def create_look_ahead_mask(size):\n",
    "    mask = 1 - tf.linalg.band_part(tf.ones((size, size)), -1, 0)\n",
    "    return mask"
   ]
  },
  {
   "cell_type": "markdown",
   "metadata": {
    "id": "WfknVF7hNKf7"
   },
   "source": [
    "#### Scaled Dot Product"
   ]
  },
  {
   "cell_type": "code",
   "execution_count": 26,
   "metadata": {
    "executionInfo": {
     "elapsed": 3,
     "status": "ok",
     "timestamp": 1665824607359,
     "user": {
      "displayName": "Gary Ng",
      "userId": "02885211737705035727"
     },
     "user_tz": 420
    },
    "id": "w_B6M9OBNBKB"
   },
   "outputs": [],
   "source": [
    "def scaled_dot_product_attention(q, k, v, mask):\n",
    "    matmul_qk = tf.matmul(q, k, transpose_b=True)\n",
    "\n",
    "    dk = tf.cast(tf.shape(k)[-1], tf.float32)\n",
    "    scaled_attention_logits = matmul_qk / tf.math.sqrt(dk)\n",
    "\n",
    "    if mask is not None:\n",
    "        scaled_attention_logits += (mask * -1e9)  \n",
    "\n",
    "    attention_weights = tf.nn.softmax(scaled_attention_logits, axis=-1)\n",
    "\n",
    "    output = tf.matmul(attention_weights, v)\n",
    "    return output, attention_weights"
   ]
  },
  {
   "cell_type": "markdown",
   "metadata": {
    "id": "Rf7_a5uQOfJk"
   },
   "source": [
    "#### Multi-Headed Attention"
   ]
  },
  {
   "cell_type": "code",
   "execution_count": 27,
   "metadata": {
    "executionInfo": {
     "elapsed": 511,
     "status": "ok",
     "timestamp": 1665824610697,
     "user": {
      "displayName": "Gary Ng",
      "userId": "02885211737705035727"
     },
     "user_tz": 420
    },
    "id": "iIuFrdXnNZEC"
   },
   "outputs": [],
   "source": [
    "class MultiHeadAttention(tf.keras.layers.Layer):\n",
    "    def __init__(self, d_model, num_heads):\n",
    "        super(MultiHeadAttention, self).__init__()\n",
    "        self.num_heads = num_heads\n",
    "        self.d_model = d_model\n",
    "\n",
    "        assert d_model % self.num_heads == 0\n",
    "\n",
    "        self.depth = d_model // self.num_heads\n",
    "\n",
    "        self.wq = tf.keras.layers.Dense(d_model)\n",
    "        self.wk = tf.keras.layers.Dense(d_model)\n",
    "        self.wv = tf.keras.layers.Dense(d_model)\n",
    "\n",
    "        self.dense = tf.keras.layers.Dense(d_model)\n",
    "        \n",
    "    def split_heads(self, x, batch_size):\n",
    "        x = tf.reshape(x, (batch_size, -1, self.num_heads, self.depth))\n",
    "        return tf.transpose(x, perm=[0, 2, 1, 3])\n",
    "    \n",
    "    def call(self, v, k, q, mask):\n",
    "        batch_size = tf.shape(q)[0]\n",
    "\n",
    "        q = self.wq(q)\n",
    "        k = self.wk(k)\n",
    "        v = self.wv(v)\n",
    "\n",
    "        q = self.split_heads(q, batch_size)\n",
    "        k = self.split_heads(k, batch_size)\n",
    "        v = self.split_heads(v, batch_size)\n",
    "\n",
    "        scaled_attention, attention_weights = scaled_dot_product_attention(\n",
    "            q, k, v, mask)\n",
    "\n",
    "        scaled_attention = tf.transpose(scaled_attention, perm=[0, 2, 1, 3])\n",
    "\n",
    "        concat_attention = tf.reshape(scaled_attention, (batch_size, -1, self.d_model))\n",
    "        output = self.dense(concat_attention)\n",
    "            \n",
    "        return output, attention_weights"
   ]
  },
  {
   "cell_type": "markdown",
   "metadata": {
    "id": "A49tXMVvOkOZ",
    "tags": []
   },
   "source": [
    "#### Feed Forward Network"
   ]
  },
  {
   "cell_type": "code",
   "execution_count": 28,
   "metadata": {
    "executionInfo": {
     "elapsed": 348,
     "status": "ok",
     "timestamp": 1665824614677,
     "user": {
      "displayName": "Gary Ng",
      "userId": "02885211737705035727"
     },
     "user_tz": 420
    },
    "id": "d9-qoKuTNwKq"
   },
   "outputs": [],
   "source": [
    "def point_wise_feed_forward_network(d_model, dff):\n",
    "    return tf.keras.Sequential([\n",
    "        tf.keras.layers.Dense(dff, activation='relu'),\n",
    "        tf.keras.layers.Dense(d_model)\n",
    "    ])"
   ]
  },
  {
   "cell_type": "markdown",
   "metadata": {
    "id": "ONKeakpF32Z_"
   },
   "source": [
    "#### Embedding"
   ]
  },
  {
   "cell_type": "code",
   "execution_count": 29,
   "metadata": {
    "executionInfo": {
     "elapsed": 2,
     "status": "ok",
     "timestamp": 1665824616348,
     "user": {
      "displayName": "Gary Ng",
      "userId": "02885211737705035727"
     },
     "user_tz": 420
    },
    "id": "HE_3ktKL32aA"
   },
   "outputs": [],
   "source": [
    "class EmbeddingLayer(tf.keras.layers.Layer):\n",
    "    # say seq_len = 4,\n",
    "    # Then each should go through the same embedding weights, \n",
    "    # yield dimention d_model\n",
    "    #\n",
    "    # So:\n",
    "    # Input  (batch_size, seq_len, 32, 32, 3)\n",
    "    # Output (batch_size, seq_len, d_model) \n",
    "    #\n",
    "    def __init__(self, in_shape, d_model):\n",
    "        super(EmbeddingLayer, self).__init__()\n",
    "\n",
    "        # Simplest Encoder is just a Dense layer\n",
    "        self.encoder = tf.keras.models.Sequential()\n",
    "        self.encoder.add(tf.keras.layers.InputLayer(in_shape,))\n",
    "        self.encoder.add(tf.keras.layers.Flatten())\n",
    "        self.encoder.add(tf.keras.layers.Dense(d_model)) \n",
    "        \n",
    "    def call(self, x, training):\n",
    "        # Apply the same encoder to each element in the sequence \n",
    "        seq = tf.unstack(x, axis=1)\n",
    "        emb = [ self.encoder( s ) for s in seq ] \n",
    "        output = tf.stack(emb, axis=1)\n",
    "\n",
    "        return output"
   ]
  },
  {
   "cell_type": "markdown",
   "metadata": {
    "id": "B2RRmn2bOpW9"
   },
   "source": [
    "#### Fundamental Unit of Transformer encoder"
   ]
  },
  {
   "cell_type": "code",
   "execution_count": 30,
   "metadata": {
    "executionInfo": {
     "elapsed": 3,
     "status": "ok",
     "timestamp": 1665824618105,
     "user": {
      "displayName": "Gary Ng",
      "userId": "02885211737705035727"
     },
     "user_tz": 420
    },
    "id": "HNuoJoFWO335"
   },
   "outputs": [],
   "source": [
    "class EncoderLayer(tf.keras.layers.Layer):\n",
    "    def __init__(self, d_model, num_heads, dff, rate=0.1):\n",
    "        super(EncoderLayer, self).__init__()\n",
    "\n",
    "        self.mha = MultiHeadAttention(d_model, num_heads)\n",
    "        self.ffn = point_wise_feed_forward_network(d_model, dff)\n",
    "\n",
    "        self.layernorm1 = tf.keras.layers.LayerNormalization(epsilon=1e-6)\n",
    "        self.layernorm2 = tf.keras.layers.LayerNormalization(epsilon=1e-6)\n",
    "\n",
    "        self.dropout1 = tf.keras.layers.Dropout(rate)\n",
    "        self.dropout2 = tf.keras.layers.Dropout(rate)\n",
    "    \n",
    "    def call(self, x, training, mask):\n",
    "        attn_output, _ = self.mha(x, x, x, mask)\n",
    "        attn_output = self.dropout1(attn_output, training=training)\n",
    "        out1 = self.layernorm1(x + attn_output)\n",
    "\n",
    "        ffn_output = self.ffn(out1)\n",
    "        ffn_output = self.dropout2(ffn_output, training=training)\n",
    "        out2 = self.layernorm2(out1 + ffn_output)\n",
    "\n",
    "        return out2\n"
   ]
  },
  {
   "cell_type": "markdown",
   "metadata": {
    "id": "9i6Zh8gnPqdW"
   },
   "source": [
    "#### Fundamental Unit of Transformer decoder"
   ]
  },
  {
   "cell_type": "code",
   "execution_count": 31,
   "metadata": {
    "executionInfo": {
     "elapsed": 339,
     "status": "ok",
     "timestamp": 1665824620797,
     "user": {
      "displayName": "Gary Ng",
      "userId": "02885211737705035727"
     },
     "user_tz": 420
    },
    "id": "7CVmvs6dPMRC"
   },
   "outputs": [],
   "source": [
    "class DecoderLayer(tf.keras.layers.Layer):\n",
    "    def __init__(self, d_model, num_heads, dff, rate=0.1):\n",
    "        super(DecoderLayer, self).__init__()\n",
    "\n",
    "        self.mha1 = MultiHeadAttention(d_model, num_heads)\n",
    "        self.mha2 = MultiHeadAttention(d_model, num_heads)\n",
    "\n",
    "        self.ffn = point_wise_feed_forward_network(d_model, dff)\n",
    "\n",
    "        self.layernorm1 = tf.keras.layers.LayerNormalization(epsilon=1e-6)\n",
    "        self.layernorm2 = tf.keras.layers.LayerNormalization(epsilon=1e-6)\n",
    "        self.layernorm3 = tf.keras.layers.LayerNormalization(epsilon=1e-6)\n",
    "\n",
    "        self.dropout1 = tf.keras.layers.Dropout(rate)\n",
    "        self.dropout2 = tf.keras.layers.Dropout(rate)\n",
    "        self.dropout3 = tf.keras.layers.Dropout(rate)\n",
    "    \n",
    "    \n",
    "    def call(self, x, enc_output, training, look_ahead_mask, padding_mask):\n",
    "        attn1, attn_weights_block1 = self.mha1(x, x, x, look_ahead_mask)\n",
    "        attn1 = self.dropout1(attn1, training=training)\n",
    "        out1 = self.layernorm1(attn1 + x)\n",
    "\n",
    "        attn2, attn_weights_block2 = self.mha2(enc_output, enc_output, out1, padding_mask)\n",
    "        attn2 = self.dropout2(attn2, training=training)\n",
    "        out2 = self.layernorm2(attn2 + out1)\n",
    "\n",
    "        ffn_output = self.ffn(out2)\n",
    "        ffn_output = self.dropout3(ffn_output, training=training)\n",
    "        out3 = self.layernorm3(ffn_output + out2)\n",
    "\n",
    "        return out3, attn_weights_block1, attn_weights_block2\n"
   ]
  },
  {
   "cell_type": "markdown",
   "metadata": {
    "id": "6zt5MUc_QNid"
   },
   "source": [
    "#### Encoder consisting of multiple EncoderLayer(s)"
   ]
  },
  {
   "cell_type": "code",
   "execution_count": 32,
   "metadata": {
    "executionInfo": {
     "elapsed": 3,
     "status": "ok",
     "timestamp": 1665824623814,
     "user": {
      "displayName": "Gary Ng",
      "userId": "02885211737705035727"
     },
     "user_tz": 420
    },
    "id": "BrbnTwijQJ-h"
   },
   "outputs": [],
   "source": [
    "class Encoder(tf.keras.layers.Layer):\n",
    "    def __init__(self, num_layers, d_model, num_heads, dff, maximum_position_encoding, embedding_layer, rate=0.1):\n",
    "        super(Encoder, self).__init__()\n",
    "\n",
    "        self.d_model = d_model\n",
    "        self.num_layers = num_layers\n",
    "\n",
    "        self.embedding = embedding_layer # tf.keras.layers.Embedding(input_vocab_size, d_model)\n",
    "        self.pos_encoding = positional_encoding(maximum_position_encoding, self.d_model)\n",
    "\n",
    "        self.enc_layers = [EncoderLayer(d_model, num_heads, dff, rate) for _ in range(num_layers)]\n",
    "\n",
    "        self.dropout = tf.keras.layers.Dropout(rate)\n",
    "        \n",
    "    def call(self, x, training, mask):\n",
    "        seq_len = tf.shape(x)[1]\n",
    "\n",
    "        x = self.embedding(x)\n",
    "        x *= tf.math.sqrt(tf.cast(self.d_model, tf.float32))\n",
    "        x += self.pos_encoding[:, :seq_len, :]\n",
    "\n",
    "        x = self.dropout(x, training=training)\n",
    "    \n",
    "        for i in range(self.num_layers):\n",
    "            x = self.enc_layers[i](x, training, mask)\n",
    "    \n",
    "        return x\n"
   ]
  },
  {
   "cell_type": "markdown",
   "metadata": {
    "id": "4N5LrNrvRexg"
   },
   "source": [
    "#### Decoder consisting of multiple DecoderLayer(s)"
   ]
  },
  {
   "cell_type": "code",
   "execution_count": 33,
   "metadata": {
    "executionInfo": {
     "elapsed": 3,
     "status": "ok",
     "timestamp": 1665824626441,
     "user": {
      "displayName": "Gary Ng",
      "userId": "02885211737705035727"
     },
     "user_tz": 420
    },
    "id": "UmeqkZrIRbSB"
   },
   "outputs": [],
   "source": [
    "class Decoder(tf.keras.layers.Layer):\n",
    "    def __init__(self, num_layers, d_model, num_heads, dff, maximum_position_encoding, embedding_layer, rate=0.1):\n",
    "        super(Decoder, self).__init__()\n",
    "\n",
    "        self.d_model = d_model\n",
    "        self.num_layers = num_layers\n",
    "\n",
    "        self.embedding = embedding_layer # tf.keras.layers.Embedding(target_vocab_size, d_model)\n",
    "        self.pos_encoding = positional_encoding(maximum_position_encoding, d_model)\n",
    "\n",
    "        self.dec_layers = [DecoderLayer(d_model, num_heads, dff, rate) for _ in range(num_layers)]\n",
    "        self.dropout = tf.keras.layers.Dropout(rate)\n",
    "    \n",
    "    def call(self, x, enc_output, training, look_ahead_mask, padding_mask):\n",
    "        seq_len = tf.shape(x)[1]\n",
    "        attention_weights = {}\n",
    "\n",
    "        x = self.embedding(x)\n",
    "        x *= tf.math.sqrt(tf.cast(self.d_model, tf.float32))\n",
    "        x += self.pos_encoding[:, :seq_len, :]\n",
    "\n",
    "        x = self.dropout(x, training=training)\n",
    "\n",
    "        for i in range(self.num_layers):\n",
    "            x, block1, block2 = self.dec_layers[i](x, enc_output, training, look_ahead_mask, padding_mask)\n",
    "\n",
    "            attention_weights['decoder_layer{}_block1'.format(i+1)] = block1\n",
    "            attention_weights['decoder_layer{}_block2'.format(i+1)] = block2\n",
    "    \n",
    "        return x, attention_weights\n"
   ]
  },
  {
   "cell_type": "markdown",
   "metadata": {
    "id": "lbMNK_bzSHnh"
   },
   "source": [
    "#### Finally, the Transformer"
   ]
  },
  {
   "cell_type": "code",
   "execution_count": 34,
   "metadata": {
    "executionInfo": {
     "elapsed": 2,
     "status": "ok",
     "timestamp": 1665824628130,
     "user": {
      "displayName": "Gary Ng",
      "userId": "02885211737705035727"
     },
     "user_tz": 420
    },
    "id": "FXHRG-o4R9Mc"
   },
   "outputs": [],
   "source": [
    "class Transformer(tf.keras.Model):\n",
    "    def __init__(self, num_layers, d_model, num_heads, dff, pe_input, pe_target, embedding_layer, rate=0.1):\n",
    "        super(Transformer, self).__init__()\n",
    "\n",
    "        self.encoder = Encoder(num_layers, d_model, num_heads, dff, pe_input, embedding_layer, rate)\n",
    "\n",
    "        self.decoder = Decoder(num_layers, d_model, num_heads, dff, pe_target, embedding_layer, rate)\n",
    "\n",
    "        self.final_layer = tf.keras.models.Sequential()\n",
    "        self.final_layer.add( tf.keras.layers.Dense(np.prod(GRID_SHAPE)) )\n",
    "        self.final_layer.add( tf.keras.layers.Reshape((-1, GRID_SHAPE[0], GRID_SHAPE[1], GRID_SHAPE[2])) ) # <- what's the right param?\n",
    "        \n",
    "    def call(self, inp, tar, training, enc_padding_mask, look_ahead_mask, dec_padding_mask):\n",
    "        enc_output = self.encoder(inp, training, enc_padding_mask)\n",
    "\n",
    "        dec_output, attention_weights = self.decoder(tar, enc_output, training, look_ahead_mask, dec_padding_mask)\n",
    "\n",
    "        final_output = self.final_layer(dec_output)\n",
    "\n",
    "        return final_output, attention_weights\n"
   ]
  },
  {
   "cell_type": "markdown",
   "metadata": {
    "id": "UndsMPZXTdSr"
   },
   "source": [
    "### Training"
   ]
  },
  {
   "cell_type": "code",
   "execution_count": 78,
   "metadata": {
    "executionInfo": {
     "elapsed": 359,
     "status": "ok",
     "timestamp": 1665826280625,
     "user": {
      "displayName": "Gary Ng",
      "userId": "02885211737705035727"
     },
     "user_tz": 420
    },
    "id": "lMTZJdIoSbuy"
   },
   "outputs": [],
   "source": [
    "# hyper-params\n",
    "num_layers = 1\n",
    "d_model = 2048 # 128\n",
    "dff = 512\n",
    "num_heads = 4 # 8 \n",
    "EPOCHS = 60"
   ]
  },
  {
   "cell_type": "markdown",
   "metadata": {
    "id": "uOGvkYDNTjIj"
   },
   "source": [
    "#### Adam optimizer with custom learning rate scheduling"
   ]
  },
  {
   "cell_type": "code",
   "execution_count": 36,
   "metadata": {
    "executionInfo": {
     "elapsed": 3,
     "status": "ok",
     "timestamp": 1665824639873,
     "user": {
      "displayName": "Gary Ng",
      "userId": "02885211737705035727"
     },
     "user_tz": 420
    },
    "id": "tfiynCLlTL8C"
   },
   "outputs": [],
   "source": [
    "class CustomSchedule(tf.keras.optimizers.schedules.LearningRateSchedule):\n",
    "    def __init__(self, d_model, warmup_steps=4000):\n",
    "        super(CustomSchedule, self).__init__()\n",
    "\n",
    "        self.d_model = d_model # was 128, now 2048\n",
    "        self.d_model = tf.cast(self.d_model, tf.float32)\n",
    "\n",
    "        self.warmup_steps = warmup_steps\n",
    "    \n",
    "    def __call__(self, step):\n",
    "        print(\"Step\", step.nump())\n",
    "        arg1 = tf.math.rsqrt(step) # would have been 858 batches. 1, 0.707, 0.577.... 1/sqrt(858) = 0.0341394371\n",
    "        arg2 = step * (self.warmup_steps ** -1.5) # step & (4000 ** -1.5) = 0.000003952847075 * 0.0341394371 = 0.000000134947974\n",
    "\n",
    "        return tf.math.rsqrt(self.d_model) * tf.math.minimum(arg1, arg2)\n"
   ]
  },
  {
   "cell_type": "code",
   "execution_count": 85,
   "metadata": {
    "executionInfo": {
     "elapsed": 351,
     "status": "ok",
     "timestamp": 1665826818824,
     "user": {
      "displayName": "Gary Ng",
      "userId": "02885211737705035727"
     },
     "user_tz": 420
    },
    "id": "Ip1-943kTXXK"
   },
   "outputs": [],
   "source": [
    "learning_rate = CustomSchedule(d_model)\n",
    "\n",
    "optimizer = tf.keras.optimizers.Adam(learning_rate=5e-05) # tf.keras.optimizers.Adam(learning_rate, beta_1=0.9, beta_2=0.98, epsilon=1e-9) \n",
    "# Defauls, for reference:\n",
    "#    learning_rate=0.001,\n",
    "#    beta_1=0.9,\n",
    "#    beta_2=0.999,\n",
    "#    epsilon=1e-07,"
   ]
  },
  {
   "cell_type": "markdown",
   "metadata": {
    "id": "DsVdrENTUERY"
   },
   "source": [
    "#### Defining losses and other metrics "
   ]
  },
  {
   "cell_type": "code",
   "execution_count": 38,
   "metadata": {
    "executionInfo": {
     "elapsed": 2,
     "status": "ok",
     "timestamp": 1665824644406,
     "user": {
      "displayName": "Gary Ng",
      "userId": "02885211737705035727"
     },
     "user_tz": 420
    },
    "id": "ktKwyvKtTvF6"
   },
   "outputs": [],
   "source": [
    "loss_object = tf.keras.losses.MeanSquaredError() # tf.keras.losses.SparseCategoricalCrossentropy(from_logits=True, reduction='none')"
   ]
  },
  {
   "cell_type": "code",
   "execution_count": 39,
   "metadata": {
    "executionInfo": {
     "elapsed": 2,
     "status": "ok",
     "timestamp": 1665824646055,
     "user": {
      "displayName": "Gary Ng",
      "userId": "02885211737705035727"
     },
     "user_tz": 420
    },
    "id": "uW4LA_45T4Aa",
    "tags": []
   },
   "outputs": [],
   "source": [
    "def loss_function(real, pred):\n",
    "    # mask = tf.math.logical_not(tf.math.equal(real, 0)) # 0->True->False, >0->False->True\n",
    "    loss_ = loss_object(real, pred)\n",
    "\n",
    "    # mask = tf.cast(mask, dtype=loss_.dtype) # masked 0, 1 for non-zeros\n",
    "    # loss_ *= mask # only care about where real was non-zero.\n",
    "\n",
    "    # return tf.reduce_sum(loss_)/tf.reduce_sum(mask)\n",
    "    return loss_"
   ]
  },
  {
   "cell_type": "code",
   "execution_count": 40,
   "metadata": {
    "executionInfo": {
     "elapsed": 453,
     "status": "ok",
     "timestamp": 1665824648038,
     "user": {
      "displayName": "Gary Ng",
      "userId": "02885211737705035727"
     },
     "user_tz": 420
    },
    "id": "Ze0u6xxXT7dI"
   },
   "outputs": [],
   "source": [
    "train_loss = tf.keras.metrics.Mean(name='train_loss')"
   ]
  },
  {
   "cell_type": "markdown",
   "metadata": {
    "id": "9XvKy3v6ULnO"
   },
   "source": [
    "#### Transformer"
   ]
  },
  {
   "cell_type": "code",
   "execution_count": 57,
   "metadata": {
    "executionInfo": {
     "elapsed": 597,
     "status": "ok",
     "timestamp": 1665825165331,
     "user": {
      "displayName": "Gary Ng",
      "userId": "02885211737705035727"
     },
     "user_tz": 420
    },
    "id": "d5-RcxqFUCuk"
   },
   "outputs": [],
   "source": [
    "transformer = Transformer(\n",
    "    num_layers, \n",
    "    d_model, \n",
    "    num_heads, \n",
    "    dff,\n",
    "    encoder_maxlen, \n",
    "    decoder_maxlen,\n",
    "    EmbeddingLayer( GRID_SHAPE, d_model),\n",
    ")"
   ]
  },
  {
   "cell_type": "markdown",
   "metadata": {
    "id": "f56BGiVXU_Dk"
   },
   "source": [
    "#### Masks"
   ]
  },
  {
   "cell_type": "code",
   "execution_count": 42,
   "metadata": {
    "executionInfo": {
     "elapsed": 822,
     "status": "ok",
     "timestamp": 1665824653777,
     "user": {
      "displayName": "Gary Ng",
      "userId": "02885211737705035727"
     },
     "user_tz": 420
    },
    "id": "FZxHuyZxU5Pa"
   },
   "outputs": [],
   "source": [
    "def create_masks(inp, tar):\n",
    "    \n",
    "    # By the time we got here, inp and tar are already 0 padded.\n",
    "    # With text inputs, we just need to create the masks from that accordingly.\n",
    "    # But for this use case, given our inputs are 3D grids, for this function we need \n",
    "    # a representation of inp (encoder input) and tar (decoder inputs) without the grids.\n",
    "    # i.e. we need them to be in the form (batch_size, sequence_len)\n",
    "    \n",
    "    # print(\"create mask\",inp.shape, tar.shape)\n",
    "    enc_padding_mask = create_padding_mask(inp)\n",
    "    dec_padding_mask = create_padding_mask(inp)\n",
    "\n",
    "    look_ahead_mask = create_look_ahead_mask(tf.shape(tar)[1])\n",
    "    dec_target_padding_mask = create_padding_mask(tar)\n",
    "    combined_mask = tf.maximum(dec_target_padding_mask, look_ahead_mask)\n",
    "  \n",
    "    return enc_padding_mask, combined_mask, dec_padding_mask\n"
   ]
  },
  {
   "cell_type": "markdown",
   "metadata": {
    "id": "SYIotvaBVI0d"
   },
   "source": [
    "#### Checkpoints"
   ]
  },
  {
   "cell_type": "code",
   "execution_count": 86,
   "metadata": {
    "colab": {
     "base_uri": "https://localhost:8080/"
    },
    "executionInfo": {
     "elapsed": 3261,
     "status": "ok",
     "timestamp": 1665826834462,
     "user": {
      "displayName": "Gary Ng",
      "userId": "02885211737705035727"
     },
     "user_tz": 420
    },
    "id": "tOc1_3c-VGaL",
    "outputId": "d8ac82fb-f5db-469c-92e6-56b264ebc294"
   },
   "outputs": [
    {
     "name": "stdout",
     "output_type": "stream",
     "text": [
      "Latest checkpoint restored!!\n"
     ]
    }
   ],
   "source": [
    "checkpoint_path = \"checkpoints\"\n",
    "\n",
    "ckpt = tf.train.Checkpoint(transformer=transformer, optimizer=optimizer)\n",
    "\n",
    "ckpt_manager = tf.train.CheckpointManager(ckpt, checkpoint_path, max_to_keep=5)\n",
    "\n",
    "if ckpt_manager.latest_checkpoint:\n",
    "    ckpt.restore(ckpt_manager.latest_checkpoint)\n",
    "    print ('Latest checkpoint restored!!')"
   ]
  },
  {
   "cell_type": "code",
   "execution_count": 59,
   "metadata": {
    "executionInfo": {
     "elapsed": 343,
     "status": "ok",
     "timestamp": 1665825199392,
     "user": {
      "displayName": "Gary Ng",
      "userId": "02885211737705035727"
     },
     "user_tz": 420
    },
    "id": "QAOdfEZe32aD"
   },
   "outputs": [],
   "source": [
    "# inp = tf.keras.Input((encoder_maxlen,1), name='text')\n",
    "# print(inp.shape)\n",
    "# stransformer.compile()\n",
    "# transformer.summary()"
   ]
  },
  {
   "cell_type": "markdown",
   "metadata": {
    "id": "WfpI0gS4c06c"
   },
   "source": [
    "#### Training steps"
   ]
  },
  {
   "cell_type": "code",
   "execution_count": 60,
   "metadata": {
    "executionInfo": {
     "elapsed": 3,
     "status": "ok",
     "timestamp": 1665825201814,
     "user": {
      "displayName": "Gary Ng",
      "userId": "02885211737705035727"
     },
     "user_tz": 420
    },
    "id": "xmVOMzkrczgl"
   },
   "outputs": [],
   "source": [
    "@tf.function\n",
    "def train_step(inp, tar, inp_pad, tar_pad):\n",
    "    tar_inp = tar[:, :-1] # without stop\n",
    "    tar_real = tar[:, 1:] # without go or the first element.\n",
    "\n",
    "    enc_padding_mask, combined_mask, dec_padding_mask = create_masks(inp_pad, tar_pad[:, :-1])\n",
    "\n",
    "    with tf.GradientTape() as tape:\n",
    "        predictions, _ = transformer(\n",
    "            inp, tar_inp, \n",
    "            True, \n",
    "            enc_padding_mask, \n",
    "            combined_mask, \n",
    "            dec_padding_mask\n",
    "        )\n",
    "        loss = loss_function(tar_real, predictions)\n",
    "\n",
    "    gradients = tape.gradient(loss, transformer.trainable_variables)    \n",
    "    optimizer.apply_gradients(zip(gradients, transformer.trainable_variables))\n",
    "\n",
    "    train_loss(loss)"
   ]
  },
  {
   "cell_type": "code",
   "execution_count": 87,
   "metadata": {
    "colab": {
     "base_uri": "https://localhost:8080/"
    },
    "executionInfo": {
     "elapsed": 228064,
     "status": "ok",
     "timestamp": 1665827116999,
     "user": {
      "displayName": "Gary Ng",
      "userId": "02885211737705035727"
     },
     "user_tz": 420
    },
    "id": "xORKpv69dSW5",
    "outputId": "23a9d540-7616-4582-9706-7cc649f7ada6"
   },
   "outputs": [
    {
     "name": "stdout",
     "output_type": "stream",
     "text": [
      "Epoch 1 Batch 0 Loss 0.0118\n",
      "Epoch 1 Batch 20 Loss 0.0101\n",
      "Epoch 1 Batch 40 Loss 0.0099\n",
      "Epoch 1 Batch 60 Loss 0.0097\n",
      "Epoch 1 Batch 80 Loss 0.0099\n",
      "Epoch 1 Loss 0.0103\n",
      "Time taken for 1 epoch: 3.0069632530212402 secs\n",
      "\n",
      "Epoch 2 Batch 0 Loss 0.0078\n",
      "Epoch 2 Batch 20 Loss 0.0109\n",
      "Epoch 2 Batch 40 Loss 0.0103\n",
      "Epoch 2 Batch 60 Loss 0.0102\n",
      "Epoch 2 Batch 80 Loss 0.0102\n",
      "Epoch 2 Loss 0.0102\n",
      "Time taken for 1 epoch: 2.941483736038208 secs\n",
      "\n",
      "Epoch 3 Batch 0 Loss 0.0116\n",
      "Epoch 3 Batch 20 Loss 0.0096\n",
      "Epoch 3 Batch 40 Loss 0.0096\n",
      "Epoch 3 Batch 60 Loss 0.0096\n",
      "Epoch 3 Batch 80 Loss 0.0098\n",
      "Epoch 3 Loss 0.0099\n",
      "Time taken for 1 epoch: 2.944302797317505 secs\n",
      "\n",
      "Epoch 4 Batch 0 Loss 0.0072\n",
      "Epoch 4 Batch 20 Loss 0.0106\n",
      "Epoch 4 Batch 40 Loss 0.0104\n",
      "Epoch 4 Batch 60 Loss 0.0105\n",
      "Epoch 4 Batch 80 Loss 0.0105\n",
      "Epoch 4 Loss 0.0106\n",
      "Time taken for 1 epoch: 2.9561140537261963 secs\n",
      "\n",
      "Epoch 5 Batch 0 Loss 0.0112\n",
      "Epoch 5 Batch 20 Loss 0.0098\n",
      "Epoch 5 Batch 40 Loss 0.0101\n",
      "Epoch 5 Batch 60 Loss 0.0101\n",
      "Epoch 5 Batch 80 Loss 0.0101\n",
      "Saving checkpoint for epoch 5 at checkpoints/ckpt-25\n",
      "Epoch 5 Loss 0.0100\n",
      "Time taken for 1 epoch: 6.467648267745972 secs\n",
      "\n",
      "Epoch 6 Batch 0 Loss 0.0095\n",
      "Epoch 6 Batch 20 Loss 0.0103\n",
      "Epoch 6 Batch 40 Loss 0.0100\n",
      "Epoch 6 Batch 60 Loss 0.0099\n",
      "Epoch 6 Batch 80 Loss 0.0099\n",
      "Epoch 6 Loss 0.0096\n",
      "Time taken for 1 epoch: 3.028129816055298 secs\n",
      "\n",
      "Epoch 7 Batch 0 Loss 0.0075\n",
      "Epoch 7 Batch 20 Loss 0.0104\n",
      "Epoch 7 Batch 40 Loss 0.0100\n",
      "Epoch 7 Batch 60 Loss 0.0098\n",
      "Epoch 7 Batch 80 Loss 0.0098\n",
      "Epoch 7 Loss 0.0100\n",
      "Time taken for 1 epoch: 2.982091188430786 secs\n",
      "\n",
      "Epoch 8 Batch 0 Loss 0.0142\n",
      "Epoch 8 Batch 20 Loss 0.0106\n",
      "Epoch 8 Batch 40 Loss 0.0102\n",
      "Epoch 8 Batch 60 Loss 0.0098\n",
      "Epoch 8 Batch 80 Loss 0.0098\n",
      "Epoch 8 Loss 0.0096\n",
      "Time taken for 1 epoch: 2.9886364936828613 secs\n",
      "\n",
      "Epoch 9 Batch 0 Loss 0.0086\n",
      "Epoch 9 Batch 20 Loss 0.0098\n",
      "Epoch 9 Batch 40 Loss 0.0095\n",
      "Epoch 9 Batch 60 Loss 0.0092\n",
      "Epoch 9 Batch 80 Loss 0.0095\n",
      "Epoch 9 Loss 0.0097\n",
      "Time taken for 1 epoch: 2.9907257556915283 secs\n",
      "\n",
      "Epoch 10 Batch 0 Loss 0.0124\n",
      "Epoch 10 Batch 20 Loss 0.0101\n",
      "Epoch 10 Batch 40 Loss 0.0102\n",
      "Epoch 10 Batch 60 Loss 0.0098\n",
      "Epoch 10 Batch 80 Loss 0.0099\n",
      "Saving checkpoint for epoch 10 at checkpoints/ckpt-26\n",
      "Epoch 10 Loss 0.0097\n",
      "Time taken for 1 epoch: 6.635619878768921 secs\n",
      "\n",
      "Epoch 11 Batch 0 Loss 0.0079\n",
      "Epoch 11 Batch 20 Loss 0.0096\n",
      "Epoch 11 Batch 40 Loss 0.0095\n",
      "Epoch 11 Batch 60 Loss 0.0095\n",
      "Epoch 11 Batch 80 Loss 0.0097\n",
      "Epoch 11 Loss 0.0098\n",
      "Time taken for 1 epoch: 3.08789324760437 secs\n",
      "\n",
      "Epoch 12 Batch 0 Loss 0.0088\n",
      "Epoch 12 Batch 20 Loss 0.0094\n",
      "Epoch 12 Batch 40 Loss 0.0095\n",
      "Epoch 12 Batch 60 Loss 0.0094\n",
      "Epoch 12 Batch 80 Loss 0.0094\n",
      "Epoch 12 Loss 0.0096\n",
      "Time taken for 1 epoch: 3.019896984100342 secs\n",
      "\n",
      "Epoch 13 Batch 0 Loss 0.0105\n",
      "Epoch 13 Batch 20 Loss 0.0086\n",
      "Epoch 13 Batch 40 Loss 0.0091\n",
      "Epoch 13 Batch 60 Loss 0.0093\n",
      "Epoch 13 Batch 80 Loss 0.0094\n",
      "Epoch 13 Loss 0.0094\n",
      "Time taken for 1 epoch: 3.0280492305755615 secs\n",
      "\n",
      "Epoch 14 Batch 0 Loss 0.0097\n",
      "Epoch 14 Batch 20 Loss 0.0088\n",
      "Epoch 14 Batch 40 Loss 0.0099\n",
      "Epoch 14 Batch 60 Loss 0.0097\n",
      "Epoch 14 Batch 80 Loss 0.0097\n",
      "Epoch 14 Loss 0.0096\n",
      "Time taken for 1 epoch: 3.042721748352051 secs\n",
      "\n",
      "Epoch 15 Batch 0 Loss 0.0115\n",
      "Epoch 15 Batch 20 Loss 0.0095\n",
      "Epoch 15 Batch 40 Loss 0.0094\n",
      "Epoch 15 Batch 60 Loss 0.0092\n",
      "Epoch 15 Batch 80 Loss 0.0094\n",
      "Saving checkpoint for epoch 15 at checkpoints/ckpt-27\n",
      "Epoch 15 Loss 0.0095\n",
      "Time taken for 1 epoch: 6.910861492156982 secs\n",
      "\n",
      "Epoch 16 Batch 0 Loss 0.0075\n",
      "Epoch 16 Batch 20 Loss 0.0083\n",
      "Epoch 16 Batch 40 Loss 0.0088\n",
      "Epoch 16 Batch 60 Loss 0.0090\n",
      "Epoch 16 Batch 80 Loss 0.0090\n",
      "Epoch 16 Loss 0.0089\n",
      "Time taken for 1 epoch: 3.1181793212890625 secs\n",
      "\n",
      "Epoch 17 Batch 0 Loss 0.0065\n",
      "Epoch 17 Batch 20 Loss 0.0083\n",
      "Epoch 17 Batch 40 Loss 0.0084\n",
      "Epoch 17 Batch 60 Loss 0.0084\n",
      "Epoch 17 Batch 80 Loss 0.0087\n",
      "Epoch 17 Loss 0.0088\n",
      "Time taken for 1 epoch: 3.0336997509002686 secs\n",
      "\n",
      "Epoch 18 Batch 0 Loss 0.0081\n",
      "Epoch 18 Batch 20 Loss 0.0096\n",
      "Epoch 18 Batch 40 Loss 0.0099\n",
      "Epoch 18 Batch 60 Loss 0.0097\n",
      "Epoch 18 Batch 80 Loss 0.0093\n",
      "Epoch 18 Loss 0.0092\n",
      "Time taken for 1 epoch: 3.0487496852874756 secs\n",
      "\n",
      "Epoch 19 Batch 0 Loss 0.0120\n",
      "Epoch 19 Batch 20 Loss 0.0089\n",
      "Epoch 19 Batch 40 Loss 0.0091\n",
      "Epoch 19 Batch 60 Loss 0.0093\n",
      "Epoch 19 Batch 80 Loss 0.0092\n",
      "Epoch 19 Loss 0.0095\n",
      "Time taken for 1 epoch: 3.019709348678589 secs\n",
      "\n",
      "Epoch 20 Batch 0 Loss 0.0099\n",
      "Epoch 20 Batch 20 Loss 0.0105\n",
      "Epoch 20 Batch 40 Loss 0.0102\n",
      "Epoch 20 Batch 60 Loss 0.0101\n",
      "Epoch 20 Batch 80 Loss 0.0096\n",
      "Saving checkpoint for epoch 20 at checkpoints/ckpt-28\n",
      "Epoch 20 Loss 0.0096\n",
      "Time taken for 1 epoch: 6.707796096801758 secs\n",
      "\n",
      "Epoch 21 Batch 0 Loss 0.0086\n",
      "Epoch 21 Batch 20 Loss 0.0096\n",
      "Epoch 21 Batch 40 Loss 0.0095\n",
      "Epoch 21 Batch 60 Loss 0.0093\n",
      "Epoch 21 Batch 80 Loss 0.0091\n",
      "Epoch 21 Loss 0.0090\n",
      "Time taken for 1 epoch: 3.070690631866455 secs\n",
      "\n",
      "Epoch 22 Batch 0 Loss 0.0088\n",
      "Epoch 22 Batch 20 Loss 0.0089\n",
      "Epoch 22 Batch 40 Loss 0.0090\n",
      "Epoch 22 Batch 60 Loss 0.0091\n",
      "Epoch 22 Batch 80 Loss 0.0089\n",
      "Epoch 22 Loss 0.0088\n",
      "Time taken for 1 epoch: 3.006431818008423 secs\n",
      "\n",
      "Epoch 23 Batch 0 Loss 0.0098\n",
      "Epoch 23 Batch 20 Loss 0.0100\n",
      "Epoch 23 Batch 40 Loss 0.0091\n",
      "Epoch 23 Batch 60 Loss 0.0087\n",
      "Epoch 23 Batch 80 Loss 0.0090\n",
      "Epoch 23 Loss 0.0089\n",
      "Time taken for 1 epoch: 3.0154762268066406 secs\n",
      "\n",
      "Epoch 24 Batch 0 Loss 0.0099\n",
      "Epoch 24 Batch 20 Loss 0.0086\n",
      "Epoch 24 Batch 40 Loss 0.0086\n",
      "Epoch 24 Batch 60 Loss 0.0088\n",
      "Epoch 24 Batch 80 Loss 0.0088\n",
      "Epoch 24 Loss 0.0090\n",
      "Time taken for 1 epoch: 3.0311942100524902 secs\n",
      "\n",
      "Epoch 25 Batch 0 Loss 0.0144\n",
      "Epoch 25 Batch 20 Loss 0.0085\n",
      "Epoch 25 Batch 40 Loss 0.0086\n",
      "Epoch 25 Batch 60 Loss 0.0086\n",
      "Epoch 25 Batch 80 Loss 0.0086\n",
      "Saving checkpoint for epoch 25 at checkpoints/ckpt-29\n",
      "Epoch 25 Loss 0.0087\n",
      "Time taken for 1 epoch: 6.644260883331299 secs\n",
      "\n",
      "Epoch 26 Batch 0 Loss 0.0097\n",
      "Epoch 26 Batch 20 Loss 0.0093\n",
      "Epoch 26 Batch 40 Loss 0.0091\n",
      "Epoch 26 Batch 60 Loss 0.0094\n",
      "Epoch 26 Batch 80 Loss 0.0094\n",
      "Epoch 26 Loss 0.0092\n",
      "Time taken for 1 epoch: 3.081115245819092 secs\n",
      "\n",
      "Epoch 27 Batch 0 Loss 0.0079\n",
      "Epoch 27 Batch 20 Loss 0.0089\n",
      "Epoch 27 Batch 40 Loss 0.0083\n",
      "Epoch 27 Batch 60 Loss 0.0086\n",
      "Epoch 27 Batch 80 Loss 0.0086\n",
      "Epoch 27 Loss 0.0086\n",
      "Time taken for 1 epoch: 3.0050294399261475 secs\n",
      "\n",
      "Epoch 28 Batch 0 Loss 0.0104\n",
      "Epoch 28 Batch 20 Loss 0.0089\n",
      "Epoch 28 Batch 40 Loss 0.0088\n",
      "Epoch 28 Batch 60 Loss 0.0084\n",
      "Epoch 28 Batch 80 Loss 0.0083\n",
      "Epoch 28 Loss 0.0088\n",
      "Time taken for 1 epoch: 2.9987637996673584 secs\n",
      "\n",
      "Epoch 29 Batch 0 Loss 0.0078\n",
      "Epoch 29 Batch 20 Loss 0.0088\n",
      "Epoch 29 Batch 40 Loss 0.0088\n",
      "Epoch 29 Batch 60 Loss 0.0087\n",
      "Epoch 29 Batch 80 Loss 0.0085\n",
      "Epoch 29 Loss 0.0086\n",
      "Time taken for 1 epoch: 3.004002809524536 secs\n",
      "\n",
      "Epoch 30 Batch 0 Loss 0.0100\n",
      "Epoch 30 Batch 20 Loss 0.0087\n",
      "Epoch 30 Batch 40 Loss 0.0084\n",
      "Epoch 30 Batch 60 Loss 0.0087\n",
      "Epoch 30 Batch 80 Loss 0.0086\n",
      "Saving checkpoint for epoch 30 at checkpoints/ckpt-30\n",
      "Epoch 30 Loss 0.0087\n",
      "Time taken for 1 epoch: 7.848914623260498 secs\n",
      "\n",
      "Epoch 31 Batch 0 Loss 0.0073\n",
      "Epoch 31 Batch 20 Loss 0.0081\n",
      "Epoch 31 Batch 40 Loss 0.0080\n",
      "Epoch 31 Batch 60 Loss 0.0079\n",
      "Epoch 31 Batch 80 Loss 0.0087\n",
      "Epoch 31 Loss 0.0087\n",
      "Time taken for 1 epoch: 3.0522263050079346 secs\n",
      "\n",
      "Epoch 32 Batch 0 Loss 0.0067\n",
      "Epoch 32 Batch 20 Loss 0.0080\n",
      "Epoch 32 Batch 40 Loss 0.0080\n",
      "Epoch 32 Batch 60 Loss 0.0082\n",
      "Epoch 32 Batch 80 Loss 0.0084\n",
      "Epoch 32 Loss 0.0085\n",
      "Time taken for 1 epoch: 3.02052640914917 secs\n",
      "\n",
      "Epoch 33 Batch 0 Loss 0.0058\n",
      "Epoch 33 Batch 20 Loss 0.0083\n",
      "Epoch 33 Batch 40 Loss 0.0080\n",
      "Epoch 33 Batch 60 Loss 0.0078\n",
      "Epoch 33 Batch 80 Loss 0.0080\n",
      "Epoch 33 Loss 0.0082\n",
      "Time taken for 1 epoch: 3.0275943279266357 secs\n",
      "\n",
      "Epoch 34 Batch 0 Loss 0.0094\n",
      "Epoch 34 Batch 20 Loss 0.0084\n",
      "Epoch 34 Batch 40 Loss 0.0085\n",
      "Epoch 34 Batch 60 Loss 0.0085\n",
      "Epoch 34 Batch 80 Loss 0.0086\n",
      "Epoch 34 Loss 0.0086\n",
      "Time taken for 1 epoch: 3.015846014022827 secs\n",
      "\n",
      "Epoch 35 Batch 0 Loss 0.0087\n",
      "Epoch 35 Batch 20 Loss 0.0099\n",
      "Epoch 35 Batch 40 Loss 0.0091\n",
      "Epoch 35 Batch 60 Loss 0.0090\n",
      "Epoch 35 Batch 80 Loss 0.0089\n",
      "Saving checkpoint for epoch 35 at checkpoints/ckpt-31\n",
      "Epoch 35 Loss 0.0087\n",
      "Time taken for 1 epoch: 6.801671028137207 secs\n",
      "\n",
      "Epoch 36 Batch 0 Loss 0.0066\n",
      "Epoch 36 Batch 20 Loss 0.0085\n",
      "Epoch 36 Batch 40 Loss 0.0085\n",
      "Epoch 36 Batch 60 Loss 0.0089\n",
      "Epoch 36 Batch 80 Loss 0.0088\n",
      "Epoch 36 Loss 0.0087\n",
      "Time taken for 1 epoch: 3.1246120929718018 secs\n",
      "\n",
      "Epoch 37 Batch 0 Loss 0.0063\n",
      "Epoch 37 Batch 20 Loss 0.0082\n",
      "Epoch 37 Batch 40 Loss 0.0079\n",
      "Epoch 37 Batch 60 Loss 0.0080\n",
      "Epoch 37 Batch 80 Loss 0.0084\n",
      "Epoch 37 Loss 0.0086\n",
      "Time taken for 1 epoch: 3.0536296367645264 secs\n",
      "\n",
      "Epoch 38 Batch 0 Loss 0.0084\n",
      "Epoch 38 Batch 20 Loss 0.0080\n",
      "Epoch 38 Batch 40 Loss 0.0084\n",
      "Epoch 38 Batch 60 Loss 0.0084\n",
      "Epoch 38 Batch 80 Loss 0.0084\n",
      "Epoch 38 Loss 0.0083\n",
      "Time taken for 1 epoch: 3.041466236114502 secs\n",
      "\n",
      "Epoch 39 Batch 0 Loss 0.0087\n",
      "Epoch 39 Batch 20 Loss 0.0082\n",
      "Epoch 39 Batch 40 Loss 0.0082\n",
      "Epoch 39 Batch 60 Loss 0.0083\n",
      "Epoch 39 Batch 80 Loss 0.0084\n",
      "Epoch 39 Loss 0.0084\n",
      "Time taken for 1 epoch: 3.0584640502929688 secs\n",
      "\n",
      "Epoch 40 Batch 0 Loss 0.0074\n",
      "Epoch 40 Batch 20 Loss 0.0089\n",
      "Epoch 40 Batch 40 Loss 0.0089\n",
      "Epoch 40 Batch 60 Loss 0.0084\n",
      "Epoch 40 Batch 80 Loss 0.0084\n",
      "Saving checkpoint for epoch 40 at checkpoints/ckpt-32\n",
      "Epoch 40 Loss 0.0086\n",
      "Time taken for 1 epoch: 6.871342182159424 secs\n",
      "\n",
      "Epoch 41 Batch 0 Loss 0.0062\n",
      "Epoch 41 Batch 20 Loss 0.0088\n",
      "Epoch 41 Batch 40 Loss 0.0087\n",
      "Epoch 41 Batch 60 Loss 0.0087\n",
      "Epoch 41 Batch 80 Loss 0.0086\n",
      "Epoch 41 Loss 0.0086\n",
      "Time taken for 1 epoch: 3.1161916255950928 secs\n",
      "\n",
      "Epoch 42 Batch 0 Loss 0.0060\n",
      "Epoch 42 Batch 20 Loss 0.0083\n",
      "Epoch 42 Batch 40 Loss 0.0084\n",
      "Epoch 42 Batch 60 Loss 0.0083\n",
      "Epoch 42 Batch 80 Loss 0.0081\n",
      "Epoch 42 Loss 0.0080\n",
      "Time taken for 1 epoch: 3.0595951080322266 secs\n",
      "\n",
      "Epoch 43 Batch 0 Loss 0.0062\n",
      "Epoch 43 Batch 20 Loss 0.0080\n",
      "Epoch 43 Batch 40 Loss 0.0087\n",
      "Epoch 43 Batch 60 Loss 0.0084\n",
      "Epoch 43 Batch 80 Loss 0.0083\n",
      "Epoch 43 Loss 0.0083\n",
      "Time taken for 1 epoch: 3.0645861625671387 secs\n",
      "\n",
      "Epoch 44 Batch 0 Loss 0.0057\n",
      "Epoch 44 Batch 20 Loss 0.0086\n",
      "Epoch 44 Batch 40 Loss 0.0084\n",
      "Epoch 44 Batch 60 Loss 0.0083\n",
      "Epoch 44 Batch 80 Loss 0.0083\n",
      "Epoch 44 Loss 0.0082\n",
      "Time taken for 1 epoch: 3.0673434734344482 secs\n",
      "\n",
      "Epoch 45 Batch 0 Loss 0.0066\n",
      "Epoch 45 Batch 20 Loss 0.0080\n",
      "Epoch 45 Batch 40 Loss 0.0086\n",
      "Epoch 45 Batch 60 Loss 0.0087\n",
      "Epoch 45 Batch 80 Loss 0.0084\n",
      "Saving checkpoint for epoch 45 at checkpoints/ckpt-33\n",
      "Epoch 45 Loss 0.0084\n",
      "Time taken for 1 epoch: 6.768743515014648 secs\n",
      "\n",
      "Epoch 46 Batch 0 Loss 0.0080\n",
      "Epoch 46 Batch 20 Loss 0.0080\n",
      "Epoch 46 Batch 40 Loss 0.0080\n",
      "Epoch 46 Batch 60 Loss 0.0080\n",
      "Epoch 46 Batch 80 Loss 0.0084\n",
      "Epoch 46 Loss 0.0083\n",
      "Time taken for 1 epoch: 3.0905773639678955 secs\n",
      "\n",
      "Epoch 47 Batch 0 Loss 0.0090\n",
      "Epoch 47 Batch 20 Loss 0.0086\n",
      "Epoch 47 Batch 40 Loss 0.0081\n",
      "Epoch 47 Batch 60 Loss 0.0081\n",
      "Epoch 47 Batch 80 Loss 0.0081\n",
      "Epoch 47 Loss 0.0081\n",
      "Time taken for 1 epoch: 3.039398670196533 secs\n",
      "\n",
      "Epoch 48 Batch 0 Loss 0.0055\n",
      "Epoch 48 Batch 20 Loss 0.0081\n",
      "Epoch 48 Batch 40 Loss 0.0080\n",
      "Epoch 48 Batch 60 Loss 0.0078\n",
      "Epoch 48 Batch 80 Loss 0.0079\n",
      "Epoch 48 Loss 0.0080\n",
      "Time taken for 1 epoch: 3.0305471420288086 secs\n",
      "\n",
      "Epoch 49 Batch 0 Loss 0.0122\n",
      "Epoch 49 Batch 20 Loss 0.0074\n",
      "Epoch 49 Batch 40 Loss 0.0076\n",
      "Epoch 49 Batch 60 Loss 0.0080\n",
      "Epoch 49 Batch 80 Loss 0.0081\n",
      "Epoch 49 Loss 0.0081\n",
      "Time taken for 1 epoch: 3.034153461456299 secs\n",
      "\n",
      "Epoch 50 Batch 0 Loss 0.0046\n",
      "Epoch 50 Batch 20 Loss 0.0082\n",
      "Epoch 50 Batch 40 Loss 0.0079\n",
      "Epoch 50 Batch 60 Loss 0.0081\n",
      "Epoch 50 Batch 80 Loss 0.0083\n",
      "Saving checkpoint for epoch 50 at checkpoints/ckpt-34\n",
      "Epoch 50 Loss 0.0080\n",
      "Time taken for 1 epoch: 6.8056395053863525 secs\n",
      "\n",
      "Epoch 51 Batch 0 Loss 0.0107\n",
      "Epoch 51 Batch 20 Loss 0.0099\n",
      "Epoch 51 Batch 40 Loss 0.0090\n",
      "Epoch 51 Batch 60 Loss 0.0086\n",
      "Epoch 51 Batch 80 Loss 0.0085\n",
      "Epoch 51 Loss 0.0083\n",
      "Time taken for 1 epoch: 3.0670602321624756 secs\n",
      "\n",
      "Epoch 52 Batch 0 Loss 0.0069\n",
      "Epoch 52 Batch 20 Loss 0.0086\n",
      "Epoch 52 Batch 40 Loss 0.0083\n",
      "Epoch 52 Batch 60 Loss 0.0079\n",
      "Epoch 52 Batch 80 Loss 0.0079\n",
      "Epoch 52 Loss 0.0079\n",
      "Time taken for 1 epoch: 3.026942729949951 secs\n",
      "\n",
      "Epoch 53 Batch 0 Loss 0.0109\n",
      "Epoch 53 Batch 20 Loss 0.0085\n",
      "Epoch 53 Batch 40 Loss 0.0083\n",
      "Epoch 53 Batch 60 Loss 0.0086\n",
      "Epoch 53 Batch 80 Loss 0.0083\n",
      "Epoch 53 Loss 0.0083\n",
      "Time taken for 1 epoch: 3.0254406929016113 secs\n",
      "\n",
      "Epoch 54 Batch 0 Loss 0.0110\n",
      "Epoch 54 Batch 20 Loss 0.0082\n",
      "Epoch 54 Batch 40 Loss 0.0086\n",
      "Epoch 54 Batch 60 Loss 0.0084\n",
      "Epoch 54 Batch 80 Loss 0.0086\n",
      "Epoch 54 Loss 0.0086\n",
      "Time taken for 1 epoch: 3.0277388095855713 secs\n",
      "\n",
      "Epoch 55 Batch 0 Loss 0.0116\n",
      "Epoch 55 Batch 20 Loss 0.0084\n",
      "Epoch 55 Batch 40 Loss 0.0080\n",
      "Epoch 55 Batch 60 Loss 0.0079\n",
      "Epoch 55 Batch 80 Loss 0.0081\n",
      "Saving checkpoint for epoch 55 at checkpoints/ckpt-35\n",
      "Epoch 55 Loss 0.0081\n",
      "Time taken for 1 epoch: 6.67026424407959 secs\n",
      "\n",
      "Epoch 56 Batch 0 Loss 0.0101\n",
      "Epoch 56 Batch 20 Loss 0.0086\n",
      "Epoch 56 Batch 40 Loss 0.0082\n",
      "Epoch 56 Batch 60 Loss 0.0080\n",
      "Epoch 56 Batch 80 Loss 0.0081\n",
      "Epoch 56 Loss 0.0081\n",
      "Time taken for 1 epoch: 3.093567371368408 secs\n",
      "\n",
      "Epoch 57 Batch 0 Loss 0.0148\n",
      "Epoch 57 Batch 20 Loss 0.0077\n",
      "Epoch 57 Batch 40 Loss 0.0077\n",
      "Epoch 57 Batch 60 Loss 0.0077\n",
      "Epoch 57 Batch 80 Loss 0.0078\n",
      "Epoch 57 Loss 0.0078\n",
      "Time taken for 1 epoch: 3.0494258403778076 secs\n",
      "\n",
      "Epoch 58 Batch 0 Loss 0.0071\n",
      "Epoch 58 Batch 20 Loss 0.0074\n",
      "Epoch 58 Batch 40 Loss 0.0074\n",
      "Epoch 58 Batch 60 Loss 0.0075\n",
      "Epoch 58 Batch 80 Loss 0.0074\n",
      "Epoch 58 Loss 0.0076\n",
      "Time taken for 1 epoch: 3.0420570373535156 secs\n",
      "\n",
      "Epoch 59 Batch 0 Loss 0.0074\n",
      "Epoch 59 Batch 20 Loss 0.0088\n",
      "Epoch 59 Batch 40 Loss 0.0085\n",
      "Epoch 59 Batch 60 Loss 0.0083\n",
      "Epoch 59 Batch 80 Loss 0.0079\n",
      "Epoch 59 Loss 0.0078\n",
      "Time taken for 1 epoch: 3.044459342956543 secs\n",
      "\n",
      "Epoch 60 Batch 0 Loss 0.0058\n",
      "Epoch 60 Batch 20 Loss 0.0082\n",
      "Epoch 60 Batch 40 Loss 0.0082\n",
      "Epoch 60 Batch 60 Loss 0.0082\n",
      "Epoch 60 Batch 80 Loss 0.0088\n",
      "Saving checkpoint for epoch 60 at checkpoints/ckpt-36\n",
      "Epoch 60 Loss 0.0086\n",
      "Time taken for 1 epoch: 6.78565239906311 secs\n",
      "\n"
     ]
    }
   ],
   "source": [
    "history = []\n",
    "for epoch in range(EPOCHS):\n",
    "    start = time.time()\n",
    "\n",
    "    train_loss.reset_states()\n",
    "  \n",
    "    for (batch, (inp, tar, inp_pad, tar_pad)) in enumerate(training_set):\n",
    "        train_step(inp, tar, inp_pad, tar_pad)\n",
    "    \n",
    "        # 6.3k samples\n",
    "        # we display 3 batch results -- 0th, middle and last one (approx)\n",
    "        # 6.3k / 64 ~ 100; 100 / 5 = 20\n",
    "        if batch % 20 == 0:\n",
    "            print ('Epoch {} Batch {} Loss {:.4f}'.format(epoch + 1, batch, train_loss.result()))\n",
    "        \n",
    "    if (epoch + 1) % 5 == 0:\n",
    "        ckpt_save_path = ckpt_manager.save()\n",
    "        print ('Saving checkpoint for epoch {} at {}'.format(epoch+1, ckpt_save_path))\n",
    "    \n",
    "    print ('Epoch {} Loss {:.4f}'.format(epoch + 1, train_loss.result()))\n",
    "    print ('Time taken for 1 epoch: {} secs\\n'.format(time.time() - start))\n",
    "    history.append(train_loss.result())"
   ]
  },
  {
   "cell_type": "code",
   "execution_count": 88,
   "metadata": {
    "colab": {
     "base_uri": "https://localhost:8080/",
     "height": 513
    },
    "executionInfo": {
     "elapsed": 621,
     "status": "ok",
     "timestamp": 1665827128310,
     "user": {
      "displayName": "Gary Ng",
      "userId": "02885211737705035727"
     },
     "user_tz": 420
    },
    "id": "Ql076rkc32aE",
    "outputId": "85a7a148-ad77-46cd-dc0e-cd56a7b603f3"
   },
   "outputs": [
    {
     "data": {
      "image/png": "[encoded data removed]",
      "text/plain": [
       "<Figure size 576x576 with 1 Axes>"
      ]
     },
     "metadata": {
      "needs_background": "light"
     },
     "output_type": "display_data"
    }
   ],
   "source": [
    "plt.figure(figsize=(8, 8))\n",
    "plt.title(\"Learning curve\")\n",
    "plt.plot(history, label=\"loss\")\n",
    "plt.xlabel(\"Epochs\")\n",
    "plt.ylabel(\"loss\")\n",
    "plt.legend();\n",
    "# transformer.summary()"
   ]
  },
  {
   "cell_type": "markdown",
   "metadata": {
    "id": "PVbEUCZagJ0G"
   },
   "source": [
    "### Inference"
   ]
  },
  {
   "cell_type": "code",
   "execution_count": 73,
   "metadata": {
    "executionInfo": {
     "elapsed": 329,
     "status": "ok",
     "timestamp": 1665826025020,
     "user": {
      "displayName": "Gary Ng",
      "userId": "02885211737705035727"
     },
     "user_tz": 420
    },
    "id": "F5D5cv2Jd8-6"
   },
   "outputs": [],
   "source": [
    "# Predicting one token at a time at the decoder and appending it to the output; \n",
    "# then taking the complete sequence as an input to the decoder,\n",
    "# repeating until maxlen or stop keyword appears\n",
    "def predict(inp, tar_head, inp_pad, tar_pad):\n",
    "\n",
    "    encoder_input = inp\n",
    "    output        = tar_head\n",
    "    output_pad    = tar_pad\n",
    "    stop_detected = False\n",
    "    \n",
    "    # maxlen = decoder_maxlen # tar_len if tar_len else decoder_maxlen\n",
    "    for i in range(decoder_maxlen-1):\n",
    "        enc_padding_mask, combined_mask, dec_padding_mask = create_masks(inp_pad, output_pad)\n",
    "\n",
    "        predictions, attention_weights = transformer(\n",
    "            encoder_input, \n",
    "            output,\n",
    "            False,\n",
    "            enc_padding_mask,\n",
    "            combined_mask,\n",
    "            dec_padding_mask\n",
    "        )        \n",
    "        latest = np.array(predictions[-1,-1])\n",
    "        if not stop_detected:\n",
    "            stop_detected = np.all(np.equal(gsb_to_grid(latest), end_task_grid)) \n",
    "        latest_append = np.array(np.expand_dims(latest, axis=(0,1)))\n",
    "        output     = np.concatenate([output, latest_append], axis=1)\n",
    "        output_pad = np.concatenate([output_pad, np.ones((1,1))], axis=1)\n",
    "    \n",
    "    return tf.squeeze(output, axis=0), stop_detected # attention_weights\n"
   ]
  },
  {
   "cell_type": "code",
   "execution_count": 64,
   "metadata": {
    "executionInfo": {
     "elapsed": 323,
     "status": "ok",
     "timestamp": 1665825429051,
     "user": {
      "displayName": "Gary Ng",
      "userId": "02885211737705035727"
     },
     "user_tz": 420
    },
    "id": "NcQrc5uf32aF"
   },
   "outputs": [],
   "source": [
    "def solve_one(inp, tar, inp_pad, tar_pad):\n",
    "    inp_ = np.expand_dims(inp, axis=0)\n",
    "    tar_ = np.expand_dims(tar[0], axis=(0,1))\n",
    "    inp_pad_ = np.expand_dims(inp_pad, axis=0)\n",
    "    tar_pad_ = np.expand_dims(tar_pad[0], axis=(0,1))\n",
    "    pred, stop_detected = predict( inp_, tar_, inp_pad_, tar_pad_)\n",
    "    loss = loss_function(tar, pred).numpy()\n",
    "    return pred, loss, stop_detected"
   ]
  },
  {
   "cell_type": "code",
   "execution_count": 65,
   "metadata": {
    "executionInfo": {
     "elapsed": 2,
     "status": "ok",
     "timestamp": 1665825429408,
     "user": {
      "displayName": "Gary Ng",
      "userId": "02885211737705035727"
     },
     "user_tz": 420
    },
    "id": "9gpt5F1632aF"
   },
   "outputs": [],
   "source": [
    "# Plot task grids\n",
    "def plot_task( inp, tar, pred, idx ):\n",
    "    fig, axes = plt.subplots(1, len(inp[idx]), figsize = (7, 20))\n",
    "    for i in range(len(inp[idx])):\n",
    "        plot_one(axes[i], np.array(inp[idx][i]), \"\", trim=False) \n",
    "    fig, axes = plt.subplots(1, len(tar[idx]), figsize = (15, 20))\n",
    "    for i in range(len(tar[idx])):\n",
    "        plot_one(axes[i], np.array(tar[idx][i]), \"\", trim=False)\n",
    "    fig, axes = plt.subplots(1, len(pred), figsize = (15, 20))\n",
    "    for i in range(len(pred)):\n",
    "        plot_one(axes[i], np.array(pred[i]), \"\", trim=False)"
   ]
  },
  {
   "cell_type": "code",
   "execution_count": 66,
   "metadata": {
    "executionInfo": {
     "elapsed": 2,
     "status": "ok",
     "timestamp": 1665825430493,
     "user": {
      "displayName": "Gary Ng",
      "userId": "02885211737705035727"
     },
     "user_tz": 420
    },
    "id": "Virne22r32aF"
   },
   "outputs": [],
   "source": [
    "def solve_and_plot(from_dataset, inp_labels, target_labels, idxs=None):\n",
    "\n",
    "    (inp, tar, inp_pad, tar_pad) = from_dataset\n",
    "    if not idxs:\n",
    "        # Pick a random one        \n",
    "        idxs = [np.random.randint(0, len(inp))]\n",
    "        \n",
    "    for idx in idxs:\n",
    "        print(\"Task index: {}, Input: {}, Target: {}\".format(idx, inp_labels[idx], target_labels[idx]))\n",
    "        # Run prediction\n",
    "        pred, loss, stop_detected = solve_one(inp[idx], tar[idx], inp_pad[idx], tar_pad[idx])\n",
    "        print(\"Result Elements: {}, Shape: {}, Stopped: {}\".format(len(pred), pred.shape, stop_detected))\n",
    "        print(\"Loss\", loss)\n",
    "        plot_task( inp, tar, pred, idx )\n",
    "        "
   ]
  },
  {
   "cell_type": "markdown",
   "metadata": {
    "id": "YWE0wKn832aF"
   },
   "source": [
    "#### Try from Training Set"
   ]
  },
  {
   "cell_type": "code",
   "execution_count": 89,
   "metadata": {
    "colab": {
     "base_uri": "https://localhost:8080/",
     "height": 600
    },
    "executionInfo": {
     "elapsed": 1335,
     "status": "ok",
     "timestamp": 1665827153539,
     "user": {
      "displayName": "Gary Ng",
      "userId": "02885211737705035727"
     },
     "user_tz": 420
    },
    "id": "CZ5y6Sd032aF",
    "outputId": "8756ec32-115f-4244-9f3e-7fa124f97bc4"
   },
   "outputs": [
    {
     "name": "stdout",
     "output_type": "stream",
     "text": [
      "Task index: 58, Input: be03b35f_train_0_i, Target: e509e548_train_2_o\n",
      "Result Elements: 4, Shape: (4, 32, 32, 3), Stopped: False\n",
      "Loss 0.03723304586588195\n"
     ]
    },
    {
     "data": {
      "image/png": "[encoded data removed]",
      "text/plain": [
       "<Figure size 504x1440 with 2 Axes>"
      ]
     },
     "metadata": {
      "needs_background": "light"
     },
     "output_type": "display_data"
    },
    {
     "data": {
      "image/png": "[encoded data removed]",
      "text/plain": [
       "<Figure size 1080x1440 with 4 Axes>"
      ]
     },
     "metadata": {
      "needs_background": "light"
     },
     "output_type": "display_data"
    },
    {
     "data": {
      "image/png": "[encoded data removed]",
      "text/plain": [
       "<Figure size 1080x1440 with 4 Axes>"
      ]
     },
     "metadata": {
      "needs_background": "light"
     },
     "output_type": "display_data"
    }
   ],
   "source": [
    "tset = list(training_set.as_numpy_iterator())\n",
    "solve_and_plot(tset[0], train_inp_labels, train_tar_labels)"
   ]
  },
  {
   "cell_type": "markdown",
   "metadata": {
    "id": "Il0WixwU32aG"
   },
   "source": [
    "#### Try from Test Set"
   ]
  },
  {
   "cell_type": "code",
   "execution_count": 90,
   "metadata": {
    "colab": {
     "base_uri": "https://localhost:8080/",
     "height": 600
    },
    "executionInfo": {
     "elapsed": 1643,
     "status": "ok",
     "timestamp": 1665827165419,
     "user": {
      "displayName": "Gary Ng",
      "userId": "02885211737705035727"
     },
     "user_tz": 420
    },
    "id": "kNVOWPXFIn0k",
    "outputId": "2e469c16-ddd1-4321-c7e7-582cefbb041c"
   },
   "outputs": [
    {
     "name": "stdout",
     "output_type": "stream",
     "text": [
      "Task index: 576, Input: 817e6c09_train_1_o, Target: ca8f78db_train_0_i\n",
      "Result Elements: 4, Shape: (4, 32, 32, 3), Stopped: False\n",
      "Loss 0.06380896202355782\n"
     ]
    },
    {
     "data": {
      "image/png": "[encoded data removed]",
      "text/plain": [
       "<Figure size 504x1440 with 2 Axes>"
      ]
     },
     "metadata": {
      "needs_background": "light"
     },
     "output_type": "display_data"
    },
    {
     "data": {
      "image/png": "[encoded data removed]",
      "text/plain": [
       "<Figure size 1080x1440 with 4 Axes>"
      ]
     },
     "metadata": {
      "needs_background": "light"
     },
     "output_type": "display_data"
    },
    {
     "data": {
      "image/png": "[encoded data removed]",
      "text/plain": [
       "<Figure size 1080x1440 with 4 Axes>"
      ]
     },
     "metadata": {
      "needs_background": "light"
     },
     "output_type": "display_data"
    }
   ],
   "source": [
    "solve_and_plot(validatn_set, valid_inp_labels, valid_tar_labels)"
   ]
  },
  {
   "cell_type": "code",
   "execution_count": 91,
   "metadata": {
    "colab": {
     "base_uri": "https://localhost:8080/",
     "height": 1000
    },
    "executionInfo": {
     "elapsed": 8263,
     "status": "ok",
     "timestamp": 1665827192944,
     "user": {
      "displayName": "Gary Ng",
      "userId": "02885211737705035727"
     },
     "user_tz": 420
    },
    "id": "go6p6cSF32aG",
    "outputId": "c5dcdc9b-89f7-40c3-8d52-5c6c8f80499b"
   },
   "outputs": [
    {
     "name": "stdout",
     "output_type": "stream",
     "text": [
      "Task index: 107, Input: 92e50de0_train_1_o, Target: 7d18a6fb_test_0_i\n",
      "Result Elements: 4, Shape: (4, 32, 32, 3), Stopped: False\n",
      "Loss 0.04916957480343838\n",
      "Task index: 420, Input: d4469b4b_train_0_o, Target: d931c21c_train_3_i\n",
      "Result Elements: 4, Shape: (4, 32, 32, 3), Stopped: False\n",
      "Loss 0.05745327750365258\n",
      "Task index: 326, Input: fc754716_train_0_o, Target: 0e206a2e_test_0_o\n",
      "Result Elements: 4, Shape: (4, 32, 32, 3), Stopped: False\n",
      "Loss 0.05132857782809372\n",
      "Task index: 416, Input: 50f325b5_train_0_o, Target: 9172f3a0_train_1_o\n",
      "Result Elements: 4, Shape: (4, 32, 32, 3), Stopped: True\n",
      "Loss 0.001360313434552229\n",
      "Task index: 535, Input: d06dbe63_test_0_i, Target: d23f8c26_test_0_i\n",
      "Result Elements: 4, Shape: (4, 32, 32, 3), Stopped: False\n",
      "Loss 0.030187139258865743\n",
      "Task index: 471, Input: 253bf280_train_4_i, Target: 4f537728_test_0_o\n",
      "Result Elements: 4, Shape: (4, 32, 32, 3), Stopped: False\n",
      "Loss 0.051647156337960694\n"
     ]
    },
    {
     "data": {
      "image/png": "[encoded data removed]",
      "text/plain": [
       "<Figure size 504x1440 with 2 Axes>"
      ]
     },
     "metadata": {
      "needs_background": "light"
     },
     "output_type": "display_data"
    },
    {
     "data": {
      "image/png": "[encoded data removed]",
      "text/plain": [
       "<Figure size 1080x1440 with 4 Axes>"
      ]
     },
     "metadata": {
      "needs_background": "light"
     },
     "output_type": "display_data"
    },
    {
     "data": {
      "image/png": "[encoded data removed]",
      "text/plain": [
       "<Figure size 1080x1440 with 4 Axes>"
      ]
     },
     "metadata": {
      "needs_background": "light"
     },
     "output_type": "display_data"
    },
    {
     "data": {
      "image/png": "[encoded data removed]",
      "text/plain": [
       "<Figure size 504x1440 with 2 Axes>"
      ]
     },
     "metadata": {
      "needs_background": "light"
     },
     "output_type": "display_data"
    },
    {
     "data": {
      "image/png": "[encoded data removed]",
      "text/plain": [
       "<Figure size 1080x1440 with 4 Axes>"
      ]
     },
     "metadata": {
      "needs_background": "light"
     },
     "output_type": "display_data"
    },
    {
     "data": {
      "image/png": "[encoded data removed]",
      "text/plain": [
       "<Figure size 1080x1440 with 4 Axes>"
      ]
     },
     "metadata": {
      "needs_background": "light"
     },
     "output_type": "display_data"
    },
    {
     "data": {
      "image/png": "[encoded data removed]",
      "text/plain": [
       "<Figure size 504x1440 with 2 Axes>"
      ]
     },
     "metadata": {
      "needs_background": "light"
     },
     "output_type": "display_data"
    },
    {
     "data": {
      "image/png": "[encoded data removed]",
      "text/plain": [
       "<Figure size 1080x1440 with 4 Axes>"
      ]
     },
     "metadata": {
      "needs_background": "light"
     },
     "output_type": "display_data"
    },
    {
     "data": {
      "image/png": "[encoded data removed]",
      "text/plain": [
       "<Figure size 1080x1440 with 4 Axes>"
      ]
     },
     "metadata": {
      "needs_background": "light"
     },
     "output_type": "display_data"
    },
    {
     "data": {
      "image/png": "[encoded data removed]",
      "text/plain": [
       "<Figure size 504x1440 with 2 Axes>"
      ]
     },
     "metadata": {
      "needs_background": "light"
     },
     "output_type": "display_data"
    },
    {
     "data": {
      "image/png": "[encoded data removed]",
      "text/plain": [
       "<Figure size 1080x1440 with 4 Axes>"
      ]
     },
     "metadata": {
      "needs_background": "light"
     },
     "output_type": "display_data"
    },
    {
     "data": {
      "image/png": "[encoded data removed]",
      "text/plain": [
       "<Figure size 1080x1440 with 4 Axes>"
      ]
     },
     "metadata": {
      "needs_background": "light"
     },
     "output_type": "display_data"
    },
    {
     "data": {
      "image/png": "[encoded data removed]",
      "text/plain": [
       "<Figure size 504x1440 with 2 Axes>"
      ]
     },
     "metadata": {
      "needs_background": "light"
     },
     "output_type": "display_data"
    },
    {
     "data": {
      "image/png": "[encoded data removed]",
      "text/plain": [
       "<Figure size 1080x1440 with 4 Axes>"
      ]
     },
     "metadata": {
      "needs_background": "light"
     },
     "output_type": "display_data"
    },
    {
     "data": {
      "image/png": "[encoded data removed]",
      "text/plain": [
       "<Figure size 1080x1440 with 4 Axes>"
      ]
     },
     "metadata": {
      "needs_background": "light"
     },
     "output_type": "display_data"
    },
    {
     "data": {
      "image/png": "[encoded data removed]",
      "text/plain": [
       "<Figure size 504x1440 with 2 Axes>"
      ]
     },
     "metadata": {
      "needs_background": "light"
     },
     "output_type": "display_data"
    },
    {
     "data": {
      "image/png": "[encoded data removed]",
      "text/plain": [
       "<Figure size 1080x1440 with 4 Axes>"
      ]
     },
     "metadata": {
      "needs_background": "light"
     },
     "output_type": "display_data"
    },
    {
     "data": {
      "image/png": "[encoded data removed]",
      "text/plain": [
       "<Figure size 1080x1440 with 4 Axes>"
      ]
     },
     "metadata": {
      "needs_background": "light"
     },
     "output_type": "display_data"
    }
   ],
   "source": [
    "solve_and_plot(validatn_set, valid_inp_labels, valid_tar_labels, [107, 420, 326, 416, 535, 471])"
   ]
  },
  {
   "cell_type": "markdown",
   "metadata": {
    "id": "foArFYPJ32aG"
   },
   "source": [
    "#### Score Test Set"
   ]
  },
  {
   "cell_type": "code",
   "execution_count": 92,
   "metadata": {
    "colab": {
     "base_uri": "https://localhost:8080/"
    },
    "executionInfo": {
     "elapsed": 99424,
     "status": "ok",
     "timestamp": 1665827329626,
     "user": {
      "displayName": "Gary Ng",
      "userId": "02885211737705035727"
     },
     "user_tz": 420
    },
    "id": "87abz-9l32aG",
    "outputId": "1c043fc7-b4ac-4d02-f25c-e214847715a1"
   },
   "outputs": [
    {
     "name": "stdout",
     "output_type": "stream",
     "text": [
      "Count: 700, Avg loss: 0.028173723944855702, Stops found: 267\n"
     ]
    }
   ],
   "source": [
    "total_loss=0\n",
    "stops_found=0\n",
    "\n",
    "(inp, tar, inp_pad, tar_pad) = validatn_set\n",
    "for idx in range(len(inp)):\n",
    "    pred, loss, stop_detected = solve_one(inp[idx], tar[idx], inp_pad[idx], tar_pad[idx])\n",
    "    total_loss += loss\n",
    "    stops_found+= stop_detected\n",
    "    \n",
    "print(\"Count: {}, Avg loss: {}, Stops found: {}\".format(len(inp), total_loss/len(inp), stops_found))"
   ]
  },
  {
   "cell_type": "code",
   "execution_count": null,
   "metadata": {
    "id": "2Vus8y3z32aG"
   },
   "outputs": [],
   "source": []
  }
 ],
 "metadata": {
  "accelerator": "GPU",
  "colab": {
   "collapsed_sections": [],
   "provenance": [],
   "toc_visible": true
  },
  "gpuClass": "standard",
  "kernelspec": {
   "display_name": "Python 3",
   "language": "python",
   "name": "python3"
  },
  "language_info": {
   "codemirror_mode": {
    "name": "ipython",
    "version": 3
   },
   "file_extension": ".py",
   "mimetype": "text/x-python",
   "name": "python",
   "nbconvert_exporter": "python",
   "pygments_lexer": "ipython3",
   "version": "3.7.6"
  }
 },
 "nbformat": 4,
 "nbformat_minor": 4
}
