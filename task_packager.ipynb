{
 "cells": [
  {
   "cell_type": "code",
   "execution_count": 1,
   "metadata": {},
   "outputs": [],
   "source": [
    "import os\n",
    "import json\n",
    "import csv\n",
    "import configparser\n",
    "\n",
    "import numpy as np\n",
    "import pandas as pd\n",
    "\n",
    "from pathlib import Path\n",
    "from datetime import datetime\n",
    "import matplotlib.pyplot as plt\n",
    "from matplotlib import colors\n",
    "\n",
    "from scipy.spatial.transform import Rotation\n",
    "\n",
    "import traceback\n",
    "import logging\n",
    "\n",
    "logger = logging.getLogger('arc.'+__name__)"
   ]
  },
  {
   "cell_type": "markdown",
   "metadata": {},
   "source": [
    "# Environment"
   ]
  },
  {
   "cell_type": "code",
   "execution_count": 2,
   "metadata": {},
   "outputs": [],
   "source": [
    "def list_dirs(data_path):\n",
    "    items = [ (f.path, f.name) for f in os.scandir(data_path) if f.is_dir()]\n",
    "    for dirname, name in items:\n",
    "        logger.info(dirname)\n",
    "    return items"
   ]
  },
  {
   "cell_type": "code",
   "execution_count": 29,
   "metadata": {},
   "outputs": [
    {
     "name": "stdout",
     "output_type": "stream",
     "text": [
      "[('data/core_knowledge/moveapixelxone', 'moveapixelxone'), ('data/core_knowledge/circleapixel', 'circleapixel'), ('data/core_knowledge/circleapixelone', 'circleapixelone')]\n",
      "moveapixelxone 1000\n",
      "circleapixel 1000\n",
      "circleapixelone 1000\n"
     ]
    }
   ],
   "source": [
    "data_dir  = 'data'\n",
    "tasks = {}\n",
    "paths = {}\n",
    "\n",
    "data_path = Path( data_dir + '/core_knowledge/')\n",
    "# task_dir  = 'circleapixelone'\n",
    "# filename  = 'circleapixelone_tasks.npz' \n",
    "task_dir  = 'moveapixelxone'\n",
    "filename  = 'moveapixelxone_tasks.npz' \n",
    "\n",
    "dirs = list_dirs(data_path)\n",
    "\n",
    "for path, name in dirs:\n",
    "    paths[name]   = path\n",
    "    tasks[name]   = sorted(os.listdir(paths[name]))\n",
    "\n",
    "print(dirs)\n",
    "for v in tasks:\n",
    "    print(v, len(tasks[v]))"
   ]
  },
  {
   "cell_type": "code",
   "execution_count": 30,
   "metadata": {},
   "outputs": [],
   "source": [
    "def get_one(bucket, file):\n",
    "    \"\"\"\n",
    "    Retrieve the details of one task. Provide details like training/evaluation/test, choose to id by index/filename.\n",
    "    \"\"\"\n",
    "    i = tasks[bucket].index(file) # This will fail is file is not in the list\n",
    "    task_file = str(paths[bucket]) + \"/\" + str(tasks[bucket][i])\n",
    "    with open(task_file, 'r') as f:\n",
    "        task = json.load(f)\n",
    "    return os.path.splitext(tasks[bucket][i])[0], task_file, task"
   ]
  },
  {
   "cell_type": "markdown",
   "metadata": {},
   "source": [
    "# Task Metadata"
   ]
  },
  {
   "cell_type": "code",
   "execution_count": 31,
   "metadata": {},
   "outputs": [],
   "source": [
    "def create_df(folder_path):\n",
    "    task_names_list = sorted(os.listdir(folder_path))\n",
    "    task_list = []\n",
    "    for task_name in task_names_list: \n",
    "        task_file = str(folder_path / task_name)\n",
    "        with open(task_file, 'r') as f:\n",
    "            # print(f)\n",
    "            task = json.load(f)\n",
    "            task_list.append(task)\n",
    "    \n",
    "    df = pd.DataFrame()\n",
    "    df['task_name'] = task_names_list\n",
    "    df['task'] = task_list\n",
    "    df['number_of_train_pairs'] = df['task'].apply(lambda x: len(x['train']))\n",
    "    df['number_of_test_pairs'] = df['task'].apply(lambda x: len(x['test']))\n",
    "    \n",
    "    # Compare image sizes\n",
    "    df['inputs_all_have_same_height'] = df['task'].apply(\n",
    "        lambda task: int(len(set([len(example['input']) for example in task['train']+task.get('test')])) == 1)\n",
    "    )\n",
    "    df['inputs_all_have_same_width'] = df['task'].apply(\n",
    "        lambda task: int(len(set([len(example['input'][0]) for example in task['train']+task.get('test')])) == 1)\n",
    "    )\n",
    "    df['inputs_all_have_same_shape'] = df['inputs_all_have_same_height'] * df['inputs_all_have_same_width']\n",
    "    df['input_height_if_constant'] = df['task'].apply(\n",
    "        lambda task: len(task['train'][0]['input'])\n",
    "                     if (len(set([len(example['input']) for example in task['train']+task.get('test')])) == 1)\n",
    "                     else np.nan\n",
    "    )\n",
    "    df['input_width_if_constant'] = df['task'].apply(\n",
    "        lambda task: len(task['train'][0]['input'][0])\n",
    "                     if (len(set([len(example['input'][0]) for example in task['train']+task.get('test')])) == 1)\n",
    "                     else np.nan\n",
    "    )\n",
    "    \n",
    "    df['outputs_all_have_same_height'] = df['task'].apply(\n",
    "        lambda task: int(len(set([len(example['output']) for example in task['train']+task.get('test')])) == 1)\n",
    "    )\n",
    "    df['outputs_all_have_same_width'] = df['task'].apply(\n",
    "        lambda task: int(len(set([len(example['output'][0]) for example in task['train']+task.get('test')])) == 1)\n",
    "    )\n",
    "    df['outputs_all_have_same_shape'] = df['outputs_all_have_same_height'] * df['outputs_all_have_same_width']\n",
    "    df['output_height_if_constant'] = df['task'].apply(\n",
    "        lambda task: len(task['train'][0]['output'])\n",
    "                     if (len(set([len(example['output']) for example in task['train']+task.get('test')])) == 1)\n",
    "                     else np.nan\n",
    "    )\n",
    "    df['output_width_if_constant'] = df['task'].apply(\n",
    "        lambda task: len(task['train'][0]['output'][0])\n",
    "                     if (len(set([len(example['output'][0]) for example in task['train']+task.get('test')])) == 1)\n",
    "                     else np.nan\n",
    "    )    \n",
    "    \n",
    "    df['in_each_pair_shape_doesnt_change'] = df['task'].apply(\n",
    "        lambda task: np.prod([int(len(example['input'][0])==len(example['output'][0])\n",
    "                                  and len(example['input'])==len(example['output'])\n",
    "                                 ) for example in task['train']+task.get('test')\n",
    "                            ])\n",
    "    )\n",
    "    df['in_each_pair_shape_ratio_is_the_same'] = df['task'].apply(\n",
    "        lambda task: (len(set([len(example['input'][0]) / len(example['output'][0])\n",
    "                                 for example in task['train']+task.get('test')]))==1) * (\n",
    "                      len(set([len(example['input']) / len(example['output'])\n",
    "                                 for example in task['train']+task.get('test')]))==1)\n",
    "    )\n",
    "    df['o/i_height_ratio_if_constant'] = df['task'].apply(\n",
    "        lambda task: len(task['train'][0]['output']) / len(task['train'][0]['input'])\n",
    "                     if (len(set([len(example['input']) / len(example['output'])\n",
    "                                 for example in task['train']+task.get('test')]))==1)\n",
    "                     else np.nan\n",
    "    )\n",
    "    df['o/i_width_ratio_if_constant'] = df['task'].apply(\n",
    "        lambda task: len(task['train'][0]['output'][0]) / len(task['train'][0]['input'][0])\n",
    "                     if (len(set([len(example['input'][0]) / len(example['output'][0])\n",
    "                                 for example in task['train']+task.get('test')]))==1)\n",
    "                     else np.nan\n",
    "    )\n",
    "    \n",
    "    return df"
   ]
  },
  {
   "cell_type": "code",
   "execution_count": 32,
   "metadata": {},
   "outputs": [
    {
     "data": {
      "text/html": [
       "<div>\n",
       "<style scoped>\n",
       "    .dataframe tbody tr th:only-of-type {\n",
       "        vertical-align: middle;\n",
       "    }\n",
       "\n",
       "    .dataframe tbody tr th {\n",
       "        vertical-align: top;\n",
       "    }\n",
       "\n",
       "    .dataframe thead th {\n",
       "        text-align: right;\n",
       "    }\n",
       "</style>\n",
       "<table border=\"1\" class=\"dataframe\">\n",
       "  <thead>\n",
       "    <tr style=\"text-align: right;\">\n",
       "      <th></th>\n",
       "      <th>task_name</th>\n",
       "      <th>task</th>\n",
       "      <th>number_of_train_pairs</th>\n",
       "      <th>number_of_test_pairs</th>\n",
       "      <th>inputs_all_have_same_height</th>\n",
       "      <th>inputs_all_have_same_width</th>\n",
       "      <th>inputs_all_have_same_shape</th>\n",
       "      <th>input_height_if_constant</th>\n",
       "      <th>input_width_if_constant</th>\n",
       "      <th>outputs_all_have_same_height</th>\n",
       "      <th>outputs_all_have_same_width</th>\n",
       "      <th>outputs_all_have_same_shape</th>\n",
       "      <th>output_height_if_constant</th>\n",
       "      <th>output_width_if_constant</th>\n",
       "      <th>in_each_pair_shape_doesnt_change</th>\n",
       "      <th>in_each_pair_shape_ratio_is_the_same</th>\n",
       "      <th>o/i_height_ratio_if_constant</th>\n",
       "      <th>o/i_width_ratio_if_constant</th>\n",
       "    </tr>\n",
       "  </thead>\n",
       "  <tbody>\n",
       "    <tr>\n",
       "      <th>0</th>\n",
       "      <td>moveapixelxone-004c973ced.json</td>\n",
       "      <td>{'train': [{'input': [[8, 8, 8, 8, 8, 8, 8, 8,...</td>\n",
       "      <td>4</td>\n",
       "      <td>1</td>\n",
       "      <td>0</td>\n",
       "      <td>0</td>\n",
       "      <td>0</td>\n",
       "      <td>NaN</td>\n",
       "      <td>NaN</td>\n",
       "      <td>0</td>\n",
       "      <td>0</td>\n",
       "      <td>0</td>\n",
       "      <td>NaN</td>\n",
       "      <td>NaN</td>\n",
       "      <td>1</td>\n",
       "      <td>1</td>\n",
       "      <td>1.0</td>\n",
       "      <td>1.0</td>\n",
       "    </tr>\n",
       "    <tr>\n",
       "      <th>1</th>\n",
       "      <td>moveapixelxone-00aed4d843.json</td>\n",
       "      <td>{'train': [{'input': [[1, 1, 1, 1, 1, 1, 1, 1,...</td>\n",
       "      <td>4</td>\n",
       "      <td>1</td>\n",
       "      <td>0</td>\n",
       "      <td>0</td>\n",
       "      <td>0</td>\n",
       "      <td>NaN</td>\n",
       "      <td>NaN</td>\n",
       "      <td>0</td>\n",
       "      <td>0</td>\n",
       "      <td>0</td>\n",
       "      <td>NaN</td>\n",
       "      <td>NaN</td>\n",
       "      <td>1</td>\n",
       "      <td>1</td>\n",
       "      <td>1.0</td>\n",
       "      <td>1.0</td>\n",
       "    </tr>\n",
       "    <tr>\n",
       "      <th>2</th>\n",
       "      <td>moveapixelxone-015b24c4b8.json</td>\n",
       "      <td>{'train': [{'input': [[8, 8, 8, 8, 8, 8, 8, 8,...</td>\n",
       "      <td>4</td>\n",
       "      <td>1</td>\n",
       "      <td>0</td>\n",
       "      <td>0</td>\n",
       "      <td>0</td>\n",
       "      <td>NaN</td>\n",
       "      <td>NaN</td>\n",
       "      <td>0</td>\n",
       "      <td>0</td>\n",
       "      <td>0</td>\n",
       "      <td>NaN</td>\n",
       "      <td>NaN</td>\n",
       "      <td>1</td>\n",
       "      <td>1</td>\n",
       "      <td>1.0</td>\n",
       "      <td>1.0</td>\n",
       "    </tr>\n",
       "    <tr>\n",
       "      <th>3</th>\n",
       "      <td>moveapixelxone-02985e05d7.json</td>\n",
       "      <td>{'train': [{'input': [[9, 9, 9, 9, 9, 9, 9, 9,...</td>\n",
       "      <td>4</td>\n",
       "      <td>1</td>\n",
       "      <td>0</td>\n",
       "      <td>0</td>\n",
       "      <td>0</td>\n",
       "      <td>NaN</td>\n",
       "      <td>NaN</td>\n",
       "      <td>0</td>\n",
       "      <td>0</td>\n",
       "      <td>0</td>\n",
       "      <td>NaN</td>\n",
       "      <td>NaN</td>\n",
       "      <td>1</td>\n",
       "      <td>1</td>\n",
       "      <td>1.0</td>\n",
       "      <td>1.0</td>\n",
       "    </tr>\n",
       "    <tr>\n",
       "      <th>4</th>\n",
       "      <td>moveapixelxone-02a1dc0ee6.json</td>\n",
       "      <td>{'train': [{'input': [[1, 1, 1, 1, 1, 1, 1, 1,...</td>\n",
       "      <td>4</td>\n",
       "      <td>1</td>\n",
       "      <td>0</td>\n",
       "      <td>0</td>\n",
       "      <td>0</td>\n",
       "      <td>NaN</td>\n",
       "      <td>NaN</td>\n",
       "      <td>0</td>\n",
       "      <td>0</td>\n",
       "      <td>0</td>\n",
       "      <td>NaN</td>\n",
       "      <td>NaN</td>\n",
       "      <td>1</td>\n",
       "      <td>1</td>\n",
       "      <td>1.0</td>\n",
       "      <td>1.0</td>\n",
       "    </tr>\n",
       "  </tbody>\n",
       "</table>\n",
       "</div>"
      ],
      "text/plain": [
       "                        task_name  \\\n",
       "0  moveapixelxone-004c973ced.json   \n",
       "1  moveapixelxone-00aed4d843.json   \n",
       "2  moveapixelxone-015b24c4b8.json   \n",
       "3  moveapixelxone-02985e05d7.json   \n",
       "4  moveapixelxone-02a1dc0ee6.json   \n",
       "\n",
       "                                                task  number_of_train_pairs  \\\n",
       "0  {'train': [{'input': [[8, 8, 8, 8, 8, 8, 8, 8,...                      4   \n",
       "1  {'train': [{'input': [[1, 1, 1, 1, 1, 1, 1, 1,...                      4   \n",
       "2  {'train': [{'input': [[8, 8, 8, 8, 8, 8, 8, 8,...                      4   \n",
       "3  {'train': [{'input': [[9, 9, 9, 9, 9, 9, 9, 9,...                      4   \n",
       "4  {'train': [{'input': [[1, 1, 1, 1, 1, 1, 1, 1,...                      4   \n",
       "\n",
       "   number_of_test_pairs  inputs_all_have_same_height  \\\n",
       "0                     1                            0   \n",
       "1                     1                            0   \n",
       "2                     1                            0   \n",
       "3                     1                            0   \n",
       "4                     1                            0   \n",
       "\n",
       "   inputs_all_have_same_width  inputs_all_have_same_shape  \\\n",
       "0                           0                           0   \n",
       "1                           0                           0   \n",
       "2                           0                           0   \n",
       "3                           0                           0   \n",
       "4                           0                           0   \n",
       "\n",
       "   input_height_if_constant  input_width_if_constant  \\\n",
       "0                       NaN                      NaN   \n",
       "1                       NaN                      NaN   \n",
       "2                       NaN                      NaN   \n",
       "3                       NaN                      NaN   \n",
       "4                       NaN                      NaN   \n",
       "\n",
       "   outputs_all_have_same_height  outputs_all_have_same_width  \\\n",
       "0                             0                            0   \n",
       "1                             0                            0   \n",
       "2                             0                            0   \n",
       "3                             0                            0   \n",
       "4                             0                            0   \n",
       "\n",
       "   outputs_all_have_same_shape  output_height_if_constant  \\\n",
       "0                            0                        NaN   \n",
       "1                            0                        NaN   \n",
       "2                            0                        NaN   \n",
       "3                            0                        NaN   \n",
       "4                            0                        NaN   \n",
       "\n",
       "   output_width_if_constant  in_each_pair_shape_doesnt_change  \\\n",
       "0                       NaN                                 1   \n",
       "1                       NaN                                 1   \n",
       "2                       NaN                                 1   \n",
       "3                       NaN                                 1   \n",
       "4                       NaN                                 1   \n",
       "\n",
       "   in_each_pair_shape_ratio_is_the_same  o/i_height_ratio_if_constant  \\\n",
       "0                                     1                           1.0   \n",
       "1                                     1                           1.0   \n",
       "2                                     1                           1.0   \n",
       "3                                     1                           1.0   \n",
       "4                                     1                           1.0   \n",
       "\n",
       "   o/i_width_ratio_if_constant  \n",
       "0                          1.0  \n",
       "1                          1.0  \n",
       "2                          1.0  \n",
       "3                          1.0  \n",
       "4                          1.0  "
      ]
     },
     "execution_count": 32,
     "metadata": {},
     "output_type": "execute_result"
    }
   ],
   "source": [
    "training_path = data_path / task_dir\n",
    "training_descriptive_df = create_df(training_path)\n",
    "training_descriptive_df.head()"
   ]
  },
  {
   "cell_type": "code",
   "execution_count": 33,
   "metadata": {},
   "outputs": [
    {
     "data": {
      "text/html": [
       "<div>\n",
       "<style scoped>\n",
       "    .dataframe tbody tr th:only-of-type {\n",
       "        vertical-align: middle;\n",
       "    }\n",
       "\n",
       "    .dataframe tbody tr th {\n",
       "        vertical-align: top;\n",
       "    }\n",
       "\n",
       "    .dataframe thead th {\n",
       "        text-align: right;\n",
       "    }\n",
       "</style>\n",
       "<table border=\"1\" class=\"dataframe\">\n",
       "  <thead>\n",
       "    <tr style=\"text-align: right;\">\n",
       "      <th></th>\n",
       "      <th>task_name</th>\n",
       "      <th>task</th>\n",
       "      <th>number_of_train_pairs</th>\n",
       "      <th>number_of_test_pairs</th>\n",
       "      <th>inputs_all_have_same_height</th>\n",
       "      <th>inputs_all_have_same_width</th>\n",
       "      <th>inputs_all_have_same_shape</th>\n",
       "      <th>input_height_if_constant</th>\n",
       "      <th>input_width_if_constant</th>\n",
       "      <th>outputs_all_have_same_height</th>\n",
       "      <th>outputs_all_have_same_width</th>\n",
       "      <th>outputs_all_have_same_shape</th>\n",
       "      <th>output_height_if_constant</th>\n",
       "      <th>output_width_if_constant</th>\n",
       "      <th>in_each_pair_shape_doesnt_change</th>\n",
       "      <th>in_each_pair_shape_ratio_is_the_same</th>\n",
       "      <th>o/i_height_ratio_if_constant</th>\n",
       "      <th>o/i_width_ratio_if_constant</th>\n",
       "    </tr>\n",
       "  </thead>\n",
       "  <tbody>\n",
       "    <tr>\n",
       "      <th>41</th>\n",
       "      <td>moveapixelxone-0c4bbe979a.json</td>\n",
       "      <td>{'train': [{'input': [[0, 0, 0, 0, 0, 0, 0, 0,...</td>\n",
       "      <td>4</td>\n",
       "      <td>1</td>\n",
       "      <td>0</td>\n",
       "      <td>0</td>\n",
       "      <td>0</td>\n",
       "      <td>NaN</td>\n",
       "      <td>NaN</td>\n",
       "      <td>0</td>\n",
       "      <td>0</td>\n",
       "      <td>0</td>\n",
       "      <td>NaN</td>\n",
       "      <td>NaN</td>\n",
       "      <td>1</td>\n",
       "      <td>1</td>\n",
       "      <td>1.0</td>\n",
       "      <td>1.0</td>\n",
       "    </tr>\n",
       "  </tbody>\n",
       "</table>\n",
       "</div>"
      ],
      "text/plain": [
       "                         task_name  \\\n",
       "41  moveapixelxone-0c4bbe979a.json   \n",
       "\n",
       "                                                 task  number_of_train_pairs  \\\n",
       "41  {'train': [{'input': [[0, 0, 0, 0, 0, 0, 0, 0,...                      4   \n",
       "\n",
       "    number_of_test_pairs  inputs_all_have_same_height  \\\n",
       "41                     1                            0   \n",
       "\n",
       "    inputs_all_have_same_width  inputs_all_have_same_shape  \\\n",
       "41                           0                           0   \n",
       "\n",
       "    input_height_if_constant  input_width_if_constant  \\\n",
       "41                       NaN                      NaN   \n",
       "\n",
       "    outputs_all_have_same_height  outputs_all_have_same_width  \\\n",
       "41                             0                            0   \n",
       "\n",
       "    outputs_all_have_same_shape  output_height_if_constant  \\\n",
       "41                            0                        NaN   \n",
       "\n",
       "    output_width_if_constant  in_each_pair_shape_doesnt_change  \\\n",
       "41                       NaN                                 1   \n",
       "\n",
       "    in_each_pair_shape_ratio_is_the_same  o/i_height_ratio_if_constant  \\\n",
       "41                                     1                           1.0   \n",
       "\n",
       "    o/i_width_ratio_if_constant  \n",
       "41                          1.0  "
      ]
     },
     "execution_count": 33,
     "metadata": {},
     "output_type": "execute_result"
    }
   ],
   "source": [
    "# training_descriptive_df[training_descriptive_df['task_name'] == 'circleapixelone-00aed4d843.json']\n",
    "training_descriptive_df[training_descriptive_df['task_name'] == 'moveapixelxone-0c4bbe979a.json'] \n",
    "# ['number_of_train_pairs']\n",
    "# input_height_if_constant\tinput_width_if_constant\t\n",
    "# output_height_if_constant\toutput_width_if_constant\n"
   ]
  },
  {
   "cell_type": "code",
   "execution_count": 34,
   "metadata": {},
   "outputs": [
    {
     "data": {
      "text/plain": [
       "moveapixelxone-004c973ced.json    []\n",
       "moveapixelxone-00aed4d843.json    []\n",
       "moveapixelxone-015b24c4b8.json    []\n",
       "moveapixelxone-02985e05d7.json    []\n",
       "moveapixelxone-02a1dc0ee6.json    []\n",
       "moveapixelxone-037b707dda.json    []\n",
       "moveapixelxone-0380e40d2a.json    []\n",
       "moveapixelxone-03e948f709.json    []\n",
       "moveapixelxone-0403beb9e7.json    []\n",
       "moveapixelxone-0458714522.json    []\n",
       "dtype: object"
      ]
     },
     "execution_count": 34,
     "metadata": {},
     "output_type": "execute_result"
    }
   ],
   "source": [
    "from skill_tags import create_skills\n",
    "\n",
    "skill_series = create_skills(training_path)\n",
    "skill_series.head(10)"
   ]
  },
  {
   "cell_type": "code",
   "execution_count": 35,
   "metadata": {},
   "outputs": [
    {
     "data": {
      "text/plain": [
       "[]"
      ]
     },
     "execution_count": 35,
     "metadata": {},
     "output_type": "execute_result"
    }
   ],
   "source": [
    "# skill_series['circleapixelone-00aed4d843.json']\n",
    "skill_series['moveapixelxone-0c4bbe979a.json']"
   ]
  },
  {
   "cell_type": "markdown",
   "metadata": {},
   "source": [
    "# Data Processing Utiities"
   ]
  },
  {
   "cell_type": "code",
   "execution_count": 36,
   "metadata": {},
   "outputs": [],
   "source": [
    "rgbs = ['#000000', '#0074D9','#FF4136','#2ECC40','#FFDC00', '#AAAAAA', '#F012BE', '#FF851B', '#7FDBFF', '#870C25']\n",
    "cmap = colors.ListedColormap(rgbs)\n",
    "norm = colors.Normalize(vmin=0, vmax=9)"
   ]
  },
  {
   "cell_type": "markdown",
   "metadata": {},
   "source": [
    "## RGB and Gray"
   ]
  },
  {
   "cell_type": "code",
   "execution_count": 37,
   "metadata": {},
   "outputs": [],
   "source": [
    "def rgb_to_gray(R, G, B):\n",
    "    grayscale = 0.3 * R + 0.59 * G + 0.11 * B\n",
    "    return grayscale\n",
    "\n",
    "def to_rgb(rgbstr):\n",
    "    return int(rgbstr[1:3],16) / 255, int(rgbstr[3:5],16) / 255, int(rgbstr[5:7],16) / 255"
   ]
  },
  {
   "cell_type": "markdown",
   "metadata": {},
   "source": [
    "## Test Distances of RGB Encoding"
   ]
  },
  {
   "cell_type": "code",
   "execution_count": 38,
   "metadata": {},
   "outputs": [
    {
     "name": "stdout",
     "output_type": "stream",
     "text": [
      "#000000 [0. 0. 0.]\n",
      "#0074D9 [0.         0.45490196 0.85098039]\n",
      "#FF4136 [1.         0.25490196 0.21176471]\n",
      "#2ECC40 [0.18039216 0.8        0.25098039]\n",
      "#FFDC00 [1.        0.8627451 0.       ]\n",
      "#AAAAAA [0.66666667 0.66666667 0.66666667]\n",
      "#F012BE [0.94117647 0.07058824 0.74509804]\n",
      "#FF851B [1.         0.52156863 0.10588235]\n",
      "#7FDBFF [0.49803922 0.85882353 1.        ]\n",
      "#870C25 [0.52941176 0.04705882 0.14509804]\n",
      "Distance Max 1.4091206176309676 Min 0.2869184270406329\n"
     ]
    }
   ],
   "source": [
    "vecs = np.zeros((10, 3))\n",
    "\n",
    "for i, cstr in enumerate(rgbs):\n",
    "    vecs[i] = to_rgb(cstr)\n",
    "    print(cstr, vecs[i])\n",
    "\n",
    "dists=[]\n",
    "for i, x in enumerate(vecs):\n",
    "    for j, y in enumerate(vecs):\n",
    "        if i != j:\n",
    "            dist = np.linalg.norm(x - y)\n",
    "            # print (str(i) + \" vs \" + str(j) + \" \" + str(dist))\n",
    "            dists.append(dist)\n",
    "\n",
    "print(\"Distance Max {} Min {}\".format(np.max(dists), np.min(dists)))"
   ]
  },
  {
   "cell_type": "markdown",
   "metadata": {},
   "source": [
    "## Test Distances of GSB Encodeing"
   ]
  },
  {
   "cell_type": "code",
   "execution_count": 39,
   "metadata": {},
   "outputs": [
    {
     "name": "stdout",
     "output_type": "stream",
     "text": [
      "[[ 0.          0.          1.12755499]\n",
      " [ 0.          0.         -1.12755499]\n",
      " [ 0.5         0.5         0.42044821]\n",
      " [-0.5         0.5         0.42044821]\n",
      " [ 0.5        -0.5         0.42044821]\n",
      " [-0.5        -0.5         0.42044821]\n",
      " [ 0.          0.70710678 -0.42044821]\n",
      " [ 0.         -0.70710678 -0.42044821]\n",
      " [ 0.70710678  0.         -0.42044821]\n",
      " [-0.70710678  0.         -0.42044821]\n",
      " [ 0.          0.          0.        ]]\n",
      "Distance Max 2.2551099776268098 Min 0.8226643880080363\n"
     ]
    }
   ],
   "source": [
    "# https://polytope.miraheze.org/wiki/Gyroelongated_square_bipyramid \n",
    "\n",
    "# A gyroelongated square bipyramid of edge length 1 has the following vertices:\n",
    "# (0,          0, ±{2*sqrt(2) + sqrt[4](8)} / 4),\n",
    "# (±1/2,    ±1/2,     sqrt[4](8) / 4),\n",
    "# (0, ±sqrt(2)/2, -sqrt[4](8) / 4),\n",
    "# (±sqrt(2)/2, 0, -sqrt[4](8) / 4).\n",
    "\n",
    "qurt_8 = np.power(8,1/4)\n",
    "sqrt_2 = np.power(2,1/2)\n",
    "\n",
    "coords = [None]*11\n",
    "coords[0] = [0,          0, +(2*sqrt_2 + qurt_8) / 4]\n",
    "coords[1] = [0,          0, -(2*sqrt_2 + qurt_8) / 4]\n",
    "coords[2] = [+0.5,    +0.5,     qurt_8 / 4]\n",
    "coords[3] = [-0.5,    +0.5,     qurt_8 / 4]\n",
    "coords[4] = [+0.5,    -0.5,     qurt_8 / 4]\n",
    "coords[5] = [-0.5,    -0.5,     qurt_8 / 4]\n",
    "coords[6] = [0, +sqrt_2/2, -qurt_8 / 4]\n",
    "coords[7] = [0, -sqrt_2/2, -qurt_8 / 4]\n",
    "coords[8] = [+sqrt_2/2, 0, -qurt_8 / 4]\n",
    "coords[9] = [-sqrt_2/2, 0, -qurt_8 / 4]\n",
    "coords[10] = [0,        0,           0]\n",
    "\n",
    "coords = np.array(coords)\n",
    "print(coords)\n",
    "\n",
    "# Testing distances\n",
    "dists=[]\n",
    "for i, x in enumerate(coords):\n",
    "    for j, y in enumerate(coords):\n",
    "        if i != j:\n",
    "            dist = np.linalg.norm(x - y)\n",
    "            # print (str(i) + \" vs \" + str(j) + \" \" + str(dist))\n",
    "            dists.append(dist)\n",
    "            \n",
    "print(\"Distance Max {} Min {}\".format(np.max(dists), np.min(dists)))"
   ]
  },
  {
   "cell_type": "markdown",
   "metadata": {},
   "source": [
    "## Test Distances of Rotated GSB Encoding"
   ]
  },
  {
   "cell_type": "code",
   "execution_count": 40,
   "metadata": {
    "tags": []
   },
   "outputs": [
    {
     "name": "stdout",
     "output_type": "stream",
     "text": [
      "[[ 0.5        -0.14644661  0.85355339]\n",
      " [ 0.5         0.85355339 -0.14644661]\n",
      " [-0.70710678  0.5         0.5       ]]\n",
      "[[ 0.96242838 -0.16512661  0.56377749]\n",
      " [-0.96242838  0.16512661 -0.56377749]\n",
      " [ 0.53565169  0.61520348  0.10667071]\n",
      " [ 0.03565169  0.11520348  0.81377749]\n",
      " [ 0.6820983  -0.23834991 -0.39332929]\n",
      " [ 0.1820983  -0.73834991  0.31377749]\n",
      " [-0.46242838  0.66512661  0.14332929]\n",
      " [-0.2553216  -0.54198018 -0.56377749]\n",
      " [-0.0053216   0.41512661 -0.7102241 ]\n",
      " [-0.71242838 -0.29198018  0.2897759 ]\n",
      " [ 0.          0.          0.        ]]\n",
      "Distance Max 2.2551099776268098 Min 0.8226643880080363\n"
     ]
    }
   ],
   "source": [
    "r=Rotation.from_euler('xyz',[45,45,45],degrees=True)\n",
    "print(r.as_matrix())\n",
    "coords = r.apply(coords)\n",
    "print(coords)\n",
    "\n",
    "# Testing distances\n",
    "# Still 2.2551099776268098 0.8226643880080363 after rotation.\n",
    "dists=[]\n",
    "for i, x in enumerate(coords):\n",
    "    for j, y in enumerate(coords):\n",
    "        if i != j:\n",
    "            dist = np.linalg.norm(x - y)\n",
    "            # print (str(i) + \" vs \" + str(j) + \" \" + str(dist))\n",
    "            dists.append(dist)\n",
    "            \n",
    "print(\"Distance Max {} Min {}\".format(np.max(dists), np.min(dists)))"
   ]
  },
  {
   "cell_type": "markdown",
   "metadata": {},
   "source": [
    "## Converstion Functions"
   ]
  },
  {
   "cell_type": "code",
   "execution_count": 41,
   "metadata": {
    "tags": []
   },
   "outputs": [
    {
     "name": "stdout",
     "output_type": "stream",
     "text": [
      "(32, 32, 11, 3)\n",
      "-0.5637774944067024\n"
     ]
    }
   ],
   "source": [
    "gsb_grid_mask = np.tile(coords,(32,32,1,1))\n",
    "print(gsb_grid_mask.shape)\n",
    "print(gsb_grid_mask[0,0,1,2])"
   ]
  },
  {
   "cell_type": "code",
   "execution_count": 42,
   "metadata": {
    "tags": []
   },
   "outputs": [],
   "source": [
    "def convert_grid_to_gsb(grid):\n",
    "    new_grid = np.zeros((32,32,3))\n",
    "    for r, row in enumerate(grid):\n",
    "        for c, cell in enumerate(row):\n",
    "            new_grid[r][c] = coords[cell]\n",
    "    return new_grid        \n",
    "\n",
    "def convert_grid_to_rgb(grid):\n",
    "    new_grid = np.zeros((32,32,3))\n",
    "    for r, row in enumerate(grid):\n",
    "        for c, cell in enumerate(row):\n",
    "            R, G, B = to_rgb(rgbs[cell])\n",
    "            # color = rgbs[cell]\n",
    "            # R = int(color[1:3],16) / 255\n",
    "            # G = int(color[3:5],16) / 255\n",
    "            # B = int(color[5:7],16) / 255\n",
    "            new_grid[r][c][0] = R\n",
    "            new_grid[r][c][1] = G\n",
    "            new_grid[r][c][2] = B\n",
    "    return new_grid        \n",
    "\n",
    "def convert_grid_to_channels(grid):\n",
    "    new_grid = np.zeros((32,32,10))\n",
    "    for r, row in enumerate(grid):\n",
    "        for c, cell in enumerate(row):\n",
    "            new_grid[r][c][cell] = 1\n",
    "    return new_grid\n",
    "\n",
    "def convert_grid_to_fractions(grid):\n",
    "    frac_grid = grid / 10\n",
    "    new_grid = np.zeros((32,32))\n",
    "    for r, row in enumerate(frac_grid):\n",
    "        for c, cell in enumerate(row):\n",
    "            new_grid[r][c] = cell if cell > 0 else 1.0\n",
    "    # print(grid)\n",
    "    # print(new_grid)\n",
    "    return new_grid        \n",
    "\n",
    "def convert_grid_to_gray(grid):\n",
    "    new_grid = np.zeros((32,32))\n",
    "    for r, row in enumerate(grid):\n",
    "        for c, cell in enumerate(row):\n",
    "            color = rgbs[cell]\n",
    "            R = int(color[1:3],16)\n",
    "            G = int(color[3:5],16)\n",
    "            B = int(color[5:7],16)\n",
    "            # print(cell, R, G, B, rgb_to_gray(R, G, B))\n",
    "            # print(r, c)\n",
    "            new_grid[r][c] = rgb_to_gray(R, G, B)\n",
    "    # print(grid)\n",
    "    # print(new_grid)\n",
    "    return new_grid"
   ]
  },
  {
   "cell_type": "code",
   "execution_count": 43,
   "metadata": {},
   "outputs": [],
   "source": [
    "convert_grid = convert_grid_to_gsb     \n",
    "\n",
    "def repackage(task_id, task, task_type):\n",
    "    \n",
    "    grids  = []\n",
    "    labels = []\n",
    "    attrs  = []\n",
    "    \n",
    "    ta = task[task_type]\n",
    "\n",
    "    label = task_id + '_' + task_type\n",
    "    skill = skill_series[task_id + \".json\"] if task_id + \".json\" in skill_series else ['unknown']\n",
    "    for i in range(len(ta)):\n",
    "\n",
    "        # Metadata\n",
    "        labels.append(label + '_' + str(i))   \n",
    "        i_problem = np.array(ta[i]['input'])\n",
    "        o_problem = np.array(ta[i]['output'])\n",
    "        attr  = { 'skill': skill, 'i_shape': i_problem.shape, 'o_shape': o_problem.shape }\n",
    "        attrs.append(attr)\n",
    "\n",
    "        # Convert inputs and outputs\n",
    "        i_problem = convert_grid(i_problem)        \n",
    "        o_problem = convert_grid(o_problem)                \n",
    "\n",
    "        # Add to the list\n",
    "        grids.append((i_problem, o_problem)) # Tuple\n",
    "\n",
    "    return grids, labels, attrs\n",
    "\n",
    "#####\n",
    "# Each row is a task of ((encnoder input - 2 grids), (decoder input/output - 2 grids)). \n",
    "#\n",
    "# Here is the formulation:\n",
    "# For each in 'train', assign as decoder input, then we pair with others in the set, including itself.\n",
    "# For each in 'test', assign as decoder input, we pair only with those in the 'train'. \n",
    "# A test task is never to be included in the training set. Put into test set.\n",
    "#\n",
    "def convert_task(task_id, task, train_set, test_set):\n",
    "\n",
    "    task_type=['train','test']\n",
    "    # problem_pairs=[None] * 2\n",
    "    num_tests   = len(task['test'])\n",
    "    num_trains  = len(task['train'])\n",
    "\n",
    "    train_grids, train_labels, train_attrs = repackage(task_id, task, 'train')\n",
    "    test_grids, test_labels, test_attrs    = repackage(task_id, task, 'test')\n",
    "        \n",
    "    # We will reserve the first problem to be associated with test as encoder input.\n",
    "    for j, d in enumerate(train_grids[1:], start=1):\n",
    "        for i, e in enumerate(train_grids[1:], start=1):\n",
    "            train_set['gtrain'].append((train_grids[i], train_grids[j])) # Tuple\n",
    "            train_set['ltrain'].append(train_labels[i] + \"|\" + train_labels[j])\n",
    "            train_set['atrain'].append({ 'encoder' : train_attrs[i], 'decoder' :  train_attrs[j] })\n",
    "\n",
    "    # This way, the entire test has never been seen in training.\n",
    "    for j, d in enumerate(test_grids):\n",
    "        test_set['gtest'].append((train_grids[0], test_grids[j])) # Tuple\n",
    "        test_set['ltest'].append(train_labels[0] + \"|\" + test_labels[j])\n",
    "        test_set['atest'].append({ 'encoder' : train_attrs[0], 'decoder' :  test_attrs[j] })                \n",
    "    \n",
    "    return train_set, test_set\n",
    "\n",
    "def conversion(bucket, level=logging.CRITICAL):\n",
    "    start = datetime.now()\n",
    "    count = 0\n",
    "\n",
    "    train_set = {'gtrain': [], 'ltrain': [], 'atrain': []}\n",
    "    test_set  = {'gtest' : [], 'ltest' : [], 'atest' : []}\n",
    "    \n",
    "    for t in tasks[bucket]:\n",
    "        # load task\n",
    "        task_id, task_file, task = get_one(bucket, t)\n",
    "        # process \n",
    "        convert_task(task_id, task, train_set, test_set)\n",
    "        # Count\n",
    "        count+=1\n",
    "        if count % 20 == 0:\n",
    "            print(\"processed \" + str(count))\n",
    "        # break\n",
    "\n",
    "    end   = datetime.now()\n",
    "    print(\"Exec time: %s\" % str(end-start))    \n",
    "\n",
    "    return train_set, test_set"
   ]
  },
  {
   "cell_type": "markdown",
   "metadata": {},
   "source": [
    "# Plot Utilities"
   ]
  },
  {
   "cell_type": "code",
   "execution_count": 44,
   "metadata": {
    "tags": []
   },
   "outputs": [],
   "source": [
    "def plot_grid(grid, label):\n",
    "    cmap = colors.ListedColormap(\n",
    "        ['#000000', '#0074D9','#FF4136','#2ECC40','#FFDC00',\n",
    "         '#AAAAAA', '#F012BE', '#FF851B', '#7FDBFF', '#870C25', '#444444'])\n",
    "    norm = colors.Normalize(vmin=0, vmax=10)\n",
    "    fig, axs = plt.subplots(1, 1, figsize=(15,15))\n",
    "    axs.imshow(grid,cmap=cmap, norm=norm)\n",
    "    axs.axis('off')\n",
    "    axs.set_title(label)\n",
    "    plt.gcf().set_size_inches(4, 4)\n",
    "    plt.tight_layout()   \n",
    "    plt.show()  \n",
    "\n",
    "def plot_gray_grid(grid, label):\n",
    "\n",
    "    fig, axs = plt.subplots(1, 1, figsize=(30,30))\n",
    "    axs.imshow(grid,cmap='gray', vmin=0, vmax=255)\n",
    "    axs.axis('off')\n",
    "    axs.set_title(label)\n",
    "    plt.gcf().set_size_inches(4, 4)\n",
    "    plt.tight_layout()   \n",
    "    plt.show()\n",
    "\n",
    "\n",
    "def plot_frac_grid(frac_grid, label):\n",
    "    grid = np.around(frac_grid*10)\n",
    "    self.plot_grid(grid, label)      \n",
    "\n",
    "def plot_channel_grid(channel_grid, label):\n",
    "    grid = np.zeros((32,32))\n",
    "    for i in range(10):\n",
    "        for r, row in enumerate(grid):\n",
    "            for c, cell in enumerate(row):\n",
    "                if channel_grid[r][c][i]:\n",
    "                    grid[r][c]=i\n",
    "\n",
    "    cmap = colors.ListedColormap(\n",
    "        ['#000000', '#0074D9','#FF4136','#2ECC40','#FFDC00',\n",
    "         '#AAAAAA', '#F012BE', '#FF851B', '#7FDBFF', '#870C25'])\n",
    "    norm = colors.Normalize(vmin=0, vmax=9)\n",
    "    fig, axs = plt.subplots(1, 1, figsize=(15,15))\n",
    "    axs.imshow(grid,cmap=cmap, norm=norm)\n",
    "    axs.axis('off')\n",
    "    axs.set_title(label)\n",
    "    plt.gcf().set_size_inches(4, 4)\n",
    "    plt.tight_layout()   \n",
    "    plt.show()\n",
    "\n",
    "def plot_rgb_grid(rgb_grid, label):\n",
    "    fig, axs = plt.subplots(1, 1, figsize=(15,15))\n",
    "    axs.imshow(rgb_grid)\n",
    "    axs.axis('off')\n",
    "    axs.set_title(label)\n",
    "    plt.gcf().set_size_inches(4, 4)\n",
    "    plt.tight_layout()   \n",
    "    plt.show()      "
   ]
  },
  {
   "cell_type": "markdown",
   "metadata": {},
   "source": [
    "# Processing and Packaging"
   ]
  },
  {
   "cell_type": "code",
   "execution_count": 45,
   "metadata": {},
   "outputs": [
    {
     "name": "stdout",
     "output_type": "stream",
     "text": [
      "dict_keys(['moveapixelxone', 'circleapixel', 'circleapixelone'])\n",
      "processed 20\n",
      "processed 40\n",
      "processed 60\n",
      "processed 80\n",
      "processed 100\n",
      "processed 120\n",
      "processed 140\n",
      "processed 160\n",
      "processed 180\n",
      "processed 200\n",
      "processed 220\n",
      "processed 240\n",
      "processed 260\n",
      "processed 280\n",
      "processed 300\n",
      "processed 320\n",
      "processed 340\n",
      "processed 360\n",
      "processed 380\n",
      "processed 400\n",
      "processed 420\n",
      "processed 440\n",
      "processed 460\n",
      "processed 480\n",
      "processed 500\n",
      "processed 520\n",
      "processed 540\n",
      "processed 560\n",
      "processed 580\n",
      "processed 600\n",
      "processed 620\n",
      "processed 640\n",
      "processed 660\n",
      "processed 680\n",
      "processed 700\n",
      "processed 720\n",
      "processed 740\n",
      "processed 760\n",
      "processed 780\n",
      "processed 800\n",
      "processed 820\n",
      "processed 840\n",
      "processed 860\n",
      "processed 880\n",
      "processed 900\n",
      "processed 920\n",
      "processed 940\n",
      "processed 960\n",
      "processed 980\n",
      "processed 1000\n",
      "Exec time: 0:00:04.246665\n",
      "8745 1051\n",
      "moveapixelxone_tasks.npz\n"
     ]
    }
   ],
   "source": [
    "combined_train_set = {'gtrain':[], 'ltrain':[], 'atrain':[] }\n",
    "combined_test_set  = {'gtest':[],  'ltest':[],  'atest':[]  }\n",
    "\n",
    "def absorb(train_set, test_set):\n",
    "    facets = ['gtrain', 'ltrain', 'atrain']\n",
    "    for i in range(len(train_set['gtrain'])):\n",
    "        for f in facets:\n",
    "            combined_train_set[f].append(train_set[f][i])\n",
    "    facets = ['gtest',  'ltest',  'atest']        \n",
    "    for i in range(len(test_set['gtest'])):\n",
    "        for f in facets:\n",
    "            combined_test_set[f].append(test_set[f][i])\n",
    "\n",
    "print(tasks.keys())\n",
    "train_set, test_set = conversion(task_dir)\n",
    "absorb(train_set, test_set)\n",
    "print(len(combined_train_set['gtrain']), len(combined_test_set['gtest']))\n",
    "print(filename)"
   ]
  },
  {
   "cell_type": "code",
   "execution_count": 46,
   "metadata": {},
   "outputs": [
    {
     "name": "stdout",
     "output_type": "stream",
     "text": [
      "Saved\n"
     ]
    }
   ],
   "source": [
    "np.savez_compressed(data_dir + '/' + filename, \n",
    "                    x_train=combined_train_set['gtrain'],  x_test=combined_test_set['gtest'], \n",
    "                    y_train=combined_train_set['ltrain'],  y_test=combined_test_set['ltest'], \n",
    "                    a_train=combined_train_set['atrain'],  a_test=combined_test_set['atest'])\n",
    "print(\"Saved\")"
   ]
  },
  {
   "cell_type": "markdown",
   "metadata": {},
   "source": [
    "# Sanity Checks"
   ]
  },
  {
   "cell_type": "code",
   "execution_count": 47,
   "metadata": {},
   "outputs": [
    {
     "name": "stdout",
     "output_type": "stream",
     "text": [
      "[[ 0.96242838 -0.16512661  0.56377749]\n",
      " [-0.96242838  0.16512661 -0.56377749]\n",
      " [ 0.53565169  0.61520348  0.10667071]\n",
      " [ 0.03565169  0.11520348  0.81377749]\n",
      " [ 0.6820983  -0.23834991 -0.39332929]\n",
      " [ 0.1820983  -0.73834991  0.31377749]\n",
      " [-0.46242838  0.66512661  0.14332929]\n",
      " [-0.2553216  -0.54198018 -0.56377749]\n",
      " [-0.0053216   0.41512661 -0.7102241 ]\n",
      " [-0.71242838 -0.29198018  0.2897759 ]\n",
      " [ 0.          0.          0.        ]]\n"
     ]
    }
   ],
   "source": [
    "# Rotated GSB \n",
    "print(coords)"
   ]
  },
  {
   "cell_type": "code",
   "execution_count": 48,
   "metadata": {},
   "outputs": [
    {
     "name": "stdout",
     "output_type": "stream",
     "text": [
      "moveapixelxone-0c4bbe979a_train_0|moveapixelxone-0c4bbe979a_test_0\n",
      "[[ 0  0  0 ... 10 10 10]\n",
      " [ 0  0  0 ... 10 10 10]\n",
      " [ 0  0  0 ... 10 10 10]\n",
      " ...\n",
      " [10 10 10 ... 10 10 10]\n",
      " [10 10 10 ... 10 10 10]\n",
      " [10 10 10 ... 10 10 10]]\n"
     ]
    },
    {
     "data": {
      "image/png": "[encoded data removed]",
      "text/plain": [
       "<Figure size 288x288 with 1 Axes>"
      ]
     },
     "metadata": {
      "needs_background": "light"
     },
     "output_type": "display_data"
    }
   ],
   "source": [
    "idx = next(i for i, s in enumerate(combined_test_set['ltest']) if s.endswith('moveapixelxone-0c4bbe979a_test_0'))\n",
    "print(combined_test_set['ltest'][idx])\n",
    "gsb_grid_mask = np.tile(coords,(32,32,1,1))\n",
    "g = combined_test_set['gtest'][idx][1][1].copy() # [encoder/decoder][start/end]\n",
    "g = np.expand_dims(g, 2)\n",
    "dist = np.linalg.norm(gsb_grid_mask - g, axis=3)\n",
    "recovered = np.argmin(dist, axis=2)\n",
    "print(recovered)\n",
    "plot_grid(recovered, combined_test_set['ltest'][idx])"
   ]
  },
  {
   "cell_type": "code",
   "execution_count": 49,
   "metadata": {},
   "outputs": [
    {
     "name": "stdout",
     "output_type": "stream",
     "text": [
      "moveapixelxone-0c4bbe979a_train_1|moveapixelxone-0c4bbe979a_train_1\n",
      "[[ 0  0  0 ... 10 10 10]\n",
      " [ 0  0  0 ... 10 10 10]\n",
      " [ 0  0  0 ... 10 10 10]\n",
      " ...\n",
      " [10 10 10 ... 10 10 10]\n",
      " [10 10 10 ... 10 10 10]\n",
      " [10 10 10 ... 10 10 10]]\n"
     ]
    },
    {
     "data": {
      "image/png": "[encoded data removed]",
      "text/plain": [
       "<Figure size 288x288 with 1 Axes>"
      ]
     },
     "metadata": {
      "needs_background": "light"
     },
     "output_type": "display_data"
    }
   ],
   "source": [
    "idx = next(i for i, s in enumerate(combined_train_set['ltrain']) if s.startswith('moveapixelxone-0c4bbe979a'))\n",
    "print(combined_train_set['ltrain'][idx])\n",
    "gsb_grid_mask = np.tile(coords,(32,32,1,1))\n",
    "g = combined_train_set['gtrain'][idx][0][0].copy()\n",
    "g = np.expand_dims(g, 2)\n",
    "dist = np.linalg.norm(gsb_grid_mask - g, axis=3)\n",
    "recovered = np.argmin(dist, axis=2)\n",
    "print(recovered)\n",
    "plot_grid(recovered, combined_train_set['ltrain'][idx])"
   ]
  },
  {
   "cell_type": "code",
   "execution_count": null,
   "metadata": {},
   "outputs": [],
   "source": []
  }
 ],
 "metadata": {
  "kernelspec": {
   "display_name": "Python 3",
   "language": "python",
   "name": "python3"
  },
  "language_info": {
   "codemirror_mode": {
    "name": "ipython",
    "version": 3
   },
   "file_extension": ".py",
   "mimetype": "text/x-python",
   "name": "python",
   "nbconvert_exporter": "python",
   "pygments_lexer": "ipython3",
   "version": "3.7.6"
  },
  "toc-autonumbering": true,
  "toc-showmarkdowntxt": false
 },
 "nbformat": 4,
 "nbformat_minor": 4
}
